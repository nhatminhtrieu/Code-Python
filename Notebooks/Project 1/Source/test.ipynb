{
 "cells": [
  {
   "cell_type": "code",
   "execution_count": 1,
   "metadata": {},
   "outputs": [],
   "source": [
    "import numpy as np"
   ]
  },
  {
   "cell_type": "code",
   "execution_count": 19,
   "metadata": {},
   "outputs": [],
   "source": [
    "img_1d = np.array([[[235, 255, 255], [215, 0, 0], [252, 0, 0], [255, 0, 0], [255, 255, 255]],\n",
    "                     [[255, 255, 255], [255, 0, 0], [255, 255, 255], [255, 0, 0], [255, 255, 255]],\n",
    "                     [[255, 255, 255], [255, 0, 0], [255, 255, 255], [255, 0, 0], [255, 255, 255]],\n",
    "                     [[255, 255, 255], [255, 0, 0], [255, 255, 255], [255, 0, 0], [255, 255, 255]],\n",
    "                     [[255, 255, 255], [255, 0, 0], [255, 0, 0], [255, 0, 0], [255, 255, 255]]])\n",
    "img_1d = img_1d.reshape(img_1d.shape[0] * img_1d.shape[1], 3)"
   ]
  },
  {
   "cell_type": "code",
   "execution_count": 20,
   "metadata": {},
   "outputs": [
    {
     "data": {
      "text/plain": [
       "array([0, 4, 1])"
      ]
     },
     "metadata": {},
     "output_type": "display_data"
    },
    {
     "name": "stdout",
     "output_type": "stream",
     "text": [
      "[235 255 255]\n",
      "[255 255 255]\n",
      "[215   0   0]\n"
     ]
    }
   ],
   "source": [
    "unique_img_1d = np.unique(img_1d, axis=0)\n",
    "index_array = np.random.choice(unique_img_1d.shape[0], 3, replace=False)\n",
    "display(index_array)\n",
    "for color in index_array:\n",
    "    print(img_1d[color])"
   ]
  },
  {
   "cell_type": "code",
   "execution_count": 35,
   "metadata": {},
   "outputs": [
    {
     "name": "stdout",
     "output_type": "stream",
     "text": [
      "(3, 1, 3)\n",
      "(1, 2, 3)\n"
     ]
    }
   ],
   "source": [
    "img = np.array([[10, 20, 30],\n",
    "               [40, 50, 60],\n",
    "               [70, 80, 90]])\n",
    "\n",
    "centroid = np.array([[1, 2, 3],\n",
    "                    [4, 5, 6]])\n",
    "\n",
    "# centroid = np.array([[1, 2, 3]])\n",
    "num = 3\n",
    "# img = img.reshape(len(img), 1, num)\n",
    "# centroid = centroid.reshape(1, len(centroid), num)\n",
    "\n",
    "img = img[:,None]\n",
    "centroid = centroid[None,:]\n",
    "# print((img - centroid) ** 2)\n",
    "# print(np.sum((img - centroid) ** 2, axis=-1))\n",
    "# print(np.argmin(np.sum((img - centroid) ** 2, axis=-1), axis=-1))\n",
    "print(img.shape)\n",
    "print(centroid.shape)"
   ]
  }
 ],
 "metadata": {
  "kernelspec": {
   "display_name": "base",
   "language": "python",
   "name": "python3"
  },
  "language_info": {
   "codemirror_mode": {
    "name": "ipython",
    "version": 3
   },
   "file_extension": ".py",
   "mimetype": "text/x-python",
   "name": "python",
   "nbconvert_exporter": "python",
   "pygments_lexer": "ipython3",
   "version": "3.10.9"
  },
  "orig_nbformat": 4
 },
 "nbformat": 4,
 "nbformat_minor": 2
}
