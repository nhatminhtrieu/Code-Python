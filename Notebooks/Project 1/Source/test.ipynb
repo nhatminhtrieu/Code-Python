{
 "cells": [
  {
   "cell_type": "code",
   "execution_count": 3,
   "metadata": {},
   "outputs": [],
   "source": [
    "import numpy as np"
   ]
  },
  {
   "cell_type": "code",
   "execution_count": 4,
   "metadata": {},
   "outputs": [],
   "source": [
    "img_1d = np.array([[[235, 255, 255], [215, 0, 0], [252, 0, 0], [255, 0, 0], [255, 255, 255]],\n",
    "                     [[255, 255, 255], [255, 0, 0], [255, 255, 255], [255, 0, 0], [255, 255, 255]],\n",
    "                     [[255, 255, 255], [255, 0, 0], [255, 255, 255], [255, 0, 0], [255, 255, 255]],\n",
    "                     [[255, 255, 255], [255, 0, 0], [255, 255, 255], [255, 0, 0], [255, 255, 255]],\n",
    "                     [[255, 255, 255], [255, 0, 0], [255, 0, 0], [255, 0, 0], [255, 255, 255]]])\n",
    "img_1d = img_1d.reshape(img_1d.shape[0] * img_1d.shape[1], 3)"
   ]
  },
  {
   "cell_type": "code",
   "execution_count": 5,
   "metadata": {},
   "outputs": [
    {
     "data": {
      "text/plain": [
       "array([2, 4, 0])"
      ]
     },
     "metadata": {},
     "output_type": "display_data"
    },
    {
     "name": "stdout",
     "output_type": "stream",
     "text": [
      "[252   0   0]\n",
      "[255 255 255]\n",
      "[235 255 255]\n"
     ]
    }
   ],
   "source": [
    "unique_img_1d = np.unique(img_1d, axis=0)\n",
    "index_array = np.random.choice(unique_img_1d.shape[0], 3, replace=False)\n",
    "display(index_array)\n",
    "for color in index_array:\n",
    "    print(img_1d[color])"
   ]
  },
  {
   "cell_type": "code",
   "execution_count": 9,
   "metadata": {},
   "outputs": [
    {
     "data": {
      "text/plain": [
       "array([[[10, 20, 30]],\n",
       "\n",
       "       [[40, 50, 60]],\n",
       "\n",
       "       [[70, 80, 90]]])"
      ]
     },
     "metadata": {},
     "output_type": "display_data"
    },
    {
     "data": {
      "text/plain": [
       "array([[[1, 2, 3],\n",
       "        [4, 5, 6]]])"
      ]
     },
     "metadata": {},
     "output_type": "display_data"
    },
    {
     "name": "stdout",
     "output_type": "stream",
     "text": [
      "[[[ 9 18 27]\n",
      "  [ 6 15 24]]\n",
      "\n",
      " [[39 48 57]\n",
      "  [36 45 54]]\n",
      "\n",
      " [[69 78 87]\n",
      "  [66 75 84]]]\n",
      "[[[  81  324  729]\n",
      "  [  36  225  576]]\n",
      "\n",
      " [[1521 2304 3249]\n",
      "  [1296 2025 2916]]\n",
      "\n",
      " [[4761 6084 7569]\n",
      "  [4356 5625 7056]]]\n",
      "[[ 1134   837]\n",
      " [ 7074  6237]\n",
      " [18414 17037]]\n",
      "[1 1 1]\n",
      "(3, 1, 3)\n",
      "(1, 2, 3)\n"
     ]
    }
   ],
   "source": [
    "img = np.array([[10, 20, 30],\n",
    "               [40, 50, 60],\n",
    "               [70, 80, 90]])\n",
    "\n",
    "centroid = np.array([[1, 2, 3],\n",
    "                    [4, 5, 6]])\n",
    "\n",
    "# centroid = np.array([[1, 2, 3]])\n",
    "num = 3\n",
    "# img = img.reshape(len(img), 1, num)\n",
    "# centroid = centroid.reshape(1, len(centroid), num)\n",
    "\n",
    "img = img[:,None]\n",
    "centroid = centroid[None,:]\n",
    "\n",
    "display(img)\n",
    "display(centroid)\n",
    "\n",
    "print(img - centroid)\n",
    "print((img - centroid) ** 2)\n",
    "print(np.sum((img - centroid) ** 2, axis=-1))\n",
    "print(np.argmin(np.sum((img - centroid) ** 2, axis=-1), axis=-1))\n",
    "print(img.shape)\n",
    "print(centroid.shape)"
   ]
  },
  {
   "cell_type": "code",
   "execution_count": null,
   "metadata": {},
   "outputs": [],
   "source": [
    "def initialize_centroids(img_1d, k_clusters, init_centroids):\n",
    "    unique_img_1d = np.unique(img_1d, axis=0)\n",
    "    k_clusters = min(k_clusters, len(unique_img_1d))\n",
    "    if init_centroids == 'random':\n",
    "        centroids = np.random.randint(256, size=(k_clusters, img_1d.shape[1]), dtype='uint8')\n",
    "    elif init_centroids == 'in_pixels':\n",
    "        index_array = np.random.choice(unique_img_1d.shape[0], k_clusters, replace=False)\n",
    "        centroids = [unique_img_1d[index_array[i]] for i in range(k_clusters)]\n",
    "    else:\n",
    "        raise ValueError('init_centroids must be \"random\" or \"in_pixels\"')\n",
    "    return np.array(centroids)"
   ]
  }
 ],
 "metadata": {
  "kernelspec": {
   "display_name": "base",
   "language": "python",
   "name": "python3"
  },
  "language_info": {
   "codemirror_mode": {
    "name": "ipython",
    "version": 3
   },
   "file_extension": ".py",
   "mimetype": "text/x-python",
   "name": "python",
   "nbconvert_exporter": "python",
   "pygments_lexer": "ipython3",
   "version": "3.10.9"
  },
  "orig_nbformat": 4
 },
 "nbformat": 4,
 "nbformat_minor": 2
}
