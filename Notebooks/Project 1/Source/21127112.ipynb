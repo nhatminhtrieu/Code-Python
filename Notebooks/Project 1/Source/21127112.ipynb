{
 "cells": [
  {
   "cell_type": "code",
   "execution_count": 10,
   "metadata": {},
   "outputs": [],
   "source": [
    "import numpy as np\n",
    "import matplotlib.pyplot as plt\n",
    "from PIL import Image\n",
    "import PIL"
   ]
  },
  {
   "cell_type": "code",
   "execution_count": 18,
   "metadata": {},
   "outputs": [],
   "source": [
    "def read_write_image(img_name):\n",
    "    img = Image.open(img_name)\n",
    "    ext = input('Enter extension: ')\n",
    "    return img.save(img.filename.split('.')[0] + '.' + ext)"
   ]
  },
  {
   "cell_type": "code",
   "execution_count": null,
   "metadata": {},
   "outputs": [],
   "source": [
    "def show_image()"
   ]
  },
  {
   "attachments": {},
   "cell_type": "markdown",
   "metadata": {},
   "source": [
    "# B1: Tìm k centroids\n",
    "## Vấn đề: Random không lấy lại màu cũ\n",
    "# B2: Tính khoảng cách từ k centroids đến các điểm dữ liệu\n",
    "## Sự thay đổi của centroid là không đáng kể hoặc không nhiều hoặc max_iter\n",
    "\n",
    "### Màu cuối cùng tìm được không nhất thiết phải có trong ảnh\n",
    "### Mask numpy"
   ]
  }
 ],
 "metadata": {
  "kernelspec": {
   "display_name": "base",
   "language": "python",
   "name": "python3"
  },
  "language_info": {
   "codemirror_mode": {
    "name": "ipython",
    "version": 3
   },
   "file_extension": ".py",
   "mimetype": "text/x-python",
   "name": "python",
   "nbconvert_exporter": "python",
   "pygments_lexer": "ipython3",
   "version": "3.10.9"
  },
  "orig_nbformat": 4
 },
 "nbformat": 4,
 "nbformat_minor": 2
}
