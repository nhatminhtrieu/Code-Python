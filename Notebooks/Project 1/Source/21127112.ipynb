{
 "cells": [
  {
   "cell_type": "code",
   "execution_count": 94,
   "metadata": {},
   "outputs": [],
   "source": [
    "import numpy as np\n",
    "import matplotlib.pyplot as plt\n",
    "from PIL import Image\n",
    "import PIL"
   ]
  },
  {
   "cell_type": "code",
   "execution_count": 95,
   "metadata": {},
   "outputs": [],
   "source": [
    "def show_image(img_list):\n",
    "    plt.figure(figsize=(20,10))\n",
    "    [plt.subplot(1, len(img_list), i+1) and plt.imshow(img_list[i]) for i in range(len(img_list))]\n",
    "    plt.show()"
   ]
  },
  {
   "cell_type": "code",
   "execution_count": 96,
   "metadata": {},
   "outputs": [],
   "source": [
    "def convert_1d_array(img_name):\n",
    "    img_2d = np.array(Image.open(img_name))\n",
    "    return np.ndarray((img_2d.shape[0] * img_2d.shape[1], img_2d.shape[2]), dtype='uint8', buffer=img_2d.astype('uint8'))"
   ]
  },
  {
   "cell_type": "code",
   "execution_count": 97,
   "metadata": {},
   "outputs": [],
   "source": [
    "def initialize_centroids(img_1d, k_clusters, init_centroids):\n",
    "    unique_img_1d = np.unique(img_1d, axis=0)\n",
    "    k_clusters = min(k_clusters, len(unique_img_1d))\n",
    "    \n",
    "    if init_centroids == 'random':\n",
    "        centroids = np.random.randint(256, size=(k_clusters, img_1d.shape[1]), dtype='uint8')\n",
    "    elif init_centroids == 'in_pixels':\n",
    "        index_array = np.random.choice(unique_img_1d.shape[0], k_clusters, replace=False)\n",
    "        centroids = [unique_img_1d[index_array[i]] for i in range(k_clusters)]\n",
    "    else:\n",
    "        raise ValueError('init_centroids must be \"random\" or \"in_pixels\"')\n",
    "    return np.array(centroids)"
   ]
  },
  {
   "cell_type": "code",
   "execution_count": 98,
   "metadata": {},
   "outputs": [],
   "source": [
    "def get_labels(img_1d, centroids):\n",
    "    img_1d = img_1d.reshape(len(img_1d), 1, img_1d.shape[1]).astype('int64')\n",
    "    centroids = centroids.reshape(1, len(centroids), centroids.shape[1]).astype('int64')\n",
    "    return np.argmin(np.sum((img_1d - centroids) ** 2, axis=-1), axis=-1)"
   ]
  },
  {
   "cell_type": "code",
   "execution_count": 99,
   "metadata": {},
   "outputs": [],
   "source": [
    "def update_centroids(img_1d, labels, k_clusters, centroids):\n",
    "    new_centroids = [np.mean(img_1d[labels == i], axis=0).astype('uint8') if img_1d[labels == i].size > 0 else centroids[i] for i in range(k_clusters)]\n",
    "    return np.array(new_centroids)"
   ]
  },
  {
   "cell_type": "code",
   "execution_count": 100,
   "metadata": {},
   "outputs": [],
   "source": [
    "def kmeans(img_1d, k_clusters, max_iter, init_centroids):\n",
    "    centroids = initialize_centroids(img_1d, k_clusters, init_centroids)\n",
    "    for _ in range(max_iter):\n",
    "        labels = get_labels(img_1d, centroids)\n",
    "        centroids = update_centroids(img_1d, labels, k_clusters, centroids)\n",
    "    return centroids, labels"
   ]
  },
  {
   "cell_type": "code",
   "execution_count": 101,
   "metadata": {},
   "outputs": [],
   "source": [
    "def convert_2d_array(img_2d, centroids, labels):\n",
    "    new_img_1d = np.ndarray((labels.shape[0], centroids.shape[1]), 'uint8', np.array([centroids[l] for l in labels]))\n",
    "    return np.reshape(new_img_1d, (img_2d.shape[0], img_2d.shape[1], img_2d.shape[2]))"
   ]
  },
  {
   "cell_type": "code",
   "execution_count": 102,
   "metadata": {},
   "outputs": [],
   "source": [
    "def write_image(img_2d, ext):\n",
    "    if (ext != 'png' and ext != 'pdf'):\n",
    "        raise ValueError('Định dạng ảnh đầu ra không hợp lệ')\n",
    "    img_name = 'output' + '.' + ext\n",
    "    Image.fromarray(img_2d).save(img_name)\n",
    "    print('Đã lưu ảnh đầu ra với tên ' + img_name)"
   ]
  },
  {
   "cell_type": "code",
   "execution_count": 103,
   "metadata": {},
   "outputs": [],
   "source": [
    "def execute():\n",
    "    img_name = input('Nhập đường dẫn ảnh: ')\n",
    "    k_clusters = int(input('Nhập số lượng cụm: '))\n",
    "    max_iter = int(input('Nhập số lần lặp: '))\n",
    "    init_cluster = input('Nhập cách khởi tạo centroid (in_pixels hoặc random): ')\n",
    "    ext = input('Nhập định dạng ảnh đầu ra (png, pdf): ')\n",
    "\n",
    "    img_2d = np.array(Image.open(img_name))\n",
    "    img_1d = np.ndarray((img_2d.shape[0] * img_2d.shape[1], img_2d.shape[2]), dtype='uint8', buffer=img_2d.astype('uint8'))\n",
    "    centroids, labels = kmeans(img_1d, k_clusters, max_iter, init_cluster)\n",
    "    \n",
    "    # Export image\n",
    "    new_img_2d = convert_2d_array(img_2d, centroids, labels)\n",
    "    write_image(new_img_2d, ext)\n",
    "\n",
    "    # Compare 2 images\n",
    "    img_list = [Image.fromarray(img_2d), Image.fromarray(new_img_2d)]\n",
    "    show_image(img_list)"
   ]
  },
  {
   "cell_type": "code",
   "execution_count": 104,
   "metadata": {},
   "outputs": [],
   "source": [
    "def main():\n",
    "    execute()"
   ]
  },
  {
   "cell_type": "code",
   "execution_count": 105,
   "metadata": {},
   "outputs": [
    {
     "ename": "ValueError",
     "evalue": "invalid literal for int() with base 10: ''",
     "output_type": "error",
     "traceback": [
      "\u001b[1;31m---------------------------------------------------------------------------\u001b[0m",
      "\u001b[1;31mValueError\u001b[0m                                Traceback (most recent call last)",
      "Cell \u001b[1;32mIn[105], line 1\u001b[0m\n\u001b[1;32m----> 1\u001b[0m main()\n",
      "Cell \u001b[1;32mIn[104], line 2\u001b[0m, in \u001b[0;36mmain\u001b[1;34m()\u001b[0m\n\u001b[0;32m      1\u001b[0m \u001b[39mdef\u001b[39;00m \u001b[39mmain\u001b[39m():\n\u001b[1;32m----> 2\u001b[0m     execute()\n",
      "Cell \u001b[1;32mIn[103], line 3\u001b[0m, in \u001b[0;36mexecute\u001b[1;34m()\u001b[0m\n\u001b[0;32m      1\u001b[0m \u001b[39mdef\u001b[39;00m \u001b[39mexecute\u001b[39m():\n\u001b[0;32m      2\u001b[0m     img_name \u001b[39m=\u001b[39m \u001b[39minput\u001b[39m(\u001b[39m'\u001b[39m\u001b[39mNhập đường dẫn ảnh: \u001b[39m\u001b[39m'\u001b[39m)\n\u001b[1;32m----> 3\u001b[0m     k_clusters \u001b[39m=\u001b[39m \u001b[39mint\u001b[39;49m(\u001b[39minput\u001b[39;49m(\u001b[39m'\u001b[39;49m\u001b[39mNhập số lượng cụm: \u001b[39;49m\u001b[39m'\u001b[39;49m))\n\u001b[0;32m      4\u001b[0m     max_iter \u001b[39m=\u001b[39m \u001b[39mint\u001b[39m(\u001b[39minput\u001b[39m(\u001b[39m'\u001b[39m\u001b[39mNhập số lần lặp: \u001b[39m\u001b[39m'\u001b[39m))\n\u001b[0;32m      5\u001b[0m     init_cluster \u001b[39m=\u001b[39m \u001b[39minput\u001b[39m(\u001b[39m'\u001b[39m\u001b[39mNhập cách khởi tạo centroid (in_pixels hoặc random): \u001b[39m\u001b[39m'\u001b[39m)\n",
      "\u001b[1;31mValueError\u001b[0m: invalid literal for int() with base 10: ''"
     ]
    }
   ],
   "source": [
    "main()"
   ]
  }
 ],
 "metadata": {
  "kernelspec": {
   "display_name": "base",
   "language": "python",
   "name": "python3"
  },
  "language_info": {
   "codemirror_mode": {
    "name": "ipython",
    "version": 3
   },
   "file_extension": ".py",
   "mimetype": "text/x-python",
   "name": "python",
   "nbconvert_exporter": "python",
   "pygments_lexer": "ipython3",
   "version": "3.10.9"
  },
  "orig_nbformat": 4
 },
 "nbformat": 4,
 "nbformat_minor": 2
}
