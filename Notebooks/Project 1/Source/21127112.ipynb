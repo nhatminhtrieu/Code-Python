{
 "cells": [
  {
   "cell_type": "code",
   "execution_count": null,
   "metadata": {},
   "outputs": [],
   "source": [
    "import numpy as np\n",
    "import matplotlib.pyplot as plt\n",
    "from PIL import Image"
   ]
  },
  {
   "cell_type": "code",
   "execution_count": null,
   "metadata": {},
   "outputs": [],
   "source": [
    "def show_image(img_list):\n",
    "    plt.figure(figsize=(20,10))\n",
    "    [plt.subplot(1, len(img_list), i+1) and plt.imshow(img_list[i]) for i in range(len(img_list))]\n",
    "    plt.show()"
   ]
  },
  {
   "cell_type": "code",
   "execution_count": null,
   "metadata": {},
   "outputs": [],
   "source": [
    "def convert_1d_array(img_2d):\n",
    "    return np.ndarray((img_2d.shape[0] * img_2d.shape[1], img_2d.shape[2]), dtype='uint8', buffer=img_2d.astype('uint8'))"
   ]
  },
  {
   "cell_type": "code",
   "execution_count": null,
   "metadata": {},
   "outputs": [],
   "source": [
    "def initialize_centroids(img_1d, k_clusters, init_centroids='random'):\n",
    "    unique_img_1d = np.unique(img_1d, axis=0)\n",
    "    k_clusters = min(k_clusters, len(unique_img_1d))\n",
    "    if init_centroids == 'random':\n",
    "        centroids = np.random.randint(256, size=(k_clusters, img_1d.shape[1]), dtype='uint8')\n",
    "    elif init_centroids == 'in_pixels':\n",
    "        index_array = np.random.choice(unique_img_1d.shape[0], k_clusters, replace=False)\n",
    "        centroids = [unique_img_1d[index_array[i]] for i in range(k_clusters)]\n",
    "    else:\n",
    "        raise ValueError('init_centroids must be \"random\" or \"in_pixels\"')\n",
    "    return np.array(centroids)"
   ]
  },
  {
   "cell_type": "code",
   "execution_count": null,
   "metadata": {},
   "outputs": [],
   "source": [
    "def get_labels(img_1d, centroids):\n",
    "    img_1d = img_1d.reshape(len(img_1d), 1, img_1d.shape[1]).astype('int64')\n",
    "    centroids = centroids.reshape(1, len(centroids), centroids.shape[1]).astype('int64')\n",
    "    return np.argmin(np.sum((img_1d - centroids) ** 2, axis=-1), axis=-1)"
   ]
  },
  {
   "cell_type": "code",
   "execution_count": null,
   "metadata": {},
   "outputs": [],
   "source": [
    "def update_centroids(img_1d, labels, k_clusters, centroids):\n",
    "    new_centroids = [np.mean(img_1d[labels == i], axis=0).astype('uint8') if img_1d[labels == i].size > 0 else centroids[i] for i in range(k_clusters)]\n",
    "    return np.array(new_centroids)"
   ]
  },
  {
   "cell_type": "code",
   "execution_count": null,
   "metadata": {},
   "outputs": [],
   "source": [
    "def is_converged(old_centroids, new_centroids):\n",
    "    return np.array_equal(old_centroids, new_centroids)"
   ]
  },
  {
   "cell_type": "code",
   "execution_count": null,
   "metadata": {},
   "outputs": [],
   "source": [
    "def kmeans(img_1d, k_clusters, max_iter, init_centroids='random'):\n",
    "    centroids = initialize_centroids(img_1d, k_clusters, init_centroids)\n",
    "    labels = []\n",
    "    for _ in range(max_iter):\n",
    "        old_centroids = centroids\n",
    "        labels = get_labels(img_1d, centroids)\n",
    "        centroids = update_centroids(img_1d, labels, k_clusters, centroids)\n",
    "        if is_converged(old_centroids, centroids):\n",
    "            break\n",
    "    return centroids, labels"
   ]
  },
  {
   "cell_type": "code",
   "execution_count": null,
   "metadata": {},
   "outputs": [],
   "source": [
    "def convert_2d_array(img_2d, centroids, labels):\n",
    "    new_img_1d = np.ndarray((labels.shape[0], centroids.shape[1]), 'uint8', np.array([centroids[l] for l in labels]))\n",
    "    return np.reshape(new_img_1d, (img_2d.shape[0], img_2d.shape[1], img_2d.shape[2]))"
   ]
  },
  {
   "cell_type": "code",
   "execution_count": null,
   "metadata": {},
   "outputs": [],
   "source": [
    "def write_image(img_2d, ext):\n",
    "    if (ext != 'png' and ext != 'pdf'):\n",
    "        raise ValueError('Định dạng ảnh đầu ra không hợp lệ')\n",
    "    img_name = 'output' + '.' + ext\n",
    "    plt.imsave(img_name, img_2d.astype('uint8'), format=ext)"
   ]
  },
  {
   "cell_type": "code",
   "execution_count": null,
   "metadata": {},
   "outputs": [],
   "source": [
    "def execute():\n",
    "    img_name = input('Nhập đường dẫn ảnh: ')\n",
    "    k_clusters = int(input('Nhập số lượng cụm: '))\n",
    "    max_iter = int(input('Nhập số lần lặp: '))\n",
    "    init_cluster = input('Nhập cách khởi tạo centroid (in_pixels hoặc random): ')\n",
    "    ext = input('Nhập định dạng ảnh đầu ra (png, pdf): ')\n",
    "\n",
    "    # Import image\n",
    "    img_2d = np.array(Image.open(img_name))\n",
    "    img_1d = convert_1d_array(img_2d)\n",
    "    centroids, labels = kmeans(img_1d, k_clusters, max_iter, init_cluster)\n",
    "    \n",
    "    # Export image\n",
    "    new_img_2d = convert_2d_array(img_2d, centroids, labels)\n",
    "    write_image(new_img_2d, ext)\n",
    "    \n",
    "    # Compare 2 images\n",
    "    img_list = [img_2d, new_img_2d]\n",
    "    show_image(img_list)"
   ]
  },
  {
   "cell_type": "code",
   "execution_count": null,
   "metadata": {},
   "outputs": [],
   "source": [
    "def main():\n",
    "    execute()"
   ]
  },
  {
   "cell_type": "code",
   "execution_count": null,
   "metadata": {},
   "outputs": [],
   "source": [
    "if __name__ == '__main__':\n",
    "    main()"
   ]
  }
 ],
 "metadata": {
  "kernelspec": {
   "display_name": "base",
   "language": "python",
   "name": "python3"
  },
  "language_info": {
   "codemirror_mode": {
    "name": "ipython",
    "version": 3
   },
   "file_extension": ".py",
   "mimetype": "text/x-python",
   "name": "python",
   "nbconvert_exporter": "python",
   "pygments_lexer": "ipython3",
   "version": "3.10.9"
  },
  "orig_nbformat": 4
 },
 "nbformat": 4,
 "nbformat_minor": 2
}
