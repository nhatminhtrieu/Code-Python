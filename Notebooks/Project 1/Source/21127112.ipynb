{
 "cells": [
  {
   "cell_type": "code",
   "execution_count": null,
   "metadata": {},
   "outputs": [],
   "source": [
    "import numpy as np\n",
    "import matplotlib.pyplot as plt\n",
    "from PIL import Image\n",
    "import PIL"
   ]
  },
  {
   "cell_type": "code",
   "execution_count": null,
   "metadata": {},
   "outputs": [],
   "source": [
    "# Return new image\n",
    "def write_image(img_name):\n",
    "    img = Image.open(img_name)\n",
    "    ext = input('Enter extension: ')\n",
    "    return img.save(img.filename.split('.')[0] + '.' + ext)"
   ]
  },
  {
   "cell_type": "code",
   "execution_count": null,
   "metadata": {},
   "outputs": [],
   "source": [
    "# Hàm đối chiếu hình ảnh trước và sau khi xử lý\n",
    "def show_image(img_list):\n",
    "    dpi = plt.rcParams['figure.dpi']\n",
    "    plt.figure(figsize=(img_list[0].size[0]/dpi, img_list[0].size[1]/dpi))\n",
    "    [plt.subplot(1, len(img_list), i+1) and plt.imshow(img_list[i]) for i in range(len(img_list))]\n",
    "    plt.show()\n",
    "\n",
    "# Test\n",
    "img_list = [\n",
    "    Image.open('1.png'),\n",
    "    Image.open('2.png')\n",
    "]\n",
    "\n",
    "show_image(img_list)"
   ]
  },
  {
   "cell_type": "code",
   "execution_count": null,
   "metadata": {},
   "outputs": [],
   "source": [
    "# Read image and return 1d array\n",
    "def convert_1d_array(img_name):\n",
    "    img_2d = np.array(Image.open(img_name))\n",
    "    return np.ndarray((img_2d.shape[0] * img_2d.shape[1], img_2d.shape[2]), dtype='uint8', buffer=img_2d.astype('uint8'))"
   ]
  },
  {
   "cell_type": "code",
   "execution_count": 30,
   "metadata": {},
   "outputs": [
    {
     "data": {
      "text/plain": [
       "221.00226243185838"
      ]
     },
     "metadata": {},
     "output_type": "display_data"
    }
   ],
   "source": [
    "def calc_distance(color1, color2):\n",
    "    return np.sqrt(np.sum((color1 - color2) ** 2))"
   ]
  },
  {
   "cell_type": "code",
   "execution_count": null,
   "metadata": {},
   "outputs": [],
   "source": [
    "def random_centroids(img_1d, k_clusters, init_centroids):\n",
    "    # centroids : np.ndarray with shape=(k_clusters, num_channels)\n",
    "    if init_centroids == 'random':\n",
    "        centroids = np.random.randint(0, 256, (k_clusters, img_1d.shape[1]))\n",
    "    elif init_centroids == 'in_pixels':\n",
    "        centroids = [img_1d[np.random.randint(0, img_1d.shape[0])] for _ in range(k_clusters)]\n",
    "    else:\n",
    "        raise ValueError('init_centroids must be \"random\" or \"in_pixels\"')\n",
    "    return np.ndarray()"
   ]
  },
  {
   "cell_type": "code",
   "execution_count": 31,
   "metadata": {},
   "outputs": [],
   "source": [
    "def kmeans(img_1d, k_clusters, max_iter, init_centroids):\n",
    "    '''\n",
    "        K-Means algorithm\n",
    "        \n",
    "        Inputs:\n",
    "            img_1d : np.ndarray with shape=(height * width, num_channels)\n",
    "                Original image in 1d array\n",
    "            \n",
    "            k_clusters : int\n",
    "                Number of clusters\n",
    "                \n",
    "            max_iter : int\n",
    "                Max iterator\n",
    "                \n",
    "            init_cluster : str\n",
    "                The way which use to init centroids\n",
    "                'random' --> centroid has `c` channels, with `c` is initial random in [0,255]\n",
    "                'in_pixels' --> centroid is a random pixels of original image\n",
    "                \n",
    "        Outputs:\n",
    "            centroids : np.ndarray with shape=(k_clusters, num_channels)\n",
    "                Store color centroids\n",
    "                \n",
    "            labels : np.ndarray with shape=(height * width, )\n",
    "                Store label for pixels (cluster's index on which the pixel belongs)\n",
    "    '''\n",
    "    centroids = random_centroids(img_1d, k_clusters, init_centroids)\n",
    "    labels = np.zeros(img_1d.shape[0]).astype('uint8')\n",
    "\n",
    "    for _ in range(max_iter):\n",
    "        labels = np.array([np.argmin([calc_distance(pixel, centroid) for centroid in centroids]) for pixel in img_1d])\n",
    "        centroids = np.array([np.mean(img_1d[labels == i], axis=0) for i in range(k_clusters)])\n",
    "        \n",
    "    return centroids, labels"
   ]
  },
  {
   "attachments": {},
   "cell_type": "markdown",
   "metadata": {},
   "source": [
    "# B1: Tìm k centroids\n",
    "## Vấn đề: Random không lấy lại màu cũ\n",
    "# B2: Tính khoảng cách từ k centroids đến các điểm dữ liệu\n",
    "## Sự thay đổi của centroid là không đáng kể hoặc không nhiều hoặc max_iter\n",
    "\n",
    "### Màu cuối cùng tìm được không nhất thiết phải có trong ảnh\n",
    "### Mask numpy"
   ]
  }
 ],
 "metadata": {
  "kernelspec": {
   "display_name": "base",
   "language": "python",
   "name": "python3"
  },
  "language_info": {
   "codemirror_mode": {
    "name": "ipython",
    "version": 3
   },
   "file_extension": ".py",
   "mimetype": "text/x-python",
   "name": "python",
   "nbconvert_exporter": "python",
   "pygments_lexer": "ipython3",
   "version": "3.10.9"
  },
  "orig_nbformat": 4
 },
 "nbformat": 4,
 "nbformat_minor": 2
}
