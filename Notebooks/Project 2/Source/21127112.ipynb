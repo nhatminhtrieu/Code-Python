{
 "cells": [
  {
   "cell_type": "code",
   "execution_count": null,
   "metadata": {},
   "outputs": [],
   "source": [
    "import numpy as np\n",
    "import matplotlib.pyplot as plt\n",
    "from PIL import Image"
   ]
  },
  {
   "cell_type": "code",
   "execution_count": null,
   "metadata": {},
   "outputs": [],
   "source": [
    "def show_image(img_list):\n",
    "    plt.figure(figsize=(20,10))\n",
    "    [plt.subplot(1, len(img_list), i+1) and plt.imshow(img_list[i]) for i in range(len(img_list))]\n",
    "    plt.show()"
   ]
  },
  {
   "cell_type": "markdown",
   "metadata": {},
   "source": [
    "# -N? Đọc ảnh"
   ]
  },
  {
   "cell_type": "code",
   "execution_count": null,
   "metadata": {},
   "outputs": [],
   "source": [
    "img = Image.open('lena.png')\n",
    "img_2d = np.array(img)"
   ]
  },
  {
   "cell_type": "markdown",
   "metadata": {},
   "source": [
    "# 1. Thay đổi độ sáng cho ảnh "
   ]
  },
  {
   "cell_type": "code",
   "execution_count": null,
   "metadata": {},
   "outputs": [],
   "source": [
    "def truncate(img_2d):\n",
    "    return np.clip(img_2d, 0, 255, out=img_2d)"
   ]
  },
  {
   "cell_type": "code",
   "execution_count": null,
   "metadata": {},
   "outputs": [],
   "source": [
    "def change_brightness(img_2d, brightness):\n",
    "    return truncate(img_2d.astype('int64') + brightness).astype('uint8')"
   ]
  },
  {
   "cell_type": "code",
   "execution_count": null,
   "metadata": {},
   "outputs": [],
   "source": [
    "new_img_2d = change_brightness(img_2d, 64)\n",
    "plt.imshow(new_img_2d)"
   ]
  },
  {
   "cell_type": "markdown",
   "metadata": {},
   "source": [
    "# 2. Thay đổi độ tương phản của ảnh"
   ]
  },
  {
   "cell_type": "code",
   "execution_count": null,
   "metadata": {},
   "outputs": [],
   "source": [
    "def change_contrast(img_2d, contrast):\n",
    "    factor = float(259 * (contrast + 255)) / (255 * (259 - contrast))\n",
    "    new_img_2d = truncate(factor * (img_2d.astype('float64') - 128) + 128)\n",
    "    return new_img_2d.astype('uint8')"
   ]
  },
  {
   "cell_type": "code",
   "execution_count": null,
   "metadata": {},
   "outputs": [],
   "source": [
    "new_img_2d = change_contrast(img_2d, 128)\n",
    "plt.imshow(new_img_2d)"
   ]
  },
  {
   "cell_type": "markdown",
   "metadata": {},
   "source": [
    "# 3. Lật ảnh ngang dọc"
   ]
  },
  {
   "cell_type": "code",
   "execution_count": null,
   "metadata": {},
   "outputs": [],
   "source": [
    "def flip_image(img_2d, axis):\n",
    "    return np.flip(img_2d, axis)"
   ]
  },
  {
   "cell_type": "code",
   "execution_count": null,
   "metadata": {},
   "outputs": [],
   "source": [
    "img_horizontal_flip = flip_image(img_2d, 1)\n",
    "img_vertical_flip = flip_image(img_2d, 0)\n",
    "\n",
    "show_image([img_horizontal_flip, img_vertical_flip])"
   ]
  },
  {
   "cell_type": "markdown",
   "metadata": {},
   "source": [
    "# 4. RGB &rarr; grayscale, RGB &rarr; sepia"
   ]
  },
  {
   "cell_type": "code",
   "execution_count": null,
   "metadata": {},
   "outputs": [],
   "source": [
    "def convert_grayscale(img_2d):\n",
    "    gray_image = (0.299 * img_2d[:,:,0] + 0.587 * img_2d[:,:,1] + 0.114 * img_2d[:,:,2]).astype('uint8')\n",
    "    gray_image = np.repeat(gray_image[...,None], 3, axis=-1)\n",
    "    return gray_image"
   ]
  },
  {
   "cell_type": "code",
   "execution_count": null,
   "metadata": {},
   "outputs": [],
   "source": [
    "def convert_sepia(img_2d):\n",
    "    new_red = 0.393 * img_2d[:,:,0] + 0.769 * img_2d[:,:,1] + 0.189 * img_2d[:,:,2]\n",
    "    new_green = 0.349 * img_2d[:,:,0] + 0.686 * img_2d[:,:,1] + 0.168 * img_2d[:,:,2]\n",
    "    new_blue = 0.272 * img_2d[:,:,0] + 0.534 * img_2d[:,:,1] + 0.131 * img_2d[:,:,2]\n",
    "    \n",
    "    new_img_2d = np.stack([new_red, new_green, new_blue], axis=-1)\n",
    "    new_img_2d = truncate(new_img_2d)\n",
    "    return new_img_2d.astype('uint8')"
   ]
  },
  {
   "cell_type": "code",
   "execution_count": null,
   "metadata": {},
   "outputs": [],
   "source": [
    "new_img_2d = convert_grayscale(img_2d)\n",
    "plt.imshow(new_img_2d)"
   ]
  },
  {
   "cell_type": "code",
   "execution_count": null,
   "metadata": {},
   "outputs": [],
   "source": [
    "new_img_2d = convert_sepia(img_2d)\n",
    "plt.imshow(new_img_2d)"
   ]
  },
  {
   "cell_type": "markdown",
   "metadata": {},
   "source": [
    "# 5. Làm mờ/sắc nét"
   ]
  },
  {
   "cell_type": "code",
   "execution_count": null,
   "metadata": {},
   "outputs": [],
   "source": [
    "def gaussian_blur(img_2d):\n",
    "    pass"
   ]
  },
  {
   "cell_type": "markdown",
   "metadata": {},
   "source": [
    "# 6. Cắt ảnh"
   ]
  },
  {
   "cell_type": "code",
   "execution_count": null,
   "metadata": {},
   "outputs": [],
   "source": [
    "def crop_image(img_2d, height, width):\n",
    "    h, w = img_2d.shape[:2]\n",
    "    x1 = (w - width) // 2\n",
    "    y1 = (h - height) // 2\n",
    "    y2 = y1 + height\n",
    "    x2 = x1 + width\n",
    "    return img_2d[y1:y2, x1:x2]"
   ]
  },
  {
   "cell_type": "code",
   "execution_count": null,
   "metadata": {},
   "outputs": [],
   "source": [
    "new_img_2d = crop_image(img_2d, 300, 300)\n",
    "plt.imshow(new_img_2d)"
   ]
  },
  {
   "cell_type": "markdown",
   "metadata": {},
   "source": [
    "# 7. Cắt ảnh theo khung hình tròn"
   ]
  },
  {
   "cell_type": "code",
   "execution_count": 4,
   "metadata": {},
   "outputs": [],
   "source": [
    "def circular_crop(img_2d):\n",
    "    pass"
   ]
  },
  {
   "cell_type": "code",
   "execution_count": 6,
   "metadata": {},
   "outputs": [
    {
     "ename": "NameError",
     "evalue": "name 'img_2d' is not defined",
     "output_type": "error",
     "traceback": [
      "\u001b[1;31m---------------------------------------------------------------------------\u001b[0m",
      "\u001b[1;31mNameError\u001b[0m                                 Traceback (most recent call last)",
      "Cell \u001b[1;32mIn[6], line 1\u001b[0m\n\u001b[1;32m----> 1\u001b[0m new_img_2d \u001b[39m=\u001b[39m circular_crop(img_2d)\n\u001b[0;32m      2\u001b[0m plt\u001b[39m.\u001b[39mimshow(new_img_2d)\n",
      "\u001b[1;31mNameError\u001b[0m: name 'img_2d' is not defined"
     ]
    }
   ],
   "source": [
    "new_img_2d = circular_crop(img_2d)\n",
    "plt.imshow(new_img_2d)"
   ]
  }
 ],
 "metadata": {
  "kernelspec": {
   "display_name": "base",
   "language": "python",
   "name": "python3"
  },
  "language_info": {
   "codemirror_mode": {
    "name": "ipython",
    "version": 3
   },
   "file_extension": ".py",
   "mimetype": "text/x-python",
   "name": "python",
   "nbconvert_exporter": "python",
   "pygments_lexer": "ipython3",
   "version": "3.10.9"
  },
  "orig_nbformat": 4
 },
 "nbformat": 4,
 "nbformat_minor": 2
}
