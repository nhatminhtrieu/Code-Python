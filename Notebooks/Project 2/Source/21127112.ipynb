{
 "cells": [
  {
   "cell_type": "markdown",
   "metadata": {},
   "source": [
    "# <center>**ĐỒ ÁN 2: IMAGE PROCESSING**</center>\n",
    "### <center>**21127112 - Triệu Nhật Minh**</center>"
   ]
  },
  {
   "cell_type": "markdown",
   "metadata": {},
   "source": [
    "### **Thư viện**"
   ]
  },
  {
   "cell_type": "code",
   "execution_count": null,
   "metadata": {},
   "outputs": [],
   "source": [
    "import numpy as np\n",
    "import matplotlib.pyplot as plt\n",
    "from PIL import Image"
   ]
  },
  {
   "cell_type": "markdown",
   "metadata": {},
   "source": [
    "### **Hiển thị danh sách ảnh**"
   ]
  },
  {
   "cell_type": "code",
   "execution_count": null,
   "metadata": {},
   "outputs": [],
   "source": [
    "def show_image(img_list):\n",
    "    plt.figure(figsize=(20,15))\n",
    "    size = len(img_list)\n",
    "    if size == 2 or size == 3:\n",
    "        [plt.subplot(1, size, i+1) and plt.imshow(img_list[i]) for i in range(size)]\n",
    "    elif size == 12:\n",
    "        [plt.subplot(3, 4, i+1) and plt.imshow(img_list[i]) for i in range(size)]\n",
    "    plt.show()"
   ]
  },
  {
   "cell_type": "markdown",
   "metadata": {},
   "source": [
    "### **0. Giới hạn giá trị của mảng điểm ảnh trong khoảng [0, 255]**"
   ]
  },
  {
   "cell_type": "code",
   "execution_count": null,
   "metadata": {},
   "outputs": [],
   "source": [
    "def limit_value(img_2d):\n",
    "    return np.clip(img_2d, 0, 255, out=img_2d)"
   ]
  },
  {
   "cell_type": "markdown",
   "metadata": {},
   "source": [
    "### **1. Thay đổi độ sáng cho ảnh**"
   ]
  },
  {
   "cell_type": "code",
   "execution_count": null,
   "metadata": {},
   "outputs": [],
   "source": [
    "def change_brightness(img_2d, brightness=128):\n",
    "    return limit_value(img_2d.astype('int64') + brightness).astype('uint8'), '_brightness_' + str(brightness)"
   ]
  },
  {
   "cell_type": "markdown",
   "metadata": {},
   "source": [
    "### **2. Thay đổi độ tương phản của ảnh**"
   ]
  },
  {
   "cell_type": "code",
   "execution_count": null,
   "metadata": {},
   "outputs": [],
   "source": [
    "def change_contrast(img_2d, contrast=128):\n",
    "    factor = (259 * (contrast + 255)) / (255 * (259 - contrast))\n",
    "    return limit_value(factor * (img_2d.astype('float64') - 128) + 128).astype('uint8'), '_contrast_' + str(contrast)"
   ]
  },
  {
   "cell_type": "markdown",
   "metadata": {},
   "source": [
    "### **3. Lật ảnh ngang/dọc**"
   ]
  },
  {
   "cell_type": "code",
   "execution_count": null,
   "metadata": {},
   "outputs": [],
   "source": [
    "def flip_image(img_2d, axis):\n",
    "    if axis == 0:\n",
    "        return img_2d[::-1, :], '_flip_vertical'\n",
    "    elif axis == 1:\n",
    "        return img_2d[:, ::-1], '_flip_horizontal'"
   ]
  },
  {
   "cell_type": "markdown",
   "metadata": {},
   "source": [
    "### **4. RGB &rarr; grayscale, RGB &rarr; sepia**"
   ]
  },
  {
   "cell_type": "code",
   "execution_count": null,
   "metadata": {},
   "outputs": [],
   "source": [
    "def convert_grayscale(img_2d):\n",
    "    gray_image = np.dot(img_2d, [0.3, 0.59, 0.11]).astype('uint8')\n",
    "    return np.repeat(gray_image[...,None], img_2d.shape[-1], axis=-1), '_grayscale'"
   ]
  },
  {
   "cell_type": "code",
   "execution_count": null,
   "metadata": {},
   "outputs": [],
   "source": [
    "def convert_sepia(img_2d):\n",
    "    sepia_array = np.array([[0.393, 0.769, 0.189], [0.349, 0.686, 0.168], [0.272, 0.534, 0.131]])\n",
    "    new_sepia = np.dot(img_2d, sepia_array.T)\n",
    "    return limit_value(new_sepia).astype('uint8'), '_sepia'"
   ]
  },
  {
   "cell_type": "markdown",
   "metadata": {},
   "source": [
    "### **5. Làm mờ/sắc nét**"
   ]
  },
  {
   "cell_type": "markdown",
   "metadata": {},
   "source": [
    "# Fast Fourier Transform\n",
    "[tham khảo](https://en.wikipedia.org/wiki/Fast_Fourier_transform)"
   ]
  },
  {
   "cell_type": "code",
   "execution_count": null,
   "metadata": {},
   "outputs": [],
   "source": [
    "def convolute_2D(img_2d, kernel):\n",
    "    # Initialize new image\n",
    "    img_size = img_2d.shape # save for later\n",
    "    new_img_2d = np.zeros(img_size).astype('float64')\n",
    "    \n",
    "    # Create padding:\n",
    "    padding = kernel.shape[0] // 2\n",
    "    img_2d = np.pad(img_2d, ((padding, padding), (padding, padding), (0, 0)), 'edge')\n",
    "\n",
    "    # Compute the FFT of the kernel\n",
    "    kernel_fft = np.fft.fftn(kernel, s=img_2d.shape[:2], axes=(0, 1))\n",
    "    \n",
    "    # Perform convolution for each color channel\n",
    "    for k in range(img_size[2]):\n",
    "        # Compute the FFT of the image\n",
    "        img_fft = np.fft.fftn(img_2d[:, :, k], axes=(0, 1))\n",
    "        \n",
    "        # Perform element-wise multiplication in the frequency domain\n",
    "        convolved_fft = img_fft * kernel_fft\n",
    "        \n",
    "        # Compute the inverse FFT to obtain the result in the spatial domain\n",
    "        new_img_2d[:, :, k] = np.fft.ifftn(convolved_fft, axes=(0, 1)).real[padding:-padding, padding:-padding]\n",
    "    \n",
    "    return limit_value(new_img_2d).astype('uint8')"
   ]
  },
  {
   "cell_type": "code",
   "execution_count": null,
   "metadata": {},
   "outputs": [],
   "source": [
    "def blur_image(img_2d):\n",
    "    gaussian_kernel = np.array([[1, 2, 1], [2, 4, 2], [1, 2, 1]]) / 16\n",
    "    return convolute_2D(img_2d, gaussian_kernel), '_blur'"
   ]
  },
  {
   "cell_type": "code",
   "execution_count": null,
   "metadata": {},
   "outputs": [],
   "source": [
    "def sharpen_image(img_2d):\n",
    "    sharpen_kernel = np.array([[0, -1, 0], [-1, 5, -1], [0, -1, 0]])\n",
    "    return convolute_2D(img_2d, sharpen_kernel), '_sharpen'"
   ]
  },
  {
   "cell_type": "markdown",
   "metadata": {},
   "source": [
    "### **6. Cắt ảnh**"
   ]
  },
  {
   "cell_type": "code",
   "execution_count": null,
   "metadata": {},
   "outputs": [],
   "source": [
    "def center_crop(img_2d, height=256, width=256):\n",
    "    h, w = img_2d.shape[:2]\n",
    "    x_start = (w - width) // 2\n",
    "    y_start = (h - height) // 2\n",
    "    return img_2d[y_start:y_start+height, x_start:x_start+width], '_center_crop'"
   ]
  },
  {
   "cell_type": "markdown",
   "metadata": {},
   "source": [
    "### **7. Cắt ảnh theo khung hình tròn**"
   ]
  },
  {
   "cell_type": "code",
   "execution_count": null,
   "metadata": {},
   "outputs": [],
   "source": [
    "def circular_crop(img_2d):\n",
    "    h, w = img_2d.shape[:2]\n",
    "    center = (h // 2, w // 2)\n",
    "    radius = min(center)\n",
    "\n",
    "    Y, X = np.ogrid[:h, :w]\n",
    "    mask = (X - center[1])**2 + (Y - center[0])**2 > radius**2\n",
    "    \n",
    "    new_img_2d = img_2d.copy()\n",
    "    new_img_2d[mask] = 0\n",
    "    \n",
    "    return new_img_2d, '_circular_crop'"
   ]
  },
  {
   "cell_type": "markdown",
   "metadata": {},
   "source": [
    "### **8. Elip mask**"
   ]
  },
  {
   "cell_type": "markdown",
   "metadata": {},
   "source": [
    "#### Phương trình đường elip tổng quát:\n",
    "\n",
    "- [tham khảo](https://math.stackexchange.com/questions/426150/what-is-the-general-equation-of-the-ellipse-that-is-not-in-the-origin-and-rotate)\n",
    "- [tham khảo 2](https://www.maa.org/external_archive/joma/Volume8/Kalman/General.html)\n",
    "\n",
    "$\\frac{((x-x_0)\\cos \\alpha + (y-y_0) \\sin \\alpha)^2}{a^2} + \\frac{((x-x_0)\\sin \\alpha - (y-y_0) \\cos \\alpha)^2}{b^2}= 1$ \n",
    "\n",
    "Với:\n",
    "- $\\alpha$ là góc quay của đường elip so với hệ tọa độ\n",
    "- $x_0, y_0$ là tọa độ tâm của đường elip"
   ]
  },
  {
   "cell_type": "markdown",
   "metadata": {},
   "source": [
    "Do tính đối xứng nên ta có thể suy ra $\\alpha = \\frac{\\pi}{4} = 45^{\\circ}$ hoặc $\\alpha = \\frac{3\\pi}{4} = 135^{\\circ}$.\n",
    "\n",
    "Khi đó phương trình elip trở thành:\n",
    "$(\\frac{1}{a^2} + \\frac{1}{b^2})((x-x_0)^2 + (y-y_0)^2) \\pm 2(\\frac{1}{a^2} - \\frac{1}{b^2})(x-x_0) (y-y_0) = 2$"
   ]
  },
  {
   "cell_type": "code",
   "execution_count": null,
   "metadata": {},
   "outputs": [],
   "source": [
    "def elliptical_crop(img_2d):\n",
    "    side = img_2d.shape[0]\n",
    "    center = (side // 2, side // 2)\n",
    "\n",
    "    # for 1x1 square\n",
    "    a = 0.35\n",
    "    b = 0.61375\n",
    "    \n",
    "    # for side x side square\n",
    "    new_a = a * side\n",
    "    new_b = b * side\n",
    "    \n",
    "    Y, X = np.ogrid[:side, :side]\n",
    "    \n",
    "    const_1 = 1 / new_a**2 + 1 / new_b**2\n",
    "    const_2 = 1 / new_a**2 - 1 / new_b**2\n",
    "    \n",
    "    mask_l = const_1 * ((X - center[1])**2 + (Y - center[0])**2) - const_2 * 2 * (X - center[1]) * (Y - center[0]) > 2\n",
    "    mask_r = const_1 * ((X - center[1])**2 + (Y - center[0])**2) + const_2 * 2 * (X - center[1]) * (Y - center[0]) > 2\n",
    "    \n",
    "    new_img_2d = img_2d.copy()\n",
    "    new_img_2d[mask_l & mask_r] = 0\n",
    "    \n",
    "    return new_img_2d, '_elliptical_crop'"
   ]
  },
  {
   "cell_type": "markdown",
   "metadata": {},
   "source": [
    "#### **Write image**"
   ]
  },
  {
   "cell_type": "code",
   "execution_count": null,
   "metadata": {},
   "outputs": [],
   "source": [
    "def write_image(img_list, img_list_name):\n",
    "    [plt.imsave(img_list_name[i], img_list[i]) for i in range(1, len(img_list))]"
   ]
  },
  {
   "cell_type": "markdown",
   "metadata": {},
   "source": [
    "### **Main**"
   ]
  },
  {
   "cell_type": "code",
   "execution_count": null,
   "metadata": {},
   "outputs": [],
   "source": [
    "def main():\n",
    "    print(\"\"\"\n",
    "    0. Tất cả chức năng\n",
    "    1. Đổi độ sáng (mặc định: 128)\n",
    "    2. Đổi độ tương phản (mặc định: 128)\n",
    "    3. Lật ảnh ngang/dọc\n",
    "    4. Chuyển sang ảnh xám/sepia\n",
    "    5. Làm mờ/sắc nét ảnh\n",
    "    6. Cắt ảnh theo kích thước (mặc định: 256x256)\n",
    "    7. Cắt ảnh theo khung tròn\n",
    "    8. Cắt ảnh theo khung elip\n",
    "    9. Thoát\n",
    "          \"\"\")\n",
    "    \n",
    "    img_name = input('Nhập đường dẫn ảnh: ')\n",
    "    function = int(input('Chọn chức năng: '))\n",
    "\n",
    "    img_2d = np.array(Image.open(img_name))\n",
    "    result = [(img_2d, img_name)]\n",
    "    name = img_name.split('.')[0]\n",
    "    ext = '.' + img_name.split('.')[-1]\n",
    "\n",
    "    if function == 0:\n",
    "        result.extend([change_brightness(img_2d), change_contrast(img_2d), flip_image(img_2d, 0), flip_image(img_2d, 1), convert_grayscale(img_2d), convert_sepia(img_2d), blur_image(img_2d), sharpen_image(img_2d), center_crop(img_2d), circular_crop(img_2d), elliptical_crop(img_2d)])\n",
    "        \n",
    "    elif function == 1:\n",
    "        result.append(change_brightness(img_2d))\n",
    "        \n",
    "    elif function == 2:\n",
    "        result.append(change_contrast(img_2d))\n",
    "        \n",
    "    elif function == 3:\n",
    "        result.extend([flip_image(img_2d, 0), flip_image(img_2d, 1)])\n",
    "        \n",
    "    elif function == 4:\n",
    "        result.extend([convert_grayscale(img_2d), convert_sepia(img_2d)])\n",
    "    \n",
    "    elif function == 5:\n",
    "        result.extend([blur_image(img_2d), sharpen_image(img_2d)])\n",
    "        \n",
    "    elif function == 6:\n",
    "        result.append(center_crop(img_2d))\n",
    "    \n",
    "    elif function == 7:\n",
    "        result.append(circular_crop(img_2d))\n",
    "        \n",
    "    elif function == 8:\n",
    "        result.append(elliptical_crop(img_2d))\n",
    "        \n",
    "    elif function == 9:\n",
    "        print('Thoát chương trình!')\n",
    "        \n",
    "    else:\n",
    "        print('Chức năng không hợp lệ!')\n",
    "    \n",
    "    img_list = [img[0] for img in result]\n",
    "    img_list_name = [name + img[1] + ext for img in result]\n",
    "    \n",
    "    show_image(img_list)\n",
    "    write_image(img_list, img_list_name)"
   ]
  },
  {
   "cell_type": "code",
   "execution_count": null,
   "metadata": {},
   "outputs": [],
   "source": [
    "if __name__ == '__main__':\n",
    "    main()"
   ]
  }
 ],
 "metadata": {
  "kernelspec": {
   "display_name": "base",
   "language": "python",
   "name": "python3"
  },
  "language_info": {
   "codemirror_mode": {
    "name": "ipython",
    "version": 3
   },
   "file_extension": ".py",
   "mimetype": "text/x-python",
   "name": "python",
   "nbconvert_exporter": "python",
   "pygments_lexer": "ipython3",
   "version": "3.10.9"
  },
  "orig_nbformat": 4
 },
 "nbformat": 4,
 "nbformat_minor": 2
}
