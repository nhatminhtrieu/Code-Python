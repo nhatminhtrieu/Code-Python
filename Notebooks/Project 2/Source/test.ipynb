{
 "cells": [
  {
   "cell_type": "code",
   "execution_count": 74,
   "metadata": {},
   "outputs": [],
   "source": [
    "import numpy as np\n",
    "import matplotlib.pyplot as plt\n",
    "from PIL import Image"
   ]
  },
  {
   "cell_type": "code",
   "execution_count": 75,
   "metadata": {},
   "outputs": [],
   "source": [
    "img_2d = np.array([[[255, 255, 255], [255, 0, 0], [255, 0, 0], [255, 0, 0], [255, 255, 255]],\n",
    "                     [[255, 255, 255], [255, 0, 0], [255, 255, 255], [255, 0, 0], [255, 255, 255]],\n",
    "                     [[255, 255, 255], [255, 0, 0], [255, 255, 255], [255, 0, 0], [255, 255, 255]],\n",
    "                     [[255, 255, 255], [255, 0, 0], [255, 255, 255], [255, 0, 0], [255, 255, 255]],\n",
    "                     [[255, 255, 255], [255, 0, 0], [255, 0, 0], [255, 0, 0], [255, 255, 255]]])"
   ]
  },
  {
   "cell_type": "code",
   "execution_count": 87,
   "metadata": {},
   "outputs": [],
   "source": [
    "def "
   ]
  },
  {
   "cell_type": "code",
   "execution_count": 88,
   "metadata": {},
   "outputs": [
    {
     "name": "stdout",
     "output_type": "stream",
     "text": [
      "[[[255 255 255]\n",
      "  [ 76  76  76]\n",
      "  [ 76  76  76]\n",
      "  [ 76  76  76]\n",
      "  [255 255 255]]\n",
      "\n",
      " [[255 255 255]\n",
      "  [ 76  76  76]\n",
      "  [255 255 255]\n",
      "  [ 76  76  76]\n",
      "  [255 255 255]]\n",
      "\n",
      " [[255 255 255]\n",
      "  [ 76  76  76]\n",
      "  [255 255 255]\n",
      "  [ 76  76  76]\n",
      "  [255 255 255]]\n",
      "\n",
      " [[255 255 255]\n",
      "  [ 76  76  76]\n",
      "  [255 255 255]\n",
      "  [ 76  76  76]\n",
      "  [255 255 255]]\n",
      "\n",
      " [[255 255 255]\n",
      "  [ 76  76  76]\n",
      "  [ 76  76  76]\n",
      "  [ 76  76  76]\n",
      "  [255 255 255]]]\n"
     ]
    }
   ],
   "source": [
    "new_img_2d = convert_grayscale(img_2d)\n",
    "print(new_img_2d)"
   ]
  },
  {
   "cell_type": "code",
   "execution_count": 89,
   "metadata": {},
   "outputs": [
    {
     "data": {
      "text/plain": [
       "<matplotlib.image.AxesImage at 0x1c543805900>"
      ]
     },
     "execution_count": 89,
     "metadata": {},
     "output_type": "execute_result"
    },
    {
     "data": {
      "image/png": "[encoded data removed]",
      "text/plain": [
       "<Figure size 640x480 with 1 Axes>"
      ]
     },
     "metadata": {},
     "output_type": "display_data"
    }
   ],
   "source": [
    "plt.imshow(new_img_2d)"
   ]
  }
 ],
 "metadata": {
  "kernelspec": {
   "display_name": "base",
   "language": "python",
   "name": "python3"
  },
  "language_info": {
   "codemirror_mode": {
    "name": "ipython",
    "version": 3
   },
   "file_extension": ".py",
   "mimetype": "text/x-python",
   "name": "python",
   "nbconvert_exporter": "python",
   "pygments_lexer": "ipython3",
   "version": "3.10.9"
  },
  "orig_nbformat": 4
 },
 "nbformat": 4,
 "nbformat_minor": 2
}
