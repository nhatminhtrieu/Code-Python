{
 "cells": [
  {
   "cell_type": "code",
   "execution_count": 1,
   "metadata": {},
   "outputs": [],
   "source": [
    "import numpy as np\n",
    "import matplotlib.pyplot as plt\n",
    "from PIL import Image"
   ]
  },
  {
   "cell_type": "code",
   "execution_count": null,
   "metadata": {},
   "outputs": [],
   "source": [
    "def dnorm(x, sigma):\n",
    "    return np.array(1 / (np.sqrt(2 * np.pi) * sigma) * (np.exp(-np.power(x / sigma, 2) / 2)))"
   ]
  },
  {
   "cell_type": "code",
   "execution_count": null,
   "metadata": {},
   "outputs": [],
   "source": [
    "def Gaussian_kernel(kernel_size, sigma):\n",
    "    kernel_1d = np.linspace(-(kernel_size // 2), kernel_size // 2, num=kernel_size)\n",
    "    kernel_1d = dnorm(kernel_1d, sigma)\n",
    "    kernel_2d = np.outer(kernel_1d.T, kernel_1d.T)\n",
    "    kernel_2d *= 1.0 / np.sum(kernel_2d)\n",
    "    return kernel_2d "
   ]
  },
  {
   "cell_type": "code",
   "execution_count": null,
   "metadata": {},
   "outputs": [],
   "source": [
    "def convolve_layer(layer, kernel):\n",
    "    view = kernel.shape + tuple(np.subtract(layer.shape, kernel.shape) + 1)\n",
    "    submatrices = np.lib.stride_tricks.as_strided(layer, shape = view, strides = layer.strides * 2)\n",
    "    return np.einsum('ij,ijkl->kl', kernel, submatrices)"
   ]
  },
  {
   "cell_type": "code",
   "execution_count": null,
   "metadata": {},
   "outputs": [],
   "source": [
    "def convolution(img, kernel):\n",
    "    return np.dstack((convolve_layer(img[:,:,0], kernel), convolve_layer(img[:,:,1], kernel), convolve_layer(img[:,:,2], kernel)))"
   ]
  },
  {
   "cell_type": "code",
   "execution_count": null,
   "metadata": {},
   "outputs": [],
   "source": [
    "def Gaussian_blur(img, kernel_size):\n",
    "    kernel = Gaussian_kernel(kernel_size, sigma=(kernel_size-1)/6)\n",
    "    return np.uint8(convolution(img, kernel))"
   ]
  },
  {
   "cell_type": "code",
   "execution_count": 2,
   "metadata": {},
   "outputs": [],
   "source": [
    "img_2d = np.array([[[255, 255, 255], [255, 0, 0], [255, 0, 0], [255, 0, 0], [255, 255, 255]],\n",
    "                     [[255, 255, 255], [255, 0, 0], [255, 255, 255], [255, 0, 0], [255, 255, 255]],\n",
    "                     [[255, 255, 255], [255, 0, 0], [255, 255, 255], [255, 0, 0], [255, 255, 255]],\n",
    "                     [[255, 255, 255], [255, 0, 0], [255, 255, 255], [255, 0, 0], [255, 255, 255]],\n",
    "                     [[255, 255, 255], [255, 0, 0], [255, 0, 0], [255, 0, 0], [255, 255, 255]]])"
   ]
  },
  {
   "cell_type": "code",
   "execution_count": null,
   "metadata": {},
   "outputs": [],
   "source": [
    "def create_kernel()"
   ]
  },
  {
   "cell_type": "code",
   "execution_count": 52,
   "metadata": {},
   "outputs": [],
   "source": [
    "\n",
    "def convolve2d(img_2d, kernel):\n",
    "    # This function which takes an image and a kernel \n",
    "    # and returns the convolution of them\n",
    "    # Args:\n",
    "    #   image: a numpy array of size [image_height, image_width, num_channels]\n",
    "    #   kernel: a numpy array of size [kernel_height, kernel_width].\n",
    "    # Returns:\n",
    "    #   a numpy array of size [image_height, image_width] (convolution output).\n",
    "    kernel = np.flipud(np.fliplr(kernel))    # Flip the kernel\n",
    "    output = np.zeros_like(img_2d)            # convolution output\n",
    "    # Add zero padding to the input image\n",
    "    image_padded = np.zeros((img_2d.shape[0] + 2, img_2d.shape[1] + 2))\n",
    "    image_padded[1:-1, 1:-1] = img_2d\n",
    "    \n",
    "    return output"
   ]
  },
  {
   "cell_type": "code",
   "execution_count": 53,
   "metadata": {},
   "outputs": [
    {
     "name": "stdout",
     "output_type": "stream",
     "text": [
      "[[255.    53.55  53.55  53.55 255.  ]\n",
      " [255.    53.55 255.    53.55 255.  ]\n",
      " [255.    53.55 255.    53.55 255.  ]\n",
      " [255.    53.55 255.    53.55 255.  ]\n",
      " [255.    53.55  53.55  53.55 255.  ]]\n"
     ]
    }
   ],
   "source": []
  }
 ],
 "metadata": {
  "kernelspec": {
   "display_name": "base",
   "language": "python",
   "name": "python3"
  },
  "language_info": {
   "codemirror_mode": {
    "name": "ipython",
    "version": 3
   },
   "file_extension": ".py",
   "mimetype": "text/x-python",
   "name": "python",
   "nbconvert_exporter": "python",
   "pygments_lexer": "ipython3",
   "version": "3.10.9"
  },
  "orig_nbformat": 4
 },
 "nbformat": 4,
 "nbformat_minor": 2
}
