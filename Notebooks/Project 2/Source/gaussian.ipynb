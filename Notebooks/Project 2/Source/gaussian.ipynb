{
 "cells": [
  {
   "cell_type": "code",
   "execution_count": null,
   "metadata": {},
   "outputs": [],
   "source": [
    "import numpy as np\n",
    "import matplotlib.pyplot as plt\n",
    "from PIL import Image"
   ]
  },
  {
   "cell_type": "code",
   "execution_count": null,
   "metadata": {},
   "outputs": [],
   "source": [
    "img_2d = np.array([[[255, 255, 255], [255, 0, 0], [255, 0, 0], [255, 0, 0], [255, 255, 255]],\n",
    "                     [[255, 255, 255], [255, 0, 0], [255, 255, 255], [255, 0, 0], [255, 255, 255]],\n",
    "                     [[255, 255, 255], [255, 0, 0], [255, 255, 255], [255, 0, 0], [255, 255, 255]],\n",
    "                     [[255, 255, 255], [255, 0, 0], [255, 255, 255], [255, 0, 0], [255, 255, 255]],\n",
    "                     [[255, 255, 255], [255, 0, 0], [255, 0, 0], [255, 0, 0], [255, 255, 255]]])\n",
    "kernel_2d = np.array(1/9 * np.ones((3, 3)))"
   ]
  },
  {
   "cell_type": "code",
   "execution_count": null,
   "metadata": {},
   "outputs": [],
   "source": [
    "img_1d = np.array([3, 4, 6, 7, 15, 2, -3, 4, -6])\n",
    "kernel_1d = np.array([-1, 1, 2])"
   ]
  },
  {
   "cell_type": "code",
   "execution_count": 22,
   "metadata": {},
   "outputs": [],
   "source": [
    "def convolute_2d(img_2d, kernel_2d):\n",
    "    # Get the shape of the image and the kernel\n",
    "    img_h, img_w = img_2d.shape\n",
    "    kernel_h, kernel_w = kernel_2d.shape\n",
    "    \n",
    "    # Calculate the padding size for each side of the image\n",
    "    pad_h = (kernel_h - 1) // 2\n",
    "    pad_w = (kernel_w - 1) // 2\n",
    "    \n",
    "    # Pad the image with zeros on all sides\n",
    "    padded_img = np.pad(img_2d, ((pad_h, pad_h), (pad_w, pad_w)), mode='constant')\n",
    "    \n",
    "    # Create an empty array to store the result\n",
    "    result = np.zeros_like(img_2d)\n",
    "    \n",
    "    # Perform the convolution by sliding the kernel over the padded image\n",
    "    for i in range(img_h):\n",
    "        for j in range(img_w):\n",
    "            result[i, j] = np.sum(padded_img[i:i+kernel_h, j:j+kernel_w] * kernel_2d)\n",
    "    \n",
    "    return result"
   ]
  },
  {
   "cell_type": "code",
   "execution_count": 23,
   "metadata": {},
   "outputs": [
    {
     "ename": "ValueError",
     "evalue": "too many values to unpack (expected 2)",
     "output_type": "error",
     "traceback": [
      "\u001b[1;31m---------------------------------------------------------------------------\u001b[0m",
      "\u001b[1;31mValueError\u001b[0m                                Traceback (most recent call last)",
      "Cell \u001b[1;32mIn[23], line 1\u001b[0m\n\u001b[1;32m----> 1\u001b[0m new_img_2d \u001b[39m=\u001b[39m convolute_2d(img_2d, kernel_2d)\n",
      "Cell \u001b[1;32mIn[22], line 3\u001b[0m, in \u001b[0;36mconvolute_2d\u001b[1;34m(img_2d, kernel_2d)\u001b[0m\n\u001b[0;32m      1\u001b[0m \u001b[39mdef\u001b[39;00m \u001b[39mconvolute_2d\u001b[39m(img_2d, kernel_2d):\n\u001b[0;32m      2\u001b[0m     \u001b[39m# Get the shape of the image and the kernel\u001b[39;00m\n\u001b[1;32m----> 3\u001b[0m     img_h, img_w \u001b[39m=\u001b[39m img_2d\u001b[39m.\u001b[39mshape\n\u001b[0;32m      4\u001b[0m     kernel_h, kernel_w \u001b[39m=\u001b[39m kernel_2d\u001b[39m.\u001b[39mshape\n\u001b[0;32m      6\u001b[0m     \u001b[39m# Calculate the padding size for each side of the image\u001b[39;00m\n",
      "\u001b[1;31mValueError\u001b[0m: too many values to unpack (expected 2)"
     ]
    }
   ],
   "source": [
    "new_img_2d = convolute_2d(img_2d, kernel_2d)"
   ]
  }
 ],
 "metadata": {
  "kernelspec": {
   "display_name": "base",
   "language": "python",
   "name": "python3"
  },
  "language_info": {
   "name": "python",
   "version": "3.10.9"
  },
  "orig_nbformat": 4
 },
 "nbformat": 4,
 "nbformat_minor": 2
}
