{
 "cells": [
  {
   "cell_type": "markdown",
   "metadata": {},
   "source": [
    "# <h1 align=\"center\">**Project 2 - Image Processing** </h1>"
   ]
  },
  {
   "cell_type": "markdown",
   "metadata": {},
   "source": [
    "<h3 align=\"center\"> Đặng Ngọc Tiến - 20127641</h3>"
   ]
  },
  {
   "cell_type": "markdown",
   "metadata": {},
   "source": [
    "##### **Import Library**"
   ]
  },
  {
   "cell_type": "code",
   "execution_count": 1,
   "metadata": {},
   "outputs": [],
   "source": [
    "import numpy as np\n",
    "from PIL import Image\n",
    "import matplotlib as mpl\n",
    "import matplotlib.pyplot as plt"
   ]
  },
  {
   "cell_type": "markdown",
   "metadata": {},
   "source": [
    "##### **1. Adjust Brightness**"
   ]
  },
  {
   "cell_type": "code",
   "execution_count": 2,
   "metadata": {},
   "outputs": [],
   "source": [
    "def adjust_brightness(img, brightness):\n",
    "    return np.uint8(np.clip(img + np.array([brightness], dtype=np.int16), 0, 255))"
   ]
  },
  {
   "cell_type": "markdown",
   "metadata": {},
   "source": [
    "##### **2. Adjust contrast**"
   ]
  },
  {
   "cell_type": "code",
   "execution_count": 3,
   "metadata": {},
   "outputs": [],
   "source": [
    "def adjust_contrast(img, contrast):\n",
    "    contrast = np.clip(float(contrast), -255, 255)\n",
    "    factor = (259 * (contrast + 255)) / (255 * (259 - contrast))\n",
    "    return np.uint8(np.clip(factor * (img.astype(float) - 128) + 128, 0, 255))"
   ]
  },
  {
   "cell_type": "markdown",
   "metadata": {},
   "source": [
    "##### **3. Flip the image (Vertical / Horizontal)**"
   ]
  },
  {
   "cell_type": "code",
   "execution_count": 4,
   "metadata": {},
   "outputs": [],
   "source": [
    "def flip(img, direction):\n",
    "    if direction == 'vertical':\n",
    "        return np.flipud(img)\n",
    "    elif direction == 'horizontal':\n",
    "        return np.fliplr(img)"
   ]
  },
  {
   "cell_type": "markdown",
   "metadata": {},
   "source": [
    "##### **4. Convert RGB image to grayscale image**"
   ]
  },
  {
   "cell_type": "code",
   "execution_count": 5,
   "metadata": {},
   "outputs": [],
   "source": [
    "def to_grayscale(img):\n",
    "    weight = np.array([0.3, 0.59, 0.11])\n",
    "    return np.uint8(np.dot(img[..., :3], weight))"
   ]
  },
  {
   "cell_type": "markdown",
   "metadata": {},
   "source": [
    "##### **5. Blend 2 images of the same size**"
   ]
  },
  {
   "cell_type": "code",
   "execution_count": 6,
   "metadata": {},
   "outputs": [],
   "source": [
    "def blend(img_1, img_2, alpha):\n",
    "    return np.uint8(alpha * img_1.astype(float) + (1 - alpha) * img_2.astype(float))"
   ]
  },
  {
   "cell_type": "markdown",
   "metadata": {},
   "source": [
    "##### **6. Blur the image**"
   ]
  },
  {
   "cell_type": "markdown",
   "metadata": {},
   "source": [
    "##### - Gausian function"
   ]
  },
  {
   "cell_type": "code",
   "execution_count": 7,
   "metadata": {},
   "outputs": [],
   "source": [
    "def dnorm(x, sigma):\n",
    "    return np.array(1 / (np.sqrt(2 * np.pi) * sigma) * (np.exp(-np.power(x / sigma, 2) / 2)))"
   ]
  },
  {
   "cell_type": "code",
   "execution_count": 8,
   "metadata": {},
   "outputs": [],
   "source": [
    "def Gaussian_kernel(kernel_size, sigma):\n",
    "    kernel_1d = np.linspace(-(kernel_size // 2), kernel_size // 2, num=kernel_size)\n",
    "    kernel_1d = dnorm(kernel_1d, sigma)\n",
    "    kernel_2d = np.outer(kernel_1d.T, kernel_1d.T)\n",
    "    kernel_2d *= 1.0 / np.sum(kernel_2d)\n",
    "    return kernel_2d "
   ]
  },
  {
   "cell_type": "markdown",
   "metadata": {},
   "source": [
    "##### - Convolution function"
   ]
  },
  {
   "cell_type": "code",
   "execution_count": 9,
   "metadata": {},
   "outputs": [],
   "source": [
    "def convolve_layer(layer, kernel):\n",
    "    view = kernel.shape + tuple(np.subtract(layer.shape, kernel.shape) + 1)\n",
    "    submatrices = np.lib.stride_tricks.as_strided(layer, shape = view, strides = layer.strides * 2)\n",
    "    return np.einsum('ij,ijkl->kl', kernel, submatrices)"
   ]
  },
  {
   "cell_type": "code",
   "execution_count": 10,
   "metadata": {},
   "outputs": [],
   "source": [
    "def convolution(img, kernel):\n",
    "    return np.dstack((convolve_layer(img[:,:,0], kernel), convolve_layer(img[:,:,1], kernel), convolve_layer(img[:,:,2], kernel)))"
   ]
  },
  {
   "cell_type": "markdown",
   "metadata": {},
   "source": [
    "##### - Gaussian blur function"
   ]
  },
  {
   "cell_type": "code",
   "execution_count": 11,
   "metadata": {},
   "outputs": [],
   "source": [
    "def Gaussian_blur(img, kernel_size):\n",
    "    kernel = Gaussian_kernel(kernel_size, sigma=(kernel_size-1)/6)\n",
    "    return np.uint8(convolution(img, kernel))"
   ]
  },
  {
   "cell_type": "markdown",
   "metadata": {},
   "source": [
    "#### **Test case and export photos**"
   ]
  },
  {
   "cell_type": "code",
   "execution_count": 12,
   "metadata": {},
   "outputs": [],
   "source": [
    "def test_brightness(image, name_img):\n",
    "    brightness = input(\"Enter brightness [-255:255]: \")\n",
    "    result = adjust_brightness(image, brightness)\n",
    "    plt.imshow(result)\n",
    "    output_file = name_img.split('.')[0] + '_' + str(brightness) + '_brightness' + '.png'\n",
    "    Image.fromarray(result).save(output_file)"
   ]
  },
  {
   "cell_type": "code",
   "execution_count": 13,
   "metadata": {},
   "outputs": [],
   "source": [
    "def test_contrast(image, name_img):\n",
    "    contrast = input(\"Enter contrast [-255:255]: \")\n",
    "    result = adjust_contrast(image, contrast)\n",
    "    plt.imshow(result)\n",
    "    output_file = name_img.split('.')[0] + '_' + str(contrast) + '_contrast' + '.png'\n",
    "    Image.fromarray(result).save(output_file)"
   ]
  },
  {
   "cell_type": "code",
   "execution_count": 14,
   "metadata": {},
   "outputs": [],
   "source": [
    "def test_flip(image, name_img):\n",
    "    print(\"\"\"\n",
    "    1. Vertical\n",
    "    2. Horizontal\n",
    "    \"\"\")\n",
    "    direction = input(\"Enter direction: \")\n",
    "    if direction == '1':\n",
    "        direction = 'vertical'\n",
    "    elif direction == '2':\n",
    "        direction = 'horizontal'\n",
    "    result = flip(image, direction)\n",
    "    plt.imshow(result)\n",
    "\n",
    "    output_file = name_img.split('.')[0] + '_flip_' + direction + '.png'\n",
    "    Image.fromarray(result).save(output_file)\n"
   ]
  },
  {
   "cell_type": "code",
   "execution_count": 15,
   "metadata": {},
   "outputs": [],
   "source": [
    "def test_grayscale(image, name_img):\n",
    "    result = to_grayscale(image)\n",
    "    plt.imshow(result, cmap='gray')\n",
    "\n",
    "    output_file = name_img.split('.')[0] + '_grayscale' + '.png'\n",
    "    Image.fromarray(result).save(output_file, cmap='gray')"
   ]
  },
  {
   "cell_type": "code",
   "execution_count": 16,
   "metadata": {},
   "outputs": [],
   "source": [
    "def test_blend():\n",
    "    print(\"Enter image1 name: \")\n",
    "    name_img1 = input()\n",
    "    image1 = Image.open(name_img1)\n",
    "    image1 = np.array(image1)\n",
    "    print(\"Enter image2 name: \")\n",
    "    name_img2 = input()\n",
    "    image2 = Image.open(name_img2)\n",
    "    image2 = np.array(image2)\n",
    "    \n",
    "    image_1 = to_grayscale(image1)\n",
    "    image_2 = to_grayscale(image2)\n",
    "\n",
    "    alpha = 0.5\n",
    "    result = blend(image_1, image_2, alpha)\n",
    "    plt.imshow(result, cmap='gray')\n",
    "\n",
    "    output_file = name_img1.split('.')[0] + '_' + name_img2.split('.')[0] + '_blend' + '.png'\n",
    "    Image.fromarray(result).save(output_file, cmap='gray')"
   ]
  },
  {
   "cell_type": "code",
   "execution_count": 17,
   "metadata": {},
   "outputs": [],
   "source": [
    "def test_blur(image, name_img):\n",
    "    kernel_size = int(input(\"Enter kernel size: \"))\n",
    "    result = Gaussian_blur(image, kernel_size)\n",
    "    plt.imshow(result)\n",
    " \n",
    "    output_file = name_img.split('.')[0] + '_blur_' + str(kernel_size) + '.png'\n",
    "    Image.fromarray(result).save(output_file)"
   ]
  },
  {
   "cell_type": "markdown",
   "metadata": {},
   "source": [
    "### **Advanced**"
   ]
  },
  {
   "cell_type": "markdown",
   "metadata": {},
   "source": [
    "##### - Circular mask"
   ]
  },
  {
   "cell_type": "code",
   "execution_count": 18,
   "metadata": {},
   "outputs": [],
   "source": [
    "def create_circular_mask(h, w, center=None, radius=None):\n",
    "\n",
    "    if center is None: # use the middle of the image\n",
    "        center = (int(w/2), int(h/2))\n",
    "    if radius is None: # use the smallest distance between the center and image walls\n",
    "        radius = min(center[0], center[1], w-center[0], h-center[1])\n",
    "\n",
    "    Y, X = np.ogrid[:h, :w]\n",
    "    dist_from_center = np.sqrt((X - center[0])**2 + (Y-center[1])**2)\n",
    "\n",
    "    mask = dist_from_center <= radius\n",
    "    return mask\n"
   ]
  },
  {
   "cell_type": "code",
   "execution_count": 19,
   "metadata": {},
   "outputs": [],
   "source": [
    "def circular_mask(image):\n",
    "    mask = create_circular_mask(image.shape[0], image.shape[1])\n",
    "    image[~mask] = 0\n",
    "    plt.imshow(image)\n",
    "   \n",
    "    output_file = 'circular_mask.png'\n",
    "    Image.fromarray(image).save(output_file)"
   ]
  },
  {
   "cell_type": "markdown",
   "metadata": {},
   "source": [
    "##### - Ellipse mask"
   ]
  },
  {
   "cell_type": "code",
   "execution_count": 20,
   "metadata": {},
   "outputs": [],
   "source": [
    "def create_elipse_mask(h, w, center=None, radius=None):\n",
    "    d = min(w,h)\n",
    "\n",
    "    if center is None: # use the middle of the image\n",
    "        center = (int(d/2), int(d/2))\n",
    "    if radius is None: # use the smallest distance between the center and image walls\n",
    "        radius = min(center[0], center[1], w-center[0], h-center[1])\n",
    "        \n",
    "    Y, X = np.ogrid[:h,:w]\n",
    "    xe = -(X-center[1]) + (Y-center[0])\n",
    "    ye = (X-center[1]) + (Y-center[0])\n",
    "    e = (xe)**2/((d)*(2**0.5)) + (ye)**2/((d/4)*(2**0.5))\n",
    "\n",
    "    xe1 = (X-center[1]) + (Y-center[0])\n",
    "    ye1 = -(X-center[1]) + (Y-center[0])\n",
    "    e1 = (xe1)**2/((d)*(2**0.5))+ (ye1)**2/((d/4)*(2**0.5)) \n",
    "\n",
    "    mask = e <= radius\n",
    "    mask1 = e1 <= radius\n",
    " \n",
    "    return mask | mask1"
   ]
  },
  {
   "cell_type": "code",
   "execution_count": 21,
   "metadata": {},
   "outputs": [],
   "source": [
    "def elipse_mask(image):\n",
    "    mask = create_elipse_mask(image.shape[0], image.shape[1])\n",
    "    image[~mask] = 0\n",
    "    plt.imshow(image)\n",
    "\n",
    "    output_file = 'ellipse_mask.png'\n",
    "    Image.fromarray(image).save(output_file)"
   ]
  },
  {
   "cell_type": "markdown",
   "metadata": {},
   "source": [
    "#### **Hàm main()**"
   ]
  },
  {
   "cell_type": "code",
   "execution_count": 22,
   "metadata": {},
   "outputs": [],
   "source": [
    "def main():\n",
    "    print(\"Enter image name: \")\n",
    "    name_img = input() #'cat.jpg'\n",
    "    image = Image.open(name_img)\n",
    "    image = np.array(image)\n",
    " \n",
    "    print(\"\"\"\n",
    "    0. Do it all !\n",
    "    1. Adjust brightness\n",
    "    2. Adjust contrast\n",
    "    3. Flip image (vertical or horizontal)\n",
    "    4. Convert to grayscale\n",
    "    5. Blend images\n",
    "    6. Blur image\n",
    "    7. Circular mask\n",
    "    8. Elipse mask\n",
    "    9. Exit\n",
    "    \"\"\")\n",
    "    mode = input(\"Enter your choice: \")\n",
    "    if mode == '0':\n",
    "        print('Test case 1:')\n",
    "        test_brightness(image, name_img)\n",
    "\n",
    "        print('Test case 2:')\n",
    "        test_contrast(image, name_img)\n",
    "\n",
    "        print('Test case 3:')\n",
    "        test_flip(image, name_img)\n",
    "\n",
    "        print('Test case 4:')\n",
    "        test_grayscale(image, name_img)\n",
    "\n",
    "        print('Test case 5:')\n",
    "        test_blend()\n",
    "\n",
    "        print('Test case 6:')\n",
    "        test_blur(image, name_img)\n",
    "\n",
    "        print('Test case 7:')\n",
    "        circular_mask(image)\n",
    "\n",
    "        print('Test case 8:')\n",
    "        elipse_mask(image)\n",
    "\n",
    "    elif mode == \"1\":\n",
    "        test_brightness(image, name_img)\n",
    "\n",
    "    elif mode == \"2\":\n",
    "        test_contrast(image, name_img)\n",
    "\n",
    "    elif mode==\"3\":\n",
    "        test_flip(image, name_img)\n",
    "\n",
    "    elif mode==\"4\":\n",
    "        test_grayscale(image, name_img)\n",
    "\n",
    "    elif mode==\"5\":\n",
    "        test_blend()\n",
    "\n",
    "    elif mode==\"6\":\n",
    "        test_blur(image, name_img)\n",
    "\n",
    "    elif mode==\"7\":\n",
    "        circular_mask(image)\n",
    "\n",
    "    elif mode==\"8\":\n",
    "        elipse_mask(image)\n",
    "\n",
    "    elif mode==\"9\":\n",
    "        print(\"\\n Goodbye\") \n",
    "        mode = None\n",
    "        \n",
    "    else:\n",
    "        print(\"\\n Not Valid Choice Try again\")\n",
    "\n",
    "\n",
    "    "
   ]
  },
  {
   "cell_type": "code",
   "execution_count": 23,
   "metadata": {},
   "outputs": [
    {
     "name": "stdout",
     "output_type": "stream",
     "text": [
      "Enter image name: \n"
     ]
    },
    {
     "ename": "AttributeError",
     "evalue": "'str' object has no attribute 'read'",
     "output_type": "error",
     "traceback": [
      "\u001b[1;31m---------------------------------------------------------------------------\u001b[0m",
      "\u001b[1;31mAttributeError\u001b[0m                            Traceback (most recent call last)",
      "File \u001b[1;32mc:\\Users\\MINH\\anaconda3\\lib\\site-packages\\PIL\\Image.py:3231\u001b[0m, in \u001b[0;36mopen\u001b[1;34m(fp, mode, formats)\u001b[0m\n\u001b[0;32m   3230\u001b[0m \u001b[39mtry\u001b[39;00m:\n\u001b[1;32m-> 3231\u001b[0m     fp\u001b[39m.\u001b[39;49mseek(\u001b[39m0\u001b[39m)\n\u001b[0;32m   3232\u001b[0m \u001b[39mexcept\u001b[39;00m (\u001b[39mAttributeError\u001b[39;00m, io\u001b[39m.\u001b[39mUnsupportedOperation):\n",
      "\u001b[1;31mAttributeError\u001b[0m: 'str' object has no attribute 'seek'",
      "\nDuring handling of the above exception, another exception occurred:\n",
      "\u001b[1;31mAttributeError\u001b[0m                            Traceback (most recent call last)",
      "Cell \u001b[1;32mIn[23], line 1\u001b[0m\n\u001b[1;32m----> 1\u001b[0m main()\n",
      "Cell \u001b[1;32mIn[22], line 4\u001b[0m, in \u001b[0;36mmain\u001b[1;34m()\u001b[0m\n\u001b[0;32m      2\u001b[0m \u001b[39mprint\u001b[39m(\u001b[39m\"\u001b[39m\u001b[39mEnter image name: \u001b[39m\u001b[39m\"\u001b[39m)\n\u001b[0;32m      3\u001b[0m name_img \u001b[39m=\u001b[39m \u001b[39minput\u001b[39m() \u001b[39m#'cat.jpg'\u001b[39;00m\n\u001b[1;32m----> 4\u001b[0m image \u001b[39m=\u001b[39m Image\u001b[39m.\u001b[39;49mopen(name_img)\n\u001b[0;32m      5\u001b[0m image \u001b[39m=\u001b[39m np\u001b[39m.\u001b[39marray(image)\n\u001b[0;32m      7\u001b[0m \u001b[39mprint\u001b[39m(\u001b[39m\"\"\"\u001b[39m\n\u001b[0;32m      8\u001b[0m \u001b[39m0. Do it all !\u001b[39m\n\u001b[0;32m      9\u001b[0m \u001b[39m1. Adjust brightness\u001b[39m\n\u001b[1;32m   (...)\u001b[0m\n\u001b[0;32m     17\u001b[0m \u001b[39m9. Exit\u001b[39m\n\u001b[0;32m     18\u001b[0m \u001b[39m\u001b[39m\u001b[39m\"\"\"\u001b[39m)\n",
      "File \u001b[1;32mc:\\Users\\MINH\\anaconda3\\lib\\site-packages\\PIL\\Image.py:3233\u001b[0m, in \u001b[0;36mopen\u001b[1;34m(fp, mode, formats)\u001b[0m\n\u001b[0;32m   3231\u001b[0m     fp\u001b[39m.\u001b[39mseek(\u001b[39m0\u001b[39m)\n\u001b[0;32m   3232\u001b[0m \u001b[39mexcept\u001b[39;00m (\u001b[39mAttributeError\u001b[39;00m, io\u001b[39m.\u001b[39mUnsupportedOperation):\n\u001b[1;32m-> 3233\u001b[0m     fp \u001b[39m=\u001b[39m io\u001b[39m.\u001b[39mBytesIO(fp\u001b[39m.\u001b[39;49mread())\n\u001b[0;32m   3234\u001b[0m     exclusive_fp \u001b[39m=\u001b[39m \u001b[39mTrue\u001b[39;00m\n\u001b[0;32m   3236\u001b[0m prefix \u001b[39m=\u001b[39m fp\u001b[39m.\u001b[39mread(\u001b[39m16\u001b[39m)\n",
      "\u001b[1;31mAttributeError\u001b[0m: 'str' object has no attribute 'read'"
     ]
    }
   ],
   "source": [
    "main()"
   ]
  }
 ],
 "metadata": {
  "kernelspec": {
   "display_name": "Python 3.10.4 64-bit",
   "language": "python",
   "name": "python3"
  },
  "language_info": {
   "codemirror_mode": {
    "name": "ipython",
    "version": 3
   },
   "file_extension": ".py",
   "mimetype": "text/x-python",
   "name": "python",
   "nbconvert_exporter": "python",
   "pygments_lexer": "ipython3",
   "version": "3.10.9"
  },
  "orig_nbformat": 4,
  "vscode": {
   "interpreter": {
    "hash": "a42ccb73e7d9bfdf27e036f1d2b8b681e55fc0743cc5586bc2474d4a60f4b886"
   }
  }
 },
 "nbformat": 4,
 "nbformat_minor": 2
}
