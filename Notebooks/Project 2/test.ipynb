{
 "cells": [
  {
   "cell_type": "code",
   "execution_count": 3,
   "metadata": {},
   "outputs": [],
   "source": [
    "import numpy as np\n",
    "import matplotlib.pyplot as plt\n",
    "from PIL import Image"
   ]
  },
  {
   "cell_type": "code",
   "execution_count": 8,
   "metadata": {},
   "outputs": [],
   "source": [
    "# img_2d = np.array(Image.open('Lenna.png'))\n",
    "img_2d = np.array([[[255, 255, 255]]])"
   ]
  },
  {
   "cell_type": "code",
   "execution_count": 5,
   "metadata": {},
   "outputs": [],
   "source": [
    "def limit_value(img_2d):\n",
    "    return np.clip(img_2d, 0, 255, out=img_2d)"
   ]
  },
  {
   "cell_type": "code",
   "execution_count": 10,
   "metadata": {},
   "outputs": [],
   "source": [
    "sharpen_kernel = np.array([[0, -1, 0], [-1, 5, -1], [0, -1, 0]])"
   ]
  },
  {
   "cell_type": "code",
   "execution_count": 9,
   "metadata": {},
   "outputs": [],
   "source": [
    "def convolute_2D(img_2d, kernel):\n",
    "    # Initialize new image\n",
    "    img_size = img_2d.shape # save for later\n",
    "    new_img_2d = np.zeros(img_size).astype('float64')\n",
    "    \n",
    "    # Create padding:\n",
    "    padding = kernel.shape[0] // 2\n",
    "    img_2d = np.pad(img_2d, ((padding, padding), (padding, padding), (0, 0)), 'edge')\n",
    "    \n",
    "    # Compute the FFT of the kernel\n",
    "    kernel_fft = np.fft.fftn(kernel, s=img_2d.shape[:2], axes=(0, 1))\n",
    "    print(kernel_fft)\n",
    "    \n",
    "    # Perform convolution for each color channel\n",
    "    for k in range(img_size[2]):\n",
    "        # Compute the FFT of the image\n",
    "        img_fft = np.fft.fftn(img_2d[:, :, k], axes=(0, 1))\n",
    "        print(kernel_fft)\n",
    "        # Perform element-wise multiplication in the frequency domain\n",
    "        convolved_fft = img_fft * kernel_fft\n",
    "        print(convolved_fft)\n",
    "        # Compute the inverse FFT to obtain the result in the spatial domain\n",
    "        new_img_2d[:, :, k] = np.fft.ifftn(convolved_fft, axes=(0, 1)).real[padding:-padding, padding:-padding]\n",
    "        print(new_img_2d)\n",
    "    \n",
    "    return limit_value(new_img_2d).astype('uint8')"
   ]
  },
  {
   "cell_type": "code",
   "execution_count": 11,
   "metadata": {},
   "outputs": [
    {
     "name": "stdout",
     "output_type": "stream",
     "text": [
      "[[ 1. +0.00000000e+00j -2. -3.46410162e+00j -2. +3.46410162e+00j]\n",
      " [-2. -3.46410162e+00j -3.5+6.06217783e+00j  7. -4.44089210e-16j]\n",
      " [-2. +3.46410162e+00j  7. +4.44089210e-16j -3.5-6.06217783e+00j]]\n",
      "[[ 1. +0.00000000e+00j -2. -3.46410162e+00j -2. +3.46410162e+00j]\n",
      " [-2. -3.46410162e+00j -3.5+6.06217783e+00j  7. -4.44089210e-16j]\n",
      " [-2. +3.46410162e+00j  7. +4.44089210e-16j -3.5-6.06217783e+00j]]\n",
      "[[2295.+0.j    0.-0.j   -0.+0.j]\n",
      " [   0.-0.j   -0.+0.j    0.+0.j]\n",
      " [  -0.+0.j    0.+0.j    0.-0.j]]\n",
      "[[[255.   0.   0.]]]\n",
      "[[ 1. +0.00000000e+00j -2. -3.46410162e+00j -2. +3.46410162e+00j]\n",
      " [-2. -3.46410162e+00j -3.5+6.06217783e+00j  7. -4.44089210e-16j]\n",
      " [-2. +3.46410162e+00j  7. +4.44089210e-16j -3.5-6.06217783e+00j]]\n",
      "[[2295.+0.j    0.-0.j   -0.+0.j]\n",
      " [   0.-0.j   -0.+0.j    0.+0.j]\n",
      " [  -0.+0.j    0.+0.j    0.-0.j]]\n",
      "[[[255. 255.   0.]]]\n",
      "[[ 1. +0.00000000e+00j -2. -3.46410162e+00j -2. +3.46410162e+00j]\n",
      " [-2. -3.46410162e+00j -3.5+6.06217783e+00j  7. -4.44089210e-16j]\n",
      " [-2. +3.46410162e+00j  7. +4.44089210e-16j -3.5-6.06217783e+00j]]\n",
      "[[2295.+0.j    0.-0.j   -0.+0.j]\n",
      " [   0.-0.j   -0.+0.j    0.+0.j]\n",
      " [  -0.+0.j    0.+0.j    0.-0.j]]\n",
      "[[[255. 255. 255.]]]\n"
     ]
    }
   ],
   "source": [
    "A = convolute_2D(img_2d, sharpen_kernel)"
   ]
  }
 ],
 "metadata": {
  "kernelspec": {
   "display_name": "base",
   "language": "python",
   "name": "python3"
  },
  "language_info": {
   "codemirror_mode": {
    "name": "ipython",
    "version": 3
   },
   "file_extension": ".py",
   "mimetype": "text/x-python",
   "name": "python",
   "nbconvert_exporter": "python",
   "pygments_lexer": "ipython3",
   "version": "3.10.9"
  },
  "orig_nbformat": 4
 },
 "nbformat": 4,
 "nbformat_minor": 2
}
