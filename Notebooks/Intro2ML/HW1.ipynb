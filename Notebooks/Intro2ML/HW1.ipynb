{
 "cells": [
  {
   "cell_type": "code",
   "execution_count": 6,
   "metadata": {},
   "outputs": [],
   "source": [
    "import pandas as pd\n",
    "import numpy as np\n",
    "import matplotlib.pyplot as plt"
   ]
  },
  {
   "cell_type": "markdown",
   "metadata": {},
   "source": [
    "# **Feasibility of Learning**"
   ]
  },
  {
   "cell_type": "markdown",
   "metadata": {},
   "source": [
    "![](img/HW1-Ex6.png)"
   ]
  },
  {
   "cell_type": "markdown",
   "metadata": {},
   "source": [
    "### **6. Which hypothesis g agrees the most with the possible target functions in terms of the above score?**\n",
    "\n",
    "[a] g returns 1 for all three points.  \n",
    "[b] g returns 0 for all three points.  \n",
    "[c] g is the XOR function applied to x, i.e., if the number of 1s in x is odd, g returns 1; if it is even, g returns 0.  \n",
    "[d] g returns the opposite of the XOR function: if the number of 1s is odd, it returns 0, otherwise returns 1.  \n",
    "[e] They are all equivalent (equal scores for g in [a] through [d]).  "
   ]
  },
  {
   "cell_type": "markdown",
   "metadata": {},
   "source": [
    "x6 = {1, 0, 1}  \n",
    "x7 = {1, 1, 0}  \n",
    "x8 = {1, 1, 1}  \n",
    "\n",
    "h1(x6, x7, x8) = {0, 0, 0}  \n",
    "h2(x6, x7, x8) = {0, 0, 1}  \n",
    "h3(x6, x7, x8) = {0, 1, 0}  \n",
    "h4(x6, x7, x8) = {0, 1, 1}  \n",
    "h5(x6, x7, x8) = {1, 0, 0}  \n",
    "h6(x6, x7, x8) = {1, 0, 1}  \n",
    "h7(x6, x7, x8) = {1, 1, 0}  \n",
    "h8(x6, x7, x8) = {1, 1, 1}  "
   ]
  },
  {
   "cell_type": "markdown",
   "metadata": {},
   "source": [
    "[a] g(x6, x7, x8) = {1, 1, 1} (g ~ h8)"
   ]
  },
  {
   "cell_type": "code",
   "execution_count": 7,
   "metadata": {},
   "outputs": [
    {
     "data": {
      "text/plain": [
       "12"
      ]
     },
     "execution_count": 7,
     "metadata": {},
     "output_type": "execute_result"
    }
   ],
   "source": [
    "threePoints = 1 \n",
    "twoPoints = 3\n",
    "onePoint = 3\n",
    "\n",
    "score = threePoints*3 + twoPoints*2 + onePoint*1\n",
    "score"
   ]
  },
  {
   "cell_type": "markdown",
   "metadata": {},
   "source": [
    "[b] g(x6, x7, x8) = {0, 0, 0}"
   ]
  },
  {
   "cell_type": "code",
   "execution_count": 8,
   "metadata": {},
   "outputs": [
    {
     "data": {
      "text/plain": [
       "12"
      ]
     },
     "execution_count": 8,
     "metadata": {},
     "output_type": "execute_result"
    }
   ],
   "source": [
    "threePoints = 1\n",
    "twoPoints = 3\n",
    "onePoint = 3\n",
    "\n",
    "score = threePoints*3+twoPoints*2+onePoint\n",
    "score"
   ]
  },
  {
   "cell_type": "markdown",
   "metadata": {},
   "source": [
    "[c] g(x6, x7, x8) = XOR(x6, x7, x8) = {0, 0, 1}"
   ]
  },
  {
   "cell_type": "code",
   "execution_count": 9,
   "metadata": {},
   "outputs": [
    {
     "data": {
      "text/plain": [
       "12"
      ]
     },
     "execution_count": 9,
     "metadata": {},
     "output_type": "execute_result"
    }
   ],
   "source": [
    "threePoints = 1\n",
    "twoPoints = 3\n",
    "onePoint = 3\n",
    "\n",
    "score = threePoints*3+twoPoints*2+onePoint\n",
    "score"
   ]
  },
  {
   "cell_type": "markdown",
   "metadata": {},
   "source": [
    "[d] g(x6, x7, x8) = \"!XOR(x6, x7, x8)\" = {1, 1, 0}\n",
    " \n",
    "if the number of 1s is odd, it returns 0, otherwise returns 1."
   ]
  },
  {
   "cell_type": "code",
   "execution_count": 10,
   "metadata": {},
   "outputs": [
    {
     "data": {
      "text/plain": [
       "12"
      ]
     },
     "execution_count": 10,
     "metadata": {},
     "output_type": "execute_result"
    }
   ],
   "source": [
    "threePoints = 1\n",
    "twoPoints = 3\n",
    "onePoint = 3\n",
    "\n",
    "score = threePoints*3+twoPoints*2+onePoint\n",
    "score"
   ]
  },
  {
   "cell_type": "markdown",
   "metadata": {},
   "source": [
    "&rarr; e is the answer. They are all equivalent"
   ]
  },
  {
   "cell_type": "markdown",
   "metadata": {},
   "source": [
    "# **The Perceptron Learning Algorithm**"
   ]
  },
  {
   "cell_type": "code",
   "execution_count": 24,
   "metadata": {},
   "outputs": [],
   "source": [
    "def set_axis_cartesian():\n",
    "    ax = plt.figure().add_subplot(1, 1, 1)\n",
    "    ax.spines['left'].set_position('center')\n",
    "    ax.spines['bottom'].set_position('center')\n",
    "    ax.spines['right'].set_color('none')\n",
    "    ax.spines['top'].set_color('none')\n",
    "    ax.xaxis.set_ticks_position('bottom')\n",
    "    ax.yaxis.set_ticks_position('left')\n",
    "    ax.set_xlim([-1, 1])\n",
    "    ax.set_ylim([-1, 1])"
   ]
  },
  {
   "cell_type": "code",
   "execution_count": 51,
   "metadata": {},
   "outputs": [
    {
     "name": "stdout",
     "output_type": "stream",
     "text": [
      "Random Point 1: [ 0.95531141 -0.79521794]\n",
      "Random Point 2: [-0.19911489 -0.28808868]\n"
     ]
    },
    {
     "data": {
      "image/png": "[encoded data removed]",
      "text/plain": [
       "<Figure size 640x480 with 1 Axes>"
      ]
     },
     "metadata": {},
     "output_type": "display_data"
    }
   ],
   "source": [
    "p1 = np.random.uniform(-1, 1, size=2)\n",
    "p2 = np.random.uniform(-1, 1, size=2)\n",
    "\n",
    "print('Random Point 1:', p1)\n",
    "print('Random Point 2:', p2)\n",
    "\n",
    "set_axis_cartesian()\n",
    "\n",
    "plt.plot(p1[0], p1[1], 'go')\n",
    "plt.plot(p2[0], p2[1], 'mo')\n",
    "\n",
    "a = (p1[1] - p2[1]) / (p1[0] - p2[0])\n",
    "\n",
    "b = p1[1] - a*p1[0]\n",
    "\n",
    "x_axis = np.linspace(-1, 1, 100)\n",
    "y_axis = a*(x_axis) + b\n",
    "plt.plot(x_axis, y_axis, 'r', label='f(x)')\n",
    "\n",
    "plt.title(f'Random Target Function f(x) = {a:.3f}x + {b:.3f}')\n",
    "\n",
    "plt.show()"
   ]
  },
  {
   "cell_type": "code",
   "execution_count": null,
   "metadata": {},
   "outputs": [],
   "source": []
  },
  {
   "cell_type": "markdown",
   "metadata": {},
   "source": [
    "# Ref\n",
    "1. https://github.com/workflow/caltech-machine-learning-homework"
   ]
  }
 ],
 "metadata": {
  "kernelspec": {
   "display_name": "Python 3",
   "language": "python",
   "name": "python3"
  },
  "language_info": {
   "codemirror_mode": {
    "name": "ipython",
    "version": 3
   },
   "file_extension": ".py",
   "mimetype": "text/x-python",
   "name": "python",
   "nbconvert_exporter": "python",
   "pygments_lexer": "ipython3",
   "version": "3.11.5"
  }
 },
 "nbformat": 4,
 "nbformat_minor": 2
}
