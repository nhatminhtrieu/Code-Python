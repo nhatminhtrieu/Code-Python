{
 "cells": [
  {
   "cell_type": "markdown",
   "metadata": {},
   "source": [
    "# Lab03: Logistic Regression.\n",
    "\n",
    "- Student ID: 21127112\n",
    "- Student name: Triệu Nhật Minh"
   ]
  },
  {
   "cell_type": "markdown",
   "metadata": {},
   "source": [
    "**How to do your homework**\n",
    "\n",
    "\n",
    "You will work directly on this notebook; the word TODO indicate the parts you need to do.\n",
    "\n",
    "You can discuss ideas with classmates as well as finding information from the internet, book, etc...; but *this homework must be your*.\n",
    "\n",
    "**How to submit your homework**\n",
    "\n",
    "Before submitting, rerun the notebook (Kernel -> Restart & Run All).\n",
    "\n",
    "Then create a folder named ID (for example, if your ID is 1234567, then name the folder 1234567). Copy file notebook to this folder, compress and submit it on moodle.\n",
    "\n",
    "**Contents:**\n",
    "- Logistic Regression."
   ]
  },
  {
   "cell_type": "markdown",
   "metadata": {},
   "source": [
    "## 1. Feature Extraction"
   ]
  },
  {
   "cell_type": "markdown",
   "metadata": {},
   "source": [
    "### Import Library"
   ]
  },
  {
   "cell_type": "code",
   "execution_count": 1,
   "metadata": {},
   "outputs": [],
   "source": [
    "%matplotlib inline\n",
    "import numpy as np\n",
    "import matplotlib.pyplot as plt\n",
    "from sklearn.model_selection import train_test_split\n",
    "from sklearn.metrics import classification_report"
   ]
  },
  {
   "cell_type": "markdown",
   "metadata": {},
   "source": [
    "### Load data"
   ]
  },
  {
   "cell_type": "code",
   "execution_count": 2,
   "metadata": {},
   "outputs": [],
   "source": [
    "from sklearn.datasets import fetch_openml\n",
    "X, y = fetch_openml('mnist_784', return_X_y=True, parser='auto') # Remove FutureWarning"
   ]
  },
  {
   "cell_type": "code",
   "execution_count": 3,
   "metadata": {},
   "outputs": [
    {
     "name": "stdout",
     "output_type": "stream",
     "text": [
      "(70000, 784)\n",
      "(70000,)\n"
     ]
    }
   ],
   "source": [
    "print(X.shape)\n",
    "print(y.shape)"
   ]
  },
  {
   "cell_type": "markdown",
   "metadata": {},
   "source": [
    "### Extract Features"
   ]
  },
  {
   "cell_type": "markdown",
   "metadata": {},
   "source": [
    "So we basically have 70000 samples with each sample having 784 features - pixels in this case and a label - the digit the image represent.\n",
    "\n",
    "Let’s play around and see if we can extract any features from the pixels that can be more informative. First I’d like to know more about average intensity - that is the average value of a pixel in an image for the different digits"
   ]
  },
  {
   "cell_type": "code",
   "execution_count": 4,
   "metadata": {},
   "outputs": [
    {
     "name": "stdout",
     "output_type": "stream",
     "text": [
      "[44.17740512110972, 19.40680177110834, 38.03420776035736, 36.15420938015313, 30.995999825047253, 32.95015872656682, 35.23486491018746, 29.217987369773084, 38.39790124841145, 31.359408088472527]\n"
     ]
    }
   ],
   "source": [
    "labels=np.unique(y)\n",
    "# print(labels)\n",
    "n_label=np.unique(y).shape[0]\n",
    "l_means=np.zeros(shape=n_label,dtype=float) #array stores average intensity for each label\n",
    "\n",
    "#TODO compute average intensity for each label\n",
    "# the average value of a pixel in an image for the different digits\n",
    "\n",
    "l_means = [np.mean(X[y == label]) for label in labels]\n",
    "\n",
    "print(l_means)"
   ]
  },
  {
   "cell_type": "markdown",
   "metadata": {},
   "source": [
    "Plot the average intensity using matplotlib"
   ]
  },
  {
   "cell_type": "code",
   "execution_count": 5,
   "metadata": {},
   "outputs": [
    {
     "data": {
      "text/plain": [
       "<BarContainer object of 10 artists>"
      ]
     },
     "execution_count": 5,
     "metadata": {},
     "output_type": "execute_result"
    },
    {
     "data": {
      "image/png": "[encoded data removed]",
      "text/plain": [
       "<Figure size 640x480 with 1 Axes>"
      ]
     },
     "metadata": {},
     "output_type": "display_data"
    }
   ],
   "source": [
    "fig = plt.figure()\n",
    "ax = fig.add_axes([0,0,1,1])\n",
    "ax.bar(labels,l_means)"
   ]
  },
  {
   "cell_type": "markdown",
   "metadata": {},
   "source": [
    "As we can see there are some differences in intensity. The digit “1” is the less intense while the digit “0” is the most intense. So this new feature seems to have some predictive value if you wanted to know if say your digit is a “1” or not."
   ]
  },
  {
   "cell_type": "code",
   "execution_count": 6,
   "metadata": {},
   "outputs": [
    {
     "name": "stdout",
     "output_type": "stream",
     "text": [
      "0        35.108418\n",
      "1        39.661990\n",
      "2        24.799745\n",
      "3        21.855867\n",
      "4        29.609694\n",
      "           ...    \n",
      "69995    49.455357\n",
      "69996    43.897959\n",
      "69997    37.284439\n",
      "69998    33.876276\n",
      "69999    53.358418\n",
      "Length: 70000, dtype: float64\n",
      "(70000,)\n"
     ]
    }
   ],
   "source": [
    "#TODO compute average intensity for each data sample\n",
    "intensity = X.sum(axis=1) / X.shape[1]\n",
    "print(intensity)\n",
    "print(intensity.shape)"
   ]
  },
  {
   "cell_type": "markdown",
   "metadata": {},
   "source": [
    "Sometimes people really do not know what are they doing. I am not an exception:"
   ]
  },
  {
   "cell_type": "code",
   "execution_count": 7,
   "metadata": {},
   "outputs": [
    {
     "name": "stdout",
     "output_type": "stream",
     "text": [
      "(70000,)\n"
     ]
    }
   ],
   "source": [
    "X_flip = X.iloc[:, ::-1]\n",
    "symmetry = np.mean((X - X_flip), axis=1)\n",
    "print(symmetry.shape)"
   ]
  },
  {
   "cell_type": "markdown",
   "metadata": {},
   "source": [
    "I called this feature \"symmetry\" (though it's not \"symmetry\" at all). Use visualization method to understand why this feature work."
   ]
  },
  {
   "cell_type": "markdown",
   "metadata": {},
   "source": [
    "Our new trainning data will have 70000 samples and 2 features: intensity, symmetry."
   ]
  },
  {
   "cell_type": "code",
   "execution_count": 8,
   "metadata": {},
   "outputs": [
    {
     "name": "stdout",
     "output_type": "stream",
     "text": [
      "(70000, 2)\n"
     ]
    }
   ],
   "source": [
    "#TODO create X_new by horizontal stack intensity and symmetry\n",
    "X_new = np.column_stack((intensity, symmetry))\n",
    "print(X_new.shape) #it should be (70000,2)"
   ]
  },
  {
   "cell_type": "markdown",
   "metadata": {},
   "source": [
    "## 2. Training "
   ]
  },
  {
   "cell_type": "markdown",
   "metadata": {},
   "source": [
    "Usually logistic regression is a good first choice for classification. In this homework we use logistic regression for classifying digit 1 images and not digit 1 images."
   ]
  },
  {
   "cell_type": "markdown",
   "metadata": {},
   "source": [
    "### Normalize data\n",
    "First normalize data using Z-score normalization\n",
    "- **TODO: Study about Z-score normalization**\n",
    "- **TODO: Why should we normalize data?**"
   ]
  },
  {
   "cell_type": "markdown",
   "metadata": {},
   "source": [
    "#### Z-score normalization\n",
    "\n",
    "Z-score normalization, also known as standardization, is a statistical method used to standardize or rescale data to have a mean of 0 and a standard deviation of 1. The formula for calculating the Z-score of a value is:\n",
    "\n",
    "$$\n",
    "z = \\frac{x - \\mu}{\\sigma}\n",
    "$$\n",
    "\n",
    "where $x$ is a single data value, $\\mu$ is the mean of the population, and $\\sigma$ is the standard deviation of the population.\n",
    "\n",
    "I have learned statistics and found another formula:\n",
    "\n",
    "$$\n",
    "z = \\frac{x - \\bar{x}}{s}\n",
    "$$\n",
    "\n",
    "where $x$ is a single data value, $\\bar{x}$ is the sample mean, and $s$ is the sample standard deviation.\n",
    "\n",
    "#### Why should we normalize data?\n",
    "\n",
    "- The main reason is to avoid bias. If we don't normalize data, the model will be biased towards features with higher magnitude.\n",
    "- Another reason is to speed up the training process. If we don't normalize data, the training process will be slower.\n",
    "- It ensures that the distance calculations are not skewed by the scale of the features. [1]\n",
    "- It also prevents overfitting. [1]"
   ]
  },
  {
   "cell_type": "code",
   "execution_count": 9,
   "metadata": {},
   "outputs": [
    {
     "name": "stdout",
     "output_type": "stream",
     "text": [
      "(70000, 2)\n"
     ]
    }
   ],
   "source": [
    "#TODO: normalize X_new\n",
    "X_new = (X_new - X_new.mean()) / X_new.std()\n",
    "\"\"\"\n",
    "Performing Z-score normalization on the data in X_new\n",
    "\n",
    "X_new - X_new.mean(): This subtracts the mean of X_new from each element in X_new. This centers the data around 0.\n",
    "\n",
    "(X_new - X_new.mean()) / X_new.std(): This divides the result by the standard deviation of X_new. This scales the data so that it has a standard deviation of 1.\n",
    "\"\"\"\n",
    "print(X_new.shape)"
   ]
  },
  {
   "cell_type": "markdown",
   "metadata": {},
   "source": [
    "### Construct  data"
   ]
  },
  {
   "cell_type": "code",
   "execution_count": 10,
   "metadata": {},
   "outputs": [
    {
     "name": "stdout",
     "output_type": "stream",
     "text": [
      "(70000, 3)\n",
      "(70000, 1)\n"
     ]
    }
   ],
   "source": [
    "X_new = np.hstack((np.ones((len(X_new), 1)), X_new)) #stack 1s column as usual\n",
    "y_new=y.astype(int)\n",
    "y_new[y_new != 1] = 0 # digit 1 -> class 1, other digits -> class 0\n",
    "y_new=y_new.values.reshape(-1,1)\n",
    "print(X_new.shape)\n",
    "print(y_new.shape)"
   ]
  },
  {
   "cell_type": "markdown",
   "metadata": {},
   "source": [
    "### Split data "
   ]
  },
  {
   "cell_type": "code",
   "execution_count": 11,
   "metadata": {},
   "outputs": [
    {
     "name": "stdout",
     "output_type": "stream",
     "text": [
      "(46667, 3)\n",
      "(46667, 1)\n"
     ]
    }
   ],
   "source": [
    "train_X, test_X, train_y, test_y = train_test_split(X_new, y_new, test_size= int(1/3*X.shape[0]))\n",
    "print(train_X.shape)\n",
    "print(train_y.shape)"
   ]
  },
  {
   "cell_type": "markdown",
   "metadata": {},
   "source": [
    "### Sigmoid function and derivative of the sigmoid function"
   ]
  },
  {
   "cell_type": "code",
   "execution_count": 12,
   "metadata": {},
   "outputs": [],
   "source": [
    "def sigmoid_activation(x):\n",
    "    \"\"\"compute the sigmoid activation value for a given input\"\"\"\n",
    "    return 1.0 / (1 + np.exp(-x))\n",
    "def sigmoid_deriv(x):\n",
    "    '''compute the derivative of the sigmoid function ASSUMING\n",
    "    that the input ‘x‘ has already been passed through the sigmoid\n",
    "    activation function'''\n",
    "    return x * (1 - x)"
   ]
  },
  {
   "cell_type": "markdown",
   "metadata": {},
   "source": [
    "### Compute output"
   ]
  },
  {
   "cell_type": "code",
   "execution_count": 13,
   "metadata": {},
   "outputs": [],
   "source": [
    "def compute_h(W, X):\n",
    "    \"\"\"\n",
    "    Compute output: Take the dot product between our features ‘X‘ and the weight\n",
    "    matrix ‘W‘, then pass this value through our sigmoid activation function \n",
    "    \"\"\"\n",
    "    return sigmoid_activation(X.dot(W))\n",
    "def predict(W, X):\n",
    " \n",
    "    '''Take the dot product between our features and weight matrix, \n",
    "       then pass this value through our sigmoid activation'''\n",
    "    #........\n",
    "    preds=sigmoid_activation(X.dot(W))\n",
    "    # apply a step function to threshold the outputs to binary\n",
    "    # class labels\n",
    "    preds[preds <= 0.5] = 0\n",
    "    preds[preds > 0] = 1\n",
    "\n",
    "    return preds"
   ]
  },
  {
   "cell_type": "markdown",
   "metadata": {},
   "source": [
    "### Compute gradient"
   ]
  },
  {
   "cell_type": "markdown",
   "metadata": {},
   "source": [
    "**Loss Function: Average negative log likelihood**\n",
    "$$\\mathcal{L}=\\dfrac{1}{N} \\sum_{i=1}^{N} -\\left(y^{i}\\ln h_{\\mathbf{w}}\\left(\\mathbf{x}^{i}\\right)+\\left(1-y^{i}\\right)\\ln \\left(1-h_{\\mathbf{w}}\\left(x^{i}\\right)\\right)\\right) $$\n",
    "\n",
    "\n",
    "$$\\text{Sigmoid Activation: } z= \\sigma \\left(h\\right)= \\dfrac{1}{1+e^{-h}}$$\n",
    "\n",
    "$$\\text{Cross-entropy: } J(w)=-\\left({ylog(z)+(1-y)log(1-z)}\\right)$$\n",
    "\n",
    "$$\\text{Chain rule: } \\dfrac{\\partial J(w)}{\\partial w}=\\dfrac{\\partial J(w)}{\\partial z} \\dfrac{\\partial z}{\\partial h}\\dfrac{\\partial h}{\\partial w}  $$\n",
    "\n",
    "$$\\dfrac{\\partial J(w)}{\\partial z}=-\\left(\\dfrac{y}{z}-\\dfrac{1-y}{1-z}\\right)=\\dfrac{z-y}{z(1-z)}$$\n",
    "\n",
    "$$\\dfrac{\\partial z}{\\partial h}=z(1-z)$$\n",
    "\n",
    "$$\\dfrac{\\partial h}{\\partial w}=X$$\n",
    "\n",
    "$$\\dfrac{\\partial J(w)}{\\partial w}=X^T(z-y)$$"
   ]
  },
  {
   "cell_type": "code",
   "execution_count": 14,
   "metadata": {},
   "outputs": [],
   "source": [
    "def compute_gradient(train_X, error):\n",
    "    \"\"\"\n",
    "    This is the gradient descent update of \"average negative loglikelihood\" loss function. \n",
    "    In lab02 our loss function is \"sum squared error\".\n",
    "    \"\"\"\n",
    "    #TODO\n",
    "    \n",
    "    gradient = train_X.T.dot(error) / train_X.shape[0]\n",
    "    \n",
    "    return gradient"
   ]
  },
  {
   "cell_type": "code",
   "execution_count": 15,
   "metadata": {},
   "outputs": [],
   "source": [
    "def train(W,train_X, train_y, learning_rate, num_epochs, losses):\n",
    "    for epoch in np.arange(0, num_epochs):\n",
    "        h=compute_h(W,train_X)\n",
    "        error = h - train_y\n",
    "        loss = np.mean(- train_y * np.log(h) - (1 - train_y) * np.log(1 - h))\n",
    "        losses.append(loss)\n",
    "        gradient=compute_gradient(h, error)\n",
    "        W += -learning_rate * gradient\n",
    "        if ((epoch+1)%1000==0): print ('Epoch %d, loss %.3f' %(epoch+1, loss))\n",
    "        \n",
    "    return W"
   ]
  },
  {
   "cell_type": "markdown",
   "metadata": {},
   "source": [
    "### Train our model"
   ]
  },
  {
   "cell_type": "code",
   "execution_count": 16,
   "metadata": {
    "scrolled": false
   },
   "outputs": [
    {
     "name": "stdout",
     "output_type": "stream",
     "text": [
      "Epoch 1000, loss 0.360\n",
      "Epoch 2000, loss 0.300\n",
      "Epoch 3000, loss 0.272\n",
      "Epoch 4000, loss 0.256\n",
      "Epoch 5000, loss 0.246\n",
      "Epoch 6000, loss 0.238\n",
      "Epoch 7000, loss 0.233\n",
      "Epoch 8000, loss 0.229\n",
      "Epoch 9000, loss 0.225\n",
      "Epoch 10000, loss 0.223\n",
      "Epoch 11000, loss 0.221\n",
      "Epoch 12000, loss 0.219\n",
      "Epoch 13000, loss 0.217\n",
      "Epoch 14000, loss 0.216\n",
      "Epoch 15000, loss 0.215\n",
      "Epoch 16000, loss 0.214\n",
      "Epoch 17000, loss 0.213\n",
      "Epoch 18000, loss 0.213\n",
      "Epoch 19000, loss 0.212\n",
      "Epoch 20000, loss 0.211\n",
      "Epoch 21000, loss 0.211\n",
      "Epoch 22000, loss 0.211\n",
      "Epoch 23000, loss 0.210\n",
      "Epoch 24000, loss 0.210\n",
      "Epoch 25000, loss 0.210\n",
      "Epoch 26000, loss 0.209\n",
      "Epoch 27000, loss 0.209\n",
      "Epoch 28000, loss 0.209\n",
      "Epoch 29000, loss 0.209\n",
      "Epoch 30000, loss 0.208\n",
      "Epoch 31000, loss 0.208\n",
      "Epoch 32000, loss 0.208\n",
      "Epoch 33000, loss 0.208\n",
      "Epoch 34000, loss 0.208\n",
      "Epoch 35000, loss 0.208\n",
      "Epoch 36000, loss 0.208\n",
      "Epoch 37000, loss 0.207\n",
      "Epoch 38000, loss 0.207\n",
      "Epoch 39000, loss 0.207\n",
      "Epoch 40000, loss 0.207\n",
      "==================================================\n",
      "Train err of final w:  8.121370561638845\n"
     ]
    }
   ],
   "source": [
    "W = np.random.randn(train_X.shape[1], 1)\n",
    "losses=[]\n",
    "num_epochs=40000\n",
    "learning_rate=0.01\n",
    "W=train(W,train_X, train_y, learning_rate, num_epochs , losses)\n",
    "x_preds=predict(W ,train_X)\n",
    "train_err = np.mean(x_preds != train_y) * 100\n",
    "print ('=' * 50)\n",
    "print ('Train err of final w: ', train_err)"
   ]
  },
  {
   "cell_type": "markdown",
   "metadata": {},
   "source": [
    "## 3. Evaluate our model"
   ]
  },
  {
   "cell_type": "code",
   "execution_count": 17,
   "metadata": {},
   "outputs": [
    {
     "name": "stdout",
     "output_type": "stream",
     "text": [
      "              precision    recall  f1-score   support\n",
      "\n",
      "           0       0.93      0.98      0.96     41366\n",
      "           1       0.72      0.47      0.57      5301\n",
      "\n",
      "    accuracy                           0.92     46667\n",
      "   macro avg       0.83      0.72      0.76     46667\n",
      "weighted avg       0.91      0.92      0.91     46667\n",
      "\n"
     ]
    }
   ],
   "source": [
    "preds = predict(W, train_X)\n",
    "print(classification_report(train_y, preds, zero_division=1)) # Remove UndefinedMetricWarning: Precision and F-score are ill-defined and being set to 0.0 in labels with no predicted samples. Use `zero_division` parameter to control this behavior. _warn_prf(average, modifier, msg_start, len(result))"
   ]
  },
  {
   "cell_type": "code",
   "execution_count": 18,
   "metadata": {},
   "outputs": [
    {
     "name": "stdout",
     "output_type": "stream",
     "text": [
      "              precision    recall  f1-score   support\n",
      "\n",
      "           0       0.94      0.97      0.96     20757\n",
      "           1       0.70      0.47      0.56      2576\n",
      "\n",
      "    accuracy                           0.92     23333\n",
      "   macro avg       0.82      0.72      0.76     23333\n",
      "weighted avg       0.91      0.92      0.91     23333\n",
      "\n"
     ]
    }
   ],
   "source": [
    "preds = predict(W, test_X)\n",
    "print(classification_report(test_y, preds, zero_division=1)) # Remove UndefinedMetricWarning: Precision and F-score are ill-defined and being set to 0.0 in labels with no predicted samples. Use `zero_division` parameter to control this behavior. _warn_prf(average, modifier, msg_start, len(result))"
   ]
  },
  {
   "cell_type": "markdown",
   "metadata": {},
   "source": [
    "**TODO: Comment on the result**"
   ]
  },
  {
   "cell_type": "code",
   "execution_count": 19,
   "metadata": {},
   "outputs": [
    {
     "data": {
      "text/plain": [
       "Text(0.5, 1.0, 'Training Loss')"
      ]
     },
     "execution_count": 19,
     "metadata": {},
     "output_type": "execute_result"
    },
    {
     "data": {
      "image/png": "[encoded data removed]",
      "text/plain": [
       "<Figure size 640x480 with 1 Axes>"
      ]
     },
     "metadata": {},
     "output_type": "display_data"
    }
   ],
   "source": [
    "plt.plot(np.arange(0, num_epochs), losses)\n",
    "plt.title('Training Loss')"
   ]
  },
  {
   "cell_type": "markdown",
   "metadata": {},
   "source": [
    "The logistic regression model's loss appears to have **stabilized** at around **0.358** after 40,000 epochs. This implies that the gradient descent algorithm used by the model has reached a point of minimal change, indicating little further reduction in loss.\n",
    "\n",
    "- **Convergence**: From the 22.000nd epoch onwards, the loss values are nearly identical, indicating a state of stabilization.\n",
    "- **Training Error**: The final training error is **8.1214**, which is quite high. This could mean that there's room for model improvement, potentially through hyperparameter tuning or employing a more sophisticated model."
   ]
  },
  {
   "cell_type": "markdown",
   "metadata": {},
   "source": [
    "**First Report:**\n",
    "\n",
    "Class 0:\n",
    "- Precision: 0.93\n",
    "- Recall: 0.98\n",
    "- F1-Score: 0.96\n",
    "- Support: 41366\n",
    "\n",
    "Class 1:\n",
    "- Precision: 0.72\n",
    "- Recall: 0.47\n",
    "- F1-Score: 0.57\n",
    "- Support: 5301\n",
    "\n",
    "Overall:\n",
    "- Accuracy: 0.92\n",
    "- Macro Avg: 0.83\n",
    "- Weighted Avg: 0.91\n",
    "\n",
    "**Second Report:**\n",
    "\n",
    "Class 0:\n",
    "- Precision: 0.94\n",
    "- Recall: 0.97\n",
    "- F1-Score: 0.96\n",
    "- Support: 20757\n",
    "\n",
    "Class 1:\n",
    "- Precision: 0.70\n",
    "- Recall: 0.47\n",
    "- F1-Score: 0.56\n",
    "- Support: 2576\n",
    "\n",
    "Overall:\n",
    "- Accuracy: 0.92\n",
    "- Macro Avg: 0.82\n",
    "- Weighted Avg: 0.91\n",
    "\n",
    "The model's performance seems to be consistent across different datasets, as evidenced by similar precision, recall, f1-score, and accuracy values. However, there are several points that need to be addressed:\n",
    "\n",
    "1. **Class Imbalance:** Both reports show a significant imbalance in class representation, with Class 0 having much more support than Class 1. This could be affecting the model's ability to accurately classify instances of Class 1.\n",
    "\n",
    "2. **Performance on Class 1:** The model's performance on Class 1 is noticeably lower than on Class 0, as shown by the lower precision, recall, and f1-score. This suggests that the model may be struggling to correctly predict Class 1, possibly due to the class imbalance.\n",
    "\n",
    "3. **Overall Performance:** The overall accuracy, macro average, and weighted average are the same for both reports, suggesting a consistent overall performance of the model. However, these metrics can be misleading in cases of class imbalance, so it's important to also consider the precision, recall, and f1-score for each individual class.\n",
    "\n",
    "In conclusion, while the model's performance is stable, there is room for improvement, particularly in predicting Class 1. Potential solutions could include collecting more data for Class 1, using oversampling or undersampling techniques to address the class imbalance, or experimenting with different models or feature sets."
   ]
  },
  {
   "cell_type": "markdown",
   "metadata": {},
   "source": [
    "## References\n",
    "\n",
    "[1] [Data Normalization Machine Learning, Geeksforgeeks](https://www.geeksforgeeks.org/what-is-data-normalization/)\n",
    "\n",
    "[2] [Intro2ML, Cy30mk3v - GitHub](https://github.com/Cy30mk3v/Intro2ML/blob/master/Lab03-LogisticRegression.ipynb)"
   ]
  }
 ],
 "metadata": {
  "kernelspec": {
   "display_name": "Python 3 (ipykernel)",
   "language": "python",
   "name": "python3"
  },
  "language_info": {
   "codemirror_mode": {
    "name": "ipython",
    "version": 3
   },
   "file_extension": ".py",
   "mimetype": "text/x-python",
   "name": "python",
   "nbconvert_exporter": "python",
   "pygments_lexer": "ipython3",
   "version": "3.11.5"
  }
 },
 "nbformat": 4,
 "nbformat_minor": 4
}
