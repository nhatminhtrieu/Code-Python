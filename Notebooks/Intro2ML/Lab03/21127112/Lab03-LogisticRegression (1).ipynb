{
 "cells": [
  {
   "cell_type": "markdown",
   "metadata": {},
   "source": [
    "# Lab03: Logistic Regression.\n",
    "\n",
    "- Student ID: Huỳnh Sỉ Kha\n",
    "- Student name: 21127734"
   ]
  },
  {
   "cell_type": "markdown",
   "metadata": {},
   "source": [
    "**How to do your homework**\n",
    "\n",
    "\n",
    "You will work directly on this notebook; the word `TODO` indicate the parts you need to do.\n",
    "\n",
    "You can discuss ideas with classmates as well as finding information from the internet, book, etc...; but *this homework must be your*.\n",
    "\n",
    "**How to submit your homework**\n",
    "\n",
    "Before submitting, rerun the notebook (`Kernel` ->` Restart & Run All`).\n",
    "\n",
    "Then create a folder named `ID` (for example, if your ID is 1234567, then name the folder `1234567`). Copy file notebook to this folder, compress and submit it on moodle.\n",
    "\n",
    "**Contents:**\n",
    "- Logistic Regression."
   ]
  },
  {
   "cell_type": "markdown",
   "metadata": {},
   "source": [
    "## 1. Feature Extraction"
   ]
  },
  {
   "cell_type": "markdown",
   "metadata": {},
   "source": [
    "### Import Library"
   ]
  },
  {
   "cell_type": "code",
   "execution_count": 1,
   "metadata": {},
   "outputs": [],
   "source": [
    "%matplotlib inline\n",
    "import numpy as np\n",
    "import matplotlib.pyplot as plt\n",
    "from sklearn.model_selection import train_test_split\n",
    "from sklearn.metrics import classification_report "
   ]
  },
  {
   "cell_type": "markdown",
   "metadata": {},
   "source": [
    "### Load data"
   ]
  },
  {
   "cell_type": "code",
   "execution_count": 2,
   "metadata": {},
   "outputs": [],
   "source": [
    "from sklearn.datasets import fetch_openml\n",
    "X, y = fetch_openml('mnist_784', return_X_y=True, parser='auto')"
   ]
  },
  {
   "cell_type": "code",
   "execution_count": 3,
   "metadata": {},
   "outputs": [
    {
     "name": "stdout",
     "output_type": "stream",
     "text": [
      "(70000, 784)\n",
      "(70000,)\n"
     ]
    }
   ],
   "source": [
    "print(X.shape)\n",
    "print(y.shape)"
   ]
  },
  {
   "cell_type": "markdown",
   "metadata": {},
   "source": [
    "### Extract Features"
   ]
  },
  {
   "cell_type": "markdown",
   "metadata": {},
   "source": [
    "So we basically have 70000 samples with each sample having 784 features - pixels in this case and a label - the digit the image represent.\n",
    "\n",
    "Let’s play around and see if we can extract any features from the pixels that can be more informative. First I’d like to know more about average intensity - that is the average value of a pixel in an image for the different digits"
   ]
  },
  {
   "cell_type": "code",
   "execution_count": 4,
   "metadata": {},
   "outputs": [
    {
     "name": "stdout",
     "output_type": "stream",
     "text": [
      "[44.17740512 19.40680177 38.03420776 36.15420938 30.99599983 32.95015873\n",
      " 35.23486491 29.21798737 38.39790125 31.35940809]\n"
     ]
    }
   ],
   "source": [
    "labels=np.unique(y)\n",
    "# print(labels)\n",
    "n_label=np.unique(y).shape[0]\n",
    "l_means=np.zeros(shape=n_label,dtype=float) # array stores average intensity for each label\n",
    "\n",
    "#TODO compute average intensity for each label\n",
    "for i in range(n_label):\n",
    "    l_means[i]=np.mean(X[y==labels[i]])\n",
    "\n",
    "print(l_means)"
   ]
  },
  {
   "cell_type": "markdown",
   "metadata": {},
   "source": [
    "Plot the average intensity using matplotlib"
   ]
  },
  {
   "cell_type": "code",
   "execution_count": 5,
   "metadata": {},
   "outputs": [
    {
     "data": {
      "text/plain": [
       "<BarContainer object of 10 artists>"
      ]
     },
     "execution_count": 5,
     "metadata": {},
     "output_type": "execute_result"
    },
    {
     "data": {
      "image/png": "[encoded data removed]",
      "text/plain": [
       "<Figure size 640x480 with 1 Axes>"
      ]
     },
     "metadata": {},
     "output_type": "display_data"
    }
   ],
   "source": [
    "fig = plt.figure()\n",
    "ax = fig.add_axes([0,0,1,1])\n",
    "ax.bar(labels,l_means)"
   ]
  },
  {
   "cell_type": "markdown",
   "metadata": {},
   "source": [
    "As we can see there are some differences in intensity. The digit “1” is the less intense while the digit “0” is the most intense. So this new feature seems to have some predictive value if you wanted to know if say your digit is a “1” or not."
   ]
  },
  {
   "cell_type": "code",
   "execution_count": 6,
   "metadata": {},
   "outputs": [
    {
     "name": "stdout",
     "output_type": "stream",
     "text": [
      "(70000,)\n"
     ]
    }
   ],
   "source": [
    "#TODO compute average intensity for each data sample\n",
    "# intensity=?\n",
    "intensity=np.mean(X,axis=1)\n",
    "\n",
    "print(intensity.shape)"
   ]
  },
  {
   "cell_type": "markdown",
   "metadata": {},
   "source": [
    "Sometimes people really do not know what are they doing. I am not an exception:"
   ]
  },
  {
   "cell_type": "code",
   "execution_count": 7,
   "metadata": {},
   "outputs": [
    {
     "name": "stdout",
     "output_type": "stream",
     "text": [
      "(70000,)\n"
     ]
    }
   ],
   "source": [
    "X = X.values\n",
    "X_flip=np.flip(X, axis=1)\n",
    "symmetry= np.mean(np.abs(X-X_flip),axis=1)\n",
    "print(symmetry.shape)\n"
   ]
  },
  {
   "cell_type": "markdown",
   "metadata": {},
   "source": [
    "I called this feature \"symmetry\" (though it's not \"symmetry\" at all). Use visualization method to understand why this thing works."
   ]
  },
  {
   "cell_type": "markdown",
   "metadata": {},
   "source": [
    "Our new trainning data will have 70000 samples and 2 features: intensity, symmetry."
   ]
  },
  {
   "cell_type": "code",
   "execution_count": 8,
   "metadata": {},
   "outputs": [
    {
     "name": "stdout",
     "output_type": "stream",
     "text": [
      "(70000, 2)\n"
     ]
    }
   ],
   "source": [
    "# TODO create X_new by horizontal stack intensity and symmetry\n",
    "X_new = np.column_stack((intensity, symmetry))\n",
    "\n",
    "print(X_new.shape)  # it should be (70000,2)"
   ]
  },
  {
   "cell_type": "markdown",
   "metadata": {},
   "source": [
    "## 2. Training "
   ]
  },
  {
   "cell_type": "markdown",
   "metadata": {},
   "source": [
    "Usually logistic regression is a good first choice for classification. In this homework we use logistic regression for classifying digit 1 images and not digit 1 images."
   ]
  },
  {
   "cell_type": "markdown",
   "metadata": {},
   "source": [
    "### Normalize data\n",
    "First normalize data using Z-score normalization\n",
    "- **TODO: Study about Z-score normalization**\n",
    "\n",
    "#### Concept:\n",
    "\n",
    "- **Formula**: The Z-score of a value is calculated using the formula: \n",
    "  $$ Z = \\frac{(X - \\mu)}{\\sigma} $$\n",
    "  - $ X $ is the value to be normalized \n",
    "  - $ \\mu $ is the mean of the dataset\n",
    "  - $ \\sigma $ is the standard deviation of the dataset.\n",
    "\n",
    "#### Significance:\n",
    "- Mean and standard deviation: After normalization, the data will have a mean (average) of 0 and a standard deviation of 1.\n",
    "- Comparing and combining data: This technique helps to bring features with different ranges of values to a common scale, making it more objective and effective to compare and combine them in machine learning models.\n",
    "\n",
    "#### Applications:\n",
    "\n",
    "- In machine learning: Z-score normalization is commonly used in machine learning algorithms, especially those sensitive to the scale of data, such as K-means clustering or deep learning models.\n",
    "- Data preprocessing before model training: Normalizing data can speed up the convergence of machine learning algorithms and improve model performance.\n",
    "\n",
    "- **TODO: Why should we normalize data?**\n",
    "\n",
    "1. Equalizes feature scales: Normalization ensures that each feature contributes equally to the analysis by bringing different scales to a uniform level.\n",
    "\n",
    "2. Boosts gradient descent efficiency: In algorithms using gradient descent, normalization speeds up convergence by transforming the optimization landscape into a more symmetric shape.\n",
    "\n",
    "3. Mitigates outlier influence: By scaling data to a smaller range, the excessive impact of outliers is reduced.\n",
    "\n",
    "4. Improves algorithm performance: Algorithms like K-Nearest Neighbors and K-Means, which rely on distance calculations, perform better when all features are normalized.\n",
    "\n",
    "5. Stabilizes neural network training: Normalization helps meet neural network input expectations, aiding in better training performance and stability.\n",
    "\n",
    "6. Prevents numerical instabilities: Normalizing can help avoid issues related to how computers handle floating-point numbers, especially in high-dimensional data.\n",
    "\n",
    "7. Aligns with model assumptions: Certain algorithms assume normally distributed features; normalization helps approximate these conditions.\n"
   ]
  },
  {
   "cell_type": "code",
   "execution_count": 9,
   "metadata": {},
   "outputs": [],
   "source": [
    "#TODO: normalize X_new\n",
    "\n",
    "X_new = (X_new - np.mean(X_new, axis=0)) / np.std(X_new, axis=0)"
   ]
  },
  {
   "cell_type": "markdown",
   "metadata": {},
   "source": [
    "### Construct  data"
   ]
  },
  {
   "cell_type": "code",
   "execution_count": 10,
   "metadata": {},
   "outputs": [],
   "source": [
    "X_new = np.hstack((np.ones((len(X_new), 1)), X_new)) #stack 1s column as usual\n",
    "y_new=y.astype(int)\n",
    "y_new[y_new != 1] = 0 # digit 1 -> class 1, other digits -> class 0\n",
    "# Convert y_new to a 2D array with one column (Numpy)\n",
    "y_new = y_new.to_numpy()\n",
    "y_new=y_new.reshape(-1,1)"
   ]
  },
  {
   "cell_type": "markdown",
   "metadata": {},
   "source": [
    "### Split data "
   ]
  },
  {
   "cell_type": "code",
   "execution_count": 11,
   "metadata": {},
   "outputs": [
    {
     "name": "stdout",
     "output_type": "stream",
     "text": [
      "(46667, 3)\n",
      "(46667, 1)\n"
     ]
    }
   ],
   "source": [
    "train_X, test_X, train_y, test_y = train_test_split(X_new, y_new, test_size= int(1/3*X.shape[0]))\n",
    "print(train_X.shape)\n",
    "print(train_y.shape)"
   ]
  },
  {
   "cell_type": "markdown",
   "metadata": {},
   "source": [
    "### Sigmoid function and derivative of the sigmoid function"
   ]
  },
  {
   "cell_type": "code",
   "execution_count": 12,
   "metadata": {},
   "outputs": [],
   "source": [
    "def sigmoid_activation(x):\n",
    "    \"\"\"compute the sigmoid activation value for a given input\"\"\"\n",
    "    # Clip the input values to a specific range to prevent overflow\n",
    "    clipped_x = np.clip(x, -500, 500)\n",
    "    \n",
    "    # Compute the sigmoid using the clipped input (clipped_x)\n",
    "    return 1.0 / (1 + np.exp(-clipped_x))\n",
    "\n",
    "def sigmoid_deriv(x):\n",
    "    '''compute the derivative of the sigmoid function ASSUMING\n",
    "    that the input ‘x‘ has already been passed through the sigmoid\n",
    "    activation function'''\n",
    "    return x * (1 - x)"
   ]
  },
  {
   "cell_type": "markdown",
   "metadata": {},
   "source": [
    "### Compute output"
   ]
  },
  {
   "cell_type": "code",
   "execution_count": 13,
   "metadata": {},
   "outputs": [],
   "source": [
    "def compute_h(W, X):\n",
    "    \"\"\"\n",
    "    Compute output: Take the dot product between our features ‘X‘ and the weight\n",
    "    matrix ‘W‘, then pass this value through our sigmoid activation function \n",
    "    \"\"\"\n",
    "    return sigmoid_activation(X.dot(W))\n",
    "def predict(W, X):\n",
    " \n",
    "    '''Take the dot product between our features and weight matrix, \n",
    "       then pass this value through our sigmoid activation'''\n",
    "    #........\n",
    "    preds=sigmoid_activation(X.dot(W))\n",
    "    # apply a step function to threshold the outputs to binary\n",
    "    # class labels\n",
    "    preds[preds <= 0.5] = 0\n",
    "    preds[preds > 0.5] = 1\n",
    "\n",
    "    return preds"
   ]
  },
  {
   "cell_type": "markdown",
   "metadata": {},
   "source": [
    "### Compute gradient"
   ]
  },
  {
   "cell_type": "markdown",
   "metadata": {},
   "source": [
    "**Loss Function: Average negative log likelihood**\n",
    "$$\\mathcal{L}=\\dfrac{1}{N} \\sum_{i=1}^{N} -\\left(y^{i}\\ln h_{\\mathbf{w}}\\left(\\mathbf{x}^{i}\\right)+\\left(1-y^{i}\\right)\\ln \\left(1-h_{\\mathbf{w}}\\left(x^{i}\\right)\\right)\\right) $$\n",
    "\n",
    "\n",
    "$$\\text{Sigmoid Activation: } z= \\sigma \\left(h\\right)= \\dfrac{1}{1+e^{-h}}$$\n",
    "\n",
    "$$\\text{Cross-entropy: } J(w)=-\\left({ylog(z)+(1-y)log(1-z)}\\right)$$\n",
    "\n",
    "$$\\text{Chain rule: } \\dfrac{\\partial J(w)}{\\partial w}=\\dfrac{\\partial J(w)}{\\partial z} \\dfrac{\\partial z}{\\partial h}\\dfrac{\\partial h}{\\partial w}  $$\n",
    "\n",
    "$$\\dfrac{\\partial J(w)}{\\partial z}=-\\left(\\dfrac{y}{z}-\\dfrac{1-y}{1-z}\\right)=\\dfrac{z-y}{z(1-z)}$$\n",
    "\n",
    "$$\\dfrac{\\partial z}{\\partial h}=z(1-z)$$\n",
    "\n",
    "$$\\dfrac{\\partial h}{\\partial w}=X$$\n",
    "\n",
    "$$\\dfrac{\\partial J(w)}{\\partial w}=X^T(z-y)$$"
   ]
  },
  {
   "cell_type": "code",
   "execution_count": 14,
   "metadata": {},
   "outputs": [],
   "source": [
    "def compute_gradient(X, error):\n",
    "    \"\"\"\n",
    "    This is the gradient descent update of \"average negative loglikelihood\" loss function. \n",
    "    In lab02 our loss function is \"sum squared error\".\n",
    "    \"\"\"\n",
    "    #TODO\n",
    "    gradient = X.T.dot(error)\n",
    "    return gradient"
   ]
  },
  {
   "cell_type": "code",
   "execution_count": 15,
   "metadata": {},
   "outputs": [],
   "source": [
    "# Prevent divide by zero\n",
    "def safe_log(x):\n",
    "    return np.log(np.clip(x, 1e-10, 1 - 1e-10))\n",
    "\n",
    "def train(W,train_X, train_y, learning_rate, num_epochs, losses):\n",
    "    for epoch in np.arange(0, num_epochs):\n",
    "        h=compute_h(W,train_X)\n",
    "        error = h - train_y\n",
    "        # loss = np.mean(- train_y * np.log(h) - (1 - train_y) * np.log(1 - h))\n",
    "        loss = np.mean(- train_y * safe_log(h) - (1 - train_y) * safe_log(1 - h))\n",
    "        losses.append(loss)\n",
    "        gradient=compute_gradient(train_X, error)\n",
    "        W += -learning_rate * gradient\n",
    "        if ((epoch+1)%1000==0): print ('Epoch %d, loss %.3f' %(epoch+1, loss))\n",
    "        \n",
    "    return W"
   ]
  },
  {
   "cell_type": "markdown",
   "metadata": {},
   "source": [
    "### Train our model"
   ]
  },
  {
   "cell_type": "code",
   "execution_count": 16,
   "metadata": {
    "scrolled": false
   },
   "outputs": [
    {
     "name": "stdout",
     "output_type": "stream",
     "text": [
      "Epoch 1000, loss 1.312\n",
      "Epoch 2000, loss 1.312\n",
      "Epoch 3000, loss 1.312\n",
      "Epoch 4000, loss 1.312\n",
      "Epoch 5000, loss 1.312\n",
      "Epoch 6000, loss 1.312\n",
      "Epoch 7000, loss 1.312\n",
      "Epoch 8000, loss 1.312\n",
      "Epoch 9000, loss 1.312\n",
      "Epoch 10000, loss 1.312\n",
      "Epoch 11000, loss 1.312\n",
      "Epoch 12000, loss 1.312\n",
      "Epoch 13000, loss 1.312\n",
      "Epoch 14000, loss 1.312\n",
      "Epoch 15000, loss 1.312\n",
      "Epoch 16000, loss 1.312\n",
      "Epoch 17000, loss 1.312\n",
      "Epoch 18000, loss 1.312\n",
      "Epoch 19000, loss 1.312\n",
      "Epoch 20000, loss 1.312\n",
      "Epoch 21000, loss 1.312\n",
      "Epoch 22000, loss 1.312\n",
      "Epoch 23000, loss 1.312\n",
      "Epoch 24000, loss 1.312\n",
      "Epoch 25000, loss 1.312\n",
      "Epoch 26000, loss 1.312\n",
      "Epoch 27000, loss 1.312\n",
      "Epoch 28000, loss 1.312\n",
      "Epoch 29000, loss 1.312\n",
      "Epoch 30000, loss 1.312\n",
      "Epoch 31000, loss 1.312\n",
      "Epoch 32000, loss 1.312\n",
      "Epoch 33000, loss 1.312\n",
      "Epoch 34000, loss 1.312\n",
      "Epoch 35000, loss 1.312\n",
      "Epoch 36000, loss 1.312\n",
      "Epoch 37000, loss 1.312\n",
      "Epoch 38000, loss 1.312\n",
      "Epoch 39000, loss 1.312\n",
      "Epoch 40000, loss 1.312\n",
      "==================================================\n",
      "Train err of final w:  8.018514153470333\n"
     ]
    }
   ],
   "source": [
    "W = np.random.randn(train_X.shape[1], 1)\n",
    "losses=[]\n",
    "num_epochs=40000\n",
    "learning_rate=0.01\n",
    "W=train(W,train_X, train_y, learning_rate, num_epochs , losses)\n",
    "x_preds=predict(W ,train_X)\n",
    "train_err = np.mean(x_preds != train_y) * 100\n",
    "print ('=' * 50)\n",
    "print ('Train err of final w: ', train_err)"
   ]
  },
  {
   "cell_type": "markdown",
   "metadata": {},
   "source": [
    "## 3. Evaluate our model"
   ]
  },
  {
   "cell_type": "code",
   "execution_count": 17,
   "metadata": {},
   "outputs": [
    {
     "name": "stdout",
     "output_type": "stream",
     "text": [
      "              precision    recall  f1-score   support\n",
      "\n",
      "           0       0.99      0.92      0.95     41413\n",
      "           1       0.59      0.92      0.72      5254\n",
      "\n",
      "    accuracy                           0.92     46667\n",
      "   macro avg       0.79      0.92      0.84     46667\n",
      "weighted avg       0.94      0.92      0.93     46667\n",
      "\n"
     ]
    }
   ],
   "source": [
    "preds = predict(W, train_X)\n",
    "print(classification_report(train_y, preds))"
   ]
  },
  {
   "cell_type": "code",
   "execution_count": 18,
   "metadata": {},
   "outputs": [
    {
     "name": "stdout",
     "output_type": "stream",
     "text": [
      "              precision    recall  f1-score   support\n",
      "\n",
      "           0       0.99      0.92      0.95     20710\n",
      "           1       0.59      0.93      0.72      2623\n",
      "\n",
      "    accuracy                           0.92     23333\n",
      "   macro avg       0.79      0.92      0.84     23333\n",
      "weighted avg       0.95      0.92      0.93     23333\n",
      "\n"
     ]
    }
   ],
   "source": [
    "preds = predict(W, test_X)\n",
    "print(classification_report(test_y, preds))"
   ]
  },
  {
   "cell_type": "markdown",
   "metadata": {},
   "source": [
    "**TODO: Comment on the result**"
   ]
  },
  {
   "cell_type": "markdown",
   "metadata": {},
   "source": [
    "### Conclusions:\n",
    "\n",
    "1. **High Precision for Class 0**: \n",
    "   - Precision for class 0 is high (0.97), indicating that when the model predicts a sample as class 0, it is very likely to be correct. However, this needs to be balanced against other metrics.\n",
    "2. **Lower Recall for Class 0**: \n",
    "   - The recall for class 0 is relatively lower (0.77), implying that the model misses about 23% of actual class 0 instances. \n",
    "3. **Low Precision but High Recall for Class 1**: \n",
    "   - For class 1, the precision is low (around 0.31-0.32), meaning that many of the instances predicted as class 1 are false positives. However, the recall is high (0.82-0.84), indicating the model is good at capturing most of the actual class 1 instances.\n",
    "4. **Overall Accuracy**: \n",
    "   - The accuracy is around 77-78%, which is decent but can be misleading due to class imbalance. The model is better at identifying class 1 instances than correctly labeling class 0 instances.\n",
    "5. **Macro and Weighted Averages**: \n",
    "   - The macro average, which treats both classes equally, is lower than the weighted average, which gives more weight to the majority class (class 0). This difference is due to the class imbalance and reflects in the f1-scores.\n",
    "6. **Imbalance Between Classes**: \n",
    "   - The significant difference in support numbers between classes (more than 7 times) indicates a class imbalance problem. This imbalance likely contributes to the disparities in precision and recall between the two classes.\n",
    "\n",
    "\n",
    "### Causes of imbalance:\n",
    "\n",
    "1. **Data imbalance**:\n",
    "   - The significant difference in sample sizes between the two classes (41410 vs. 5257 in the training set, 20713 vs. 2620 in the test set) is a primary cause.\n",
    "   - The model might have \"learned\" that predicting all samples as class 0 yields a high success rate, thus becoming biased towards the majority class.\n",
    "2. **Model capability**:\n",
    "   - Logistic Regression, being a linear model, might not suit the complex nature of the data, or fail to capture non-linear relationships between features and the target class.\n",
    "\n",
    "### Solutions:\n",
    "\n",
    "1. **Reconsider data handling**:\n",
    "   - Apply resampling techniques such as oversampling for the minority class or undersampling for the majority class.\n",
    "   - Use the SMOTE method to generate synthetic data for the minority class.\n",
    "2. **Change evaluation metrics**:\n",
    "   - Use metrics like F1-score, Precision-Recall AUC, or ROC AUC instead of relying solely on accuracy."
   ]
  },
  {
   "cell_type": "markdown",
   "metadata": {},
   "source": [
    "## References:\n",
    "\n",
    "1. Nevil, S. (2023, March 31). How to calculate Z-Score and its meaning. Investopedia. \n",
    "  - https://www.investopedia.com/terms/z/zscore.asp\n",
    "2. StatQuest with Josh Starmer. (2018, March 5). StatQuest: Logistic Regression [Video]. \n",
    "  - YouTube. https://www.youtube.com/watch?v=yIYKR4sgzI8\n",
    "3. StatQuest with Josh Starmer. (2017, July 31). Maximum Likelihood, clearly explained!!! [Video]. \n",
    "  - YouTube. https://www.youtube.com/watch?v=XepXtl9YKwc \n",
    "4. Leung, K. (2022, October 4). Assumptions of logistic regression, clearly explained. \n",
    "  - Medium site. https://towardsdatascience.com/assumptions-of-logistic-regression-clearly-explained-44d85a22b290\n",
    "5. Satpathy, S. (2023, November 17). SMOTE for Imbalanced Classification with Python. Analytics Vidhya. \n",
    "  - https://www.analyticsvidhya.com/blog/2020/10/overcoming-class-imbalance-using-smote-techniques/"
   ]
  }
 ],
 "metadata": {
  "kernelspec": {
   "display_name": "Python 3",
   "language": "python",
   "name": "python3"
  },
  "language_info": {
   "codemirror_mode": {
    "name": "ipython",
    "version": 3
   },
   "file_extension": ".py",
   "mimetype": "text/x-python",
   "name": "python",
   "nbconvert_exporter": "python",
   "pygments_lexer": "ipython3",
   "version": "3.11.5"
  }
 },
 "nbformat": 4,
 "nbformat_minor": 4
}
