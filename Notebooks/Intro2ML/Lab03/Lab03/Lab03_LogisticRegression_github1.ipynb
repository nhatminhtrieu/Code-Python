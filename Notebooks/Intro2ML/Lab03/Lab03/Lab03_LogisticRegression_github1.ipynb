{
  "cells": [
    {
      "cell_type": "markdown",
      "metadata": {
        "id": "1uuK8Sw8n6Qi"
      },
      "source": [
        "# Lab03: Logistic Regression.\n",
        "\n",
        "- Student ID: 18127070 \n",
        "- Student name: Trần Đại Chí"
      ]
    },
    {
      "cell_type": "markdown",
      "metadata": {
        "id": "_WSPSZtQn6Qn"
      },
      "source": [
        "**How to do your homework**\n",
        "\n",
        "\n",
        "You will work directly on this notebook; the word `TODO` indicate the parts you need to do.\n",
        "\n",
        "You can discuss ideas with classmates as well as finding information from the internet, book, etc...; but *this homework must be your*.\n",
        "\n",
        "**How to submit your homework**\n",
        "\n",
        "Before submitting, rerun the notebook (`Kernel` ->` Restart & Run All`).\n",
        "\n",
        "Then create a folder named `ID` (for example, if your ID is 1234567, then name the folder `1234567`). Copy file notebook to this folder, compress and submit it on moodle.\n",
        "\n",
        "**Contents:**\n",
        "- Logistic Regression."
      ]
    },
    {
      "cell_type": "markdown",
      "metadata": {
        "id": "UJjs8zq5n6Qn"
      },
      "source": [
        "## 1. Feature Extraction"
      ]
    },
    {
      "cell_type": "markdown",
      "metadata": {
        "id": "vrMehTOMn6Qo"
      },
      "source": [
        "### Import Library"
      ]
    },
    {
      "cell_type": "code",
      "execution_count": 9,
      "metadata": {
        "id": "-sGmR27An6Qo"
      },
      "outputs": [],
      "source": [
        "%matplotlib inline\n",
        "import numpy as np\n",
        "import matplotlib.pyplot as plt\n",
        "from sklearn.model_selection import train_test_split\n",
        "from sklearn.metrics import classification_report "
      ]
    },
    {
      "cell_type": "markdown",
      "metadata": {
        "id": "ZJBFng1Yn6Qo"
      },
      "source": [
        "### Load data"
      ]
    },
    {
      "cell_type": "code",
      "execution_count": 10,
      "metadata": {
        "id": "xcEaF9Ndn6Qp"
      },
      "outputs": [
        {
          "name": "stderr",
          "output_type": "stream",
          "text": [
            "c:\\Users\\MINH\\AppData\\Local\\Programs\\Python\\Python311\\Lib\\site-packages\\sklearn\\datasets\\_openml.py:1022: FutureWarning: The default value of `parser` will change from `'liac-arff'` to `'auto'` in 1.4. You can set `parser='auto'` to silence this warning. Therefore, an `ImportError` will be raised from 1.4 if the dataset is dense and pandas is not installed. Note that the pandas parser may return different data types. See the Notes Section in fetch_openml's API doc for details.\n",
            "  warn(\n"
          ]
        }
      ],
      "source": [
        "from sklearn.datasets import fetch_openml\n",
        "X, y = fetch_openml('mnist_784', return_X_y=True)"
      ]
    },
    {
      "cell_type": "code",
      "execution_count": 11,
      "metadata": {
        "colab": {
          "base_uri": "https://localhost:8080/"
        },
        "id": "TUoNkABen6Qp",
        "outputId": "cc00b0b5-2d95-4a00-8f23-258a19501704"
      },
      "outputs": [
        {
          "name": "stdout",
          "output_type": "stream",
          "text": [
            "(70000, 784)\n",
            "(70000,)\n"
          ]
        }
      ],
      "source": [
        "print(X.shape)\n",
        "print(y.shape)"
      ]
    },
    {
      "cell_type": "markdown",
      "metadata": {
        "id": "a6VH7jDqn6Qp"
      },
      "source": [
        "### Extract Features"
      ]
    },
    {
      "cell_type": "markdown",
      "metadata": {
        "id": "hKAwCFe-n6Qp"
      },
      "source": [
        "So we basically have 70000 samples with each sample having 784 features - pixels in this case and a label - the digit the image represent.\n",
        "\n",
        "Let’s play around and see if we can extract any features from the pixels that can be more informative. First I’d like to know more about average intensity - that is the average value of a pixel in an image for the different digits"
      ]
    },
    {
      "cell_type": "code",
      "execution_count": 23,
      "metadata": {
        "colab": {
          "base_uri": "https://localhost:8080/"
        },
        "id": "o1eX9jgrn6Qq",
        "outputId": "fc38d7a1-7a36-4df1-b410-71e8d880ba99"
      },
      "outputs": [
        {
          "name": "stdout",
          "output_type": "stream",
          "text": [
            "[7.94118499 2.18824575 5.54533753 4.8174692  4.28104862 4.2037037\n",
            " 6.07861087 3.63260274 6.63456754 4.28276159]\n"
          ]
        }
      ],
      "source": [
        "labels=np.unique(y)\n",
        "# print(labels)\n",
        "n_label=np.unique(y).shape[0]\n",
        "l_means=np.zeros(shape=n_label,dtype=float) #array stores average intensity for each label\n",
        "\n",
        "#TODO compute average intensity for each label\n",
        "cnt = []\n",
        "for i in range(n_label): \n",
        "  cnt.append(i)\n",
        "  \n",
        "for i in range(len(X)):\n",
        "    idx = int(y[i])\n",
        "    cnt[idx] += 1\n",
        "    l_means[idx] = X.iloc[i].sum() / cnt[idx]\n",
        "print(l_means)"
      ]
    },
    {
      "cell_type": "markdown",
      "metadata": {
        "id": "yk9S4BvYn6Qq"
      },
      "source": [
        "Plot the average intensity using matplotlib"
      ]
    },
    {
      "cell_type": "code",
      "execution_count": null,
      "metadata": {
        "colab": {
          "base_uri": "https://localhost:8080/",
          "height": 353
        },
        "id": "pYjFYREDn6Qq",
        "outputId": "13478aa4-5220-4313-d1e2-88145f0b2185"
      },
      "outputs": [
        {
          "data": {
            "text/plain": [
              "<BarContainer object of 10 artists>"
            ]
          },
          "execution_count": 12,
          "metadata": {
            "tags": []
          },
          "output_type": "execute_result"
        },
        {
          "data": {
            "image/png": "[encoded data removed]",
            "text/plain": [
              "<Figure size 432x288 with 1 Axes>"
            ]
          },
          "metadata": {
            "needs_background": "light",
            "tags": []
          },
          "output_type": "display_data"
        }
      ],
      "source": [
        "fig = plt.figure()\n",
        "ax = fig.add_axes([0,0,1,1])\n",
        "ax.bar(labels,l_means)"
      ]
    },
    {
      "cell_type": "markdown",
      "metadata": {
        "id": "MdcsENFin6Qq"
      },
      "source": [
        "As we can see there are some differences in intensity. The digit “1” is the less intense while the digit “0” is the most intense. So this new feature seems to have some predictive value if you wanted to know if say your digit is a “1” or not."
      ]
    },
    {
      "cell_type": "code",
      "execution_count": null,
      "metadata": {
        "colab": {
          "base_uri": "https://localhost:8080/"
        },
        "id": "9SG54MsEn6Qq",
        "outputId": "0563d284-b987-42b7-ea56-7fb7d833048e"
      },
      "outputs": [
        {
          "name": "stdout",
          "output_type": "stream",
          "text": [
            "(70000,)\n"
          ]
        }
      ],
      "source": [
        "#TODO compute average intensity for each data sample\n",
        "intensity = np.zeros(shape=y.shape, dtype=float)\n",
        "for i in range(len(X)):\n",
        "  intensity[i] = np.mean(X[i])\n",
        "print(intensity.shape)"
      ]
    },
    {
      "cell_type": "markdown",
      "metadata": {
        "id": "_kgscsBBn6Qr"
      },
      "source": [
        "*Sometimes* people really do not know what are they doing. I am not an exception:"
      ]
    },
    {
      "cell_type": "code",
      "execution_count": null,
      "metadata": {
        "colab": {
          "base_uri": "https://localhost:8080/"
        },
        "id": "Ne3sJYBan6Qr",
        "outputId": "e12aaebc-30c0-4320-e741-6b8d86db361d"
      },
      "outputs": [
        {
          "name": "stdout",
          "output_type": "stream",
          "text": [
            "(70000,)\n"
          ]
        }
      ],
      "source": [
        "X_flip=np.flip(X)\n",
        "symmetry= np.mean((X-X_flip),axis=1)\n",
        "print(symmetry.shape)"
      ]
    },
    {
      "cell_type": "markdown",
      "metadata": {
        "id": "4GBandN2n6Qr"
      },
      "source": [
        "I called this feature \"symmetry\" (though it's not \"symmetry\" at all). Use visualization method to understand why this thing works."
      ]
    },
    {
      "cell_type": "markdown",
      "metadata": {
        "id": "icVibUXTn6Qr"
      },
      "source": [
        "Our new trainning data will have 70000 samples and 2 features: intensity, symmetry."
      ]
    },
    {
      "cell_type": "code",
      "execution_count": null,
      "metadata": {
        "colab": {
          "base_uri": "https://localhost:8080/"
        },
        "id": "OBi2d9L9n6Qr",
        "outputId": "36dc83f2-ecb8-4119-ab30-b793eac06959"
      },
      "outputs": [
        {
          "name": "stdout",
          "output_type": "stream",
          "text": [
            "(70000, 2)\n"
          ]
        }
      ],
      "source": [
        "#TODO create X_new by horizontal stack intensity and symmetry\n",
        "X_new = np.column_stack((intensity, symmetry)) #hstack: (140000), vstack(2, 70000)\n",
        "print(X_new.shape) #it should be (70000,2)"
      ]
    },
    {
      "cell_type": "markdown",
      "metadata": {
        "id": "BP4y8Cq8n6Qr"
      },
      "source": [
        "## 2. Training "
      ]
    },
    {
      "cell_type": "markdown",
      "metadata": {
        "id": "NRMjuPepn6Qs"
      },
      "source": [
        "Usually logistic regression is a good first choice for classification. In this homework we use logistic regression for classifying digit 1 images and not digit 1 images."
      ]
    },
    {
      "cell_type": "markdown",
      "metadata": {
        "id": "9IKwuR5jn6Qs"
      },
      "source": [
        "### Normalize data\n",
        "First normalize data using Z-score normalization\n",
        "- **TODO: Study about Z-score normalization**: Z-score normalization is a method of normalizing data that avoids outlier issue. The formula for z-score normalization is: (value - mean) / standard deviation\n",
        "- **TODO: Why should we normalize data?** to avoid outlier issue"
      ]
    },
    {
      "cell_type": "code",
      "execution_count": null,
      "metadata": {
        "colab": {
          "base_uri": "https://localhost:8080/"
        },
        "id": "0inB2eU4n6Qs",
        "outputId": "e8bc1349-0fac-48f2-b40e-c7f7eb47c3bc"
      },
      "outputs": [
        {
          "name": "stdout",
          "output_type": "stream",
          "text": [
            "[[ 0.85342722 -1.6193639 ]\n",
            " [ 1.06445354 -0.50547592]\n",
            " [ 0.37569199 -1.35218211]\n",
            " ...\n",
            " [ 0.95427061 -0.19502487]\n",
            " [ 0.79632598 -1.04173105]\n",
            " [ 1.69918763  0.07215692]]\n"
          ]
        }
      ],
      "source": [
        "#TODO: normalize X_new\n",
        "X_new = (X_new - np.mean(X_new)) / np.std(X_new)\n",
        "print(X_new)"
      ]
    },
    {
      "cell_type": "markdown",
      "metadata": {
        "id": "3PEyztyCn6Qs"
      },
      "source": [
        "### Construct  data"
      ]
    },
    {
      "cell_type": "code",
      "execution_count": null,
      "metadata": {
        "colab": {
          "base_uri": "https://localhost:8080/"
        },
        "id": "FEorw36ln6Qs",
        "outputId": "c1be6871-3277-4a3a-8ae7-520204abbafc"
      },
      "outputs": [
        {
          "name": "stdout",
          "output_type": "stream",
          "text": [
            "(70000, 3)\n",
            "(70000, 1)\n"
          ]
        }
      ],
      "source": [
        "X_new = np.hstack((np.ones((len(X_new), 1)), X_new)) #stack 1s column as usual\n",
        "y_new=y.astype(int)\n",
        "y_new[y_new != 1] = 0 # digit 1 -> class 1, other digits -> class 0\n",
        "y_new=y_new.reshape(-1,1)\n",
        "print (X_new.shape)\n",
        "print (y_new.shape)"
      ]
    },
    {
      "cell_type": "markdown",
      "metadata": {
        "id": "I_VGUbM-n6Qt"
      },
      "source": [
        "### Split data "
      ]
    },
    {
      "cell_type": "code",
      "execution_count": null,
      "metadata": {
        "colab": {
          "base_uri": "https://localhost:8080/"
        },
        "id": "-y3vtbq6n6Qt",
        "outputId": "4db153be-1d19-4827-b00e-97055ee9c93b"
      },
      "outputs": [
        {
          "name": "stdout",
          "output_type": "stream",
          "text": [
            "(46667, 3)\n",
            "(46667, 1)\n"
          ]
        }
      ],
      "source": [
        "train_X, test_X, train_y, test_y = train_test_split(X_new, y_new, test_size= int(1/3*X.shape[0]))\n",
        "print(train_X.shape)\n",
        "print(train_y.shape)"
      ]
    },
    {
      "cell_type": "markdown",
      "metadata": {
        "id": "TspAXroQn6Qt"
      },
      "source": [
        "### Sigmoid function and derivative of the sigmoid function"
      ]
    },
    {
      "cell_type": "code",
      "execution_count": null,
      "metadata": {
        "id": "jd6LwEjFn6Qt"
      },
      "outputs": [],
      "source": [
        "def sigmoid_activation(x):\n",
        "    \"\"\"compute the sigmoid activation value for a given input\"\"\"\n",
        "    return 1.0 / (1 + np.exp(-x))\n",
        "def sigmoid_deriv(x):\n",
        "    '''compute the derivative of the sigmoid function ASSUMING\n",
        "    that the input ‘x‘ has already been passed through the sigmoid\n",
        "    activation function'''\n",
        "    return x * (1 - x)"
      ]
    },
    {
      "cell_type": "markdown",
      "metadata": {
        "id": "JNgRir2Cn6Qt"
      },
      "source": [
        "### Compute output"
      ]
    },
    {
      "cell_type": "code",
      "execution_count": null,
      "metadata": {
        "id": "eRk4H2TDn6Qt"
      },
      "outputs": [],
      "source": [
        "def compute_h(W, X):\n",
        "    \"\"\"\n",
        "    Compute output: Take the dot product between our features ‘X‘ and the weight\n",
        "    matrix ‘W‘, then pass this value through our sigmoid activation function \n",
        "    \"\"\"\n",
        "    return sigmoid_activation(X.dot(W))\n",
        "def predict(W, X):\n",
        " \n",
        "    '''Take the dot product between our features and weight matrix, \n",
        "       then pass this value through our sigmoid activation'''\n",
        "    #........\n",
        "    preds=sigmoid_activation(X.dot(W))\n",
        "    # apply a step function to threshold the outputs to binary\n",
        "    # class labels\n",
        "    preds[preds <= 0.5] = 0\n",
        "    preds[preds > 0] = 1\n",
        "\n",
        "    return preds"
      ]
    },
    {
      "cell_type": "markdown",
      "metadata": {
        "id": "7-Y9KQJJn6Qu"
      },
      "source": [
        "### Compute gradient"
      ]
    },
    {
      "cell_type": "markdown",
      "metadata": {
        "id": "3SMWFQ-Kn6Qu"
      },
      "source": [
        "**Loss Function: Average negative log likelihood**\n",
        "$$\\mathcal{L}=\\dfrac{1}{N} \\sum_{i=1}^{N} -\\left(y^{i}\\ln h_{\\mathbf{w}}\\left(\\mathbf{x}^{i}\\right)+\\left(1-y^{i}\\right)\\ln \\left(1-h_{\\mathbf{w}}\\left(x^{i}\\right)\\right)\\right) $$\n",
        "\n",
        "\n",
        "$$\\text{Sigmoid Activation: } z= \\sigma \\left(h\\right)= \\dfrac{1}{1+e^{-h}}$$\n",
        "\n",
        "$$\\text{Cross-entropy: } J(w)=-\\left({ylog(z)+(1-y)log(1-z)}\\right)$$\n",
        "\n",
        "$$\\text{Chain rule: } \\dfrac{\\partial J(w)}{\\partial w}=\\dfrac{\\partial J(w)}{\\partial z} \\dfrac{\\partial z}{\\partial h}\\dfrac{\\partial h}{\\partial w}  $$\n",
        "\n",
        "$$\\dfrac{\\partial J(w)}{\\partial z}=-\\left(\\dfrac{y}{z}-\\dfrac{1-y}{1-z}\\right)=\\dfrac{z-y}{z(1-z)}$$\n",
        "\n",
        "$$\\dfrac{\\partial z}{\\partial h}=z(1-z)$$\n",
        "\n",
        "$$\\dfrac{\\partial h}{\\partial w}=X$$\n",
        "\n",
        "$$\\dfrac{\\partial J(w)}{\\partial w}=X^T(z-y)$$"
      ]
    },
    {
      "cell_type": "code",
      "execution_count": null,
      "metadata": {
        "id": "vE9tWQc0n6Qu"
      },
      "outputs": [],
      "source": [
        "def compute_gradient(h, error):\n",
        "    \"\"\"\n",
        "    This is the gradient descent update of \"average negative loglikelihood\" loss function. \n",
        "    In lab02 our loss function is \"sum squared error\".\n",
        "    \"\"\"\n",
        "    #TODO\n",
        "    gradient = train_X.T.dot(error) / len(train_X)\n",
        "    return gradient"
      ]
    },
    {
      "cell_type": "code",
      "execution_count": null,
      "metadata": {
        "id": "nTXFV0jOn6Qu"
      },
      "outputs": [],
      "source": [
        "def train(W,train_X, train_y, learning_rate, num_epochs, losses):\n",
        "    for epoch in np.arange(0, num_epochs):\n",
        "        h=compute_h(W,train_X)\n",
        "        error = h - train_y\n",
        "        loss = np.mean(- train_y * np.log(h) - (1 - train_y) * np.log(1 - h))\n",
        "        losses.append(loss)\n",
        "        gradient=compute_gradient(h, error)\n",
        "        W += -learning_rate * gradient\n",
        "        if ((epoch+1)%1000==0): print ('Epoch %d, loss %.3f' %(epoch+1, loss))\n",
        "        \n",
        "    return W"
      ]
    },
    {
      "cell_type": "markdown",
      "metadata": {
        "id": "9EzlwfoOn6Qv"
      },
      "source": [
        "### Train our model"
      ]
    },
    {
      "cell_type": "code",
      "execution_count": null,
      "metadata": {
        "colab": {
          "base_uri": "https://localhost:8080/"
        },
        "id": "LqIrVCRin6Qv",
        "outputId": "2a08ceb0-112f-452f-8579-e3ed9e198e55",
        "scrolled": false
      },
      "outputs": [
        {
          "name": "stdout",
          "output_type": "stream",
          "text": [
            "Epoch 1000, loss 0.295\n",
            "Epoch 2000, loss 0.259\n",
            "Epoch 3000, loss 0.242\n",
            "Epoch 4000, loss 0.233\n",
            "Epoch 5000, loss 0.228\n",
            "Epoch 6000, loss 0.224\n",
            "Epoch 7000, loss 0.221\n",
            "Epoch 8000, loss 0.219\n",
            "Epoch 9000, loss 0.217\n",
            "Epoch 10000, loss 0.215\n",
            "Epoch 11000, loss 0.214\n",
            "Epoch 12000, loss 0.213\n",
            "Epoch 13000, loss 0.212\n",
            "Epoch 14000, loss 0.211\n",
            "Epoch 15000, loss 0.211\n",
            "Epoch 16000, loss 0.210\n",
            "Epoch 17000, loss 0.209\n",
            "Epoch 18000, loss 0.209\n",
            "Epoch 19000, loss 0.208\n",
            "Epoch 20000, loss 0.208\n",
            "Epoch 21000, loss 0.207\n",
            "Epoch 22000, loss 0.207\n",
            "Epoch 23000, loss 0.207\n",
            "Epoch 24000, loss 0.206\n",
            "Epoch 25000, loss 0.206\n",
            "Epoch 26000, loss 0.206\n",
            "Epoch 27000, loss 0.205\n",
            "Epoch 28000, loss 0.205\n",
            "Epoch 29000, loss 0.205\n",
            "Epoch 30000, loss 0.204\n",
            "Epoch 31000, loss 0.204\n",
            "Epoch 32000, loss 0.204\n",
            "Epoch 33000, loss 0.204\n",
            "Epoch 34000, loss 0.203\n",
            "Epoch 35000, loss 0.203\n",
            "Epoch 36000, loss 0.203\n",
            "Epoch 37000, loss 0.203\n",
            "Epoch 38000, loss 0.203\n",
            "Epoch 39000, loss 0.203\n",
            "Epoch 40000, loss 0.202\n",
            "==================================================\n",
            "Train err of final w:  8.232798337154733\n"
          ]
        }
      ],
      "source": [
        "W = np.random.randn(train_X.shape[1], 1)\n",
        "losses=[]\n",
        "num_epochs=40000\n",
        "learning_rate=0.01\n",
        "W=train(W,train_X, train_y, learning_rate, num_epochs , losses)\n",
        "x_preds=predict(W ,train_X)\n",
        "train_err = np.mean(x_preds != train_y) * 100\n",
        "print ('=' * 50)\n",
        "print ('Train err of final w: ', train_err)"
      ]
    },
    {
      "cell_type": "markdown",
      "metadata": {
        "id": "OtFw72WSn6Qv"
      },
      "source": [
        "## 3. Evaluate our model"
      ]
    },
    {
      "cell_type": "code",
      "execution_count": null,
      "metadata": {
        "colab": {
          "base_uri": "https://localhost:8080/"
        },
        "id": "Um0Lvya_n6Qw",
        "outputId": "00961778-e038-45bc-9b7f-bcebf742e0cd"
      },
      "outputs": [
        {
          "name": "stdout",
          "output_type": "stream",
          "text": [
            "              precision    recall  f1-score   support\n",
            "\n",
            "           0       0.93      0.98      0.95     41453\n",
            "           1       0.74      0.41      0.52      5214\n",
            "\n",
            "    accuracy                           0.92     46667\n",
            "   macro avg       0.83      0.69      0.74     46667\n",
            "weighted avg       0.91      0.92      0.91     46667\n",
            "\n"
          ]
        }
      ],
      "source": [
        "preds = predict(W, train_X)\n",
        "print(classification_report(train_y, preds))"
      ]
    },
    {
      "cell_type": "code",
      "execution_count": null,
      "metadata": {
        "colab": {
          "base_uri": "https://localhost:8080/"
        },
        "id": "O5FkRpncn6Qw",
        "outputId": "9c74b273-cc93-47ab-bd7c-33149c52877a"
      },
      "outputs": [
        {
          "name": "stdout",
          "output_type": "stream",
          "text": [
            "              precision    recall  f1-score   support\n",
            "\n",
            "           0       0.93      0.98      0.95     20670\n",
            "           1       0.74      0.41      0.53      2663\n",
            "\n",
            "    accuracy                           0.92     23333\n",
            "   macro avg       0.84      0.70      0.74     23333\n",
            "weighted avg       0.91      0.92      0.91     23333\n",
            "\n"
          ]
        }
      ],
      "source": [
        "preds = predict(W, test_X)\n",
        "print(classification_report(test_y, preds))"
      ]
    },
    {
      "cell_type": "markdown",
      "metadata": {
        "id": "RomtcSXen6Qw"
      },
      "source": [
        "**TODO: Comment on the result**: Because the percentage of loss of our training is quite low, so the classification table for both train and test are quite similar about result"
      ]
    },
    {
      "cell_type": "code",
      "execution_count": null,
      "metadata": {
        "id": "3U5UA4xXn6Qw"
      },
      "outputs": [],
      "source": []
    }
  ],
  "metadata": {
    "accelerator": "TPU",
    "colab": {
      "collapsed_sections": [],
      "name": "Lab03-LogisticRegression.ipynb",
      "provenance": []
    },
    "kernelspec": {
      "display_name": "Python 3",
      "language": "python",
      "name": "python3"
    },
    "language_info": {
      "codemirror_mode": {
        "name": "ipython",
        "version": 3
      },
      "file_extension": ".py",
      "mimetype": "text/x-python",
      "name": "python",
      "nbconvert_exporter": "python",
      "pygments_lexer": "ipython3",
      "version": "3.11.5"
    }
  },
  "nbformat": 4,
  "nbformat_minor": 0
}
