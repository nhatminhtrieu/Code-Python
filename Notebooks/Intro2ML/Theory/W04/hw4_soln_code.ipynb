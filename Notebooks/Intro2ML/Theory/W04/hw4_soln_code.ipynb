{
 "cells": [
  {
   "cell_type": "code",
   "execution_count": 1,
   "metadata": {},
   "outputs": [],
   "source": [
    "%matplotlib inline\n",
    "\n",
    "import numpy as np\n",
    "import matplotlib.pyplot as plt\n",
    "\n",
    "from numpy.linalg import inv\n",
    "from math import log, sqrt, ceil, sin, pi\n",
    "\n",
    "from enum import Enum"
   ]
  },
  {
   "cell_type": "markdown",
   "metadata": {},
   "source": [
    "Generalization Error"
   ]
  },
  {
   "cell_type": "code",
   "execution_count": 2,
   "metadata": {},
   "outputs": [],
   "source": [
    "class NumberOfExamples:\n",
    "     \"\"\"Class for computing minimum number of training examples needed\"\"\"\n",
    "    \n",
    "#@staticmethod\n",
    "def VC(eps, delta, vcdim):\n",
    "    \"\"\"Compute number of training examples needed using the VC Bound\n",
    "    Args:\n",
    "    eps (float): Difference between \n",
    "    delta (float): 0.0 <= probability that epsilon will hold <= 1.0\n",
    "    vcdim (int): VC dimension\n",
    "    Returns:\n",
    "    N (int): Minimum number of training examples needed\n",
    "    \"\"\"\n",
    "    N_prev = 390000\n",
    "    tol=1.0\n",
    "    maxIter = 100\n",
    "    \n",
    "    # epsilon      \n",
    "    for i in range(0, maxIter):\n",
    "        N = (8.0 / eps**2) * log(4.0 * (2 * N_prev)**vcdim / delta)\n",
    "        if abs(N - N_prev) <= tol:\n",
    "            break\n",
    "        N_prev = N\n",
    "    \n",
    "    return ceil(N)"
   ]
  },
  {
   "cell_type": "code",
   "execution_count": 3,
   "metadata": {},
   "outputs": [
    {
     "data": {
      "text/plain": [
       "452957"
      ]
     },
     "execution_count": 3,
     "metadata": {},
     "output_type": "execute_result"
    }
   ],
   "source": [
    "VC(0.05, 0.05, 10)"
   ]
  },
  {
   "cell_type": "code",
   "execution_count": 4,
   "metadata": {},
   "outputs": [],
   "source": [
    "class Bounds:\n",
    "    \"\"\"Class for computing generalization bounds\"\"\"\n",
    "    \n",
    "    @staticmethod\n",
    "    def VC(N, delta, vcdim):\n",
    "        \"\"\"Compute generalization error using the VC Bound\n",
    "        Args:\n",
    "        N (int): Number of training examples\n",
    "        delta (float): 0.0 <= probability that epsilon will hold <= 1.0\n",
    "        vcdim (int): VC dimension\n",
    "        Returns:\n",
    "        epsilon (float): Generalization error\n",
    "        \"\"\"\n",
    "        # Growth function based on N and VC dimension\n",
    "        #if N <= vcdim:\n",
    "        #    mh = 2.0**N\n",
    "        #else:\n",
    "        mh = (2.0 * N)**vcdim\n",
    "        \n",
    "        # epsilon\n",
    "        eps = sqrt((8.0 / N) * log(4.0 * mh / delta))\n",
    "        return eps\n",
    "    \n",
    "    @staticmethod\n",
    "    def Rademacher(N, delta, vcdim):\n",
    "        \"\"\"Compute generalization error using the Rademacher Penalty Bound\n",
    "        Args:\n",
    "        N (int): Number of training examples\n",
    "        delta (float): 0.0 <= probability that epsilon will hold <= 1.0\n",
    "        vcdim (int): VC dimension\n",
    "        Returns:\n",
    "        epsilon (float): Generalization error\n",
    "        \"\"\"\n",
    "        # Growth function based on N and VC dimension\n",
    "        #if N <= vcdim:\n",
    "        #    mh = 2**N\n",
    "        #else:\n",
    "        mh = N**vcdim\n",
    "        \n",
    "        # epsilon\n",
    "        eps = sqrt(2.0 * log(2.0 * N * mh) / N) + sqrt((2.0 / N) * log(1.0 / delta)) + 1.0 / N\n",
    "        return eps\n",
    "    \n",
    "    @staticmethod\n",
    "    def Parrando(N, delta, vcdim):\n",
    "        \"\"\"Compute generalization error using the Parrondo and Van den Broek Bound\n",
    "        Args:\n",
    "        N (int): Number of training examples\n",
    "        delta (float): 0.0 <= probability that epsilon will hold <= 1.0\n",
    "        vcdim (int): VC dimension\n",
    "        Returns:\n",
    "        epsilon (float): Generalization error\n",
    "        \"\"\"\n",
    "        # Growth function based on N and VC dimension\n",
    "        #if N <= vcdim:\n",
    "        #    mh = 2**N\n",
    "        #else:\n",
    "        mh = (2 * N)**vcdim\n",
    "        \n",
    "        # epsilon\n",
    "        tol=1e-2\n",
    "        maxIter = 100\n",
    "        eps_prev = 0.5\n",
    "        for i in range(0, maxIter):\n",
    "            eps = sqrt((1.0 / N) * (2.0 * eps_prev + log(6.0 * mh / delta)))\n",
    "            if abs(eps - eps_prev) <= tol:\n",
    "                break\n",
    "            eps_prev = eps\n",
    "        return eps\n",
    "    \n",
    "    @staticmethod\n",
    "    def Devroye(N, delta, vcdim):\n",
    "        \"\"\"Compute generalization error using the Devroye Bound\n",
    "        Args:\n",
    "        N (int): Number of training examples\n",
    "        delta (float): 0.0 <= probability that epsilon will hold<= 1.0\n",
    "        vcdim (int): VC dimension\n",
    "        Returns:\n",
    "        epsilon (float): Generalization error\n",
    "        \"\"\"\n",
    "        # Growth function based on N and VC dimension\n",
    "        #if N <= vcdim:\n",
    "            #mh = 2**N\n",
    "            #logmh = 2 * log(N)\n",
    "        #else:\n",
    "            #mh = (N**2)**vcdim leads to overflow error\n",
    "        logmh = 2 * vcdim * log(N)\n",
    "        \n",
    "        # epsilon\n",
    "        tol=1e-2\n",
    "        maxIter = 100\n",
    "        eps_prev = 0.5\n",
    "        for i in range(0, maxIter):\n",
    "            eps = sqrt((1.0 / (2.0 * N)) * (4.0 * eps_prev * (1.0 + eps_prev) + log(4.0 / delta) + logmh))\n",
    "            if abs(eps - eps_prev) <= tol:\n",
    "                break\n",
    "            eps_prev = eps\n",
    "        return eps"
   ]
  },
  {
   "cell_type": "code",
   "execution_count": 5,
   "metadata": {},
   "outputs": [],
   "source": [
    "delta = 0.05\n",
    "vcdim = 50\n",
    "N = 10001\n",
    "vc = np.log([Bounds.VC(n, delta, vcdim) for n in range(3, N)])\n",
    "rade = np.log([Bounds.Rademacher(n, delta, vcdim) for n in range(3, N)])\n",
    "parr = np.log([Bounds.Parrando(n, delta, vcdim) for n in range(3, N)])\n",
    "dev = np.log([Bounds.Devroye(n, delta, vcdim) for n in range(3, N)])"
   ]
  },
  {
   "cell_type": "code",
   "execution_count": 6,
   "metadata": {},
   "outputs": [
    {
     "data": {
      "text/plain": [
       "<matplotlib.legend.Legend at 0x17a4bfa22b0>"
      ]
     },
     "execution_count": 6,
     "metadata": {},
     "output_type": "execute_result"
    },
    {
     "data": {
      "image/png": "[encoded data removed]",
      "text/plain": [
       "<matplotlib.figure.Figure at 0x17a49f4ceb8>"
      ]
     },
     "metadata": {},
     "output_type": "display_data"
    }
   ],
   "source": [
    "plt.plot(vc, label='VC')\n",
    "plt.plot(rade, label='Rademacher Penalty')\n",
    "plt.plot(parr, label ='Parrondo and Van den Broek')\n",
    "plt.plot(dev, label='Devroye')\n",
    "plt.title('Generalization Bounds')\n",
    "plt.xlabel('N')\n",
    "plt.ylabel('log(ϵ)')\n",
    "plt.legend()"
   ]
  },
  {
   "cell_type": "code",
   "execution_count": 7,
   "metadata": {},
   "outputs": [
    {
     "data": {
      "text/plain": [
       "<matplotlib.legend.Legend at 0x17a4c01bc88>"
      ]
     },
     "execution_count": 7,
     "metadata": {},
     "output_type": "execute_result"
    },
    {
     "data": {
      "image/png": "[encoded data removed]",
      "text/plain": [
       "<matplotlib.figure.Figure at 0x17a49f78630>"
      ]
     },
     "metadata": {},
     "output_type": "display_data"
    }
   ],
   "source": [
    "plt.plot(vc, label='VC')\n",
    "plt.plot(rade, label='Rademacher Penalty')\n",
    "plt.plot(parr, label ='Parrondo and Van den Broek')\n",
    "plt.plot(dev, label='Devroye')\n",
    "plt.title('Generalization Bounds at N = 10000')\n",
    "plt.xlabel('N')\n",
    "plt.ylabel('log(ϵ)')\n",
    "plt.xlim((9900, 10000))\n",
    "plt.legend()"
   ]
  },
  {
   "cell_type": "code",
   "execution_count": 8,
   "metadata": {},
   "outputs": [
    {
     "data": {
      "text/plain": [
       "<matplotlib.legend.Legend at 0x17a4c0bdb70>"
      ]
     },
     "execution_count": 8,
     "metadata": {},
     "output_type": "execute_result"
    },
    {
     "data": {
      "image/png": "[encoded data removed]",
      "text/plain": [
       "<matplotlib.figure.Figure at 0x17a4c00cc50>"
      ]
     },
     "metadata": {},
     "output_type": "display_data"
    }
   ],
   "source": [
    "plt.plot(vc, label='VC')\n",
    "plt.plot(rade, label='Rademacher Penalty')\n",
    "plt.plot(parr, label ='Parrondo and Van den Broek')\n",
    "plt.plot(dev, label='Devroye')\n",
    "plt.title('Generalization Bounds at N=5')\n",
    "plt.xlabel('N')\n",
    "plt.ylabel('log(ϵ)')\n",
    "plt.xlim((0, 6))\n",
    "plt.ylim((1.5, 3))\n",
    "plt.legend()"
   ]
  },
  {
   "cell_type": "markdown",
   "metadata": {},
   "source": [
    "Bias and Variance"
   ]
  },
  {
   "cell_type": "code",
   "execution_count": 9,
   "metadata": {},
   "outputs": [],
   "source": [
    "class Point:\n",
    "    \"\"\" Point class. \"\"\"\n",
    "    \n",
    "    def __init__(self, lower=-1.0, upper=1.0):\n",
    "        \"\"\" Create a new point assuming a uniform distribution between the upper and lower bounds. \n",
    "        Args:\n",
    "        lower (float): Lower bound.\n",
    "        upper (float): Upper bound.\n",
    "        \"\"\"\n",
    "        self.lower = lower # lower bound\n",
    "        self.upper = upper # upper bound\n",
    "        self.value = np.random.uniform(lower, upper) # value"
   ]
  },
  {
   "cell_type": "code",
   "execution_count": 10,
   "metadata": {},
   "outputs": [],
   "source": [
    "class TargetFunction:\n",
    "    \"\"\"TargetFunction class. \"\"\"\n",
    "    \n",
    "    def evaluate(self, point):  \n",
    "        return sin(pi * point.value)"
   ]
  },
  {
   "cell_type": "code",
   "execution_count": 11,
   "metadata": {},
   "outputs": [],
   "source": [
    "class DataSet:\n",
    "    \"\"\" DataSet class. \"\"\"\n",
    "    def __init__(self, N=2, lower=-1.0, upper=1.0):\n",
    "        \"\"\" Create a new data set assuming a uniform distribution between the \n",
    "            upper and lower bounds. \n",
    "        Args:\n",
    "        N (int): Number of points.\n",
    "        lower (float): Lower bound.\n",
    "        upper (float): Upper bound.\n",
    "        \"\"\"\n",
    "        self.inputs = [Point(lower, upper) for i in range(0,N)]\n",
    "        self.outputs = [TargetFunction().evaluate(input) for input in self.inputs]"
   ]
  },
  {
   "cell_type": "code",
   "execution_count": 12,
   "metadata": {},
   "outputs": [],
   "source": [
    "class Hypothesis(Enum):\n",
    "    CONSTANT = 1\n",
    "    LINEAR = 2\n",
    "    LINEAR_PLUS_CONSTANT = 3\n",
    "    QUADRATIC = 4\n",
    "    QUADRATIC_PLUS_CONSTANT = 5"
   ]
  },
  {
   "cell_type": "code",
   "execution_count": 13,
   "metadata": {},
   "outputs": [],
   "source": [
    "class LinearRegression:\n",
    "    \"\"\" Linear Regression class. \"\"\"\n",
    "    \n",
    "    def __init__(self, trainingSet, hypothesis=Hypothesis.LINEAR_PLUS_CONSTANT):\n",
    "        \"\"\" Create a new Linear Regression. \n",
    "        Args:\n",
    "        TrainingSet (DataSet): Training set.\n",
    "        \"\"\"\n",
    "        self.trainingSet = trainingSet\n",
    "        self.hypothesis = hypothesis\n",
    "        \n",
    "    def run(self, targetFunction):    \n",
    "        \"\"\"Run of Linear Regression Algorithm.\n",
    "        See equations at http://facweb.cs.depaul.edu/sjost/csc423/documents/technical-details/lsreg.pdf\n",
    "        for regression for a horizontal line, regression through the origin and simple regression\n",
    "        Args:\n",
    "        targetFunction (TargetFunction): Target function\n",
    "        Returns:\n",
    "        Tuple(g, yn)\n",
    "        \"\"\"\n",
    "        # calculate outputs\n",
    "        yn = np.array([targetFunction.evaluate(input) for input in self.trainingSet.inputs], copy=True)\n",
    "        \n",
    "        if self.hypothesis == Hypothesis.CONSTANT:\n",
    "            return np.mean(yn)     \n",
    "        elif self.hypothesis == Hypothesis.LINEAR or self.hypothesis == Hypothesis.QUADRATIC:\n",
    "            X = self.transformPoints(trainingSet.inputs) # transform inputs\n",
    "            X_trans = np.transpose(X) \n",
    "            return np.divide(np.matmul(X_trans, yn), np.matmul(X_trans, X))\n",
    "        elif self.hypothesis == Hypothesis.LINEAR_PLUS_CONSTANT or self.hypothesis == Hypothesis.QUADRATIC_PLUS_CONSTANT:\n",
    "            # calculate pseudo-inverse matrix and return g (weights)\n",
    "            X = self.transformPoints(trainingSet.inputs) # transform inputs\n",
    "            X_trans = np.transpose(X)\n",
    "            X_dagger = np.matmul(inv(np.matmul(X_trans, X)), X_trans)\n",
    "            g = np.matmul(X_dagger, yn)\n",
    "            return g, yn\n",
    "        \n",
    "        return None\n",
    "    \n",
    "    # privates\n",
    "    def transformPoints(self, points):\n",
    "        if self.hypothesis == Hypothesis.QUADRATIC_PLUS_CONSTANT:\n",
    "            featureVectors = []\n",
    "            for pnt in points:\n",
    "                featureVector = [1.0, pnt.value**2]\n",
    "                featureVectors.append(featureVector)\n",
    "            return np.array(featureVectors)\n",
    "        elif self.hypothesis == Hypothesis.QUADRATIC:\n",
    "            featureVectors = []\n",
    "            for pnt in points:\n",
    "                featureVector = [pnt.value**2]\n",
    "                featureVectors.append(featureVector)\n",
    "            return np.array(featureVectors)\n",
    "        elif self.hypothesis == Hypothesis.LINEAR_PLUS_CONSTANT:\n",
    "            return np.array([np.insert(pnt.value, 0, 1.0) for pnt in points])\n",
    "        elif self.hypothesis == Hypothesis.LINEAR:\n",
    "            return np.array([pnt.value for pnt in points])\n",
    "        \n",
    "        return None"
   ]
  },
  {
   "cell_type": "code",
   "execution_count": 14,
   "metadata": {},
   "outputs": [
    {
     "name": "stdout",
     "output_type": "stream",
     "text": [
      "g_bar(x) = -0.0\n",
      "bias = 0.5\n",
      "variance = 0.25\n",
      "Eout = 0.75\n"
     ]
    }
   ],
   "source": [
    "gs=[]\n",
    "trainingSets = []\n",
    "for i in range(0, 100000):\n",
    "    trainingSet = DataSet(N=2, lower=-1.0, upper=1.0)\n",
    "    linearRegression = LinearRegression(trainingSet, hypothesis=Hypothesis.CONSTANT)\n",
    "    g = linearRegression.run(TargetFunction())\n",
    "    trainingSets.append(trainingSet)\n",
    "    gs.append(g)\n",
    "\n",
    "gbar = np.mean(gs)\n",
    "bbar = gbar\n",
    "\n",
    "biases = []\n",
    "variances = []\n",
    "        \n",
    "for i in range(0, len(trainingSets)):\n",
    "    bias_set = []\n",
    "    vars_set = []\n",
    "    for j in range(0, len(trainingSets[i].inputs)):\n",
    "        x = trainingSets[i].inputs[j].value\n",
    "        f = trainingSets[i].outputs[j]\n",
    "        bhat = gs[i]\n",
    "        bias_set.append((bbar - f)**2)\n",
    "        vars_set.append((bhat - bbar)**2)\n",
    "                \n",
    "    biases.append(np.mean(bias_set))\n",
    "    variances.append(np.mean(vars_set))\n",
    "\n",
    "bias = np.round(np.mean(biases), 2)\n",
    "variance = np.round(np.mean(variances), 2)\n",
    "eout = np.round(bias + variance, 2)\n",
    "\n",
    "print(\"g_bar(x) = {}\".format(np.round(bbar, 2)))\n",
    "print(\"bias = {}\".format(bias))\n",
    "print(\"variance = {}\".format(variance))\n",
    "print(\"Eout = {}\".format(eout))"
   ]
  },
  {
   "cell_type": "code",
   "execution_count": 34,
   "metadata": {},
   "outputs": [
    {
     "name": "stdout",
     "output_type": "stream",
     "text": [
      "g_bar(x) = 0.79x + 0.01\n",
      "bias = 0.21\n",
      "variance = 0.21\n",
      "Eout = 0.42\n"
     ]
    }
   ],
   "source": [
    "gs=[]\n",
    "trainingSets = []\n",
    "for i in range(0, 100000):\n",
    "    trainingSet = DataSet(N=2, lower=-1.0, upper=1.0)\n",
    "    linearRegression = LinearRegression(trainingSet, hypothesis=Hypothesis.LINEAR_PLUS_CONSTANT)\n",
    "    g, yn = linearRegression.run(TargetFunction())\n",
    "    trainingSets.append(trainingSet)\n",
    "    gs.append(g)\n",
    "\n",
    "gbar = np.mean(np.array(gs), axis=0)\n",
    "abar = gbar[1]\n",
    "bbar = gbar[0]\n",
    "\n",
    "biases = []\n",
    "variances = []\n",
    "\n",
    "for i in range(0, len(trainingSets)):\n",
    "    bias_set = []\n",
    "    vars_set = []\n",
    "    for j in range(0, len(trainingSets[i].inputs)):\n",
    "        x = trainingSets[i].inputs[j].value\n",
    "        f = trainingSets[i].outputs[j]\n",
    "        ahat = gs[i][1]\n",
    "        bhat = gs[i][0]\n",
    "        bias_set.append((abar * x + bbar - f)**2)\n",
    "        vars_set.append(((ahat * x + bhat) - (abar * x + bbar))**2)\n",
    "    \n",
    "    biases.append(np.mean(bias_set))\n",
    "    variances.append(np.mean(vars_set))\n",
    "\n",
    "bias = np.round(np.mean(biases), 2)\n",
    "variance = np.round(np.mean(variances), 2)\n",
    "eout = np.round(bias + variance, 2)\n",
    "        \n",
    "print(\"g_bar(x) = {}x + {}\".format(np.round(abar, 2), np.round(bbar, 2)))\n",
    "print(\"bias = {}\".format(bias))\n",
    "print(\"variance = {}\".format(variance))\n",
    "print(\"Eout = {}\".format(eout))"
   ]
  },
  {
   "cell_type": "code",
   "execution_count": 16,
   "metadata": {},
   "outputs": [
    {
     "name": "stdout",
     "output_type": "stream",
     "text": [
      "g_bar(x) = -1.04x^2 + 0.06\n",
      "bias = 0.68\n",
      "variance = 0.68\n",
      "Eout = 1.36\n"
     ]
    }
   ],
   "source": [
    "gs=[]\n",
    "trainingSets = []\n",
    "for i in range(0, 100000):\n",
    "    trainingSet = DataSet(N=2, lower=-1.0, upper=1.0)\n",
    "    linearRegression = LinearRegression(trainingSet, hypothesis=Hypothesis.QUADRATIC_PLUS_CONSTANT)\n",
    "    g, yn = linearRegression.run(TargetFunction())\n",
    "    trainingSets.append(trainingSet)\n",
    "    gs.append(g)\n",
    "\n",
    "gbar = np.mean(np.array(gs), axis=0)\n",
    "abar = gbar[1]\n",
    "bbar = gbar[0]\n",
    "\n",
    "biases = []\n",
    "variances = []\n",
    "\n",
    "for i in range(0, len(trainingSets)):\n",
    "    bias_set = []\n",
    "    vars_set = []\n",
    "    for j in range(0, len(trainingSets[i].inputs)):\n",
    "        x = trainingSets[i].inputs[j].value\n",
    "        f = trainingSets[i].outputs[j]\n",
    "        ahat = gs[i][1]\n",
    "        bhat = gs[i][0]\n",
    "        bias_set.append((abar * x**2 + bbar - f)**2)\n",
    "        vars_set.append(((ahat * x**2 + bhat) - (abar * x**2 + bbar))**2)\n",
    "    \n",
    "    biases.append(np.mean(bias_set))\n",
    "    variances.append(np.mean(vars_set))\n",
    "\n",
    "bias = np.round(np.mean(biases), 2)\n",
    "variance = np.round(np.mean(variances), 2)\n",
    "eout = np.round(bias + variance, 2)\n",
    "        \n",
    "print(\"g_bar(x) = {}x^2 + {}\".format(np.round(abar, 2), np.round(bbar, 2)))\n",
    "print(\"bias = {}\".format(bias))\n",
    "print(\"variance = {}\".format(variance))\n",
    "print(\"Eout = {}\".format(eout))"
   ]
  },
  {
   "cell_type": "code",
   "execution_count": 36,
   "metadata": {},
   "outputs": [
    {
     "name": "stdout",
     "output_type": "stream",
     "text": [
      "g_bar(x) = 1.43x\n",
      "bias = 0.27\n",
      "variance = 0.2\n",
      "Eout = 0.47\n"
     ]
    }
   ],
   "source": [
    "gs=[]\n",
    "trainingSets = []\n",
    "for i in range(0, 100000):\n",
    "    trainingSet = DataSet(N=2, lower=-1.0, upper=1.0)\n",
    "    linearRegression = LinearRegression(trainingSet, hypothesis=Hypothesis.LINEAR)\n",
    "    g = linearRegression.run(TargetFunction())\n",
    "    trainingSets.append(trainingSet)\n",
    "    gs.append(g)\n",
    "\n",
    "gbar = np.mean(np.array(gs))\n",
    "abar = gbar\n",
    "\n",
    "biases = []\n",
    "variances = []\n",
    "\n",
    "for i in range(0, len(trainingSets)):\n",
    "    bias_set = []\n",
    "    vars_set = []\n",
    "    for j in range(0, len(trainingSets[i].inputs)):\n",
    "        x = trainingSets[i].inputs[j].value\n",
    "        f = trainingSets[i].outputs[j]\n",
    "        ahat = gs[i]\n",
    "        bias_set.append((abar * x - f)**2)\n",
    "        vars_set.append((ahat * x - abar * x)**2)\n",
    "        \n",
    "    biases.append(np.mean(bias_set))\n",
    "    variances.append(np.mean(vars_set))\n",
    "\n",
    "bias = np.round(np.mean(biases), 2)\n",
    "variance = np.round(np.mean(variances), 2)\n",
    "eout = np.round(bias + variance, 2)\n",
    "\n",
    "print(\"g_bar(x) = {}x\".format(np.round(abar, 2)))\n",
    "print(\"bias = {}\".format(bias))\n",
    "print(\"variance = {}\".format(variance))\n",
    "print(\"Eout = {}\".format(eout))"
   ]
  },
  {
   "cell_type": "code",
   "execution_count": 38,
   "metadata": {},
   "outputs": [
    {
     "name": "stdout",
     "output_type": "stream",
     "text": [
      "g_bar(x) = -0.01x^2\n",
      "bias = 0.5\n",
      "variance = 0.26\n",
      "Eout = 0.76\n"
     ]
    }
   ],
   "source": [
    "gs=[]\n",
    "trainingSets = []\n",
    "for i in range(0, 100000):\n",
    "    trainingSet = DataSet(N=2, lower=-1.0, upper=1.0)\n",
    "    linearRegression = LinearRegression(trainingSet, hypothesis=Hypothesis.QUADRATIC)\n",
    "    g = linearRegression.run(TargetFunction())\n",
    "    trainingSets.append(trainingSet)\n",
    "    gs.append(g)\n",
    "\n",
    "gbar = np.mean(np.array(gs))\n",
    "abar = gbar\n",
    "\n",
    "biases = []\n",
    "variances = []\n",
    "\n",
    "for i in range(0, len(trainingSets)):\n",
    "    bias_set = []\n",
    "    vars_set = []\n",
    "    for j in range(0, len(trainingSets[i].inputs)):\n",
    "        x = trainingSets[i].inputs[j].value\n",
    "        f = trainingSets[i].outputs[j]\n",
    "        ahat = gs[i]\n",
    "        bias_set.append((abar * x**2 - f)**2)\n",
    "        vars_set.append((ahat * x**2 - abar * x**2)**2)\n",
    "        \n",
    "    biases.append(np.mean(bias_set))\n",
    "    variances.append(np.mean(vars_set))\n",
    "\n",
    "bias = np.round(np.mean(biases), 2)\n",
    "variance = np.round(np.mean(variances), 2)\n",
    "eout = np.round(bias + variance, 2)\n",
    "\n",
    "print(\"g_bar(x) = {}x^2\".format(np.round(float(abar), 2)))\n",
    "print(\"bias = {}\".format(bias))\n",
    "print(\"variance = {}\".format(variance))\n",
    "print(\"Eout = {}\".format(eout))"
   ]
  },
  {
   "cell_type": "code",
   "execution_count": null,
   "metadata": {},
   "outputs": [],
   "source": []
  }
 ],
 "metadata": {
  "kernelspec": {
   "display_name": "Python 3",
   "language": "python",
   "name": "python3"
  },
  "language_info": {
   "codemirror_mode": {
    "name": "ipython",
    "version": 3
   },
   "file_extension": ".py",
   "mimetype": "text/x-python",
   "name": "python",
   "nbconvert_exporter": "python",
   "pygments_lexer": "ipython3",
   "version": "3.6.4"
  }
 },
 "nbformat": 4,
 "nbformat_minor": 2
}
