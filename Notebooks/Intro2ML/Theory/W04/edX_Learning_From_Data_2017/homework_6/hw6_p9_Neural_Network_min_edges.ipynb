{
 "cells": [
  {
   "cell_type": "markdown",
   "metadata": {},
   "source": [
    "# Homework 6\n",
    "\n",
    "## Problem 9\n",
    "\n",
    "We are given 10 input units, 1 output unit and 36 units in the hidden layer (a unit also includes the bias node). We have to find an architecture for the hidden layer that **minimizes** the number of weight edges.\n",
    "\n",
    "### Solution\n",
    "\n",
    "The minimum number of weight edges is achieved for the architecture with 18 hidden layers, where each layer consists of a bias node and a regular node:\n",
    "\n",
    "$d = [9, 1, 1, 1, 1, 1, 1, 1, 1, 1, 1, 1, 1, 1, 1, 1, 1, 1, 1, 1]$\n",
    "\n",
    "For this architecture $d$ the number of weight edges is 46. A proof that this architecture achieves the minimum number of weight edges is shown in the solution for Problem 10."
   ]
  },
  {
   "cell_type": "code",
   "execution_count": 3,
   "metadata": {},
   "outputs": [
    {
     "name": "stdout",
     "output_type": "stream",
     "text": [
      "total number of edges:  46\n"
     ]
    }
   ],
   "source": [
    "def get_edges(architecture):\n",
    "    total_edges = 0\n",
    "    L = len(architecture) - 1\n",
    "    for i in range(L):\n",
    "        total_edges += (d[i] + 1) * d[i+1]\n",
    "    return total_edges\n",
    "\n",
    "d = [9, 1, 1, 1, 1, 1, 1, 1, 1, 1, 1, 1, 1, 1, 1, 1, 1, 1, 1, 1]\n",
    "print(\"total number of edges: \", get_edges(d))"
   ]
  },
  {
   "cell_type": "markdown",
   "metadata": {},
   "source": [
    "![minimum_architecture](figures/hw6_p9_neural_network_min_edges.png)"
   ]
  }
 ],
 "metadata": {
  "kernelspec": {
   "display_name": "Python 3",
   "language": "python",
   "name": "python3"
  },
  "language_info": {
   "codemirror_mode": {
    "name": "ipython",
    "version": 3
   },
   "file_extension": ".py",
   "mimetype": "text/x-python",
   "name": "python",
   "nbconvert_exporter": "python",
   "pygments_lexer": "ipython3",
   "version": "3.6.2"
  }
 },
 "nbformat": 4,
 "nbformat_minor": 2
}
