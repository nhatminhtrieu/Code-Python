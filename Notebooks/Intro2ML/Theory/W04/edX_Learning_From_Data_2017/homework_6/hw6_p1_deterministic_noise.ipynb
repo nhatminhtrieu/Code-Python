{
 "cells": [
  {
   "cell_type": "markdown",
   "metadata": {},
   "source": [
    "# Homework 6\n",
    "\n",
    "## Problem 1\n",
    "\n",
    "If we consider a subset $H' \\subset H$, then in general the deterministic noise will increase. The reason is as follows.\n",
    "\n",
    "Let $h^{*}$ be the hypothesis from a hypothesis set $H$ that best describes a target function $f$. Then deterministic noise is described as the part of  $f$ that $h^{*}$ cannot describe: $f(x) - h^{*}(x)$\n",
    "\n",
    "(see lecture 11, slide 16)\n",
    "\n",
    "In other words it is the inability of $h^{*}$ to describe $f$. This inability increases if we make our hypothesis set smaller by considering only a subset $H' \\subset H$.\n",
    "\n",
    "For example, let $f$ be a 10th order polynomial. Further, let $H_{10}$ and $H_{2}$ be the hypothesis sets with polynomials of order 10 and 2 respectively. Then we can find a hypothesis $h^*$ in $H_{10}$ that fits $f$ perfectly. However, if you only have  $H_2$, which is a subset of $H_{10}$, then your best hypothesis $h^*$ in $H_2$ cannot capture $f$ and has to deal with deterministic noise."
   ]
  }
 ],
 "metadata": {
  "kernelspec": {
   "display_name": "Python 3",
   "language": "python",
   "name": "python3"
  },
  "language_info": {
   "codemirror_mode": {
    "name": "ipython",
    "version": 3
   },
   "file_extension": ".py",
   "mimetype": "text/x-python",
   "name": "python",
   "nbconvert_exporter": "python",
   "pygments_lexer": "ipython3",
   "version": "3.6.2"
  }
 },
 "nbformat": 4,
 "nbformat_minor": 2
}
