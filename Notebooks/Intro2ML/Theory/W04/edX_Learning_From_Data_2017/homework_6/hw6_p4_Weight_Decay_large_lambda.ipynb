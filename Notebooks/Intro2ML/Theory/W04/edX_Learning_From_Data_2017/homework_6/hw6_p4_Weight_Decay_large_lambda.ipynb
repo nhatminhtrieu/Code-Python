{
 "cells": [
  {
   "cell_type": "markdown",
   "metadata": {},
   "source": [
    "# Homework 6\n",
    "\n",
    "## Problem 4 - Weight Decay\n",
    "\n",
    "Same as problem 3, except that we have to use $\\lambda = 10^{3}$ .\n",
    "\n",
    "\n",
    "## Import libraries and read data\n",
    "\n",
    "Let's first import libraries and read data into a pandas dataframe."
   ]
  },
  {
   "cell_type": "code",
   "execution_count": 1,
   "metadata": {
    "collapsed": true
   },
   "outputs": [],
   "source": [
    "import pandas as pd        # for reading in the data\n",
    "import numpy as np"
   ]
  },
  {
   "cell_type": "markdown",
   "metadata": {},
   "source": [
    "## A. Read in training set\n",
    "\n",
    "We read in the in-sample data."
   ]
  },
  {
   "cell_type": "code",
   "execution_count": 2,
   "metadata": {},
   "outputs": [
    {
     "name": "stdout",
     "output_type": "stream",
     "text": [
      "The first 5 rows of the table:\n",
      "\n",
      "         x1        x2    y\n",
      "0 -0.779470  0.838221  1.0\n",
      "1  0.155635  0.895377  1.0\n",
      "2 -0.059908 -0.717780  1.0\n",
      "3  0.207596  0.758933  1.0\n",
      "4 -0.195983 -0.375487 -1.0\n",
      "\n",
      "The table has 35 rows and 3 columns.\n",
      "So we have N = 35 data points (x1,x2) with classification y.\n"
     ]
    }
   ],
   "source": [
    "# dataframe df\n",
    "# assign header names for each column\n",
    "# tell pandas that data is separated by whitespace\n",
    "# tell pandas that datatype is float64 \n",
    "df_train = pd.read_csv('in.dta.txt', names = [\"x1\", \"x2\", \"y\"], sep='\\s+', dtype=np.float64)\n",
    "print('The first 5 rows of the table:\\n')\n",
    "print(df_train.head(5))\n",
    "print()\n",
    "\n",
    "\n",
    "# Examine data\n",
    "rows, col = df_train.shape\n",
    "print(\"The table has {0} rows and {1} columns.\".format(rows, col))\n",
    "print(\"So we have N = {0} data points (x1,x2) with classification y.\".format(rows))"
   ]
  },
  {
   "cell_type": "markdown",
   "metadata": {},
   "source": [
    "## Implement Linear Regression with regularization (weight decay)"
   ]
  },
  {
   "cell_type": "code",
   "execution_count": 3,
   "metadata": {
    "collapsed": true
   },
   "outputs": [],
   "source": [
    "def problem_4_weight_decay(dataframe, lambda_param):\n",
    "    '''\n",
    "    Takes a pandas dataframe as test set.\n",
    "    \n",
    "    Returns the classification error and the weight vector w_tilde_reg\n",
    "    using weight decay as regularization.\n",
    "    '''\n",
    "    \n",
    "    # Use data from the pandas dataframe\n",
    "    x1 = np.array(dataframe['x1'])\n",
    "    x2 = np.array(dataframe['x2'])\n",
    "    y = np.array(dataframe['y'])\n",
    "    N = dataframe.shape[0]\n",
    "    \n",
    "    # feature matrix Z with 8 columns\n",
    "    Z = np.array([np.ones(N), x1, x2,\n",
    "                  x1**2, x2**2, x1*x2,\n",
    "                  np.absolute(x1-x2), np.absolute(x1+x2)]).T\n",
    "\n",
    "    num_columns_Z = Z.shape[1]\n",
    "    \n",
    "    # see lecture 3, slide 17\n",
    "    Z_dagger_reg = np.dot(np.linalg.inv(np.dot(Z.T, Z) + lambda_param * np.identity(num_columns_Z)), Z.T)\n",
    "\n",
    "    # Use linear regression to get weight vector\n",
    "    w_tilde_reg = np.dot(Z_dagger_reg, y)\n",
    "\n",
    "    # compute classification error\n",
    "    error = sum(y != np.sign(np.dot(Z, w_tilde_reg))) / N\n",
    "    return (error, w_tilde_reg)"
   ]
  },
  {
   "cell_type": "markdown",
   "metadata": {},
   "source": [
    "## Compute in-sample classification error $E_{in}$"
   ]
  },
  {
   "cell_type": "code",
   "execution_count": 4,
   "metadata": {},
   "outputs": [
    {
     "name": "stdout",
     "output_type": "stream",
     "text": [
      "The in-sample classification error is E_in = 0.37142857142857144\n"
     ]
    }
   ],
   "source": [
    "lambda_param = 10**3\n",
    "E_in, w_tilde_reg = problem_4_weight_decay(df_train, lambda_param)\n",
    "print('The in-sample classification error is E_in = {0}'.format(E_in))"
   ]
  },
  {
   "cell_type": "markdown",
   "metadata": {},
   "source": [
    "## B. Read in test set\n",
    "\n",
    "We read in the out-of-sample data."
   ]
  },
  {
   "cell_type": "code",
   "execution_count": 5,
   "metadata": {},
   "outputs": [
    {
     "name": "stdout",
     "output_type": "stream",
     "text": [
      "The first 5 rows of the table:\n",
      "\n",
      "         x1        x2    y\n",
      "0 -0.106006 -0.081467 -1.0\n",
      "1  0.177930 -0.345951 -1.0\n",
      "2  0.102162  0.718258  1.0\n",
      "3  0.694078  0.623397 -1.0\n",
      "4  0.023541  0.727432  1.0\n",
      "\n",
      "The table has 250 rows and 3 columns.\n",
      "So we have N = 250 data points (x1,x2) with classification y.\n"
     ]
    }
   ],
   "source": [
    "# dataframe df\n",
    "# assign header names for each column\n",
    "# tell pandas that data is separated by whitespace\n",
    "# tell pandas that datatype is float64 \n",
    "df_test = pd.read_csv('out.dta.txt', names = [\"x1\", \"x2\", \"y\"], sep='\\s+', dtype=np.float64)\n",
    "print('The first 5 rows of the table:\\n')\n",
    "print(df_test.head(5))\n",
    "print()\n",
    "\n",
    "\n",
    "# Examine data\n",
    "rows, col = df_test.shape\n",
    "print(\"The table has {0} rows and {1} columns.\".format(rows, col))\n",
    "print(\"So we have N = {0} data points (x1,x2) with classification y.\".format(rows))"
   ]
  },
  {
   "cell_type": "markdown",
   "metadata": {},
   "source": [
    "## Compute out-of-sample classification error $E_{out}$"
   ]
  },
  {
   "cell_type": "code",
   "execution_count": 6,
   "metadata": {},
   "outputs": [
    {
     "name": "stdout",
     "output_type": "stream",
     "text": [
      "The out-of-sample classification error is E_out = 0.436\n"
     ]
    }
   ],
   "source": [
    "# Use data from the pandas dataframe\n",
    "x1 = np.array(df_test['x1'])\n",
    "x2 = np.array(df_test['x2'])\n",
    "y = np.array(df_test['y'])\n",
    "N = df_test.shape[0]\n",
    "\n",
    "# feature matrix Z\n",
    "Z = np.array([np.ones(N), x1, x2,\n",
    "             x1**2, x2**2, x1*x2,\n",
    "             np.absolute(x1-x2), np.absolute(x1+x2)]).T\n",
    "\n",
    "# Compute out-of-sample error\n",
    "E_out = sum(y != np.sign(np.dot(Z, w_tilde_reg))) / N\n",
    "print('The out-of-sample classification error is E_out = {0}'.format(E_out))"
   ]
  },
  {
   "cell_type": "markdown",
   "metadata": {},
   "source": [
    "# Pick answer\n",
    "\n",
    "As per problem statement we use the Euclidian distance to determine which of the possible answers is closest to our computed values."
   ]
  },
  {
   "cell_type": "code",
   "execution_count": 7,
   "metadata": {
    "scrolled": true
   },
   "outputs": [
    {
     "name": "stdout",
     "output_type": "stream",
     "text": [
      "Our computed values are (E_in, E_out) =  (0.37142857142857144, 0.436) \n",
      "\n",
      "choice= (0.2, 0.2) \tEuclidian distance: 0.291691198191\n",
      "choice= (0.2, 0.3) \tEuclidian distance: 0.218823570719\n",
      "choice= (0.3, 0.3) \tEuclidian distance: 0.153616538225\n",
      "choice= (0.3, 0.4) \tEuclidian distance: 0.0799877541648\n",
      "choice= (0.4, 0.4) \tEuclidian distance: 0.0459600536402\n",
      "\n",
      "We pick: (0.4, 0.4)\n"
     ]
    }
   ],
   "source": [
    "choices = [(0.2, 0.2), (0.2, 0.3), (0.3, 0.3), (0.3, 0.4), (0.4, 0.4)]\n",
    "\n",
    "computed_values = (E_in, E_out)\n",
    "\n",
    "min_distance = 2**64\n",
    "pick_choice = None\n",
    "\n",
    "print(\"Our computed values are (E_in, E_out) = \", computed_values, \"\\n\")\n",
    "\n",
    "for choice in choices:\n",
    "    distance = np.linalg.norm(np.array(choice) - np.array(computed_values))\n",
    "    if distance < min_distance:\n",
    "        min_distance = distance\n",
    "        pick_choice = choice\n",
    "    print(\"choice=\", choice, \"\\tEuclidian distance:\", distance)\n",
    "\n",
    "    \n",
    "print(\"\\nWe pick:\", pick_choice)"
   ]
  },
  {
   "cell_type": "markdown",
   "metadata": {},
   "source": [
    "# Result\n",
    "\n",
    "The correct answer is **4[e]** (0.4, 0.4)."
   ]
  }
 ],
 "metadata": {
  "kernelspec": {
   "display_name": "Python 3",
   "language": "python",
   "name": "python3"
  },
  "language_info": {
   "codemirror_mode": {
    "name": "ipython",
    "version": 3
   },
   "file_extension": ".py",
   "mimetype": "text/x-python",
   "name": "python",
   "nbconvert_exporter": "python",
   "pygments_lexer": "ipython3",
   "version": "3.6.2"
  }
 },
 "nbformat": 4,
 "nbformat_minor": 2
}
