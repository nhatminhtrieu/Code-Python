{
 "cells": [
  {
   "cell_type": "markdown",
   "metadata": {},
   "source": [
    "# Homework 7\n",
    "\n",
    "## Problem 7\n",
    "\n",
    "The notation $H(Q,C,Q_0)$ means that we are setting all coefficients $w_q$ with $q \\geq Q_0$ to the value $C$ .\n",
    "\n",
    "In **7[c]** we are setting coefficients to zero, e.g. $H(10,0,3)$ sets all coefficients greater or equal to $3$ to zero. This means $H(10,0,3)$ consists of all second order polynomials. Similarly, $H(10,0,4)$ consists of all third order polynomials. Hence, the intersection consists of all second order polynomials, and we have\n",
    "\n",
    "$H(10,0,3) \\cap H(10,0,4) = H_{2}$\n",
    "\n",
    "So the correct answer is **7[c]** ."
   ]
  },
  {
   "cell_type": "markdown",
   "metadata": {},
   "source": [
    "**Note:**\n",
    "    \n",
    "By setting coefficients to zero we are constraining the available hypotheses. You can think of this as regularization if you recall that regularization means constraining the solutions to within a circle (see lecture 12, slide 9).\n",
    "\n",
    "You can also think of the [Legendre polynomials](https://en.wikipedia.org/wiki/Legendre_polynomials) as [basis vectors](http://faculty.bard.edu/belk/math461/HilbertSpaces.pdf) who are [orthogonal](http://sydney.edu.au/science/chemistry/~mjtj/CHEM3117/Resources/poly_etc.pdf) to each other with respect to some inner product, and who form a [complete set](https://math.stackexchange.com/questions/591406/proof-that-legendre-polynomials-are-complete) meaning that you can represent any function in a certain space as a [linear combination of Legendre polynomials](http://www.math.tamu.edu/~yvorobet/MATH304-503/Lect4-04web.pdf). By setting coefficients to zero you are reducing the [span](https://www.youtube.com/watch?v=ivP-6oicIWU)."
   ]
  }
 ],
 "metadata": {
  "kernelspec": {
   "display_name": "Python 3",
   "language": "python",
   "name": "python3"
  },
  "language_info": {
   "codemirror_mode": {
    "name": "ipython",
    "version": 3
   },
   "file_extension": ".py",
   "mimetype": "text/x-python",
   "name": "python",
   "nbconvert_exporter": "python",
   "pygments_lexer": "ipython3",
   "version": "3.6.2"
  }
 },
 "nbformat": 4,
 "nbformat_minor": 2
}
