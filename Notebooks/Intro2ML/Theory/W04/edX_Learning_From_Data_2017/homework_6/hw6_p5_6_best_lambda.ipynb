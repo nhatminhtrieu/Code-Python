{
 "cells": [
  {
   "cell_type": "markdown",
   "metadata": {},
   "source": [
    "# Homework 6\n",
    "\n",
    "## Problem 5 - Determine best $\\lambda$\n",
    "\n",
    "We have to determine the $\\lambda$ among the given choices that results in the smallest out-of-sample error.\n",
    "\n",
    "\n",
    "## Import libraries and read data\n",
    "\n",
    "Let's first import libraries and read data into a pandas dataframe."
   ]
  },
  {
   "cell_type": "code",
   "execution_count": 1,
   "metadata": {
    "collapsed": true
   },
   "outputs": [],
   "source": [
    "import pandas as pd                   # for reading in the data\n",
    "import numpy as np\n",
    "import matplotlib.pyplot as plt       # for data visualization"
   ]
  },
  {
   "cell_type": "markdown",
   "metadata": {},
   "source": [
    "## Read in training and test set"
   ]
  },
  {
   "cell_type": "code",
   "execution_count": 2,
   "metadata": {
    "collapsed": true
   },
   "outputs": [],
   "source": [
    "df_train = pd.read_csv('in.dta.txt', names = [\"x1\", \"x2\", \"y\"], sep='\\s+', dtype=np.float64)\n",
    "df_test = pd.read_csv('out.dta.txt', names = [\"x1\", \"x2\", \"y\"], sep='\\s+', dtype=np.float64)"
   ]
  },
  {
   "cell_type": "markdown",
   "metadata": {},
   "source": [
    "## Create feature matrix $Z$ and extract labels $y$ from data"
   ]
  },
  {
   "cell_type": "code",
   "execution_count": 3,
   "metadata": {
    "collapsed": true
   },
   "outputs": [],
   "source": [
    "def get_feature_matrix_Z_and_label_y(dataframe):\n",
    "    '''\n",
    "    - Takes a pandas dataframe.\n",
    "    - Returns the feature matrix Z and the labels y.\n",
    "    '''\n",
    "    x1 = np.array(dataframe['x1'])\n",
    "    x2 = np.array(dataframe['x2'])\n",
    "    y = np.array(dataframe['y'])\n",
    "    N = dataframe.shape[0]\n",
    "    \n",
    "    # feature matrix Z with 8 columns\n",
    "    Z = np.array([np.ones(N), x1, x2,\n",
    "                  x1**2, x2**2, x1*x2,\n",
    "                  np.absolute(x1-x2), np.absolute(x1+x2)]).T\n",
    "    \n",
    "    return (Z, y)"
   ]
  },
  {
   "cell_type": "markdown",
   "metadata": {},
   "source": [
    "## Implement Linear Regression with regularization (weight decay)"
   ]
  },
  {
   "cell_type": "code",
   "execution_count": 4,
   "metadata": {
    "collapsed": true
   },
   "outputs": [],
   "source": [
    "def get_w_reg(Z, y, lambda_param):\n",
    "    '''\n",
    "    - Takes the feature matrix Z, the labels y \n",
    "      and the regularization parameter lambda_param.\n",
    "    - Returns the weight vector w_reg via \n",
    "      linear regression with regularization (weight decay).\n",
    "    '''\n",
    "    \n",
    "    num_columns_Z = Z.shape[1]\n",
    "    \n",
    "    # see lecture 12, slide 11\n",
    "    Z_dagger_reg = np.dot(np.linalg.inv(np.dot(Z.T, Z) + lambda_param * np.identity(num_columns_Z)), Z.T)\n",
    "\n",
    "    # Use linear regression with regularization to get weight vector\n",
    "    w_reg = np.dot(Z_dagger_reg, y)\n",
    "\n",
    "    return w_reg"
   ]
  },
  {
   "cell_type": "markdown",
   "metadata": {},
   "source": [
    "## Compute out-of-sample classification error $E_{out}$ for different $\\lambda$"
   ]
  },
  {
   "cell_type": "code",
   "execution_count": 5,
   "metadata": {},
   "outputs": [
    {
     "name": "stdout",
     "output_type": "stream",
     "text": [
      "lambda = 100 => \t E_out = 0.228\n",
      "lambda = 10 => \t E_out = 0.124\n",
      "lambda = 1 => \t E_out = 0.092\n",
      "lambda = 0.1 => \t E_out = 0.056\n",
      "lambda = 0.01 => \t E_out = 0.084\n",
      "\n",
      "The smallest E_out is achieved for the choice lambda = 0.1 , i.e. k = -1.0\n"
     ]
    }
   ],
   "source": [
    "# lambda parameters\n",
    "# Tip: You can temporarily include k = -3 and k = +3 as a test to make sure\n",
    "# you get the same values from problem 4 and 5.\n",
    "params = [10**k for k in [2, 1, 0, -1, -2]]\n",
    "\n",
    "\n",
    "# size of test set\n",
    "N_test = df_test.shape[0]\n",
    "\n",
    "# get feature matrix Z and labels y\n",
    "Z_train, y_train = get_feature_matrix_Z_and_label_y(df_train)\n",
    "Z_test, y_test = get_feature_matrix_Z_and_label_y(df_test)\n",
    "\n",
    "\n",
    "# compute E_out for different lambda parameters\n",
    "# Pay attention to use the correct feature matrix Z_train and Z_test respectively !\n",
    "# For w_reg use Z_train and y_train, for E_out use Z_test and y_test !\n",
    "\n",
    "min_E_out = 2**64\n",
    "best_lambda = None\n",
    "\n",
    "for lambda_param in params:\n",
    "    w_reg = get_w_reg(Z_train, y_train, lambda_param)\n",
    "    E_out = sum(y_test != np.sign(np.dot(Z_test, w_reg))) / N_test\n",
    "    print('lambda = {0} => \\t E_out = {1}'.format(lambda_param, E_out))\n",
    "    if E_out < min_E_out:\n",
    "        min_E_out = E_out\n",
    "        best_lambda = lambda_param\n",
    "\n",
    "print('\\nThe smallest E_out is achieved for the choice lambda =', best_lambda, ', i.e. k =', np.log10(best_lambda))"
   ]
  },
  {
   "cell_type": "markdown",
   "metadata": {},
   "source": [
    "## Pick answer\n",
    "\n",
    "The answer is therefore **5[d]** -1.\n",
    "\n",
    "__________________________________"
   ]
  },
  {
   "cell_type": "markdown",
   "metadata": {},
   "source": [
    "# Problem 6\n",
    "\n",
    "We have to find the best $\\lambda$ (with $\\lambda = 10^k$ and integer $k$) that minimizes $E_{out}$. We will also plot $E_{out}$ as a function of $\\lambda$ to get an idea for the necessary range that we have to consider."
   ]
  },
  {
   "cell_type": "markdown",
   "metadata": {},
   "source": [
    "## 6.1 Check $\\lambda=10^k$ for integer values $k$\n",
    "\n",
    "Let's first check integer values $k$ from $-10$ to $10$, i.e. $\\lambda$ from $10^{-10}$ to $10^{10}$."
   ]
  },
  {
   "cell_type": "code",
   "execution_count": 6,
   "metadata": {},
   "outputs": [
    {
     "name": "stdout",
     "output_type": "stream",
     "text": [
      "lambda = 1e-10 => \t E_out = 0.084\n",
      "lambda = 1e-09 => \t E_out = 0.084\n",
      "lambda = 1e-08 => \t E_out = 0.084\n",
      "lambda = 1e-07 => \t E_out = 0.084\n",
      "lambda = 1e-06 => \t E_out = 0.084\n",
      "lambda = 1e-05 => \t E_out = 0.084\n",
      "lambda = 0.0001 => \t E_out = 0.084\n",
      "lambda = 0.001 => \t E_out = 0.08\n",
      "lambda = 0.01 => \t E_out = 0.084\n",
      "lambda = 0.1 => \t E_out = 0.056\n",
      "lambda = 1 => \t E_out = 0.092\n",
      "lambda = 10 => \t E_out = 0.124\n",
      "lambda = 100 => \t E_out = 0.228\n",
      "lambda = 1000 => \t E_out = 0.436\n",
      "lambda = 10000 => \t E_out = 0.452\n",
      "lambda = 100000 => \t E_out = 0.456\n",
      "lambda = 1000000 => \t E_out = 0.456\n",
      "lambda = 10000000 => \t E_out = 0.456\n",
      "lambda = 100000000 => \t E_out = 0.456\n",
      "lambda = 1000000000 => \t E_out = 0.456\n",
      "\n",
      "The smallest E_out is achieved for the choice lambda = 0.1  with E_out = 0.056\n"
     ]
    }
   ],
   "source": [
    "# lambda parameters\n",
    "params = [10**k for k in range(-10, 10, 1)]\n",
    "\n",
    "# size of test set\n",
    "N_test = df_test.shape[0]\n",
    "\n",
    "# get feature matrix Z and labels y\n",
    "Z_train, y_train = get_feature_matrix_Z_and_label_y(df_train)\n",
    "Z_test, y_test = get_feature_matrix_Z_and_label_y(df_test)\n",
    "\n",
    "\n",
    "# compute E_out for different lambda parameters\n",
    "# Pay attention to use the correct feature matrix Z_train and Z_test respectively !\n",
    "# For w_reg use Z_train and y_train, for E_out use Z_test and y_test !\n",
    "\n",
    "min_E_out = 2**64\n",
    "best_lambda = None\n",
    "\n",
    "for lambda_param in params:\n",
    "    w_reg = get_w_reg(Z_train, y_train, lambda_param)\n",
    "    E_out = sum(y_test != np.sign(np.dot(Z_test, w_reg))) / N_test\n",
    "    print('lambda = {0} => \\t E_out = {1}'.format(lambda_param, E_out))\n",
    "    if E_out < min_E_out:\n",
    "        min_E_out = E_out\n",
    "        best_lambda = lambda_param\n",
    "\n",
    "print('\\nThe smallest E_out is achieved for the choice lambda =', best_lambda, ' with E_out =', min_E_out)"
   ]
  },
  {
   "cell_type": "markdown",
   "metadata": {},
   "source": [
    "## 6.2 Plotting $E_{out}$ vs $\\lambda$\n",
    "\n",
    "We plot $E_{out}$ vs $\\lambda$ to find out if we have potentially missed a choice for $\\lambda$ that leads to a smaller $E_{out}$.\n",
    "\n",
    "\n",
    "### 6.2 a) range $\\lambda \\in [0, 10000]$"
   ]
  },
  {
   "cell_type": "code",
   "execution_count": 7,
   "metadata": {},
   "outputs": [
    {
     "name": "stdout",
     "output_type": "stream",
     "text": [
      "Checking lambda range: 0 to 10000 with stepsize 10\n",
      "best lambda =  0  with E_out = 0.084\n"
     ]
    },
    {
     "data": {
      "image/png": "[encoded data removed]",
      "text/plain": [
       "<matplotlib.figure.Figure at 0x23e72c7a668>"
      ]
     },
     "metadata": {},
     "output_type": "display_data"
    }
   ],
   "source": [
    "min_E_out = 2**64\n",
    "best_lambda = None\n",
    "\n",
    "# step size 10\n",
    "lambdas = np.arange(0, 10000, 10)\n",
    "E_out_values = []\n",
    "\n",
    "for lambda_param in lambdas:\n",
    "    w_reg = get_w_reg(Z_train, y_train, lambda_param)\n",
    "    E_out = sum(y_test != np.sign(np.dot(Z_test, w_reg))) / N_test\n",
    "    E_out_values.append(E_out)\n",
    "    if E_out < min_E_out:\n",
    "        min_E_out = E_out\n",
    "        best_lambda = lambda_param\n",
    "        \n",
    "print(\"Checking lambda range: 0 to 10000 with stepsize 10\")\n",
    "print(\"best lambda = \", best_lambda, \" with E_out =\", min_E_out)\n",
    "fig1 = plt.figure(1, dpi =80)\n",
    "plt.title('Out-of-sample classification error $E_{out}$ as a \\nfunction of the regularization parameter $\\lambda$')\n",
    "plt.plot(lambdas, E_out_values)\n",
    "plt.ylabel('$E_{out}$')\n",
    "plt.xlabel('$\\lambda$')\n",
    "plt.show()"
   ]
  },
  {
   "cell_type": "markdown",
   "metadata": {},
   "source": [
    "- If we use a stepsize of 10, then we will miss the choice $\\lambda = 0.01$. In that case $\\lambda = 0$ appears to achieve the smallest $E_{out}$.\n",
    "\n",
    "- The error $E_{out}$ reaches a plateau of 0.45."
   ]
  },
  {
   "cell_type": "markdown",
   "metadata": {},
   "source": [
    "### 6.2 b) range $\\lambda \\in [0, 1]$"
   ]
  },
  {
   "cell_type": "code",
   "execution_count": 8,
   "metadata": {},
   "outputs": [
    {
     "name": "stdout",
     "output_type": "stream",
     "text": [
      "Checking lambda range: 0 to 1 with stepsize 0.001\n",
      "best lambda =  0.094  with E_out = 0.056\n"
     ]
    },
    {
     "data": {
      "image/png": "[encoded data removed]",
      "text/plain": [
       "<matplotlib.figure.Figure at 0x23e73125438>"
      ]
     },
     "metadata": {},
     "output_type": "display_data"
    }
   ],
   "source": [
    "min_E_out = 2**64\n",
    "best_lambda = None\n",
    "\n",
    "\n",
    "lambdas = np.arange(0, 1, 0.001)\n",
    "E_out_values = []\n",
    "\n",
    "for lambda_param in lambdas:\n",
    "    w_reg = get_w_reg(Z_train, y_train, lambda_param)\n",
    "    E_out = sum(y_test != np.sign(np.dot(Z_test, w_reg))) / N_test\n",
    "    E_out_values.append(E_out)\n",
    "    if E_out < min_E_out:\n",
    "        min_E_out = E_out\n",
    "        best_lambda = lambda_param\n",
    "\n",
    "print(\"Checking lambda range: 0 to 1 with stepsize 0.001\")        \n",
    "print(\"best lambda = \", best_lambda, \" with E_out =\", min_E_out)\n",
    "fig1 = plt.figure(1, dpi =80)\n",
    "plt.title('Out-of-sample classification error $E_{out}$ as a \\nfunction of the regularization parameter $\\lambda$')\n",
    "plt.plot(lambdas, E_out_values)\n",
    "plt.ylabel('$E_{out}$')\n",
    "plt.xlabel('$\\lambda$')\n",
    "plt.show()\n"
   ]
  },
  {
   "cell_type": "markdown",
   "metadata": {},
   "source": [
    "From the plot we can see that $E_{out}$ has its minimum between $0.0$ and $0.2$ . This confirms that our choice $k=-1$ for $\\lambda = 10^k$, i.e. $\\lambda = 0.1$,  minimizes $E_{out}$."
   ]
  },
  {
   "cell_type": "markdown",
   "metadata": {},
   "source": [
    "## Result\n",
    "\n",
    "The smallest $E_{out}$ is achieved for the choice $k=-1$, i.e. $\\lambda = 0.1$  with $E_{out} = 0.056$.\n",
    "\n",
    "The answer is therefore **6[b]** 0.06."
   ]
  },
  {
   "cell_type": "markdown",
   "metadata": {},
   "source": [
    "# Conclusion\n",
    "\n",
    "- Without regularization the out-of-sample error is $E_{out} = 0.084$.\n",
    "\n",
    "- With regularization we managed to reduce the out-of-sample error to $E_{out} = 0.056$. That's an improvement of $2.8\\%$."
   ]
  }
 ],
 "metadata": {
  "kernelspec": {
   "display_name": "Python 3",
   "language": "python",
   "name": "python3"
  },
  "language_info": {
   "codemirror_mode": {
    "name": "ipython",
    "version": 3
   },
   "file_extension": ".py",
   "mimetype": "text/x-python",
   "name": "python",
   "nbconvert_exporter": "python",
   "pygments_lexer": "ipython3",
   "version": "3.6.2"
  }
 },
 "nbformat": 4,
 "nbformat_minor": 2
}
