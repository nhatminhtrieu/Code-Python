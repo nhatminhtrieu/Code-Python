{
 "cells": [
  {
   "cell_type": "markdown",
   "metadata": {},
   "source": [
    "# This is a Sage Notebook for HW6 - problem 10\n",
    "\n",
    "### Warning\n",
    "\n",
    "The calculations take about 40 minutes."
   ]
  },
  {
   "cell_type": "code",
   "execution_count": 1,
   "metadata": {
    "collapsed": false
   },
   "outputs": [
    {
     "name": "stdout",
     "output_type": "stream",
     "text": [
      "For 2 hidden layers the architecture [9, 21, 13, 1] yields a maximum of 510 edges.\n",
      "For 3 hidden layers the architecture [9, 20, 12, 1, 1] yields a maximum of 467 edges.\n",
      "For 4 hidden layers the architecture [9, 19, 11, 1, 1, 1] yields a maximum of 426 edges.\n",
      "For 5 hidden layers the architecture [9, 18, 10, 1, 1, 1, 1] yields a maximum of 387 edges.\n",
      "For 6 hidden layers the architecture [9, 17, 9, 1, 1, 1, 1, 1] yields a maximum of 350 edges.\n",
      "For 7 hidden layers the architecture [9, 16, 8, 1, 1, 1, 1, 1, 1] yields a maximum of 315 edges.\n",
      "For 8 hidden layers the architecture [9, 15, 7, 1, 1, 1, 1, 1, 1, 1] yields a maximum of 282 edges.\n",
      "For 9 hidden layers the architecture [9, 14, 6, 1, 1, 1, 1, 1, 1, 1, 1] yields a maximum of 251 edges.\n",
      "For 10 hidden layers the architecture [9, 13, 5, 1, 1, 1, 1, 1, 1, 1, 1, 1] yields a maximum of 222 edges.\n",
      "For 11 hidden layers the architecture [9, 12, 4, 1, 1, 1, 1, 1, 1, 1, 1, 1, 1] yields a maximum of 195 edges.\n",
      "For 12 hidden layers the architecture [9, 11, 3, 1, 1, 1, 1, 1, 1, 1, 1, 1, 1, 1] yields a maximum of 170 edges.\n",
      "For 13 hidden layers the architecture [9, 10, 2, 1, 1, 1, 1, 1, 1, 1, 1, 1, 1, 1, 1] yields a maximum of 147 edges.\n",
      "For 14 hidden layers the architecture [9, 9, 1, 1, 1, 1, 1, 1, 1, 1, 1, 1, 1, 1, 1, 1] yields a maximum of 126 edges.\n",
      "For 15 hidden layers the architecture [9, 7, 1, 1, 1, 1, 1, 1, 1, 1, 1, 1, 1, 1, 1, 1, 1] yields a maximum of 106 edges.\n",
      "For 16 hidden layers the architecture [9, 5, 1, 1, 1, 1, 1, 1, 1, 1, 1, 1, 1, 1, 1, 1, 1, 1] yields a maximum of 86 edges.\n",
      "For 17 hidden layers the architecture [9, 3, 1, 1, 1, 1, 1, 1, 1, 1, 1, 1, 1, 1, 1, 1, 1, 1, 1] yields a maximum of 66 edges.\n",
      "For 18 hidden layers the architecture [9, 1, 1, 1, 1, 1, 1, 1, 1, 1, 1, 1, 1, 1, 1, 1, 1, 1, 1, 1] yields a maximum of 46 edges.\n"
     ]
    }
   ],
   "source": [
    "def get_edges(d):\n",
    "    '''\n",
    "    - Takes an architecture d.\n",
    "    - Returns the number of edges in the neural network.\n",
    "    '''\n",
    "    total_edges = sum((d[i] + 1) * d[i+1] for i in range(len(d) - 1))\n",
    "    return total_edges\n",
    "\n",
    "\n",
    "#---------------------------\n",
    "\n",
    "def get_max_architecture(list_archs):\n",
    "    '''\n",
    "    - Takes a list of architectures.\n",
    "    - Returns the architecture with the maximum number of edges and the\n",
    "      and the corresponding number of edges.\n",
    "    '''\n",
    "    max_edges = -1\n",
    "    max_arch = None\n",
    "    \n",
    "    for d in list_archs:\n",
    "        num_edges = get_edges(d)\n",
    "        if max_edges < num_edges:\n",
    "            max_edges = num_edges\n",
    "            max_arch = d\n",
    "    return max_arch, max_edges\n",
    "\n",
    "#----------------------------\n",
    "\n",
    "\n",
    "units = 36\n",
    "\n",
    "\n",
    "for k in range(2, 19):\n",
    "    \n",
    "    comps = Compositions(units - k, length=k)\n",
    "    archs = ([9] + list(c) + [1] for c in comps)\n",
    "\n",
    "    max_arch, max_edges = get_max_architecture(archs)\n",
    "    print(\"For {} hidden layers the architecture {} yields a maximum of {} edges.\".format(k, max_arch, max_edges))"
   ]
  },
  {
   "cell_type": "code",
   "execution_count": null,
   "metadata": {
    "collapsed": true
   },
   "outputs": [],
   "source": []
  }
 ],
 "metadata": {
  "kernelspec": {
   "display_name": "SageMath 8.0",
   "language": "",
   "name": "sagemath"
  },
  "language_info": {
   "codemirror_mode": {
    "name": "ipython",
    "version": 2
   },
   "file_extension": ".py",
   "mimetype": "text/x-python",
   "name": "python",
   "nbconvert_exporter": "python",
   "pygments_lexer": "ipython2",
   "version": "2.7.13"
  }
 },
 "nbformat": 4,
 "nbformat_minor": 2
}
