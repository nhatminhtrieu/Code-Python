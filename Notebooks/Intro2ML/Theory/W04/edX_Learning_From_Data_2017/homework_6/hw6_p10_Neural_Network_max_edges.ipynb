{
 "cells": [
  {
   "cell_type": "markdown",
   "metadata": {
    "collapsed": true
   },
   "source": [
    "# Homework 6\n",
    "\n",
    "## Problem 10\n",
    "\n",
    "We are given 10 input units, 1 output unit and 36 units in the hidden layer (a unit also includes the bias node). We have to find an architecture for the hidden layer that **maximizes** the number of weight edges.\n",
    "\n",
    "### Solution\n",
    "\n",
    "The minimum number of weight edges is achieved for the architecture $d$ with 2 hidden layers, where each layer consists of a bias node and a regular node:\n",
    "\n",
    "$d = [9, 21, 13, 1]$\n",
    "\n",
    "For this architecture the number of weight edges is 510."
   ]
  },
  {
   "cell_type": "code",
   "execution_count": 1,
   "metadata": {},
   "outputs": [
    {
     "name": "stdout",
     "output_type": "stream",
     "text": [
      "total number of edges:  510\n"
     ]
    }
   ],
   "source": [
    "def get_edges(d):\n",
    "    '''\n",
    "    - Takes an architecture d.\n",
    "    - Returns the number of edges in the neural network.\n",
    "    '''\n",
    "    total_edges = 0\n",
    "    L = len(d) - 1\n",
    "    for i in range(L):\n",
    "        total_edges += (d[i] + 1) * d[i+1]\n",
    "    return total_edges\n",
    "\n",
    "\n",
    "print(\"total number of edges: \", get_edges([9, 21, 13, 1]))"
   ]
  },
  {
   "cell_type": "markdown",
   "metadata": {},
   "source": [
    "![neural_network_max_edges](figures/hw6_p10_neural_network_max_edges.png)"
   ]
  },
  {
   "cell_type": "markdown",
   "metadata": {},
   "source": [
    "## Brute force approach via compositions\n",
    "\n",
    "In order to find this architecture we will examine what the number of maximum weight edges is for a given number of hidden layers. \n",
    "\n",
    "- We have at least one hidden layer.\n",
    "\n",
    "- Each hidden layer requires at least (1 bias + 1 regular node) = 2 hidden units. So having 36 hidden units at disposal means we can have at most $36/2 = 18$ hidden layers.\n",
    "\n",
    "- We determine the maximum number of edges we can achieve with 1 hidden layer, with 2 hidden layers, ..., 18 hidden layers.\n",
    "\n",
    "## 1 hidden layer\n",
    "\n",
    "For 1 hidden layer there is only one possible architecture, namely all 36 units in the hidden layer. This means we have 1 bias node and 35 regular nodes  in the hidden layer, and the architecture is:\n",
    "\n",
    "$d = [9, 35, 1]$"
   ]
  },
  {
   "cell_type": "code",
   "execution_count": 2,
   "metadata": {},
   "outputs": [
    {
     "name": "stdout",
     "output_type": "stream",
     "text": [
      "total number of edges =  386\n"
     ]
    }
   ],
   "source": [
    "print(\"total number of edges = \", get_edges([9, 35, 1]))"
   ]
  },
  {
   "cell_type": "markdown",
   "metadata": {},
   "source": [
    "### Result\n",
    "\n",
    "For 1 hidden layer the maximum number of edges is 386."
   ]
  },
  {
   "cell_type": "markdown",
   "metadata": {},
   "source": [
    "## 2 hidden layers\n",
    "\n",
    "### 2a) Compositions\n",
    "\n",
    "For 2 hidden layers we have 2 bias nodes. This leaves us with 36 - 2 = 34 regular nodes to distribute where each hidden layer contains at least 1 regular node.\n",
    "\n",
    "- $(1, 33)$\n",
    "- $(2, 32)$\n",
    "- ...\n",
    "- $(33, 1)$\n",
    "\n",
    "This is related to the number of [compositions](https://en.wikipedia.org/wiki/Composition_(combinatorics) which is the number of ways we can represent an integer $n$ as a sum of nonnegative integers.\n",
    "\n",
    "\n",
    "This yields the following possible architectures:\n",
    "\n",
    "- $d = [9, 1, 33, 1]$\n",
    "- $d = [9, 2, 32, 1]$\n",
    "- ...\n",
    "- $d = [9, 33, 1, 1]$\n",
    "\n",
    "The number of compositions of $n$ into $k$ parts is given by ${n-1} \\choose {k-1}$. In our case we have $n = 34$ and $k=2$, and the number of compositions is ${{n-1} \\choose {k-1}} = {{33} \\choose {1}} = 33$. We can use this number to check if we have considered all possible architectures.\n"
   ]
  },
  {
   "cell_type": "code",
   "execution_count": 3,
   "metadata": {
    "collapsed": true
   },
   "outputs": [],
   "source": [
    "from math import factorial\n",
    "\n",
    "\n",
    "def n_choose_k(n, k):\n",
    "    '''\n",
    "    - Returns the binomial coefficient (n choose k),\n",
    "      see https://en.wikipedia.org/wiki/Binomial_coefficient#Factorial_formula\n",
    "    '''\n",
    "    return factorial(n) // (factorial(k) * factorial(n-k))\n",
    "    \n",
    "    \n",
    "def num_compositions(n, k):\n",
    "    '''\n",
    "    - Returns the number of compositions of n into k parts,\n",
    "      see https://en.wikipedia.org/wiki/Composition_(combinatorics)\n",
    "    - The number is ((n-1) choose (k-1))\n",
    "    '''\n",
    "    return n_choose_k(n-1, k-1)"
   ]
  },
  {
   "cell_type": "markdown",
   "metadata": {},
   "source": [
    "### 2b) Generate all possible architectures for 2 hidden layers\n",
    "\n",
    "Let's write a Python program that generates all possible architectures for 2 hidden layers."
   ]
  },
  {
   "cell_type": "code",
   "execution_count": 4,
   "metadata": {},
   "outputs": [
    {
     "name": "stdout",
     "output_type": "stream",
     "text": [
      "[9, 1, 33, 1]\n",
      "[9, 2, 32, 1]\n",
      "[9, 3, 31, 1]\n",
      "[9, 4, 30, 1]\n",
      "[9, 5, 29, 1]\n",
      "[9, 6, 28, 1]\n",
      "[9, 7, 27, 1]\n",
      "[9, 8, 26, 1]\n",
      "[9, 9, 25, 1]\n",
      "[9, 10, 24, 1]\n",
      "[9, 11, 23, 1]\n",
      "[9, 12, 22, 1]\n",
      "[9, 13, 21, 1]\n",
      "[9, 14, 20, 1]\n",
      "[9, 15, 19, 1]\n",
      "[9, 16, 18, 1]\n",
      "[9, 17, 17, 1]\n",
      "[9, 18, 16, 1]\n",
      "[9, 19, 15, 1]\n",
      "[9, 20, 14, 1]\n",
      "[9, 21, 13, 1]\n",
      "[9, 22, 12, 1]\n",
      "[9, 23, 11, 1]\n",
      "[9, 24, 10, 1]\n",
      "[9, 25, 9, 1]\n",
      "[9, 26, 8, 1]\n",
      "[9, 27, 7, 1]\n",
      "[9, 28, 6, 1]\n",
      "[9, 29, 5, 1]\n",
      "[9, 30, 4, 1]\n",
      "[9, 31, 3, 1]\n",
      "[9, 32, 2, 1]\n",
      "[9, 33, 1, 1]\n"
     ]
    }
   ],
   "source": [
    "def get_architectures_2_hidden_layers():\n",
    "    my_list = []\n",
    "    \n",
    "    k = 2                   # k hidden layers\n",
    "    n = 36-k                # number of regular nodes, \n",
    "                            # i.e. total units minus k bias nodes    \n",
    "    for d1 in range(1, n):\n",
    "        d2 = n-d1\n",
    "        d = [9, d1, d2, 1]\n",
    "        my_list.append(d)\n",
    "        \n",
    "    # check if we considered all possible compositions\n",
    "    assert(num_compositions(n,k) == len(my_list))   \n",
    "    return my_list\n",
    "\n",
    "#------------------\n",
    "\n",
    "architectures_2 = get_architectures_2_hidden_layers()\n",
    "print(*architectures_2, sep='\\n')"
   ]
  },
  {
   "cell_type": "markdown",
   "metadata": {
    "collapsed": true
   },
   "source": [
    "\n",
    "Let's furthermore determine the number of edges for each architecture."
   ]
  },
  {
   "cell_type": "code",
   "execution_count": 5,
   "metadata": {},
   "outputs": [
    {
     "name": "stdout",
     "output_type": "stream",
     "text": [
      "d = [9, 1, 33, 1] has 110 edges\n",
      "d = [9, 2, 32, 1] has 149 edges\n",
      "d = [9, 3, 31, 1] has 186 edges\n",
      "d = [9, 4, 30, 1] has 221 edges\n",
      "d = [9, 5, 29, 1] has 254 edges\n",
      "d = [9, 6, 28, 1] has 285 edges\n",
      "d = [9, 7, 27, 1] has 314 edges\n",
      "d = [9, 8, 26, 1] has 341 edges\n",
      "d = [9, 9, 25, 1] has 366 edges\n",
      "d = [9, 10, 24, 1] has 389 edges\n",
      "d = [9, 11, 23, 1] has 410 edges\n",
      "d = [9, 12, 22, 1] has 429 edges\n",
      "d = [9, 13, 21, 1] has 446 edges\n",
      "d = [9, 14, 20, 1] has 461 edges\n",
      "d = [9, 15, 19, 1] has 474 edges\n",
      "d = [9, 16, 18, 1] has 485 edges\n",
      "d = [9, 17, 17, 1] has 494 edges\n",
      "d = [9, 18, 16, 1] has 501 edges\n",
      "d = [9, 19, 15, 1] has 506 edges\n",
      "d = [9, 20, 14, 1] has 509 edges\n",
      "d = [9, 21, 13, 1] has 510 edges\n",
      "d = [9, 22, 12, 1] has 509 edges\n",
      "d = [9, 23, 11, 1] has 506 edges\n",
      "d = [9, 24, 10, 1] has 501 edges\n",
      "d = [9, 25, 9, 1] has 494 edges\n",
      "d = [9, 26, 8, 1] has 485 edges\n",
      "d = [9, 27, 7, 1] has 474 edges\n",
      "d = [9, 28, 6, 1] has 461 edges\n",
      "d = [9, 29, 5, 1] has 446 edges\n",
      "d = [9, 30, 4, 1] has 429 edges\n",
      "d = [9, 31, 3, 1] has 410 edges\n",
      "d = [9, 32, 2, 1] has 389 edges\n",
      "d = [9, 33, 1, 1] has 366 edges\n"
     ]
    }
   ],
   "source": [
    "for d in architectures_2:\n",
    "    print(\"d = {0} has {1} edges\".format(d, get_edges(d)))"
   ]
  },
  {
   "cell_type": "markdown",
   "metadata": {},
   "source": [
    "### 2c) Determine maximum architecture for 2 hidden layers\n",
    "\n",
    "\n",
    "Let's determine the architecture that achieves the maximum number of edges."
   ]
  },
  {
   "cell_type": "code",
   "execution_count": 6,
   "metadata": {},
   "outputs": [
    {
     "name": "stdout",
     "output_type": "stream",
     "text": [
      "For 2 hidden layers the architecture [9, 21, 13, 1] yields a maximum of 510 edges.\n"
     ]
    }
   ],
   "source": [
    "def get_max_architecture(list_archs):\n",
    "    '''\n",
    "    - Takes a list of architectures.\n",
    "    - Returns the architecture with the maximum number of edges and the\n",
    "      and the corresponding number of edges.\n",
    "    '''\n",
    "    max_edges = -1\n",
    "    max_arch = None\n",
    "    \n",
    "    for d in list_archs:\n",
    "        num_edges = get_edges(d)\n",
    "        if max_edges < num_edges:\n",
    "            max_edges = num_edges\n",
    "            max_arch = d\n",
    "    return max_arch, max_edges\n",
    "\n",
    "#----------------------------\n",
    "\n",
    "max_arch, max_edges = get_max_architecture(architectures_2)\n",
    "print(\"For 2 hidden layers the architecture {0} yields a maximum of {1} edges.\".format(max_arch, max_edges))"
   ]
  },
  {
   "cell_type": "markdown",
   "metadata": {},
   "source": [
    "### Result\n",
    "\n",
    "For 2 hidden layers the architecture [9, 21, 13, 1] yields a maximum of 510 edges."
   ]
  },
  {
   "cell_type": "markdown",
   "metadata": {},
   "source": [
    "## 3 hidden layers\n",
    "\n",
    "### 3a) Compositions\n",
    "\n",
    "For 3 hidden layers we have 3 bias nodes. This leaves us with 36 - 3 = 33 regular nodes to distribute where each hidden layer contains at least 1 regular node.\n",
    "\n",
    "- $(1, 1, 31)$\n",
    "- $(1, 2, 30)$\n",
    "- $(1, 3, 29)$\n",
    "- ...\n",
    "- $(1, 31, 1)$\n",
    "- $(2, 1, 30)$\n",
    "- $(2, 2, 29)$\n",
    "- $(2, 3, 28)$\n",
    "- ...\n",
    "- $(30, 2, 1)$\n",
    "- $(31, 1, 1)$\n",
    "\n",
    "\n",
    "This yields the following possible architectures:\n",
    "\n",
    "- $d = [9, 1, 1, 31, 1]$\n",
    "- $d = [9, 1, 2, 30, 1]$\n",
    "- $d = [9, 1, 3, 29, 1]$\n",
    "- ...\n",
    "- $d = [9, 1, 31, 1, 1]$\n",
    "- $d = [9, 2, 1, 30, 1]$\n",
    "- $d = [9, 2, 2, 29, 1]$\n",
    "- $d = [9, 2, 3, 28, 1]$\n",
    "- ...\n",
    "- $d = [9, 30, 2, 1, 1]$\n",
    "- $d = [9, 31, 1, 1, 1]$"
   ]
  },
  {
   "cell_type": "markdown",
   "metadata": {},
   "source": [
    "### 3b) Generate all possible architectures for 3 hidden layers\n",
    "\n",
    "Let's write a Python program that generates all possible architectures for 3 hidden layers."
   ]
  },
  {
   "cell_type": "code",
   "execution_count": 7,
   "metadata": {},
   "outputs": [
    {
     "name": "stdout",
     "output_type": "stream",
     "text": [
      "[9, 1, 1, 31, 1]\n",
      "[9, 1, 2, 30, 1]\n",
      "[9, 1, 3, 29, 1]\n",
      "...\n",
      "[9, 30, 1, 2, 1]\n",
      "[9, 30, 2, 1, 1]\n",
      "[9, 31, 1, 1, 1]\n"
     ]
    }
   ],
   "source": [
    "def get_architectures_3_hidden_layers():\n",
    "    my_list = []\n",
    "    \n",
    "    k = 3                   # k hidden layers\n",
    "    n = 36-k                # number of regular nodes, \n",
    "                            # i.e. total units minus k bias nodes    \n",
    "    \n",
    "    for d1 in range(1, n):\n",
    "        # for d2 only (n-d1) nodes are at our disposal\n",
    "        for d2 in range(1, n-d1):\n",
    "            # for d3 only (n-d1-d2) nodes are at our disposal\n",
    "            d3 = n-d1-d2\n",
    "            d = [9, d1, d2, d3, 1]\n",
    "            my_list.append(d)\n",
    "        \n",
    "    # check if we considered all possible compositions\n",
    "    assert(num_compositions(n,k) == len(my_list))   \n",
    "    return my_list\n",
    "\n",
    "#------------------\n",
    "\n",
    "architectures_3 = get_architectures_3_hidden_layers()\n",
    "print(*architectures_3[:3], sep='\\n')\n",
    "print(\"...\")\n",
    "print(*architectures_3[-3:], sep='\\n')"
   ]
  },
  {
   "cell_type": "markdown",
   "metadata": {},
   "source": [
    "### 3c) Determine maximum architecture for 3 hidden layers"
   ]
  },
  {
   "cell_type": "code",
   "execution_count": 8,
   "metadata": {},
   "outputs": [
    {
     "name": "stdout",
     "output_type": "stream",
     "text": [
      "For 3 hidden layers the architecture [9, 20, 12, 1, 1] yields a maximum of 467 edges.\n"
     ]
    }
   ],
   "source": [
    "max_arch, max_edges = get_max_architecture(architectures_3)\n",
    "print(\"For 3 hidden layers the architecture {0} yields a maximum of {1} edges.\".format(max_arch, max_edges))"
   ]
  },
  {
   "cell_type": "markdown",
   "metadata": {},
   "source": [
    "### Result\n",
    "\n",
    "For 3 hidden layers the architecture [9, 20, 12, 1, 1] yields a maximum of 467 edges."
   ]
  },
  {
   "cell_type": "markdown",
   "metadata": {},
   "source": [
    "## 4 hidden layers\n",
    "\n",
    "### 4.1 Generate all possible architectures for 4 hidden layers"
   ]
  },
  {
   "cell_type": "code",
   "execution_count": 9,
   "metadata": {},
   "outputs": [
    {
     "name": "stdout",
     "output_type": "stream",
     "text": [
      "[9, 1, 1, 31, 1]\n",
      "[9, 1, 2, 30, 1]\n",
      "[9, 1, 3, 29, 1]\n",
      "[9, 1, 4, 28, 1]\n",
      "...\n",
      "[9, 29, 3, 1, 1]\n",
      "[9, 30, 1, 2, 1]\n",
      "[9, 30, 2, 1, 1]\n",
      "[9, 31, 1, 1, 1]\n"
     ]
    }
   ],
   "source": [
    "def get_architectures_4_hidden_layers():\n",
    "    my_list = []\n",
    "    \n",
    "    k = 4                   # k hidden layers\n",
    "    n = 36-k                # number of regular nodes, \n",
    "                            # i.e. total units minus k bias nodes    \n",
    "    \n",
    "    for d1 in range(1, n):\n",
    "        # for d2 only (n-d1) nodes are at our disposal\n",
    "        for d2 in range(1, n-d1):\n",
    "            # for d3 only (n-d1-d2) nodes are at our disposal\n",
    "            for d3 in range(1, n-d1-d2):\n",
    "                # for d4 only (n-d1-d2) nodes are at our disposal\n",
    "                d4 = n-d1-d2-d3\n",
    "                d = [9, d1, d2, d3, d4, 1]\n",
    "                my_list.append(d)\n",
    "        \n",
    "    # check if we considered all possible compositions\n",
    "    assert(num_compositions(n,k) == len(my_list))   \n",
    "    return my_list\n",
    "\n",
    "#------------------\n",
    "\n",
    "architectures_4 = get_architectures_4_hidden_layers()\n",
    "print(*architectures_3[:4], sep='\\n')\n",
    "print(\"...\")\n",
    "print(*architectures_3[-4:], sep='\\n')"
   ]
  },
  {
   "cell_type": "markdown",
   "metadata": {},
   "source": [
    "### 4.2 Determine maximum architecture for 4 hidden layers"
   ]
  },
  {
   "cell_type": "code",
   "execution_count": 10,
   "metadata": {},
   "outputs": [
    {
     "name": "stdout",
     "output_type": "stream",
     "text": [
      "For 4 hidden layers the architecture [9, 19, 11, 1, 1, 1] yields a maximum of 426 edges.\n"
     ]
    }
   ],
   "source": [
    "max_arch, max_edges = get_max_architecture(architectures_4)\n",
    "print(\"For 4 hidden layers the architecture {0} yields a maximum of {1} edges.\".format(max_arch, max_edges))"
   ]
  },
  {
   "cell_type": "markdown",
   "metadata": {},
   "source": [
    "### Result\n",
    "\n",
    "For 4 hidden layers the architecture [9, 19, 11, 1, 1, 1] yields a maximum of 426 edges."
   ]
  },
  {
   "cell_type": "markdown",
   "metadata": {},
   "source": [
    "## 5 hidden layers\n",
    "\n",
    "### 5.1 Generate all possible architectures for 5 hidden layers"
   ]
  },
  {
   "cell_type": "code",
   "execution_count": 11,
   "metadata": {},
   "outputs": [
    {
     "name": "stdout",
     "output_type": "stream",
     "text": [
      "[9, 1, 1, 1, 1, 27, 1]\n",
      "[9, 1, 1, 1, 2, 26, 1]\n",
      "[9, 1, 1, 1, 3, 25, 1]\n",
      "[9, 1, 1, 1, 4, 24, 1]\n",
      "...\n",
      "[9, 26, 1, 1, 2, 1, 1]\n",
      "[9, 26, 1, 2, 1, 1, 1]\n",
      "[9, 26, 2, 1, 1, 1, 1]\n",
      "[9, 27, 1, 1, 1, 1, 1]\n"
     ]
    }
   ],
   "source": [
    "def get_architectures_5_hidden_layers():\n",
    "    my_list = []\n",
    "    \n",
    "    k = 5                   # k hidden layers\n",
    "    n = 36-k                # number of regular nodes, \n",
    "                            # i.e. total units minus k bias nodes    \n",
    "    \n",
    "    for d1 in range(1, n):\n",
    "        # for d2 only (n-d1) nodes are at our disposal\n",
    "        for d2 in range(1, n-d1):\n",
    "            # for d3 only (n-d1-d2) nodes are at our disposal\n",
    "            for d3 in range(1, n-d1-d2):\n",
    "                # for d4 only (n-d1-d2) nodes are at our disposal\n",
    "                for d4 in range(1, n-d1-d2-d3):\n",
    "\n",
    "                    d5 = n-d1-d2-d3-d4\n",
    "                    d = [9, d1, d2, d3, d4, d5, 1]\n",
    "                    my_list.append(d)\n",
    "        \n",
    "    # check if we considered all possible compositions\n",
    "    assert(num_compositions(n,k) == len(my_list))   \n",
    "    return my_list\n",
    "\n",
    "#------------------\n",
    "\n",
    "architectures_5 = get_architectures_5_hidden_layers()\n",
    "print(*architectures_5[:4], sep='\\n')\n",
    "print(\"...\")\n",
    "print(*architectures_5[-4:], sep='\\n')"
   ]
  },
  {
   "cell_type": "markdown",
   "metadata": {},
   "source": [
    "### 5.2 Determine maximum architecture for 5 hidden layers"
   ]
  },
  {
   "cell_type": "code",
   "execution_count": 12,
   "metadata": {},
   "outputs": [
    {
     "name": "stdout",
     "output_type": "stream",
     "text": [
      "For 5 hidden layers the architecture [9, 18, 10, 1, 1, 1, 1] yields a maximum of 387 edges.\n"
     ]
    }
   ],
   "source": [
    "max_arch, max_edges = get_max_architecture(architectures_5)\n",
    "print(\"For 5 hidden layers the architecture {0} yields a maximum of {1} edges.\".format(max_arch, max_edges))"
   ]
  },
  {
   "cell_type": "markdown",
   "metadata": {},
   "source": [
    "### Result\n",
    "\n",
    "For 5 hidden layers the architecture [9, 18, 10, 1, 1, 1, 1] yields a maximum of 387 edges."
   ]
  },
  {
   "cell_type": "markdown",
   "metadata": {},
   "source": [
    "## 6 hidden layers\n",
    "\n",
    "### 6.1 Generate all possible architectures for 6 hidden layers¶"
   ]
  },
  {
   "cell_type": "code",
   "execution_count": 13,
   "metadata": {},
   "outputs": [
    {
     "name": "stdout",
     "output_type": "stream",
     "text": [
      "[9, 1, 1, 1, 1, 1, 25, 1]\n",
      "[9, 1, 1, 1, 1, 2, 24, 1]\n",
      "[9, 1, 1, 1, 1, 3, 23, 1]\n",
      "[9, 1, 1, 1, 1, 4, 22, 1]\n",
      "...\n",
      "[9, 24, 1, 1, 2, 1, 1, 1]\n",
      "[9, 24, 1, 2, 1, 1, 1, 1]\n",
      "[9, 24, 2, 1, 1, 1, 1, 1]\n",
      "[9, 25, 1, 1, 1, 1, 1, 1]\n"
     ]
    }
   ],
   "source": [
    "def get_architectures_6_hidden_layers():\n",
    "    my_list = []\n",
    "    \n",
    "    k = 6                   # k hidden layers\n",
    "    n = 36-k                # number of regular nodes, \n",
    "                            # i.e. total units minus k bias nodes    \n",
    "    \n",
    "    for d1 in range(1, n):\n",
    "        # for d2 only (n-d1) nodes are at our disposal\n",
    "        for d2 in range(1, n-d1):\n",
    "            # for d3 only (n-d1-d2) nodes are at our disposal\n",
    "            for d3 in range(1, n-d1-d2):\n",
    "                # for d4 only (n-d1-d2-d3) nodes are at our disposal\n",
    "                for d4 in range(1, n-d1-d2-d3):\n",
    "                    # for d5 only (n-d1-d2-d3-d4) nodes are at our disposal\n",
    "                        for d5 in range(1, n-d1-d2-d3-d4):\n",
    "\n",
    "                            d6 = n-d1-d2-d3-d4-d5\n",
    "                            d = [9, d1, d2, d3, d4, d5, d6, 1]\n",
    "                            my_list.append(d)\n",
    "\n",
    "    # check if we considered all possible compositions\n",
    "    assert(num_compositions(n,k) == len(my_list))   \n",
    "    return my_list\n",
    "\n",
    "#------------------\n",
    "\n",
    "architectures_6 = get_architectures_6_hidden_layers()\n",
    "print(*architectures_6[:4], sep='\\n')\n",
    "print(\"...\")\n",
    "print(*architectures_6[-4:], sep='\\n')"
   ]
  },
  {
   "cell_type": "markdown",
   "metadata": {},
   "source": [
    "### 6.2 Determine maximum architecture for 6 hidden layers"
   ]
  },
  {
   "cell_type": "code",
   "execution_count": 14,
   "metadata": {},
   "outputs": [
    {
     "name": "stdout",
     "output_type": "stream",
     "text": [
      "For 6 hidden layers the architecture [9, 17, 9, 1, 1, 1, 1, 1] yields a maximum of 350 edges.\n"
     ]
    }
   ],
   "source": [
    "max_arch, max_edges = get_max_architecture(architectures_6)\n",
    "print(\"For 6 hidden layers the architecture {0} yields a maximum of {1} edges.\".format(max_arch, max_edges))"
   ]
  },
  {
   "cell_type": "markdown",
   "metadata": {},
   "source": [
    "### Result\n",
    "\n",
    "For 6 hidden layers the architecture [9, 17, 9, 1, 1, 1, 1, 1] yields a maximum of 350 edges."
   ]
  },
  {
   "cell_type": "markdown",
   "metadata": {},
   "source": [
    "## 7 hidden layers\n",
    "\n",
    "### 7.1 Generate all possible architectures for 7 hidden layers¶"
   ]
  },
  {
   "cell_type": "code",
   "execution_count": 15,
   "metadata": {},
   "outputs": [
    {
     "name": "stdout",
     "output_type": "stream",
     "text": [
      "[9, 1, 1, 1, 1, 1, 1, 23, 1]\n",
      "[9, 1, 1, 1, 1, 1, 2, 22, 1]\n",
      "[9, 1, 1, 1, 1, 1, 3, 21, 1]\n",
      "[9, 1, 1, 1, 1, 1, 4, 20, 1]\n",
      "...\n",
      "[9, 22, 1, 1, 2, 1, 1, 1, 1]\n",
      "[9, 22, 1, 2, 1, 1, 1, 1, 1]\n",
      "[9, 22, 2, 1, 1, 1, 1, 1, 1]\n",
      "[9, 23, 1, 1, 1, 1, 1, 1, 1]\n"
     ]
    }
   ],
   "source": [
    "def get_architectures_7_hidden_layers():\n",
    "    my_list = []\n",
    "    \n",
    "    k = 7                   # k hidden layers\n",
    "    n = 36-k                # number of regular nodes, \n",
    "                            # i.e. total units minus k bias nodes    \n",
    "    \n",
    "    for d1 in range(1, n):\n",
    "        # for d2 only (n-d1) nodes are at our disposal\n",
    "        for d2 in range(1, n-d1):\n",
    "            # for d3 only (n-d1-d2) nodes are at our disposal\n",
    "            for d3 in range(1, n-d1-d2):\n",
    "                # for d4 only (n-d1-d2-d3) nodes are at our disposal\n",
    "                for d4 in range(1, n-d1-d2-d3):\n",
    "                    # for d5 only (n-d1-d2-d3-d4) nodes are at our disposal\n",
    "                        for d5 in range(1, n-d1-d2-d3-d4):\n",
    "                            # for d6 only (n-d1-d2-d3-d4-d5) nodes are at our disposal\n",
    "                            for d6 in range(1, n-d1-d2-d3-d4-d5):\n",
    "\n",
    "                                d7 = n-d1-d2-d3-d4-d5-d6\n",
    "                                d = [9, d1, d2, d3, d4, d5, d6, d7, 1]\n",
    "                                my_list.append(d)\n",
    "\n",
    "    # check if we considered all possible compositions\n",
    "    assert(num_compositions(n,k) == len(my_list))   \n",
    "    return my_list\n",
    "\n",
    "#------------------\n",
    "\n",
    "architectures_7 = get_architectures_7_hidden_layers()\n",
    "print(*architectures_7[:4], sep='\\n')\n",
    "print(\"...\")\n",
    "print(*architectures_7[-4:], sep='\\n')"
   ]
  },
  {
   "cell_type": "markdown",
   "metadata": {},
   "source": [
    "### 7.2 Determine maximum architecture for 7 hidden layers"
   ]
  },
  {
   "cell_type": "code",
   "execution_count": 16,
   "metadata": {},
   "outputs": [
    {
     "name": "stdout",
     "output_type": "stream",
     "text": [
      "For 7 hidden layers the architecture [9, 16, 8, 1, 1, 1, 1, 1, 1] yields a maximum of 315 edges.\n"
     ]
    }
   ],
   "source": [
    "max_arch, max_edges = get_max_architecture(architectures_7)\n",
    "print(\"For 7 hidden layers the architecture {0} yields a maximum of {1} edges.\".format(max_arch, max_edges))"
   ]
  },
  {
   "cell_type": "markdown",
   "metadata": {},
   "source": [
    "## 8 hidden layers\n",
    "\n",
    "### 8.1 Generate all possible architectures for 8 hidden layers¶"
   ]
  },
  {
   "cell_type": "code",
   "execution_count": 17,
   "metadata": {},
   "outputs": [
    {
     "name": "stdout",
     "output_type": "stream",
     "text": [
      "[9, 1, 1, 1, 1, 1, 1, 1, 21, 1]\n",
      "[9, 1, 1, 1, 1, 1, 1, 2, 20, 1]\n",
      "[9, 1, 1, 1, 1, 1, 1, 3, 19, 1]\n",
      "[9, 1, 1, 1, 1, 1, 1, 4, 18, 1]\n",
      "...\n",
      "[9, 20, 1, 1, 2, 1, 1, 1, 1, 1]\n",
      "[9, 20, 1, 2, 1, 1, 1, 1, 1, 1]\n",
      "[9, 20, 2, 1, 1, 1, 1, 1, 1, 1]\n",
      "[9, 21, 1, 1, 1, 1, 1, 1, 1, 1]\n"
     ]
    }
   ],
   "source": [
    "def get_architectures_8_hidden_layers():\n",
    "    my_list = []\n",
    "    \n",
    "    k = 8                   # k hidden layers\n",
    "    n = 36-k                # number of regular nodes, \n",
    "                            # i.e. total units minus k bias nodes    \n",
    "    \n",
    "    for d1 in range(1, n):\n",
    "        # for d2 only (n-d1) nodes are at our disposal\n",
    "        for d2 in range(1, n-d1):\n",
    "            # for d3 only (n-d1-d2) nodes are at our disposal\n",
    "            for d3 in range(1, n-d1-d2):\n",
    "                # for d4 only (n-d1-d2-d3) nodes are at our disposal\n",
    "                for d4 in range(1, n-d1-d2-d3):\n",
    "                    # for d5 only (n-d1-d2-d3-d4) nodes are at our disposal\n",
    "                        for d5 in range(1, n-d1-d2-d3-d4):\n",
    "                            # for d6 only (n-d1-d2-d3-d4-d5) nodes are at our disposal\n",
    "                            for d6 in range(1, n-d1-d2-d3-d4-d5):\n",
    "                                # for d7 only (n-d1-d2-d3-d4-d5-d6) nodes are at our disposal\n",
    "                                for d7 in range(1, n-d1-d2-d3-d4-d5-d6):\n",
    "                                \n",
    "                                    d8 = n-d1-d2-d3-d4-d5-d6-d7\n",
    "                                    d = [9, d1, d2, d3, d4, d5, d6, d7, d8, 1]\n",
    "                                    my_list.append(d)\n",
    "\n",
    "    # check if we considered all possible compositions\n",
    "    assert(num_compositions(n,k) == len(my_list))   \n",
    "    return my_list\n",
    "\n",
    "#------------------\n",
    "\n",
    "architectures_8 = get_architectures_8_hidden_layers()\n",
    "print(*architectures_8[:4], sep='\\n')\n",
    "print(\"...\")\n",
    "print(*architectures_8[-4:], sep='\\n')"
   ]
  },
  {
   "cell_type": "markdown",
   "metadata": {},
   "source": [
    "### 8.2 Determine maximum architecture for 8 hidden layers"
   ]
  },
  {
   "cell_type": "code",
   "execution_count": 18,
   "metadata": {},
   "outputs": [
    {
     "name": "stdout",
     "output_type": "stream",
     "text": [
      "For 8 hidden layers the architecture [9, 15, 7, 1, 1, 1, 1, 1, 1, 1] yields a maximum of 282 edges.\n"
     ]
    }
   ],
   "source": [
    "max_arch, max_edges = get_max_architecture(architectures_8)\n",
    "print(\"For 8 hidden layers the architecture {0} yields a maximum of {1} edges.\".format(max_arch, max_edges))"
   ]
  },
  {
   "cell_type": "markdown",
   "metadata": {},
   "source": [
    "### Result\n",
    "\n",
    "For 8 hidden layers the architecture [9, 15, 7, 1, 1, 1, 1, 1, 1, 1] yields a maximum of 282 edges."
   ]
  },
  {
   "cell_type": "markdown",
   "metadata": {},
   "source": [
    "## 9 hidden layers\n",
    "\n",
    "### 9.1 Generate all possible architectures for 9 hidden layers¶"
   ]
  },
  {
   "cell_type": "code",
   "execution_count": 19,
   "metadata": {},
   "outputs": [
    {
     "name": "stdout",
     "output_type": "stream",
     "text": [
      "[9, 1, 1, 1, 1, 1, 1, 1, 1, 19, 1]\n",
      "[9, 1, 1, 1, 1, 1, 1, 1, 2, 18, 1]\n",
      "[9, 1, 1, 1, 1, 1, 1, 1, 3, 17, 1]\n",
      "[9, 1, 1, 1, 1, 1, 1, 1, 4, 16, 1]\n",
      "...\n",
      "[9, 18, 1, 1, 2, 1, 1, 1, 1, 1, 1]\n",
      "[9, 18, 1, 2, 1, 1, 1, 1, 1, 1, 1]\n",
      "[9, 18, 2, 1, 1, 1, 1, 1, 1, 1, 1]\n",
      "[9, 19, 1, 1, 1, 1, 1, 1, 1, 1, 1]\n"
     ]
    }
   ],
   "source": [
    "def get_architectures_9_hidden_layers():\n",
    "    my_list = []\n",
    "    \n",
    "    k = 9                   # k hidden layers\n",
    "    n = 36-k                # number of regular nodes, \n",
    "                            # i.e. total units minus k bias nodes    \n",
    "    \n",
    "    for d1 in range(1, n):\n",
    "        # for d2 only (n-d1) nodes are at our disposal\n",
    "        for d2 in range(1, n-d1):\n",
    "            # for d3 only (n-d1-d2) nodes are at our disposal\n",
    "            for d3 in range(1, n-d1-d2):\n",
    "                # for d4 only (n-d1-d2-d3) nodes are at our disposal\n",
    "                for d4 in range(1, n-d1-d2-d3):\n",
    "                    # for d5 only (n-d1-d2-d3-d4) nodes are at our disposal\n",
    "                        for d5 in range(1, n-d1-d2-d3-d4):\n",
    "                            # for d6 only (n-d1-d2-d3-d4-d5) nodes are at our disposal\n",
    "                            for d6 in range(1, n-d1-d2-d3-d4-d5):\n",
    "                                # for d7 only (n-d1-d2-d3-d4-d5-d6) nodes are at our disposal\n",
    "                                for d7 in range(1, n-d1-d2-d3-d4-d5-d6):\n",
    "                                    # for d8 only (n-d1-d2-d3-d4-d5-d6-d7) nodes are at our disposal\n",
    "                                    for d8 in range(1, n-d1-d2-d3-d4-d5-d6-d7):\n",
    "                                    \n",
    "                                        d9 = n-d1-d2-d3-d4-d5-d6-d7-d8\n",
    "                                        d = [9, d1, d2, d3, d4, d5, d6, d7, d8, d9, 1]\n",
    "                                        my_list.append(d)\n",
    "\n",
    "    # check if we considered all possible compositions\n",
    "    assert(num_compositions(n,k) == len(my_list))   \n",
    "    return my_list\n",
    "\n",
    "#------------------\n",
    "\n",
    "architectures_9 = get_architectures_9_hidden_layers()\n",
    "print(*architectures_9[:4], sep='\\n')\n",
    "print(\"...\")\n",
    "print(*architectures_9[-4:], sep='\\n')"
   ]
  },
  {
   "cell_type": "markdown",
   "metadata": {},
   "source": [
    "### 9.2 Determine maximum architecture for 9 hidden layers"
   ]
  },
  {
   "cell_type": "code",
   "execution_count": 20,
   "metadata": {},
   "outputs": [
    {
     "name": "stdout",
     "output_type": "stream",
     "text": [
      "For 9 hidden layers the architecture [9, 14, 6, 1, 1, 1, 1, 1, 1, 1, 1] yields a maximum of 251 edges.\n"
     ]
    }
   ],
   "source": [
    "max_arch, max_edges = get_max_architecture(architectures_9)\n",
    "print(\"For 9 hidden layers the architecture {0} yields a maximum of {1} edges.\".format(max_arch, max_edges))"
   ]
  },
  {
   "cell_type": "markdown",
   "metadata": {},
   "source": [
    "## 10 hidden layers\n",
    "\n",
    "### 10.1 Generate all possible architectures for 10 hidden layers¶"
   ]
  },
  {
   "cell_type": "code",
   "execution_count": 21,
   "metadata": {},
   "outputs": [
    {
     "name": "stdout",
     "output_type": "stream",
     "text": [
      "[9, 1, 1, 1, 1, 1, 1, 1, 1, 1, 17, 1]\n",
      "[9, 1, 1, 1, 1, 1, 1, 1, 1, 2, 16, 1]\n",
      "[9, 1, 1, 1, 1, 1, 1, 1, 1, 3, 15, 1]\n",
      "[9, 1, 1, 1, 1, 1, 1, 1, 1, 4, 14, 1]\n",
      "...\n",
      "[9, 16, 1, 1, 2, 1, 1, 1, 1, 1, 1, 1]\n",
      "[9, 16, 1, 2, 1, 1, 1, 1, 1, 1, 1, 1]\n",
      "[9, 16, 2, 1, 1, 1, 1, 1, 1, 1, 1, 1]\n",
      "[9, 17, 1, 1, 1, 1, 1, 1, 1, 1, 1, 1]\n"
     ]
    }
   ],
   "source": [
    "def get_architectures_10_hidden_layers():\n",
    "    my_list = []\n",
    "    \n",
    "    k = 10                  # k hidden layers\n",
    "    n = 36-k                # number of regular nodes, \n",
    "                            # i.e. total units minus k bias nodes    \n",
    "    \n",
    "    for d1 in range(1, n):\n",
    "        # for d2 only (n-d1) nodes are at our disposal\n",
    "        for d2 in range(1, n-d1):\n",
    "            # for d3 only (n-d1-d2) nodes are at our disposal\n",
    "            for d3 in range(1, n-d1-d2):\n",
    "                # for d4 only (n-d1-d2-d3) nodes are at our disposal\n",
    "                for d4 in range(1, n-d1-d2-d3):\n",
    "                    # for d5 only (n-d1-d2-d3-d4) nodes are at our disposal\n",
    "                        for d5 in range(1, n-d1-d2-d3-d4):\n",
    "                            # for d6 only (n-d1-d2-d3-d4-d5) nodes are at our disposal\n",
    "                            for d6 in range(1, n-d1-d2-d3-d4-d5):\n",
    "                                # for d7 only (n-d1-d2-d3-d4-d5-d6) nodes are at our disposal\n",
    "                                for d7 in range(1, n-d1-d2-d3-d4-d5-d6):\n",
    "                                    # for d8 only (n-d1-d2-d3-d4-d5-d6-d7) nodes are at our disposal\n",
    "                                    for d8 in range(1, n-d1-d2-d3-d4-d5-d6-d7):\n",
    "                                        # for d9 only (n-d1-d2-d3-d4-d5-d6-d7-d8) nodes are at our disposal\n",
    "                                        for d9 in range(1, n-d1-d2-d3-d4-d5-d6-d7-d8):\n",
    "\n",
    "                                            d10 = n-d1-d2-d3-d4-d5-d6-d7-d8-d9\n",
    "                                            d = [9, d1, d2, d3, d4, d5, d6, d7, d8, d9, d10, 1]\n",
    "                                            my_list.append(d)\n",
    "\n",
    "    # check if we considered all possible compositions\n",
    "    assert(num_compositions(n,k) == len(my_list))   \n",
    "    return my_list\n",
    "\n",
    "#------------------\n",
    "\n",
    "architectures_10 = get_architectures_10_hidden_layers()\n",
    "print(*architectures_10[:4], sep='\\n')\n",
    "print(\"...\")\n",
    "print(*architectures_10[-4:], sep='\\n')"
   ]
  },
  {
   "cell_type": "markdown",
   "metadata": {},
   "source": [
    "### 10.2 Determine maximum architecture for 10 hidden layers"
   ]
  },
  {
   "cell_type": "code",
   "execution_count": 22,
   "metadata": {},
   "outputs": [
    {
     "name": "stdout",
     "output_type": "stream",
     "text": [
      "For 10 hidden layers the architecture [9, 13, 5, 1, 1, 1, 1, 1, 1, 1, 1, 1] yields a maximum of 222 edges.\n"
     ]
    }
   ],
   "source": [
    "max_arch, max_edges = get_max_architecture(architectures_10)\n",
    "print(\"For 10 hidden layers the architecture {0} yields a maximum of {1} edges.\".format(max_arch, max_edges))"
   ]
  },
  {
   "cell_type": "markdown",
   "metadata": {},
   "source": [
    "## 11 hidden layers\n",
    "\n",
    "### 11.1 Generate all possible architectures for 11 hidden layers¶"
   ]
  },
  {
   "cell_type": "code",
   "execution_count": 23,
   "metadata": {},
   "outputs": [
    {
     "name": "stdout",
     "output_type": "stream",
     "text": [
      "[9, 1, 1, 1, 1, 1, 1, 1, 1, 1, 1, 15, 1]\n",
      "[9, 1, 1, 1, 1, 1, 1, 1, 1, 1, 2, 14, 1]\n",
      "[9, 1, 1, 1, 1, 1, 1, 1, 1, 1, 3, 13, 1]\n",
      "[9, 1, 1, 1, 1, 1, 1, 1, 1, 1, 4, 12, 1]\n",
      "...\n",
      "[9, 14, 1, 1, 2, 1, 1, 1, 1, 1, 1, 1, 1]\n",
      "[9, 14, 1, 2, 1, 1, 1, 1, 1, 1, 1, 1, 1]\n",
      "[9, 14, 2, 1, 1, 1, 1, 1, 1, 1, 1, 1, 1]\n",
      "[9, 15, 1, 1, 1, 1, 1, 1, 1, 1, 1, 1, 1]\n"
     ]
    }
   ],
   "source": [
    "def get_architectures_11_hidden_layers():\n",
    "    my_list = []\n",
    "    \n",
    "    k = 11                  # k hidden layers\n",
    "    n = 36-k                # number of regular nodes, \n",
    "                            # i.e. total units minus k bias nodes    \n",
    "    \n",
    "    for d1 in range(1, n):\n",
    "        # for d2 only (n-d1) nodes are at our disposal\n",
    "        for d2 in range(1, n-d1):\n",
    "            # for d3 only (n-d1-d2) nodes are at our disposal\n",
    "            for d3 in range(1, n-d1-d2):\n",
    "                # for d4 only (n-d1-d2-d3) nodes are at our disposal\n",
    "                for d4 in range(1, n-d1-d2-d3):\n",
    "                    # for d5 only (n-d1-d2-d3-d4) nodes are at our disposal\n",
    "                        for d5 in range(1, n-d1-d2-d3-d4):\n",
    "                            # for d6 only (n-d1-d2-d3-d4-d5) nodes are at our disposal\n",
    "                            for d6 in range(1, n-d1-d2-d3-d4-d5):\n",
    "                                # for d7 only (n-d1-d2-d3-d4-d5-d6) nodes are at our disposal\n",
    "                                for d7 in range(1, n-d1-d2-d3-d4-d5-d6):\n",
    "                                    # for d8 only (n-d1-d2-d3-d4-d5-d6-d7) nodes are at our disposal\n",
    "                                    for d8 in range(1, n-d1-d2-d3-d4-d5-d6-d7):\n",
    "                                        # for d9 only (n-d1-d2-d3-d4-d5-d6-d7-d8) nodes are at our disposal\n",
    "                                        for d9 in range(1, n-d1-d2-d3-d4-d5-d6-d7-d8):\n",
    "                                            # for d10 only (n-d1-d2-d3-d4-d5-d6-d7-d8-d9) nodes are at our disposal\n",
    "                                            for d10 in range(1, n-d1-d2-d3-d4-d5-d6-d7-d8-d9):\n",
    "\n",
    "                                                d11 = n-d1-d2-d3-d4-d5-d6-d7-d8-d9-d10\n",
    "                                                d = [9, d1, d2, d3, d4, d5, d6, d7, d8, d9, d10, d11, 1]\n",
    "                                                my_list.append(d)\n",
    "\n",
    "    # check if we considered all possible compositions\n",
    "    assert(num_compositions(n,k) == len(my_list))   \n",
    "    return my_list\n",
    "\n",
    "#------------------\n",
    "\n",
    "architectures_11 = get_architectures_11_hidden_layers()\n",
    "print(*architectures_11[:4], sep='\\n')\n",
    "print(\"...\")\n",
    "print(*architectures_11[-4:], sep='\\n')"
   ]
  },
  {
   "cell_type": "markdown",
   "metadata": {},
   "source": [
    "### 11.2 Determine maximum architecture for 11 hidden layers"
   ]
  },
  {
   "cell_type": "code",
   "execution_count": 24,
   "metadata": {},
   "outputs": [
    {
     "name": "stdout",
     "output_type": "stream",
     "text": [
      "For 11 hidden layers the architecture [9, 12, 4, 1, 1, 1, 1, 1, 1, 1, 1, 1, 1] yields a maximum of 195 edges.\n"
     ]
    }
   ],
   "source": [
    "max_arch, max_edges = get_max_architecture(architectures_11)\n",
    "print(\"For 11 hidden layers the architecture {0} yields a maximum of {1} edges.\".format(max_arch, max_edges))"
   ]
  },
  {
   "cell_type": "markdown",
   "metadata": {},
   "source": [
    "## 12 hidden layers\n",
    "\n",
    "### 12.1 Generate all possible architectures for 12 hidden layers¶"
   ]
  },
  {
   "cell_type": "code",
   "execution_count": 25,
   "metadata": {},
   "outputs": [
    {
     "name": "stdout",
     "output_type": "stream",
     "text": [
      "[9, 1, 1, 1, 1, 1, 1, 1, 1, 1, 1, 1, 13, 1]\n",
      "[9, 1, 1, 1, 1, 1, 1, 1, 1, 1, 1, 2, 12, 1]\n",
      "[9, 1, 1, 1, 1, 1, 1, 1, 1, 1, 1, 3, 11, 1]\n",
      "[9, 1, 1, 1, 1, 1, 1, 1, 1, 1, 1, 4, 10, 1]\n",
      "...\n",
      "[9, 12, 1, 1, 2, 1, 1, 1, 1, 1, 1, 1, 1, 1]\n",
      "[9, 12, 1, 2, 1, 1, 1, 1, 1, 1, 1, 1, 1, 1]\n",
      "[9, 12, 2, 1, 1, 1, 1, 1, 1, 1, 1, 1, 1, 1]\n",
      "[9, 13, 1, 1, 1, 1, 1, 1, 1, 1, 1, 1, 1, 1]\n"
     ]
    }
   ],
   "source": [
    "def get_architectures_12_hidden_layers():\n",
    "    my_list = []\n",
    "    \n",
    "    k = 12                  # k hidden layers\n",
    "    n = 36-k                # number of regular nodes, \n",
    "                            # i.e. total units minus k bias nodes    \n",
    "    \n",
    "    for d1 in range(1, n):\n",
    "        # for d2 only (n-d1) nodes are at our disposal\n",
    "        for d2 in range(1, n-d1):\n",
    "            # for d3 only (n-d1-d2) nodes are at our disposal\n",
    "            for d3 in range(1, n-d1-d2):\n",
    "                # for d4 only (n-d1-d2-d3) nodes are at our disposal\n",
    "                for d4 in range(1, n-d1-d2-d3):\n",
    "                    # for d5 only (n-d1-d2-d3-d4) nodes are at our disposal\n",
    "                        for d5 in range(1, n-d1-d2-d3-d4):\n",
    "                            # for d6 only (n-d1-d2-d3-d4-d5) nodes are at our disposal\n",
    "                            for d6 in range(1, n-d1-d2-d3-d4-d5):\n",
    "                                # for d7 only (n-d1-d2-d3-d4-d5-d6) nodes are at our disposal\n",
    "                                for d7 in range(1, n-d1-d2-d3-d4-d5-d6):\n",
    "                                    # for d8 only (n-d1-d2-d3-d4-d5-d6-d7) nodes are at our disposal\n",
    "                                    for d8 in range(1, n-d1-d2-d3-d4-d5-d6-d7):\n",
    "                                        # for d9 only (n-d1-d2-d3-d4-d5-d6-d7-d8) nodes are at our disposal\n",
    "                                        for d9 in range(1, n-d1-d2-d3-d4-d5-d6-d7-d8):\n",
    "                                            # for d10 only (n-d1-d2-d3-d4-d5-d6-d7-d8-d9) nodes are at our disposal\n",
    "                                            for d10 in range(1, n-d1-d2-d3-d4-d5-d6-d7-d8-d9):\n",
    "                                                # for d12 only (n-d1-d2-d3-d4-d5-d6-d7-d8-d9) nodes are at our disposal\n",
    "                                                for d11 in range(1, n-d1-d2-d3-d4-d5-d6-d7-d8-d9-d10):\n",
    "\n",
    "                                                    d12 = n-d1-d2-d3-d4-d5-d6-d7-d8-d9-d10-d11\n",
    "                                                    d = [9, d1, d2, d3, d4, d5, d6, d7, d8, d9, d10, d11, d12, 1]\n",
    "                                                    my_list.append(d)\n",
    "\n",
    "    # check if we considered all possible compositions\n",
    "    assert(num_compositions(n,k) == len(my_list))   \n",
    "    return my_list\n",
    "\n",
    "#------------------\n",
    "\n",
    "architectures_12 = get_architectures_12_hidden_layers()\n",
    "print(*architectures_12[:4], sep='\\n')\n",
    "print(\"...\")\n",
    "print(*architectures_12[-4:], sep='\\n')"
   ]
  },
  {
   "cell_type": "markdown",
   "metadata": {},
   "source": [
    "### 12.2 Determine maximum architecture for 12 hidden layers"
   ]
  },
  {
   "cell_type": "code",
   "execution_count": 26,
   "metadata": {},
   "outputs": [
    {
     "name": "stdout",
     "output_type": "stream",
     "text": [
      "For 12 hidden layers the architecture [9, 11, 3, 1, 1, 1, 1, 1, 1, 1, 1, 1, 1, 1] yields a maximum of 170 edges.\n"
     ]
    }
   ],
   "source": [
    "max_arch, max_edges = get_max_architecture(architectures_12)\n",
    "print(\"For 12 hidden layers the architecture {0} yields a maximum of {1} edges.\".format(max_arch, max_edges))"
   ]
  },
  {
   "cell_type": "markdown",
   "metadata": {},
   "source": [
    "## 13 hidden layers\n",
    "\n",
    "### 13.1 Generate all possible architectures for 13 hidden layers¶"
   ]
  },
  {
   "cell_type": "code",
   "execution_count": 27,
   "metadata": {},
   "outputs": [
    {
     "name": "stdout",
     "output_type": "stream",
     "text": [
      "[9, 1, 1, 1, 1, 1, 1, 1, 1, 1, 1, 1, 1, 11, 1]\n",
      "[9, 1, 1, 1, 1, 1, 1, 1, 1, 1, 1, 1, 2, 10, 1]\n",
      "[9, 1, 1, 1, 1, 1, 1, 1, 1, 1, 1, 1, 3, 9, 1]\n",
      "[9, 1, 1, 1, 1, 1, 1, 1, 1, 1, 1, 1, 4, 8, 1]\n",
      "...\n",
      "[9, 10, 1, 1, 2, 1, 1, 1, 1, 1, 1, 1, 1, 1, 1]\n",
      "[9, 10, 1, 2, 1, 1, 1, 1, 1, 1, 1, 1, 1, 1, 1]\n",
      "[9, 10, 2, 1, 1, 1, 1, 1, 1, 1, 1, 1, 1, 1, 1]\n",
      "[9, 11, 1, 1, 1, 1, 1, 1, 1, 1, 1, 1, 1, 1, 1]\n"
     ]
    }
   ],
   "source": [
    "def get_architectures_13_hidden_layers():\n",
    "    my_list = []\n",
    "    \n",
    "    k = 13                  # k hidden layers\n",
    "    n = 36-k                # number of regular nodes, \n",
    "                            # i.e. total units minus k bias nodes    \n",
    "    \n",
    "    for d1 in range(1, n):\n",
    "        # for d2 only (n-d1) nodes are at our disposal\n",
    "        for d2 in range(1, n-d1):\n",
    "            # for d3 only (n-d1-d2) nodes are at our disposal\n",
    "            for d3 in range(1, n-d1-d2):\n",
    "                # for d4 only (n-d1-d2-d3) nodes are at our disposal\n",
    "                for d4 in range(1, n-d1-d2-d3):\n",
    "                    # for d5 only (n-d1-d2-d3-d4) nodes are at our disposal\n",
    "                        for d5 in range(1, n-d1-d2-d3-d4):\n",
    "                            # for d6 only (n-d1-d2-d3-d4-d5) nodes are at our disposal\n",
    "                            for d6 in range(1, n-d1-d2-d3-d4-d5):\n",
    "                                # for d7 only (n-d1-d2-d3-d4-d5-d6) nodes are at our disposal\n",
    "                                for d7 in range(1, n-d1-d2-d3-d4-d5-d6):\n",
    "                                    # for d8 only (n-d1-d2-d3-d4-d5-d6-d7) nodes are at our disposal\n",
    "                                    for d8 in range(1, n-d1-d2-d3-d4-d5-d6-d7):\n",
    "                                        # for d9 only (n-d1-d2-d3-d4-d5-d6-d7-d8) nodes are at our disposal\n",
    "                                        for d9 in range(1, n-d1-d2-d3-d4-d5-d6-d7-d8):\n",
    "                                            # for d10 only (n-d1-d2-d3-d4-d5-d6-d7-d8-d9) nodes are at our disposal\n",
    "                                            for d10 in range(1, n-d1-d2-d3-d4-d5-d6-d7-d8-d9):\n",
    "                                                # for d12 only (n-d1-d2-d3-d4-d5-d6-d7-d8-d9) nodes are at our disposal\n",
    "                                                for d11 in range(1, n-d1-d2-d3-d4-d5-d6-d7-d8-d9-d10):\n",
    "                                                    # for d12 only (n-d1-d2-d3-d4-d5-d6-d7-d8-d9) nodes are at our disposal\n",
    "                                                    for d12 in range(1, n-d1-d2-d3-d4-d5-d6-d7-d8-d9-d10-d11):\n",
    "                                                    \n",
    "                                                        d13 = n-d1-d2-d3-d4-d5-d6-d7-d8-d9-d10-d11-d12\n",
    "                                                        d = [9, d1, d2, d3, d4, d5, d6, d7, d8, d9, d10, d11, d12, d13, 1]\n",
    "                                                        my_list.append(d)\n",
    "\n",
    "    # check if we considered all possible compositions\n",
    "    assert(num_compositions(n,k) == len(my_list))   \n",
    "    return my_list\n",
    "\n",
    "#------------------\n",
    "\n",
    "architectures_13 = get_architectures_13_hidden_layers()\n",
    "print(*architectures_13[:4], sep='\\n')\n",
    "print(\"...\")\n",
    "print(*architectures_13[-4:], sep='\\n')"
   ]
  },
  {
   "cell_type": "markdown",
   "metadata": {},
   "source": [
    "### 13.2 Determine maximum architecture for 13 hidden layers"
   ]
  },
  {
   "cell_type": "code",
   "execution_count": 28,
   "metadata": {},
   "outputs": [
    {
     "name": "stdout",
     "output_type": "stream",
     "text": [
      "For 13 hidden layers the architecture [9, 10, 2, 1, 1, 1, 1, 1, 1, 1, 1, 1, 1, 1, 1] yields a maximum of 147 edges.\n"
     ]
    }
   ],
   "source": [
    "max_arch, max_edges = get_max_architecture(architectures_13)\n",
    "print(\"For 13 hidden layers the architecture {0} yields a maximum of {1} edges.\".format(max_arch, max_edges))"
   ]
  },
  {
   "cell_type": "markdown",
   "metadata": {},
   "source": [
    "## 14 hidden layers\n",
    "\n",
    "### 14.1 Generate all possible architectures for 14 hidden layers¶"
   ]
  },
  {
   "cell_type": "code",
   "execution_count": 29,
   "metadata": {},
   "outputs": [
    {
     "name": "stdout",
     "output_type": "stream",
     "text": [
      "[9, 1, 1, 1, 1, 1, 1, 1, 1, 1, 1, 1, 1, 1, 9, 1]\n",
      "[9, 1, 1, 1, 1, 1, 1, 1, 1, 1, 1, 1, 1, 2, 8, 1]\n",
      "[9, 1, 1, 1, 1, 1, 1, 1, 1, 1, 1, 1, 1, 3, 7, 1]\n",
      "[9, 1, 1, 1, 1, 1, 1, 1, 1, 1, 1, 1, 1, 4, 6, 1]\n",
      "...\n",
      "[9, 8, 1, 1, 2, 1, 1, 1, 1, 1, 1, 1, 1, 1, 1, 1]\n",
      "[9, 8, 1, 2, 1, 1, 1, 1, 1, 1, 1, 1, 1, 1, 1, 1]\n",
      "[9, 8, 2, 1, 1, 1, 1, 1, 1, 1, 1, 1, 1, 1, 1, 1]\n",
      "[9, 9, 1, 1, 1, 1, 1, 1, 1, 1, 1, 1, 1, 1, 1, 1]\n"
     ]
    }
   ],
   "source": [
    "def get_architectures_14_hidden_layers():\n",
    "    my_list = []\n",
    "    \n",
    "    k = 14                  # k hidden layers\n",
    "    n = 36-k                # number of regular nodes, \n",
    "                            # i.e. total units minus k bias nodes    \n",
    "    \n",
    "    for d1 in range(1, n):\n",
    "        # for d2 only (n-d1) nodes are at our disposal\n",
    "        for d2 in range(1, n-d1):\n",
    "            # for d3 only (n-d1-d2) nodes are at our disposal\n",
    "            for d3 in range(1, n-d1-d2):\n",
    "                # for d4 only (n-d1-d2-d3) nodes are at our disposal\n",
    "                for d4 in range(1, n-d1-d2-d3):\n",
    "                    # for d5 only (n-d1-d2-d3-d4) nodes are at our disposal\n",
    "                        for d5 in range(1, n-d1-d2-d3-d4):\n",
    "                            # for d6 only (n-d1-d2-d3-d4-d5) nodes are at our disposal\n",
    "                            for d6 in range(1, n-d1-d2-d3-d4-d5):\n",
    "                                # for d7 only (n-d1-d2-d3-d4-d5-d6) nodes are at our disposal\n",
    "                                for d7 in range(1, n-d1-d2-d3-d4-d5-d6):\n",
    "                                    # for d8 only (n-d1-d2-d3-d4-d5-d6-d7) nodes are at our disposal\n",
    "                                    for d8 in range(1, n-d1-d2-d3-d4-d5-d6-d7):\n",
    "                                        # for d9 only (n-d1-d2-d3-d4-d5-d6-d7-d8) nodes are at our disposal\n",
    "                                        for d9 in range(1, n-d1-d2-d3-d4-d5-d6-d7-d8):\n",
    "                                            # for d10 only (n-d1-d2-d3-d4-d5-d6-d7-d8-d9) nodes are at our disposal\n",
    "                                            for d10 in range(1, n-d1-d2-d3-d4-d5-d6-d7-d8-d9):\n",
    "                                                # for d12 only (n-d1-d2-d3-d4-d5-d6-d7-d8-d9-d10) nodes are at our disposal\n",
    "                                                for d11 in range(1, n-d1-d2-d3-d4-d5-d6-d7-d8-d9-d10):\n",
    "                                                    # for d12 only (n-d1-d2-d3-d4-d5-d6-d7-d8-d9-d9-d10-d11) nodes are at our disposal\n",
    "                                                    for d12 in range(1, n-d1-d2-d3-d4-d5-d6-d7-d8-d9-d10-d11):\n",
    "                                                        # for d13 only (n-d1-d2-d3-d4-d5-d6-d7-d8-d9-d10-d11-d12) nodes are at our disposal\n",
    "                                                        for d13 in range(1, n-d1-d2-d3-d4-d5-d6-d7-d8-d9-d10-d11-d12):\n",
    "\n",
    "                                                            d14 = n-d1-d2-d3-d4-d5-d6-d7-d8-d9-d10-d11-d12-d13\n",
    "                                                            d = [9, d1, d2, d3, d4, d5, d6, d7, d8, d9, d10, d11, d12, d13, d14, 1]\n",
    "                                                            my_list.append(d)\n",
    "\n",
    "    # check if we considered all possible compositions\n",
    "    assert(num_compositions(n,k) == len(my_list))   \n",
    "    return my_list\n",
    "\n",
    "#------------------\n",
    "\n",
    "architectures_14 = get_architectures_14_hidden_layers()\n",
    "print(*architectures_14[:4], sep='\\n')\n",
    "print(\"...\")\n",
    "print(*architectures_14[-4:], sep='\\n')"
   ]
  },
  {
   "cell_type": "markdown",
   "metadata": {},
   "source": [
    "### 14.2 Determine maximum architecture for 14 hidden layers\n"
   ]
  },
  {
   "cell_type": "code",
   "execution_count": 30,
   "metadata": {},
   "outputs": [
    {
     "name": "stdout",
     "output_type": "stream",
     "text": [
      "For 14 hidden layers the architecture [9, 9, 1, 1, 1, 1, 1, 1, 1, 1, 1, 1, 1, 1, 1, 1] yields a maximum of 126 edges.\n"
     ]
    }
   ],
   "source": [
    "max_arch, max_edges = get_max_architecture(architectures_14)\n",
    "print(\"For 14 hidden layers the architecture {0} yields a maximum of {1} edges.\".format(max_arch, max_edges))"
   ]
  },
  {
   "cell_type": "markdown",
   "metadata": {},
   "source": [
    "## 15 hidden layers\n",
    "\n",
    "### 15.1 Generate all possible architectures for 15 hidden layers¶"
   ]
  },
  {
   "cell_type": "code",
   "execution_count": 31,
   "metadata": {},
   "outputs": [
    {
     "name": "stdout",
     "output_type": "stream",
     "text": [
      "[9, 1, 1, 1, 1, 1, 1, 1, 1, 1, 1, 1, 1, 1, 1, 7, 1]\n",
      "[9, 1, 1, 1, 1, 1, 1, 1, 1, 1, 1, 1, 1, 1, 2, 6, 1]\n",
      "[9, 1, 1, 1, 1, 1, 1, 1, 1, 1, 1, 1, 1, 1, 3, 5, 1]\n",
      "[9, 1, 1, 1, 1, 1, 1, 1, 1, 1, 1, 1, 1, 1, 4, 4, 1]\n",
      "...\n",
      "[9, 6, 1, 1, 2, 1, 1, 1, 1, 1, 1, 1, 1, 1, 1, 1, 1]\n",
      "[9, 6, 1, 2, 1, 1, 1, 1, 1, 1, 1, 1, 1, 1, 1, 1, 1]\n",
      "[9, 6, 2, 1, 1, 1, 1, 1, 1, 1, 1, 1, 1, 1, 1, 1, 1]\n",
      "[9, 7, 1, 1, 1, 1, 1, 1, 1, 1, 1, 1, 1, 1, 1, 1, 1]\n"
     ]
    }
   ],
   "source": [
    "def get_architectures_15_hidden_layers():\n",
    "    my_list = []\n",
    "    \n",
    "    k = 15                  # k hidden layers\n",
    "    n = 36-k                # number of regular nodes, \n",
    "                            # i.e. total units minus k bias nodes    \n",
    "    \n",
    "    for d1 in range(1, n):\n",
    "        # for d2 only (n-d1) nodes are at our disposal\n",
    "        for d2 in range(1, n-d1):\n",
    "            # for d3 only (n-d1-d2) nodes are at our disposal\n",
    "            for d3 in range(1, n-d1-d2):\n",
    "                # for d4 only (n-d1-d2-d3) nodes are at our disposal\n",
    "                for d4 in range(1, n-d1-d2-d3):\n",
    "                    # for d5 only (n-d1-d2-d3-d4) nodes are at our disposal\n",
    "                        for d5 in range(1, n-d1-d2-d3-d4):\n",
    "                            # for d6 only (n-d1-d2-d3-d4-d5) nodes are at our disposal\n",
    "                            for d6 in range(1, n-d1-d2-d3-d4-d5):\n",
    "                                # for d7 only (n-d1-d2-d3-d4-d5-d6) nodes are at our disposal\n",
    "                                for d7 in range(1, n-d1-d2-d3-d4-d5-d6):\n",
    "                                    # for d8 only (n-d1-d2-d3-d4-d5-d6-d7) nodes are at our disposal\n",
    "                                    for d8 in range(1, n-d1-d2-d3-d4-d5-d6-d7):\n",
    "                                        # for d9 only (n-d1-d2-d3-d4-d5-d6-d7-d8) nodes are at our disposal\n",
    "                                        for d9 in range(1, n-d1-d2-d3-d4-d5-d6-d7-d8):\n",
    "                                            # for d10 only (n-d1-d2-d3-d4-d5-d6-d7-d8-d9) nodes are at our disposal\n",
    "                                            for d10 in range(1, n-d1-d2-d3-d4-d5-d6-d7-d8-d9):\n",
    "                                                # for d12 only (n-d1-d2-d3-d4-d5-d6-d7-d8-d9-d10) nodes are at our disposal\n",
    "                                                for d11 in range(1, n-d1-d2-d3-d4-d5-d6-d7-d8-d9-d10):\n",
    "                                                    # for d12 only (n-d1-d2-d3-d4-d5-d6-d7-d8-d9-d9-d10-d11) nodes are at our disposal\n",
    "                                                    for d12 in range(1, n-d1-d2-d3-d4-d5-d6-d7-d8-d9-d10-d11):\n",
    "                                                        # for d13 only (n-d1-d2-d3-d4-d5-d6-d7-d8-d9-d10-d11-d12) nodes are at our disposal\n",
    "                                                        for d13 in range(1, n-d1-d2-d3-d4-d5-d6-d7-d8-d9-d10-d11-d12):\n",
    "                                                            # for d14 only (n-d1-d2-d3-d4-d5-d6-d7-d8-d9-d10-d11-d12-d13) nodes are at our disposal\n",
    "                                                            for d14 in range(1, n-d1-d2-d3-d4-d5-d6-d7-d8-d9-d10-d11-d12-d13):\n",
    "\n",
    "                                                                d15 = n-d1-d2-d3-d4-d5-d6-d7-d8-d9-d10-d11-d12-d13-d14\n",
    "                                                                d = [9, d1, d2, d3, d4, d5, d6, d7, d8, d9, d10, d11, d12, d13, d14, d15, 1]\n",
    "                                                                my_list.append(d)\n",
    "\n",
    "    # check if we considered all possible compositions\n",
    "    assert(num_compositions(n,k) == len(my_list))   \n",
    "    return my_list\n",
    "\n",
    "#------------------\n",
    "\n",
    "architectures_15 = get_architectures_15_hidden_layers()\n",
    "print(*architectures_15[:4], sep='\\n')\n",
    "print(\"...\")\n",
    "print(*architectures_15[-4:], sep='\\n')"
   ]
  },
  {
   "cell_type": "markdown",
   "metadata": {},
   "source": [
    "### 15.2 Determine maximum architecture for 15 hidden layers"
   ]
  },
  {
   "cell_type": "code",
   "execution_count": 32,
   "metadata": {},
   "outputs": [
    {
     "name": "stdout",
     "output_type": "stream",
     "text": [
      "For 15 hidden layers the architecture [9, 7, 1, 1, 1, 1, 1, 1, 1, 1, 1, 1, 1, 1, 1, 1, 1] yields a maximum of 106 edges.\n"
     ]
    }
   ],
   "source": [
    "max_arch, max_edges = get_max_architecture(architectures_15)\n",
    "print(\"For 15 hidden layers the architecture {0} yields a maximum of {1} edges.\".format(max_arch, max_edges))"
   ]
  },
  {
   "cell_type": "markdown",
   "metadata": {},
   "source": [
    "## 16 hidden layers\n",
    "\n",
    "### 16.1 Generate all possible architectures for 16 hidden layers¶"
   ]
  },
  {
   "cell_type": "code",
   "execution_count": 33,
   "metadata": {},
   "outputs": [
    {
     "name": "stdout",
     "output_type": "stream",
     "text": [
      "[9, 1, 1, 1, 1, 1, 1, 1, 1, 1, 1, 1, 1, 1, 1, 1, 5, 1]\n",
      "[9, 1, 1, 1, 1, 1, 1, 1, 1, 1, 1, 1, 1, 1, 1, 2, 4, 1]\n",
      "[9, 1, 1, 1, 1, 1, 1, 1, 1, 1, 1, 1, 1, 1, 1, 3, 3, 1]\n",
      "[9, 1, 1, 1, 1, 1, 1, 1, 1, 1, 1, 1, 1, 1, 1, 4, 2, 1]\n",
      "...\n",
      "[9, 4, 1, 1, 2, 1, 1, 1, 1, 1, 1, 1, 1, 1, 1, 1, 1, 1]\n",
      "[9, 4, 1, 2, 1, 1, 1, 1, 1, 1, 1, 1, 1, 1, 1, 1, 1, 1]\n",
      "[9, 4, 2, 1, 1, 1, 1, 1, 1, 1, 1, 1, 1, 1, 1, 1, 1, 1]\n",
      "[9, 5, 1, 1, 1, 1, 1, 1, 1, 1, 1, 1, 1, 1, 1, 1, 1, 1]\n"
     ]
    }
   ],
   "source": [
    "def get_architectures_16_hidden_layers():\n",
    "    my_list = []\n",
    "    \n",
    "    k = 16                  # k hidden layers\n",
    "    n = 36-k                # number of regular nodes, \n",
    "                            # i.e. total units minus k bias nodes    \n",
    "    \n",
    "    for d1 in range(1, n):\n",
    "        # for d2 only (n-d1) nodes are at our disposal\n",
    "        for d2 in range(1, n-d1):\n",
    "            # for d3 only (n-d1-d2) nodes are at our disposal\n",
    "            for d3 in range(1, n-d1-d2):\n",
    "                # for d4 only (n-d1-d2-d3) nodes are at our disposal\n",
    "                for d4 in range(1, n-d1-d2-d3):\n",
    "                    # for d5 only (n-d1-d2-d3-d4) nodes are at our disposal\n",
    "                        for d5 in range(1, n-d1-d2-d3-d4):\n",
    "                            # for d6 only (n-d1-d2-d3-d4-d5) nodes are at our disposal\n",
    "                            for d6 in range(1, n-d1-d2-d3-d4-d5):\n",
    "                                # for d7 only (n-d1-d2-d3-d4-d5-d6) nodes are at our disposal\n",
    "                                for d7 in range(1, n-d1-d2-d3-d4-d5-d6):\n",
    "                                    # for d8 only (n-d1-d2-d3-d4-d5-d6-d7) nodes are at our disposal\n",
    "                                    for d8 in range(1, n-d1-d2-d3-d4-d5-d6-d7):\n",
    "                                        # for d9 only (n-d1-d2-d3-d4-d5-d6-d7-d8) nodes are at our disposal\n",
    "                                        for d9 in range(1, n-d1-d2-d3-d4-d5-d6-d7-d8):\n",
    "                                            # for d10 only (n-d1-d2-d3-d4-d5-d6-d7-d8-d9) nodes are at our disposal\n",
    "                                            for d10 in range(1, n-d1-d2-d3-d4-d5-d6-d7-d8-d9):\n",
    "                                                # for d12 only (n-d1-d2-d3-d4-d5-d6-d7-d8-d9-d10) nodes are at our disposal\n",
    "                                                for d11 in range(1, n-d1-d2-d3-d4-d5-d6-d7-d8-d9-d10):\n",
    "                                                    # for d12 only (n-d1-d2-d3-d4-d5-d6-d7-d8-d9-d9-d10-d11) nodes are at our disposal\n",
    "                                                    for d12 in range(1, n-d1-d2-d3-d4-d5-d6-d7-d8-d9-d10-d11):\n",
    "                                                        # for d13 only (n-d1-d2-d3-d4-d5-d6-d7-d8-d9-d10-d11-d12) nodes are at our disposal\n",
    "                                                        for d13 in range(1, n-d1-d2-d3-d4-d5-d6-d7-d8-d9-d10-d11-d12):\n",
    "                                                            # for d14 only (n-d1-d2-d3-d4-d5-d6-d7-d8-d9-d10-d11-d12-d13) nodes are at our disposal\n",
    "                                                            for d14 in range(1, n-d1-d2-d3-d4-d5-d6-d7-d8-d9-d10-d11-d12-d13):\n",
    "                                                                # for d15 only (n-d1-d2-d3-d4-d5-d6-d7-d8-d9-d10-d11-d12-d13-d14) nodes are at our disposal\n",
    "                                                                for d15 in range(1, n-d1-d2-d3-d4-d5-d6-d7-d8-d9-d10-d11-d12-d13-d14):\n",
    "\n",
    "                                                                    d16 = n-d1-d2-d3-d4-d5-d6-d7-d8-d9-d10-d11-d12-d13-d14-d15\n",
    "                                                                    d = [9, d1, d2, d3, d4, d5, d6, d7, d8, d9, d10, d11, d12, d13, d14, d15, d16, 1]\n",
    "                                                                    my_list.append(d)\n",
    "\n",
    "    # check if we considered all possible compositions\n",
    "    assert(num_compositions(n,k) == len(my_list))   \n",
    "    return my_list\n",
    "\n",
    "#------------------\n",
    "\n",
    "architectures_16 = get_architectures_16_hidden_layers()\n",
    "print(*architectures_16[:4], sep='\\n')\n",
    "print(\"...\")\n",
    "print(*architectures_16[-4:], sep='\\n')"
   ]
  },
  {
   "cell_type": "markdown",
   "metadata": {},
   "source": [
    "### 16.2 Determine maximum architecture for 16 hidden layers\n"
   ]
  },
  {
   "cell_type": "code",
   "execution_count": 34,
   "metadata": {},
   "outputs": [
    {
     "name": "stdout",
     "output_type": "stream",
     "text": [
      "For 16 hidden layers the architecture [9, 5, 1, 1, 1, 1, 1, 1, 1, 1, 1, 1, 1, 1, 1, 1, 1, 1] yields a maximum of 86 edges.\n"
     ]
    }
   ],
   "source": [
    "max_arch, max_edges = get_max_architecture(architectures_16)\n",
    "print(\"For 16 hidden layers the architecture {0} yields a maximum of {1} edges.\".format(max_arch, max_edges))\n"
   ]
  },
  {
   "cell_type": "markdown",
   "metadata": {},
   "source": [
    "## 17 hidden layers\n",
    "\n",
    "### 17.1 Generate all possible architectures for 17 hidden layers¶"
   ]
  },
  {
   "cell_type": "code",
   "execution_count": 35,
   "metadata": {},
   "outputs": [
    {
     "name": "stdout",
     "output_type": "stream",
     "text": [
      "[9, 1, 1, 1, 1, 1, 1, 1, 1, 1, 1, 1, 1, 1, 1, 1, 1, 3, 1]\n",
      "[9, 1, 1, 1, 1, 1, 1, 1, 1, 1, 1, 1, 1, 1, 1, 1, 2, 2, 1]\n",
      "[9, 1, 1, 1, 1, 1, 1, 1, 1, 1, 1, 1, 1, 1, 1, 1, 3, 1, 1]\n",
      "[9, 1, 1, 1, 1, 1, 1, 1, 1, 1, 1, 1, 1, 1, 1, 2, 1, 2, 1]\n",
      "...\n",
      "[9, 2, 1, 1, 2, 1, 1, 1, 1, 1, 1, 1, 1, 1, 1, 1, 1, 1, 1]\n",
      "[9, 2, 1, 2, 1, 1, 1, 1, 1, 1, 1, 1, 1, 1, 1, 1, 1, 1, 1]\n",
      "[9, 2, 2, 1, 1, 1, 1, 1, 1, 1, 1, 1, 1, 1, 1, 1, 1, 1, 1]\n",
      "[9, 3, 1, 1, 1, 1, 1, 1, 1, 1, 1, 1, 1, 1, 1, 1, 1, 1, 1]\n"
     ]
    }
   ],
   "source": [
    "def get_architectures_17_hidden_layers():\n",
    "    my_list = []\n",
    "    \n",
    "    k = 17                  # k hidden layers\n",
    "    n = 36-k                # number of regular nodes, \n",
    "                            # i.e. total units minus k bias nodes    \n",
    "    \n",
    "    for d1 in range(1, n):\n",
    "        # for d2 only (n-d1) nodes are at our disposal\n",
    "        for d2 in range(1, n-d1):\n",
    "            # for d3 only (n-d1-d2) nodes are at our disposal\n",
    "            for d3 in range(1, n-d1-d2):\n",
    "                # for d4 only (n-d1-d2-d3) nodes are at our disposal\n",
    "                for d4 in range(1, n-d1-d2-d3):\n",
    "                    # for d5 only (n-d1-d2-d3-d4) nodes are at our disposal\n",
    "                        for d5 in range(1, n-d1-d2-d3-d4):\n",
    "                            # for d6 only (n-d1-d2-d3-d4-d5) nodes are at our disposal\n",
    "                            for d6 in range(1, n-d1-d2-d3-d4-d5):\n",
    "                                # for d7 only (n-d1-d2-d3-d4-d5-d6) nodes are at our disposal\n",
    "                                for d7 in range(1, n-d1-d2-d3-d4-d5-d6):\n",
    "                                    # for d8 only (n-d1-d2-d3-d4-d5-d6-d7) nodes are at our disposal\n",
    "                                    for d8 in range(1, n-d1-d2-d3-d4-d5-d6-d7):\n",
    "                                        # for d9 only (n-d1-d2-d3-d4-d5-d6-d7-d8) nodes are at our disposal\n",
    "                                        for d9 in range(1, n-d1-d2-d3-d4-d5-d6-d7-d8):\n",
    "                                            # for d10 only (n-d1-d2-d3-d4-d5-d6-d7-d8-d9) nodes are at our disposal\n",
    "                                            for d10 in range(1, n-d1-d2-d3-d4-d5-d6-d7-d8-d9):\n",
    "                                                # for d12 only (n-d1-d2-d3-d4-d5-d6-d7-d8-d9-d10) nodes are at our disposal\n",
    "                                                for d11 in range(1, n-d1-d2-d3-d4-d5-d6-d7-d8-d9-d10):\n",
    "                                                    # for d12 only (n-d1-d2-d3-d4-d5-d6-d7-d8-d9-d9-d10-d11) nodes are at our disposal\n",
    "                                                    for d12 in range(1, n-d1-d2-d3-d4-d5-d6-d7-d8-d9-d10-d11):\n",
    "                                                        # for d13 only (n-d1-d2-d3-d4-d5-d6-d7-d8-d9-d10-d11-d12) nodes are at our disposal\n",
    "                                                        for d13 in range(1, n-d1-d2-d3-d4-d5-d6-d7-d8-d9-d10-d11-d12):\n",
    "                                                            # for d14 only (n-d1-d2-d3-d4-d5-d6-d7-d8-d9-d10-d11-d12-d13) nodes are at our disposal\n",
    "                                                            for d14 in range(1, n-d1-d2-d3-d4-d5-d6-d7-d8-d9-d10-d11-d12-d13):\n",
    "                                                                # for d15 only (n-d1-d2-d3-d4-d5-d6-d7-d8-d9-d10-d11-d12-d13-d14) nodes are at our disposal\n",
    "                                                                for d15 in range(1, n-d1-d2-d3-d4-d5-d6-d7-d8-d9-d10-d11-d12-d13-d14):\n",
    "                                                                    # for d16 only (n-d1-d2-d3-d4-d5-d6-d7-d8-d9-d10-d11-d12-d13-d14-d15) nodes are at our disposal\n",
    "                                                                    for d16 in range(1, n-d1-d2-d3-d4-d5-d6-d7-d8-d9-d10-d11-d12-d13-d14-d15):\n",
    "\n",
    "                                                                        d17 = n-d1-d2-d3-d4-d5-d6-d7-d8-d9-d10-d11-d12-d13-d14-d15-d16\n",
    "                                                                        d = [9, d1, d2, d3, d4, d5, d6, d7, d8, d9, d10, d11, d12, d13, d14, d15, d16, d17, 1]\n",
    "                                                                        my_list.append(d)\n",
    "\n",
    "    # check if we considered all possible compositions\n",
    "    assert(num_compositions(n,k) == len(my_list))   \n",
    "    return my_list\n",
    "\n",
    "#------------------\n",
    "\n",
    "architectures_17 = get_architectures_17_hidden_layers()\n",
    "print(*architectures_17[:4], sep='\\n')\n",
    "print(\"...\")\n",
    "print(*architectures_17[-4:], sep='\\n')"
   ]
  },
  {
   "cell_type": "markdown",
   "metadata": {},
   "source": [
    "### 17.2 Determine maximum architecture for 17 hidden layers\n",
    "\n"
   ]
  },
  {
   "cell_type": "code",
   "execution_count": 36,
   "metadata": {},
   "outputs": [
    {
     "name": "stdout",
     "output_type": "stream",
     "text": [
      "For 17 hidden layers the architecture [9, 3, 1, 1, 1, 1, 1, 1, 1, 1, 1, 1, 1, 1, 1, 1, 1, 1, 1] yields a maximum of 66 edges.\n"
     ]
    }
   ],
   "source": [
    "max_arch, max_edges = get_max_architecture(architectures_17)\n",
    "print(\"For 17 hidden layers the architecture {0} yields a maximum of {1} edges.\".format(max_arch, max_edges))\n"
   ]
  },
  {
   "cell_type": "markdown",
   "metadata": {},
   "source": [
    "## 18 hidden layers\n",
    "\n",
    "### 18.1 Generate all possible architectures for 18 hidden layers¶"
   ]
  },
  {
   "cell_type": "code",
   "execution_count": 37,
   "metadata": {},
   "outputs": [
    {
     "name": "stdout",
     "output_type": "stream",
     "text": [
      "[9, 1, 1, 1, 1, 1, 1, 1, 1, 1, 1, 1, 1, 1, 1, 1, 1, 1, 1, 1]\n",
      "...\n",
      "[9, 1, 1, 1, 1, 1, 1, 1, 1, 1, 1, 1, 1, 1, 1, 1, 1, 1, 1, 1]\n"
     ]
    }
   ],
   "source": [
    "def get_architectures_18_hidden_layers():\n",
    "    my_list = []\n",
    "    \n",
    "    k = 18                  # k hidden layers\n",
    "    n = 36-k                # number of regular nodes, \n",
    "                            # i.e. total units minus k bias nodes    \n",
    "    \n",
    "    for d1 in range(1, n):\n",
    "        # for d2 only (n-d1) nodes are at our disposal\n",
    "        for d2 in range(1, n-d1):\n",
    "            # for d3 only (n-d1-d2) nodes are at our disposal\n",
    "            for d3 in range(1, n-d1-d2):\n",
    "                # for d4 only (n-d1-d2-d3) nodes are at our disposal\n",
    "                for d4 in range(1, n-d1-d2-d3):\n",
    "                    # for d5 only (n-d1-d2-d3-d4) nodes are at our disposal\n",
    "                        for d5 in range(1, n-d1-d2-d3-d4):\n",
    "                            # for d6 only (n-d1-d2-d3-d4-d5) nodes are at our disposal\n",
    "                            for d6 in range(1, n-d1-d2-d3-d4-d5):\n",
    "                                # for d7 only (n-d1-d2-d3-d4-d5-d6) nodes are at our disposal\n",
    "                                for d7 in range(1, n-d1-d2-d3-d4-d5-d6):\n",
    "                                    # for d8 only (n-d1-d2-d3-d4-d5-d6-d7) nodes are at our disposal\n",
    "                                    for d8 in range(1, n-d1-d2-d3-d4-d5-d6-d7):\n",
    "                                        # for d9 only (n-d1-d2-d3-d4-d5-d6-d7-d8) nodes are at our disposal\n",
    "                                        for d9 in range(1, n-d1-d2-d3-d4-d5-d6-d7-d8):\n",
    "                                            # for d10 only (n-d1-d2-d3-d4-d5-d6-d7-d8-d9) nodes are at our disposal\n",
    "                                            for d10 in range(1, n-d1-d2-d3-d4-d5-d6-d7-d8-d9):\n",
    "                                                # for d12 only (n-d1-d2-d3-d4-d5-d6-d7-d8-d9-d10) nodes are at our disposal\n",
    "                                                for d11 in range(1, n-d1-d2-d3-d4-d5-d6-d7-d8-d9-d10):\n",
    "                                                    # for d12 only (n-d1-d2-d3-d4-d5-d6-d7-d8-d9-d9-d10-d11) nodes are at our disposal\n",
    "                                                    for d12 in range(1, n-d1-d2-d3-d4-d5-d6-d7-d8-d9-d10-d11):\n",
    "                                                        # for d13 only (n-d1-d2-d3-d4-d5-d6-d7-d8-d9-d10-d11-d12) nodes are at our disposal\n",
    "                                                        for d13 in range(1, n-d1-d2-d3-d4-d5-d6-d7-d8-d9-d10-d11-d12):\n",
    "                                                            # for d14 only (n-d1-d2-d3-d4-d5-d6-d7-d8-d9-d10-d11-d12-d13) nodes are at our disposal\n",
    "                                                            for d14 in range(1, n-d1-d2-d3-d4-d5-d6-d7-d8-d9-d10-d11-d12-d13):\n",
    "                                                                # for d15 only (n-d1-d2-d3-d4-d5-d6-d7-d8-d9-d10-d11-d12-d13-d14) nodes are at our disposal\n",
    "                                                                for d15 in range(1, n-d1-d2-d3-d4-d5-d6-d7-d8-d9-d10-d11-d12-d13-d14):\n",
    "                                                                    # for d16 only (n-d1-d2-d3-d4-d5-d6-d7-d8-d9-d10-d11-d12-d13-d14-d15) nodes are at our disposal\n",
    "                                                                    for d16 in range(1, n-d1-d2-d3-d4-d5-d6-d7-d8-d9-d10-d11-d12-d13-d14-d15):\n",
    "                                                                        # for d17 only (n-d1-d2-d3-d4-d5-d6-d7-d8-d9-d10-d11-d12-d13-d14-d15-d16) nodes are at our disposal\n",
    "                                                                        for d17 in range(1, n-d1-d2-d3-d4-d5-d6-d7-d8-d9-d10-d11-d12-d13-d14-d15-d16):\n",
    "                                                                        \n",
    "                                                                            d18 = n-d1-d2-d3-d4-d5-d6-d7-d8-d9-d10-d11-d12-d13-d14-d15-d16-d17\n",
    "                                                                            d = [9, d1, d2, d3, d4, d5, d6, d7, d8, d9, d10, d11, d12, d13, d14, d15, d16, d17, d18, 1]\n",
    "                                                                            my_list.append(d)\n",
    "\n",
    "    # check if we considered all possible compositions\n",
    "    assert(num_compositions(n,k) == len(my_list))   \n",
    "    return my_list\n",
    "\n",
    "#------------------\n",
    "\n",
    "architectures_18 = get_architectures_18_hidden_layers()\n",
    "print(*architectures_18[:4], sep='\\n')\n",
    "print(\"...\")\n",
    "print(*architectures_18[-4:], sep='\\n')"
   ]
  },
  {
   "cell_type": "markdown",
   "metadata": {},
   "source": [
    "### 18.2 Determine maximum architecture for 18 hidden layers\n",
    "\n"
   ]
  },
  {
   "cell_type": "code",
   "execution_count": 38,
   "metadata": {},
   "outputs": [
    {
     "name": "stdout",
     "output_type": "stream",
     "text": [
      "For 18 hidden layers the architecture [9, 1, 1, 1, 1, 1, 1, 1, 1, 1, 1, 1, 1, 1, 1, 1, 1, 1, 1, 1] yields a maximum of 46 edges.\n"
     ]
    }
   ],
   "source": [
    "max_arch, max_edges = get_max_architecture(architectures_18)\n",
    "print(\"For 18 hidden layers the architecture {0} yields a maximum of {1} edges.\".format(max_arch, max_edges))\n"
   ]
  },
  {
   "cell_type": "markdown",
   "metadata": {},
   "source": [
    "# Conclusion\n",
    "\n",
    "- Using a brute force approach we determined that a minimum of 46 edges is achieved for 18 hidden layers with the architecture $d = [9, 1, 1, 1, 1, 1, 1, 1, 1, 1, 1, 1, 1, 1, 1, 1, 1, 1, 1, 1]$.\n",
    "\n",
    "- A maximum of 510 edges is achieved for 2 hidden layers with the the architecture $d = [9, 21, 13, 1]$."
   ]
  }
 ],
 "metadata": {
  "kernelspec": {
   "display_name": "Python 3",
   "language": "python",
   "name": "python3"
  },
  "language_info": {
   "codemirror_mode": {
    "name": "ipython",
    "version": 3
   },
   "file_extension": ".py",
   "mimetype": "text/x-python",
   "name": "python",
   "nbconvert_exporter": "python",
   "pygments_lexer": "ipython3",
   "version": "3.6.2"
  }
 },
 "nbformat": 4,
 "nbformat_minor": 2
}
