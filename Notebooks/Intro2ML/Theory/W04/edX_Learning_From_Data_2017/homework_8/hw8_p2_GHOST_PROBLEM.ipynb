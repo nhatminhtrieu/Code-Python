{
 "cells": [
  {
   "cell_type": "markdown",
   "metadata": {},
   "source": [
    "# Homework 8"
   ]
  },
  {
   "cell_type": "markdown",
   "metadata": {},
   "source": [
    "## Ghost Problem for Problem 2\n",
    "\n",
    "I devised the following **Ghost Problem** as a problem that we could discuss openly on the forum. This allowed us to compare our results and increase our confidence that our algorithms were implemented correctly."
   ]
  },
  {
   "cell_type": "code",
   "execution_count": 1,
   "metadata": {},
   "outputs": [],
   "source": [
    "from sklearn import svm\n",
    "import numpy as np\n",
    "import matplotlib.pyplot as plt\n",
    "import pandas as pd\n",
    "import seaborn as sns"
   ]
  },
  {
   "cell_type": "markdown",
   "metadata": {},
   "source": [
    "## get_labels\n",
    "\n",
    "I just realized that we only need to generate the labels, the X-matrix stays the same"
   ]
  },
  {
   "cell_type": "code",
   "execution_count": 2,
   "metadata": {},
   "outputs": [],
   "source": [
    "def get_labels(x, digit_labels):\n",
    "    '''\n",
    "    - Takes integer 'x' (digit 0-9)\n",
    "    - Takes labels\n",
    "    - Returns new labels\n",
    "      where the label is 1 for digit == x, and -1 otherwise.\n",
    "    '''\n",
    "    y = []\n",
    "    for d in digit_labels:\n",
    "        if d == x:\n",
    "            y.append(1)\n",
    "        else:\n",
    "            y.append(-1)\n",
    "    return np.array(y)"
   ]
  },
  {
   "cell_type": "code",
   "execution_count": 5,
   "metadata": {},
   "outputs": [
    {
     "name": "stdout",
     "output_type": "stream",
     "text": [
      "d=0 vs all yields 4 support vectors\n",
      "d=1 vs all yields 6 support vectors\n",
      "d=2 vs all yields 5 support vectors\n",
      "d=3 vs all yields 5 support vectors\n",
      "d=4 vs all yields 5 support vectors\n",
      "d=5 vs all yields 12 support vectors\n",
      "d=6 vs all yields 6 support vectors\n",
      "d=7 vs all yields 6 support vectors\n",
      "d=8 vs all yields 4 support vectors\n",
      "d=9 vs all yields 3 support vectors\n",
      "\n",
      "\n",
      "E_in_0_vs_all = 0.0625\n",
      "E_in_1_vs_all = 0.125\n",
      "E_in_2_vs_all = 0.125\n",
      "E_in_3_vs_all = 0.125\n",
      "E_in_4_vs_all = 0.0625\n",
      "E_in_5_vs_all = 0.125\n",
      "E_in_6_vs_all = 0.125\n",
      "E_in_7_vs_all = 0.125\n",
      "E_in_8_vs_all = 0.0625\n",
      "E_in_9_vs_all = 0.0625\n"
     ]
    }
   ],
   "source": [
    "# training data that I made up\n",
    "\n",
    "Z = np.array([[9, 0.30, -6.1],\n",
    "[0, 0.31, -5.2],\n",
    "[8, 0.32, -4.3],\n",
    "[1, 0.33, -3.4],\n",
    "[7, 0.34, -2.5],\n",
    "[2, 0.35, -1.6],\n",
    "[6, 0.36, -6.15],\n",
    "[3, 0.37, -5.25],\n",
    "[5, 0.38, -4.35],\n",
    "[1, 0.39, -3.45],\n",
    "[4, 0.40, -2.55],\n",
    "[5, 0.41, -1.65],\n",
    "[3, 0.42, -5.15],\n",
    "[6, 0.43, -4.25],\n",
    "[2, 0.44, -2.35],\n",
    "[7, 0.45, -1.45]])\n",
    "\n",
    "#----------------------------------\n",
    "\n",
    "# Extracting the training points and their labels\n",
    "Z_TRAIN = Z[:, 1:]\n",
    "DIGIT_LABELS_Z = Z[:, 0]\n",
    "\n",
    "\n",
    "# defining the SVM classifier\n",
    "clf = svm.SVC(C = 0.04, kernel = 'poly', degree = 3, coef0 = 1, gamma = 1)\n",
    "\n",
    "\n",
    "# print the number of support vectors\n",
    "for d in range(0, 10):\n",
    "    clf.fit(Z_TRAIN,  get_labels(d, DIGIT_LABELS_Z))\n",
    "    print(\"d={} vs all yields {} support vectors\".format(d, sum(clf.n_support_)))\n",
    "    \n",
    "print('\\n')\n",
    "\n",
    "for d in range(0,10):\n",
    "    y_d_vs_all_label = get_labels(d, DIGIT_LABELS_Z)\n",
    "    clf.fit(Z_TRAIN, y_d_vs_all_label)\n",
    "    y_predict = clf.predict(Z_TRAIN)\n",
    "    current_E_in = np.sum(y_predict != y_d_vs_all_label) / Z_TRAIN.shape[0]\n",
    "    print(\"E_in_{}_vs_all = {}\".format(d, current_E_in))\n",
    "    "
   ]
  }
 ],
 "metadata": {
  "kernelspec": {
   "display_name": "Python 3",
   "language": "python",
   "name": "python3"
  },
  "language_info": {
   "codemirror_mode": {
    "name": "ipython",
    "version": 3
   },
   "file_extension": ".py",
   "mimetype": "text/x-python",
   "name": "python",
   "nbconvert_exporter": "python",
   "pygments_lexer": "ipython3",
   "version": "3.6.3"
  }
 },
 "nbformat": 4,
 "nbformat_minor": 2
}
