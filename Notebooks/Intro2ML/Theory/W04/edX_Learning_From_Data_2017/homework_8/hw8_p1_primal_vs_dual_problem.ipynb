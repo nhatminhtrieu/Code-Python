{
 "cells": [
  {
   "cell_type": "markdown",
   "metadata": {},
   "source": [
    "# Homework 8\n",
    "\n",
    "## Problem 1\n",
    "\n",
    "The original formulation of finding the support vector machine  is about finding a separating hyperplane with the largest margin (See slide 11 of lecture 14):\n",
    "\n",
    "Minimize $\\frac{1}{2} \\mathbf{w}^T \\mathbf{w}$\n",
    "\n",
    "subject to $y_n (\\mathbf{w}^T \\mathbf{x}_n + b) \\geq 1$\n",
    "\n",
    "with $\\mathbf{w} \\in \\mathbb{R}^d, b \\in \\mathbb{R}$\n",
    "\n",
    "This is a quadratic programming problem since we are trying to minimize a quadratic function that is subject to linear inequality constraints (see also eChapter 8, page 9).\n",
    "\n",
    "We have to determine $d$ variables from $\\mathbf{w}$ and $1$ variable from $b$, so in total we have a quadratic programming problem with $d+1$ variables."
   ]
  }
 ],
 "metadata": {
  "kernelspec": {
   "display_name": "Python 3",
   "language": "python",
   "name": "python3"
  },
  "language_info": {
   "codemirror_mode": {
    "name": "ipython",
    "version": 3
   },
   "file_extension": ".py",
   "mimetype": "text/x-python",
   "name": "python",
   "nbconvert_exporter": "python",
   "pygments_lexer": "ipython3",
   "version": "3.6.3"
  }
 },
 "nbformat": 4,
 "nbformat_minor": 2
}
