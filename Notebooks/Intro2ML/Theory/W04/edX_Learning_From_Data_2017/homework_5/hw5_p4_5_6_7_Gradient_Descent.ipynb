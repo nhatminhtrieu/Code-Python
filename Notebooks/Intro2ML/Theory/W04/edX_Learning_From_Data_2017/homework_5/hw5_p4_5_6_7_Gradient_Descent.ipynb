{
 "cells": [
  {
   "cell_type": "markdown",
   "metadata": {},
   "source": [
    "# Homework 5\n",
    "\n",
    "## Problem 4\n",
    "\n",
    "\n",
    "The error function is given by $E(u,v) = (ue^v - 2ve^{-u})^2$.\n",
    "\n",
    "We compute the partial derivatives for the gradient:\n",
    "\n",
    "$\\frac{\\partial E}{\\partial u} = 2(u e^v - 2ve^{-u})(e^v + 2ve^{-u})$    \n",
    "\n",
    "$\\frac{\\partial E}{\\partial v} = 2(ue^v - 2ve^{-u})(ue^v - 2e^{-u})$   \n",
    "\n",
    "So the correct answer to this problem is **4[e]** $2(ue^v - 2ve^{-u})(e^v + 2ve^{-u})$ ."
   ]
  },
  {
   "cell_type": "markdown",
   "metadata": {},
   "source": [
    "## Problem 5\n",
    "\n",
    "We have to determine how many iterations are required such that $E(u,v)$ falls below $10^{-14}$ the first time.\n",
    "\n",
    "## Problem 6\n",
    "We also have to compute the final $(u,v)$ after $E(u,v)$ falls below $10^{-14}$ the first time."
   ]
  },
  {
   "cell_type": "code",
   "execution_count": 1,
   "metadata": {},
   "outputs": [
    {
     "name": "stdout",
     "output_type": "stream",
     "text": [
      "number of iterations for E(u,v) to fall below 10^(-14):  10\n",
      "final (u,v) =  [ 0.04473629  0.02395871]\n",
      "\n",
      "Determine which of the given points has minimum distance to the final (u,v):\n",
      "point x =  [ 1.  1.]  => distance =  1.36571788692\n",
      "point x =  [ 0.713  0.045]  => distance =  0.668594885774\n",
      "point x =  [ 0.016  0.112]  => distance =  0.0926123232022\n",
      "point x =  [-0.083  0.029]  => distance =  0.127835732282\n",
      "point x =  [ 0.045  0.024]  => distance =  0.00026692186106\n",
      "\n",
      "The point with minimum distance to the final (u,v) is:  [ 0.045  0.024]\n"
     ]
    }
   ],
   "source": [
    "import math\n",
    "import numpy as np\n",
    "e = math.e\n",
    "\n",
    "\n",
    "def E(u, v):\n",
    "    return (u*e**v - 2*v*e**(-u))**2\n",
    "\n",
    "\n",
    "def problem_5_6():\n",
    "\n",
    "    # required iterations\n",
    "    iterations = -1\n",
    "    \n",
    "    # Start at (u,v) = (1,1)\n",
    "    x = [1,1]\n",
    "    eta = 0.1\n",
    "\n",
    "    # for t = 0, 1, ... do\n",
    "    for t in range(1, 10**5):\n",
    "\n",
    "        # unpack the values in list x\n",
    "        u,v = x\n",
    "        \n",
    "        # compute the gradient\n",
    "        dE_du = 2*(u*e**v - 2*v*e**(-u))*(e**v + 2*v*e**(-u))\n",
    "        dE_dv = 2*(u*e**v - 2*v*e**(-u))*(u*e**v - 2*e**(-u))\n",
    "        grad = np.array([dE_du, dE_dv])\n",
    "\n",
    "        # update position\n",
    "        x = x - eta * grad\n",
    "\n",
    "        # required iterations so far\n",
    "        iterations = t\n",
    "        \n",
    "        # store current position x as final_uv\n",
    "        final_uv = x\n",
    "        \n",
    "        # stop if E drops below 10^(-14)\n",
    "        if E(x[0], x[1]) < 10**(-14):\n",
    "            break\n",
    "    \n",
    "    return iterations, final_uv\n",
    "            \n",
    "\n",
    "iterations, final_uv = problem_5_6()\n",
    "print(\"number of iterations for E(u,v) to fall below 10^(-14): \", iterations)\n",
    "print(\"final (u,v) = \", final_uv)\n",
    "\n",
    "#--------------\n",
    "\n",
    "# compute which of the following points is closest to the final (u,v)\n",
    "L = [(1.000, 1.000), (0.713, 0.045), (0.016, 0.112), (-0.083, 0.029), (0.045, 0.024)]\n",
    "\n",
    "min_dist = 2**64\n",
    "min_point = None\n",
    "\n",
    "print(\"\\nDetermine which of the given points has minimum distance to the final (u,v):\")\n",
    "\n",
    "for point in L:\n",
    "    x = np.array(point)\n",
    "    distance = np.linalg.norm(final_uv - x)\n",
    "    print(\"point x = \", x, \" => distance = \", distance)\n",
    "    if distance < min_dist:\n",
    "        min_dist = distance\n",
    "        min_point = x\n",
    "    \n",
    "print(\"\\nThe point with minimum distance to the final (u,v) is: \", min_point)"
   ]
  },
  {
   "cell_type": "markdown",
   "metadata": {},
   "source": [
    "So the correct answers are **5[d]** 10 and **6[e]** (0.045, 0.024)."
   ]
  },
  {
   "cell_type": "markdown",
   "metadata": {},
   "source": [
    "# Problem 7\n",
    "\n",
    "We have to apply coordinate descent for 15 iterations. In each iteration of coordinate descent we first update the position $(u,v)$ in u-direction and then update the position in v-direction. The problem asks us for the error after these 15 iterations."
   ]
  },
  {
   "cell_type": "code",
   "execution_count": 2,
   "metadata": {},
   "outputs": [
    {
     "name": "stdout",
     "output_type": "stream",
     "text": [
      "Coordinate descent:\n",
      "\n",
      "final error after 15 iterations: 0.139813791996\n"
     ]
    }
   ],
   "source": [
    "import math\n",
    "import numpy as np\n",
    "e = math.e\n",
    "\n",
    "\n",
    "def E(u, v):\n",
    "    return (u*e**v - 2*v*e**(-u))**2\n",
    "\n",
    "\n",
    "def problem_7():\n",
    "\n",
    "    # required iterations\n",
    "    num_iterations = 15\n",
    "    \n",
    "    # Start at (u,v) = (1,1)\n",
    "    x = [1,1]\n",
    "    eta = 0.1\n",
    "\n",
    "    # for t = 0, 1, ... do\n",
    "    for t in range(num_iterations):\n",
    "\n",
    "        # 1. compute the gradient in u direction\n",
    "        u, v = x\n",
    "        dE_du = 2*(u*e**v - 2*v*e**(-u))*(e**v + 2*v*e**(-u))\n",
    "        grad = np.array([dE_du, 0])\n",
    "\n",
    "        # update position only in u direction\n",
    "        x = x - eta * grad\n",
    "\n",
    "        \n",
    "        # 2. compute the gradient in v direction \n",
    "        u, v = x\n",
    "        dE_dv = 2*(u*e**v - 2*v*e**(-u))*(u*e**v - 2*e**(-u))\n",
    "        grad = np.array([0, dE_dv])\n",
    "        \n",
    "        # update position only in v direction\n",
    "        x = x - eta * grad\n",
    "        \n",
    "        # required iterations so far\n",
    "        iterations = t\n",
    "        \n",
    "        \n",
    "    # final error\n",
    "    final_error = E(x[0], x[1])\n",
    "    return final_error\n",
    "\n",
    "\n",
    "print(\"Coordinate descent:\\n\")\n",
    "print(\"final error after 15 iterations:\", problem_7())\n",
    "\n",
    "#--------------\n",
    "\n"
   ]
  },
  {
   "cell_type": "markdown",
   "metadata": {},
   "source": [
    "So the answer is **7[a]** $10^{-1}$ ."
   ]
  }
 ],
 "metadata": {
  "kernelspec": {
   "display_name": "Python 3",
   "language": "python",
   "name": "python3"
  },
  "language_info": {
   "codemirror_mode": {
    "name": "ipython",
    "version": 3
   },
   "file_extension": ".py",
   "mimetype": "text/x-python",
   "name": "python",
   "nbconvert_exporter": "python",
   "pygments_lexer": "ipython3",
   "version": "3.6.2"
  }
 },
 "nbformat": 4,
 "nbformat_minor": 2
}
