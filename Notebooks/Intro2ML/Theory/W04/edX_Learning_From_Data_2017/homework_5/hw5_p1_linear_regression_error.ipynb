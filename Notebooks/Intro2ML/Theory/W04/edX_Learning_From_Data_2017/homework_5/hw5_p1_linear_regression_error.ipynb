{
 "cells": [
  {
   "cell_type": "markdown",
   "metadata": {},
   "source": [
    "# Homework 5\n",
    "\n",
    "## Problem 1\n",
    "\n",
    "In this problem we are given the expression for the expected in-sample error of a noisy target with zero mean and variance $\\sigma^2$. We have to determine which $N$ among the given multiple choices results in an error greater than 0.008, and among those $N$ pick the smallest. "
   ]
  },
  {
   "cell_type": "code",
   "execution_count": 1,
   "metadata": {},
   "outputs": [
    {
     "name": "stdout",
     "output_type": "stream",
     "text": [
      "N =  10  => expected error:  0.001\n",
      "N =  25  => expected error:  0.006400000000000001\n",
      "N =  100  => expected error:  0.009100000000000002\n",
      "N =  500  => expected error:  0.009820000000000002\n",
      "N =  1000  => expected error:  0.009910000000000002\n",
      "\n",
      "Smallest N such that error is greater than 0.008: N =  100\n"
     ]
    }
   ],
   "source": [
    "def error(sigma, d, N):\n",
    "    return sigma**2 * (1 - (d+1)/N)\n",
    "\n",
    "\n",
    "def problem1():\n",
    "    sigma = 0.1\n",
    "    d = 8\n",
    "    N_list = [10, 25, 100, 500, 1000]\n",
    "    \n",
    "    solution = max(N_list)\n",
    "    bound = 0.008\n",
    "    \n",
    "    # determine smallest N such that error > 0.008\n",
    "    for N in N_list:\n",
    "        expected_error = error(sigma, d, N)\n",
    "        print(\"N = \", N, \" => expected error: \", expected_error)\n",
    "        if (expected_error > bound) and (N < solution):\n",
    "            solution = N\n",
    "        \n",
    "    return solution\n",
    "\n",
    "\n",
    "\n",
    "print(\"\\nSmallest N such that error is greater than 0.008: N = \", problem1())"
   ]
  },
  {
   "cell_type": "markdown",
   "metadata": {},
   "source": [
    "# WolframAlpha\n",
    "\n",
    "https://www.wolframalpha.com/input/?i=eps+%3D+sigma%5E2+*+(1-+(d%2B1)%2FN),+sigma+%3D+0.1,+d+%3D+8,+eps+%3D+0.008,+solve+for+N\n",
    "\n",
    "https://www.wolframalpha.com/input/?i=f(x)+%3D+0.1%5E2+*+(1-+9%2Fx),+g(x)+%3D+0.008,+plot\n"
   ]
  },
  {
   "cell_type": "markdown",
   "metadata": {},
   "source": [
    "So the correct answer to this problem is **1[c]** 100."
   ]
  }
 ],
 "metadata": {
  "kernelspec": {
   "display_name": "Python 3",
   "language": "python",
   "name": "python3"
  },
  "language_info": {
   "codemirror_mode": {
    "name": "ipython",
    "version": 3
   },
   "file_extension": ".py",
   "mimetype": "text/x-python",
   "name": "python",
   "nbconvert_exporter": "python",
   "pygments_lexer": "ipython3",
   "version": "3.6.2"
  }
 },
 "nbformat": 4,
 "nbformat_minor": 2
}
