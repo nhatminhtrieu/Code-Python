{
 "cells": [
  {
   "cell_type": "markdown",
   "metadata": {},
   "source": [
    "# Homework 4\n",
    "\n",
    "## Solution to Problem 2\n",
    "\n",
    "With $N > d_{vc}$ we can use the approximation $m_H(N) = N^{d_{vc}}$ as described in Problem 1. \n",
    "\n",
    "- Note that [c] and [d] are implicit bounds in $\\epsilon$ . For this we can use a numeric solver, see end of this Python notebook.\n",
    "\n",
    "- Also note that with $m_H(N) = N^{d_{vc}}$ we have $m_H(2N) = (2N)^{d_{vc}}$.\n",
    "\n",
    "- For the Devroye bound we can use the simplification $\\ln \\left[ m_H(N^2) \\right] = \\ln \\left[ (N^2)^{d_{vc}} \\right] = \\ln \\left[ N^{2d_{vc}} \\right] = 2d_{vc} \\ln ( N ) $ to accomodate for the large numbers.\n",
    "\n",
    "\n",
    "**[a] Original VC bound:** \n",
    "\n",
    "$$\\epsilon \\leq \\sqrt{\\frac{8}{N} \\ln \\frac{4m_H(2N)}{\\delta}}$$\n",
    "\n",
    "\n",
    "\n",
    "\n",
    "**[b] Rademacher Penalty Bound:**\n",
    "\n",
    "$$ \\epsilon \\leq \\sqrt{\\frac{2 \\ln(2N m_H(N))}{N}} + \\sqrt{\\frac{2}{N}\\ln \\frac{1}{\\delta}} + \\frac{1}{N}$$\n",
    "\n",
    "\n",
    "\n",
    "**[c] Parrondo and Van den Broek:**\n",
    "\n",
    "$$ \\epsilon \\leq \\sqrt{ \\frac{1}{N} (2\\epsilon + \\ln \\frac{6m_H(2N)}{\\delta}) } $$\n",
    "\n",
    "\n",
    "**[d] Devroye**\n",
    "\n",
    "$$ \\epsilon \\leq \\sqrt{ \\frac{1}{2N} (4 \\epsilon (1 + \\epsilon) + \\ln \\frac{4m_H(N^2)}{\\delta}) } $$\n",
    "\n",
    "**[e] They are all equal**"
   ]
  },
  {
   "cell_type": "code",
   "execution_count": 1,
   "metadata": {
    "scrolled": true
   },
   "outputs": [
    {
     "data": {
      "image/png": "[encoded data removed]",
      "text/plain": [
       "<matplotlib.figure.Figure at 0x277e9146d68>"
      ]
     },
     "metadata": {},
     "output_type": "display_data"
    }
   ],
   "source": [
    "import math\n",
    "import matplotlib.pyplot as plt\n",
    "from scipy import optimize\n",
    "\n",
    "\n",
    "def vc(N, d=50, delta=0.05):\n",
    "    return math.sqrt( 8/N * math.log(4 / delta * (2*N)**d)  )\n",
    "    \n",
    "def rademacher(N, d=50, delta=0.05):\n",
    "    return math.sqrt(2/N * math.log(2 * N * (N)**d )) + math.sqrt(-2/N * math.log(delta)) + 1/N\n",
    "\n",
    "def parrondo(N, d=50, delta=0.05):\n",
    "    f = lambda eps: math.sqrt((2*eps + math.log(6/delta * (2*N)**d))/N) - eps\n",
    "    return optimize.brentq(f, 0, 1) \n",
    "\n",
    "def devroye(N, d=50, delta=0.05):\n",
    "    f = lambda eps: math.sqrt((4*eps*(1+eps) + math.log(4/delta) + 2*d*math.log(N))/(2* N)) - eps\n",
    "    return optimize.brentq(f, 0, 1) \n",
    "\n",
    "\n",
    "xs = range(9000, 11001, 500)\n",
    "ys_vc = [vc(N) for N in xs]\n",
    "ys_rademacher = [rademacher(N) for N in xs]\n",
    "ys_parrondo = [parrondo(N) for N in xs]\n",
    "ys_devroye = [devroye(N) for N in xs]\n",
    "\n",
    "\n",
    "fig1 = plt.figure(1, dpi=80)\n",
    "plt.plot(xs, ys_vc, 'ro-', label='VC')\n",
    "plt.plot(xs, ys_rademacher, 'go-', label='Rademacher')\n",
    "plt.plot(xs, ys_parrondo, 'bo-', label='Parrondo')\n",
    "plt.plot(xs, ys_devroye, 'co-', label='Devroye')\n",
    "plt.xlabel(r'sample size $N$')\n",
    "plt.ylabel(r'$\\epsilon$ bound')\n",
    "plt.legend()\n",
    "plt.show()\n",
    "\n",
    "\n"
   ]
  },
  {
   "cell_type": "markdown",
   "metadata": {},
   "source": [
    "**Answer:** At $N = 10,000$ the Devroye bound is the smallest, so answer **2[d]** Devroye is correct."
   ]
  },
  {
   "cell_type": "markdown",
   "metadata": {},
   "source": [
    "# Numerical solvers\n",
    "\n",
    "### WolframAlpha\n",
    "We can also compute the $\\epsilon$ values for the Parrondo and Devroye bound with WolframAlpha.\n",
    "\n",
    "**Parrondo bound**\n",
    "\n",
    "![parrondo_WolframAlpha](figures/hw4_pr2_parrondo2_WolframAlpha.png)\n",
    "\n",
    "**Devroye bound**\n",
    "\n",
    "![parrondo_WolframAlpha](figures/hw4_pr2_devroye_WolframAlpha.png)\n",
    "\n",
    "___________________\n",
    "\n",
    "### Brent's method in SciPy\n",
    "\n",
    "For Python we can use the numerical solver using Brent's method: `scipy.optimize.brentq` . It finds the roots of a function: [Example 1](https://stackoverflow.com/questions/6519380/find-roots-of-a-function-a-xn-bx-c-0-where-n-isnt-an-integer-with-numpy) and [example 2](https://stackoverflow.com/questions/40920720/finding-root-of-two-functions-with-scipy-optimize-brentq) .\n",
    "\n",
    "**Ghost Problem**\n",
    "\n",
    "Let's say you wanted to find solutions of the equation $x = 3 \\cos(0.5 x)$ .\n",
    "\n",
    "**Solution**\n",
    "\n",
    "This is the same as\n",
    "\n",
    "- $x - 3  \\cos(0.5 x) = 0$\n",
    "\n",
    "You can interpret the left hand side as a function $f(x)$, so you have\n",
    "\n",
    "- $f(x) = x - 3 \\cos(0.5 x) = 0$\n",
    "\n",
    "$f(x) = 0$ means you are looking for the roots for the function $f$. In Python you would use the following code:\n",
    "\n",
    "```\n",
    "from scipy import optimize\n",
    "import math\n",
    "\n",
    "def f(x):\n",
    "    return x - 3 * math.cos(0.5*x)\n",
    "\n",
    "min_x = 0\n",
    "max_x = 10\n",
    "\n",
    "root = optimize.brentq(f, min_x, max_x)\n",
    "print(root)\n",
    "```\n",
    "\n",
    "The program returns the solution $x = 1.82971$.\n",
    "\n",
    "You can also solve it in Wolframalpha:\n",
    "\n",
    "https://www.wolframalpha.com/input/?i=x+%3D%3D+a+*+cos(b*x),+a+%3D+3,+b%3D0.5,+solve+for+x\n",
    "\n",
    "![Ghost_problem](figures/hw4_pr2_ghost_problem_WolframAlpha.png)"
   ]
  }
 ],
 "metadata": {
  "kernelspec": {
   "display_name": "Python 3",
   "language": "python",
   "name": "python3"
  },
  "language_info": {
   "codemirror_mode": {
    "name": "ipython",
    "version": 3
   },
   "file_extension": ".py",
   "mimetype": "text/x-python",
   "name": "python",
   "nbconvert_exporter": "python",
   "pygments_lexer": "ipython3",
   "version": "3.6.2"
  }
 },
 "nbformat": 4,
 "nbformat_minor": 2
}
