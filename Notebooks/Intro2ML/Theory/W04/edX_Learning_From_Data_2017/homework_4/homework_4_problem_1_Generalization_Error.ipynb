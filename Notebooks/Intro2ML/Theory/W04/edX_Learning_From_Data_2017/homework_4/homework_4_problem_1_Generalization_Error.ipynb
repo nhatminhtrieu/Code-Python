{
 "cells": [
  {
   "cell_type": "markdown",
   "metadata": {},
   "source": [
    "# Generalization Error\n",
    "\n",
    "In this problem we examine some generalization bounds numerically. For $N > d_{vc}$ we will use the approximation $m_H(N) = N^{d_{vc}}$, see Lecture 6 - slide 11/18. The problem asks us to compute the sample size $N$."
   ]
  },
  {
   "cell_type": "markdown",
   "metadata": {},
   "source": [
    "## Solution to Problem 1\n",
    "\n",
    "The problem states a $95\\%$ confidence that the generalization error is at most 0.05 which means:\n",
    "\n",
    "$\\delta = 1 - 0.95 = 0.05$ and $\\epsilon = 0.05$ . Furthermore we have $d_{vc} = 10$ and the approximation $m_H(N) = N^{d_{vc}}$ for $N > d_{vc}$ since the choices for the answer indicate that $N$ is in range 400,000 to 480,000 which is greater than $d_{vc}$.\n",
    "\n",
    "The VC bound is given by\n",
    "\n",
    "$$ \\epsilon \\leq \\sqrt{\\frac{8}{N} \\ln \\frac{4 m_H(2N)}{\\delta}} $$\n",
    "\n",
    "With the approximation $m_H(N) = N^{d_{vc}}$ we have $m_H(2N) = (2N)^{d_{vc}}$, and the VC bound becomes:\n",
    "\n",
    "$$ \\epsilon \\leq \\sqrt{\\frac{8}{N} \\ln \\frac{4 (2N)^{d_{vc}}}{\\delta}} $$\n",
    "\n",
    "Our goal is now to find the value of $N$ that satisfies this inequality. We can solve this by different means.\n",
    "\n",
    "**1. Using Wolframalpha**\n",
    "\n",
    "We can enter the equation in WolframAlpha. Copy this link:\n",
    "\n",
    "http://www.wolframalpha.com/input/?i=eps+%3D+sqrt(8%2FN+*+ln(+4+*+(2N)%5Ed+%2F+delta)++++),+N%3E0,eps%3D0.05,+d%3D10+,+delta%3D+0.05,+solve+for+N\n",
    "\n",
    "And we get the following\n",
    "\n",
    "![WolframAlpha.png](figures/hw4_pr1_solve_for_N_WolframAlpha.png)"
   ]
  },
  {
   "cell_type": "markdown",
   "metadata": {},
   "source": [
    "**2. SciPy numerical solver**\n",
    "\n",
    "Manipulating the inquality to an equality yields\n",
    "\n",
    "$$  \\sqrt{\\frac{8}{N} \\ln \\frac{4 (2N)^{d_{vc}}}{\\delta}} - \\epsilon = 0$$\n",
    "\n",
    "and we can interpret this as a function $f$ that we have set to zero.\n",
    "\n",
    "$$ f(N) = \\sqrt{\\frac{8}{N} \\ln \\frac{4 (2N)^{d_{vc}}}{\\delta}} - \\epsilon = 0$$\n",
    "\n",
    "This means we are searching for the roots of $f$. The SciPy package offers numerical solvers for finding roots of a function.\n",
    "\n"
   ]
  },
  {
   "cell_type": "code",
   "execution_count": 1,
   "metadata": {},
   "outputs": [
    {
     "name": "stdout",
     "output_type": "stream",
     "text": [
      "The value of N is :  452957\n"
     ]
    }
   ],
   "source": [
    "# guideline on how to import from scipy\n",
    "# https://docs.scipy.org/doc/scipy/reference/api.html\n",
    "# https://docs.scipy.org/doc/scipy-0.19.1/reference/generated/scipy.optimize.brentq.html\n",
    "# https://stackoverflow.com/questions/43271440/find-a-root-of-a-function-in-a-given-range\n",
    "# https://stackoverflow.com/questions/6519380/find-roots-of-a-function-a-xn-bx-c-0-where-n-isnt-an-integer-with-numpy\n",
    "from scipy import optimize\n",
    "import math\n",
    "\n",
    "def f(N, d, delta, eps):\n",
    "    return math.sqrt(8/N * math.log(4/delta*(2*N)**d)) - eps\n",
    "\n",
    "MIN_N = 300000\n",
    "MAX_N = 500000 \n",
    "\n",
    "d = 10\n",
    "delta = 0.05\n",
    "eps = 0.05\n",
    "root = optimize.brentq(f, MIN_N, MAX_N, args = (d, delta, eps))\n",
    "print(\"The value of N is : \", round(root))"
   ]
  },
  {
   "cell_type": "markdown",
   "metadata": {},
   "source": [
    "**3. Plug in the given choices for $N$**\n",
    "\n",
    "We can plug in the given choices for $N$ and observe the right hand side of the VC inquality which we denote as the function $\\Omega$:  \n",
    "\n",
    "$$ \\epsilon \\leq \\sqrt{\\frac{8}{N} \\ln \\frac{4 (2N)^{d_{vc}}}{\\delta}} =: \\Omega(N, d_{vc}, \\delta)$$"
   ]
  },
  {
   "cell_type": "code",
   "execution_count": 2,
   "metadata": {},
   "outputs": [
    {
     "name": "stdout",
     "output_type": "stream",
     "text": [
      "N =  400000     omega =  0.052972765965385374\n",
      "N =  420000     omega =  0.05178593269970576\n",
      "N =  440000     omega =  0.050678810077732374\n",
      "N =  460000     omega =  0.04964277890917069\n",
      "N =  480000     omega =  0.04867047569610589\n"
     ]
    }
   ],
   "source": [
    "choices = [400000, 420000, 440000, 460000, 480000]\n",
    "def omega(N, d, delta):\n",
    "    return math.sqrt(8/N * math.log(4/delta*(2*N)**d)) \n",
    "\n",
    "d = 10\n",
    "delta = 0.05\n",
    "\n",
    "for N in choices:\n",
    "    print(\"N = \", N, \"    omega = \", omega(N, d, delta))"
   ]
  },
  {
   "cell_type": "markdown",
   "metadata": {},
   "source": [
    "The $N$ that satisfies $\\Omega(N, d_{vc}, \\delta) \\leq 0.05$ is $N = 460000$ , so the answer to Problem 1 is **[d] 460,000** ."
   ]
  }
 ],
 "metadata": {
  "kernelspec": {
   "display_name": "Python 3",
   "language": "python",
   "name": "python3"
  },
  "language_info": {
   "codemirror_mode": {
    "name": "ipython",
    "version": 3
   },
   "file_extension": ".py",
   "mimetype": "text/x-python",
   "name": "python",
   "nbconvert_exporter": "python",
   "pygments_lexer": "ipython3",
   "version": "3.6.2"
  }
 },
 "nbformat": 4,
 "nbformat_minor": 2
}
