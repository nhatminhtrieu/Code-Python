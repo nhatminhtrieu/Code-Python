{
 "cells": [
  {
   "cell_type": "markdown",
   "metadata": {},
   "source": [
    "# Homework 4\n",
    "\n",
    "## Problem 9\n",
    "\n",
    "Write solution here later.\n",
    "\n",
    "## Problem 10\n",
    "\n",
    "Let $H_1$ be the singleton hypothesis set that classifies all points in the box $[-1,1] \\times [-1,1]$ as $+1$, and $H_2$ the singleton hypothesis set that classifies all points as $-1$.\n",
    "\n",
    "Now, consider $N = 1$ point for which there are $2^N = 2^1 = 2$ dichotomies. However, $H_1$ cannot generate all $2^N$ dichotomies for $N=1$, so $N=1$ is a break point. This means the VC dimension is $d_{vc} = 0$. The same applies to $H_2$.\n",
    "\n",
    "Their union however can shatter $N = 1$ point because we can then generate all dichotomies for $N = 1$. However, their union cannot shatter $N = 2$ points. This means the VC dimension of the union $H_1 \\cup H_2$ equals 1.\n",
    "\n",
    "\n",
    "So we have\n",
    "\n",
    "$d_{vc}(\\bigcup_{k=1}^{2} H_k) = d_{vc}(H_1 \\cup H_2) = 1$\n",
    "\n",
    "**Upper bound**\n",
    "\n",
    "We have two choices for the upper bound:\n",
    "\n",
    "- (i) $\\sum_{k=1}^{K} d_{vc}(H_k)$\n",
    "\n",
    "- (ii) $K - 1 + \\sum_{k=1}^{K} d_{vc}(H_k)$\n",
    "\n",
    "Let's consider option (i), the sum of the individual VC dimensions $\\sum_{k=1}^{2} d_{vc}(H_k)$ as a possible upper bound. We know that $d_{vc}(H_1) = 0$ and $d_{vc}(H_2) = 0$ \n",
    "\n",
    "So we have $\\sum_{k=1}^{2} d_{vc}(H_k) = 0 + 0 = 0$ , which cannot be an upper bound for $d_{vc}(\\bigcup_{k=1}^{2} H_k) = 1$.\n",
    "\n",
    "Let's consider option (ii). We have $K-1 + \\sum_{k=1}^{K} d_{vc}(H_k) = 2 - 1 + d_{vc}(H_1) + d_{vc}(H_2) = 1$ which can be an upper bound for $d_{vc}(\\bigcup_{k=1}^{2} H_k) = 1$.\n",
    "\n",
    "This leaves us with choices **10[b]** and **10[e]**.\n",
    "\n",
    "**Lower bound**\n",
    "\n",
    "Let's consider the union of hypothesis sets $\\bigcup_{k=1}^{K} H_k$. And let $H_m$ be the hypothesis set from that union that has the maximum VC dimension $d_{vc}^{max}$. If we consider the VC dimension of the union $d_{vc}(\\bigcup_{k=1}^{K} H_k)$ we can always pick $H_m$ to shatter $d_{vc}^{max}$ points. This means $d_{vc}^{max}$ is a lower bound for $d_{vc}(\\bigcup_{k=1}^{K} H_k)$. \n",
    "\n",
    "So the answer is **10[e]** ."
   ]
  }
 ],
 "metadata": {
  "kernelspec": {
   "display_name": "Python 3",
   "language": "python",
   "name": "python3"
  },
  "language_info": {
   "codemirror_mode": {
    "name": "ipython",
    "version": 3
   },
   "file_extension": ".py",
   "mimetype": "text/x-python",
   "name": "python",
   "nbconvert_exporter": "python",
   "pygments_lexer": "ipython3",
   "version": "3.6.2"
  }
 },
 "nbformat": 4,
 "nbformat_minor": 2
}
