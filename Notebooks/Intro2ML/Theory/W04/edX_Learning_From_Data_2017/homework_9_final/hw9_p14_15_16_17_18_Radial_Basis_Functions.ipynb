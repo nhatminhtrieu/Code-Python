{
 "cells": [
  {
   "cell_type": "markdown",
   "metadata": {},
   "source": [
    "# Homework 9\n",
    "\n",
    "## Problem 14\n",
    "\n",
    "In this problem we have to train an RBF model of the form \n",
    "\n",
    "$\\text{sign} \\left( \\sum_{k=1}^{K} w_k \\exp ( -\\gamma \\lVert \\mathbf{x}_n - \\mathbf{\\mu}_k \\rVert^2 ) + b \\right)$\n",
    "\n",
    "We can interpret this as\n",
    "\n",
    "$\\text{sign} \\left( \\sum_{k=1}^{K} w_k \\exp ( -\\gamma \\lVert \\mathbf{x}_n - \\mathbf{\\mu}_k \\rVert^2 ) + w_0 \\cdot 1 \\right)$"
   ]
  },
  {
   "cell_type": "markdown",
   "metadata": {},
   "source": [
    "## 14.1 Import libraries"
   ]
  },
  {
   "cell_type": "code",
   "execution_count": 1,
   "metadata": {},
   "outputs": [],
   "source": [
    "from sklearn import svm\n",
    "import numpy as np\n",
    "import matplotlib.pyplot as plt\n",
    "import pandas as pd\n",
    "\n",
    "import matplotlib.style as style\n",
    "style.use('bmh')\n",
    "\n",
    "import algo    # contains my implementation of Llyod's algorithm + pseudoInverse\n",
    "               # (see file algo.py)\n",
    "\n",
    "# suppress scientific notation\n",
    "np.set_printoptions(suppress=True)\n",
    "\n",
    "from sklearn.cluster import KMeans"
   ]
  },
  {
   "cell_type": "markdown",
   "metadata": {},
   "source": [
    "## 14.2 Target function $f$"
   ]
  },
  {
   "cell_type": "code",
   "execution_count": 2,
   "metadata": {},
   "outputs": [],
   "source": [
    "# target function\n",
    "def f(x1, x2):\n",
    "    return np.sign(x2 - x1 + 0.25 * np.sin(np.pi * x1))"
   ]
  },
  {
   "cell_type": "markdown",
   "metadata": {},
   "source": [
    "## 14.3 Computing $E_{out}$"
   ]
  },
  {
   "cell_type": "code",
   "execution_count": 3,
   "metadata": {},
   "outputs": [
    {
     "name": "stdout",
     "output_type": "stream",
     "text": [
      "run number  0\n",
      "run number  10\n",
      "run number  20\n",
      "run number  30\n",
      "run number  40\n",
      "run number  50\n",
      "run number  60\n",
      "run number  70\n",
      "run number  80\n",
      "run number  90\n",
      "Result: E_out_svm < E_out_lloyd 91.0% of the time\n"
     ]
    }
   ],
   "source": [
    "def count_kernel_better_than_regular_RBF(K, number_of_runs):\n",
    "    \n",
    "    RUNS = number_of_runs\n",
    "    run_counter = 0\n",
    "    count_svm_better_than_lloyd = 0\n",
    "    \n",
    "    \n",
    "    while run_counter < RUNS:\n",
    "    \n",
    "        # print run_counter every 10 steps\n",
    "        if run_counter % 10 == 0:\n",
    "            print(\"run number \", run_counter)\n",
    "    \n",
    "        # Generate training data\n",
    "        N_train = 100\n",
    "        X_train = np.random.uniform(-1,1,(N_train,2))\n",
    "        y_train = f(X_train[:,0], X_train[:,1])\n",
    "\n",
    "        # Generate test data\n",
    "        N_test = 1000\n",
    "        X_test = np.random.uniform(-1,1,(N_test,2))\n",
    "        y_test = f(X_test[:,0], X_test[:,1])\n",
    "\n",
    "        # SVM\n",
    "        clf = svm.SVC(C = np.inf, kernel = 'rbf', gamma = 1.5)\n",
    "        clf.fit(X_train, y_train)\n",
    "        E_out_svm = sum(clf.predict(X_test) != y_test) / N_test\n",
    "        #print(\"E_out for SVM = \", E_out_svm)\n",
    "        \n",
    "        # compute in-sample error E_in for the SVM classifier\n",
    "        E_in_svm = sum(clf.predict(X_train) != y_train) / N_train\n",
    "        if E_in_svm > 0:\n",
    "            print(\"E_in for SVM classifier is nonzero! Discarding run\")\n",
    "            continue\n",
    "    \n",
    "\n",
    "        # Lloyd + pseudoInv\n",
    "        lloyd = algo.kmeans_RBF(num_clusters = K, gamma = 1.5)\n",
    "        lloyd.fit(X_train, y_train)\n",
    "        E_out_lloyd = sum(lloyd.predict(X_test) != y_test) / N_test\n",
    "        #print(\"E_out for Lloyd = \", E_out_lloyd)\n",
    "    \n",
    "        if E_out_svm < E_out_lloyd:\n",
    "            count_svm_better_than_lloyd += 1\n",
    "    \n",
    "        #print(\"\\n\\n-----\\n\\n\")\n",
    "        run_counter += 1\n",
    "    \n",
    "    print(\"Result: E_out_svm < E_out_lloyd {}% of the time\".format(count_svm_better_than_lloyd / RUNS * 100))\n",
    "    \n",
    "\n",
    "count_kernel_better_than_regular_RBF(9, 100)"
   ]
  },
  {
   "cell_type": "markdown",
   "metadata": {},
   "source": [
    "## Result\n",
    "\n",
    "In 1000 runs the SVM classifier beats the LLoyd + PseudoInverse classifier $93\\%$ of the time. Thus, answer **14[e]** is the correct answer."
   ]
  },
  {
   "cell_type": "markdown",
   "metadata": {},
   "source": [
    "## Problem 15\n",
    "\n",
    "Same as Problem 14, except that we have $K = 12$."
   ]
  },
  {
   "cell_type": "code",
   "execution_count": 4,
   "metadata": {},
   "outputs": [
    {
     "name": "stdout",
     "output_type": "stream",
     "text": [
      "run number  0\n",
      "run number  10\n",
      "run number  20\n",
      "run number  30\n",
      "run number  40\n",
      "run number  50\n",
      "run number  60\n",
      "run number  70\n",
      "run number  80\n",
      "run number  90\n",
      "Result: E_out_svm < E_out_lloyd 85.0% of the time\n"
     ]
    }
   ],
   "source": [
    "count_kernel_better_than_regular_RBF(12, 100)"
   ]
  },
  {
   "cell_type": "markdown",
   "metadata": {},
   "source": [
    "## Result\n",
    "\n",
    "In 1000 runs the SVM classifier beats the LLoyd + PseudoInverse classifier $82\\%$ of the time. Thus, answer **15[d]** is the correct answer."
   ]
  },
  {
   "cell_type": "markdown",
   "metadata": {},
   "source": [
    "## Problem 16\n",
    "\n",
    "We have to compare the regular RBF using $K = 9$ with the regular RBF using $K = 12$ in each run. We are given 5 cases, and we have to count which of the 5 cases occurs most often over all runs."
   ]
  },
  {
   "cell_type": "code",
   "execution_count": 5,
   "metadata": {
    "scrolled": true
   },
   "outputs": [
    {
     "name": "stdout",
     "output_type": "stream",
     "text": [
      "run number  0\n",
      "run number  10\n",
      "run number  20\n",
      "run number  30\n",
      "run number  40\n",
      "run number  50\n",
      "run number  60\n",
      "run number  70\n",
      "run number  80\n",
      "run number  90\n",
      "Result Problem 16: The winner is option d\n"
     ]
    },
    {
     "data": {
      "image/png": "[encoded data removed]",
      "text/plain": [
       "<matplotlib.figure.Figure at 0x1d50d13d048>"
      ]
     },
     "metadata": {},
     "output_type": "display_data"
    }
   ],
   "source": [
    "def problem16(number_of_runs):\n",
    "    \n",
    "    RUNS = number_of_runs\n",
    "    run_counter = 0\n",
    "    \n",
    "    # counter for which option wins\n",
    "    count_winner_options = [0 for _ in range(5)]\n",
    "    \n",
    "    \n",
    "    while run_counter < RUNS:\n",
    "    \n",
    "        # print run_counter every 10 steps\n",
    "        if run_counter % 10 == 0:\n",
    "            print(\"run number \", run_counter)\n",
    "    \n",
    "        # Generate training data\n",
    "        N_train = 100\n",
    "        X_train = np.random.uniform(-1,1,(N_train,2))\n",
    "        y_train = f(X_train[:,0], X_train[:,1])\n",
    "\n",
    "        # Generate test data\n",
    "        N_test = 1000\n",
    "        X_test = np.random.uniform(-1,1,(N_test,2))\n",
    "        y_test = f(X_test[:,0], X_test[:,1])\n",
    "\n",
    "        \n",
    "        # for a fixed given data set, compare the two regular RBF\n",
    "        E_in_values = [None, None]\n",
    "        E_out_values = [None, None]\n",
    "        \n",
    "        for index, K in enumerate([9, 12]):\n",
    "\n",
    "            # regular RBF = Lloyd + pseudoInv\n",
    "            lloyd = algo.kmeans_RBF(num_clusters = K, gamma = 1.5)\n",
    "            lloyd.fit(X_train, y_train)\n",
    "            E_in_lloyd = sum(lloyd.predict(X_train) != y_train) / N_train\n",
    "            E_out_lloyd = sum(lloyd.predict(X_test) != y_test) / N_test\n",
    "            \n",
    "            E_in_values[index] = E_in_lloyd\n",
    "            E_out_values[index] = E_out_lloyd\n",
    "    \n",
    "        # checking option [a]: E_in goes down, E_out goes up\n",
    "        if (E_in_values[0] > E_in_values[1]) and (E_out_values[0] < E_out_values[1]):\n",
    "            count_winner_options[0] += 1\n",
    "        \n",
    "        # checking option [b]: E_in goes up, E_out goes down\n",
    "        if (E_in_values[0] < E_in_values[1]) and (E_out_values[0] > E_out_values[1]):\n",
    "            count_winner_options[1] += 1\n",
    "    \n",
    "        # checking option [c]: both E_in and E_out go up\n",
    "        if (E_in_values[0] < E_in_values[1]) and (E_out_values[0] < E_out_values[1]):\n",
    "            count_winner_options[2] += 1\n",
    "    \n",
    "        # checking option [d]: both E_in and E_out go down\n",
    "        if (E_in_values[0] > E_in_values[1]) and (E_out_values[0] > E_out_values[1]):\n",
    "            count_winner_options[3] += 1\n",
    "    \n",
    "        # checking option [e]: E_in and E_out remain the same\n",
    "        if (E_in_values[0] == E_in_values[1]) and (E_out_values[0] == E_out_values[1]):\n",
    "            count_winner_options[4] += 1\n",
    "    \n",
    "        run_counter += 1\n",
    "    \n",
    "    option_with_most_wins = np.argmax(count_winner_options)\n",
    "    print(\"Result Problem 16: The winner is option {}\".format([\"a\", \"b\", \"c\", \"d\", \"e\"][option_with_most_wins]))\n",
    "    \n",
    "    plt.plot(count_winner_options, 'bo-')\n",
    "    plt.title(\"Problem 16\\nDistribution of wins for options [a] to [e]\")\n",
    "    plt.xlabel(\"option\")\n",
    "    plt.ylabel(\"count\")\n",
    "    plt.show()\n",
    "    \n",
    "\n",
    "problem16(100)"
   ]
  },
  {
   "cell_type": "markdown",
   "metadata": {},
   "source": [
    "## Result\n",
    "\n",
    "Option 3, i.e. option [d] has the most wins in 100 runs. Thus, answer **16[d]** is correct."
   ]
  },
  {
   "cell_type": "markdown",
   "metadata": {},
   "source": [
    "## Problem 17\n",
    "\n",
    "We consider the regular RBF (Lloyd + PseudoInverse) for $\\gamma = 1.5$ and $\\gamma = 2$. Which of the given five options wins the most when going from $\\gamma = 1.5$ to $\\gamma = 2$?"
   ]
  },
  {
   "cell_type": "code",
   "execution_count": 6,
   "metadata": {},
   "outputs": [
    {
     "name": "stdout",
     "output_type": "stream",
     "text": [
      "run number  0\n",
      "run number  10\n",
      "run number  20\n",
      "run number  30\n",
      "run number  40\n",
      "run number  50\n",
      "run number  60\n",
      "run number  70\n",
      "run number  80\n",
      "run number  90\n",
      "Result Problem 17: The winner is option c\n"
     ]
    },
    {
     "data": {
      "image/png": "[encoded data removed]",
      "text/plain": [
       "<matplotlib.figure.Figure at 0x1d50d428b38>"
      ]
     },
     "metadata": {},
     "output_type": "display_data"
    }
   ],
   "source": [
    "def problem17(number_of_runs):\n",
    "    \n",
    "    RUNS = number_of_runs\n",
    "    run_counter = 0\n",
    "    \n",
    "    # counter for which option wins\n",
    "    count_winner_options = [0 for _ in range(5)]\n",
    "    \n",
    "    \n",
    "    while run_counter < RUNS:\n",
    "    \n",
    "        # print run_counter every 10 steps\n",
    "        if run_counter % 10 == 0:\n",
    "            print(\"run number \", run_counter)\n",
    "    \n",
    "        # Generate training data\n",
    "        N_train = 100\n",
    "        X_train = np.random.uniform(-1,1,(N_train,2))\n",
    "        y_train = f(X_train[:,0], X_train[:,1])\n",
    "\n",
    "        # Generate test data\n",
    "        N_test = 1000\n",
    "        X_test = np.random.uniform(-1,1,(N_test,2))\n",
    "        y_test = f(X_test[:,0], X_test[:,1])\n",
    "\n",
    "        \n",
    "        # for a fixed given data set, compare the two regular RBF\n",
    "        E_in_values = [None, None]\n",
    "        E_out_values = [None, None]\n",
    "        \n",
    "        for index, gamma_value in enumerate([1.5, 2]):\n",
    "\n",
    "            # regular RBF = Lloyd + pseudoInv\n",
    "            lloyd = algo.kmeans_RBF(num_clusters = 9, gamma = gamma_value)\n",
    "            lloyd.fit(X_train, y_train)\n",
    "            E_in_lloyd = sum(lloyd.predict(X_train) != y_train) / N_train\n",
    "            E_out_lloyd = sum(lloyd.predict(X_test) != y_test) / N_test\n",
    "            \n",
    "            E_in_values[index] = E_in_lloyd\n",
    "            E_out_values[index] = E_out_lloyd\n",
    "    \n",
    "        # checking option [a]: E_in goes down, E_out goes up\n",
    "        if (E_in_values[0] > E_in_values[1]) and (E_out_values[0] < E_out_values[1]):\n",
    "            count_winner_options[0] += 1\n",
    "        \n",
    "        # checking option [b]: E_in goes up, E_out goes down\n",
    "        if (E_in_values[0] < E_in_values[1]) and (E_out_values[0] > E_out_values[1]):\n",
    "            count_winner_options[1] += 1\n",
    "    \n",
    "        # checking option [c]: both E_in and E_out go up\n",
    "        if (E_in_values[0] < E_in_values[1]) and (E_out_values[0] < E_out_values[1]):\n",
    "            count_winner_options[2] += 1\n",
    "    \n",
    "        # checking option [d]: both E_in and E_out go down\n",
    "        if (E_in_values[0] > E_in_values[1]) and (E_out_values[0] > E_out_values[1]):\n",
    "            count_winner_options[3] += 1\n",
    "    \n",
    "        # checking option [e]: E_in and E_out remain the same\n",
    "        if (E_in_values[0] == E_in_values[1]) and (E_out_values[0] == E_out_values[1]):\n",
    "            count_winner_options[4] += 1\n",
    "    \n",
    "        run_counter += 1\n",
    "    \n",
    "    option_with_most_wins = np.argmax(count_winner_options)\n",
    "    print(\"Result Problem 17: The winner is option {}\".format([\"a\", \"b\", \"c\", \"d\", \"e\"][option_with_most_wins]))\n",
    "    \n",
    "    plt.plot(count_winner_options, 'bo-')\n",
    "    plt.title(\"Problem 17\\nDistribution of wins for options [a] to [e]\")\n",
    "    plt.xlabel(\"option\")\n",
    "    plt.ylabel(\"count\")\n",
    "    plt.show()\n",
    "    \n",
    "\n",
    "problem17(100)"
   ]
  },
  {
   "cell_type": "markdown",
   "metadata": {},
   "source": [
    "## Result\n",
    "\n",
    "Option 2, i.e. option [c] has the most wins in 100 runs. Thus, the correct answer is **17[c]**."
   ]
  },
  {
   "cell_type": "markdown",
   "metadata": {},
   "source": [
    "## Problem 18\n",
    "\n",
    "Consider the regular RBF with $K = 9$ and $\\gamma = 1.5$. What is the percentage of time that this classifier achieves $E_{in} = 0$ ?"
   ]
  },
  {
   "cell_type": "code",
   "execution_count": 7,
   "metadata": {},
   "outputs": [
    {
     "name": "stdout",
     "output_type": "stream",
     "text": [
      "run number  0\n",
      "run number  10\n",
      "run number  20\n",
      "run number  30\n",
      "run number  40\n",
      "run number  50\n",
      "run number  60\n",
      "run number  70\n",
      "run number  80\n",
      "run number  90\n",
      "Result Problem 18: E_in is zero 6.0% of the time\n"
     ]
    }
   ],
   "source": [
    "def problem18(number_of_runs):\n",
    "    \n",
    "    RUNS = number_of_runs\n",
    "    run_counter = 0\n",
    "    counter_E_in_equals_zero = 0\n",
    "    \n",
    "    \n",
    "    while run_counter < RUNS:\n",
    "    \n",
    "        # print run_counter every 100 steps\n",
    "        if run_counter % 10 == 0:\n",
    "            print(\"run number \", run_counter)\n",
    "    \n",
    "        # Generate training data\n",
    "        N_train = 100\n",
    "        X_train = np.random.uniform(-1,1,(N_train,2))\n",
    "        y_train = f(X_train[:,0], X_train[:,1])\n",
    "\n",
    "        # Generate test data\n",
    "        N_test = 1000\n",
    "        X_test = np.random.uniform(-1,1,(N_test,2))\n",
    "        y_test = f(X_test[:,0], X_test[:,1])\n",
    "\n",
    "        \n",
    "        # regular RBF = Lloyd + pseudoInv with K = 9 and gamma = 1.5\n",
    "        lloyd = algo.kmeans_RBF(num_clusters = 9, gamma = 1.5)\n",
    "        lloyd.fit(X_train, y_train)\n",
    "        E_in_lloyd = sum(lloyd.predict(X_train) != y_train) / N_train\n",
    "        if E_in_lloyd == 0:\n",
    "            counter_E_in_equals_zero += 1\n",
    "\n",
    "            \n",
    "        run_counter += 1\n",
    "\n",
    "        \n",
    "    print(\"Result Problem 18: E_in is zero {}% of the time\".format(counter_E_in_equals_zero / RUNS * 100))\n",
    "\n",
    "#---------------\n",
    "    \n",
    "problem18(100)"
   ]
  },
  {
   "cell_type": "markdown",
   "metadata": {},
   "source": [
    "## Result\n",
    "\n",
    "In 1000 runs $E_{in}$ was zero $4\\%$ of the time, thus, answer **18[a]** is the correct answer."
   ]
  }
 ],
 "metadata": {
  "kernelspec": {
   "display_name": "Python 3",
   "language": "python",
   "name": "python3"
  },
  "language_info": {
   "codemirror_mode": {
    "name": "ipython",
    "version": 3
   },
   "file_extension": ".py",
   "mimetype": "text/x-python",
   "name": "python",
   "nbconvert_exporter": "python",
   "pygments_lexer": "ipython3",
   "version": "3.6.3"
  }
 },
 "nbformat": 4,
 "nbformat_minor": 2
}
