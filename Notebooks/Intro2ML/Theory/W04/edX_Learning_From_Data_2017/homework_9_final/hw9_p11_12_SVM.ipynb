{
 "cells": [
  {
   "cell_type": "markdown",
   "metadata": {},
   "source": [
    "# Homework 9\n",
    "\n",
    "## Problem 11 - SVM\n",
    "\n",
    "We have to use geometry to find the separating plane in the two-dimensional Z-space."
   ]
  },
  {
   "cell_type": "code",
   "execution_count": 1,
   "metadata": {},
   "outputs": [],
   "source": [
    "from sklearn import svm\n",
    "import matplotlib.pyplot as plt\n",
    "import numpy as np\n",
    "import pandas as pd\n",
    "\n",
    "import matplotlib.style as style\n",
    "style.use('bmh')"
   ]
  },
  {
   "cell_type": "code",
   "execution_count": 2,
   "metadata": {},
   "outputs": [
    {
     "name": "stdout",
     "output_type": "stream",
     "text": [
      "    x1   x2    y\n",
      "0  1.0  0.0 -1.0\n",
      "1  0.0  1.0 -1.0\n",
      "2  0.0 -1.0 -1.0\n",
      "3 -1.0  0.0  1.0\n",
      "4  0.0  2.0  1.0\n",
      "5  0.0 -2.0  1.0\n",
      "6 -2.0  0.0  1.0\n"
     ]
    }
   ],
   "source": [
    "# Write down data\n",
    "data = [[1, 0, -1],\n",
    "        [0, 1, -1],\n",
    "        [0, -1, -1],\n",
    "        [-1, 0, 1],\n",
    "        [0, 2, 1],\n",
    "        [0, -2, 1],\n",
    "        [-2, 0, 1]]\n",
    "\n",
    "df = pd.DataFrame(data, columns = ['x1', 'x2', 'y'], dtype=np.float64)\n",
    "print(df)"
   ]
  },
  {
   "cell_type": "code",
   "execution_count": 3,
   "metadata": {},
   "outputs": [
    {
     "name": "stdout",
     "output_type": "stream",
     "text": [
      "points in transformed Z-space:\n",
      "[[-3.  2.]\n",
      " [ 0. -1.]\n",
      " [ 0.  3.]\n",
      " [ 1.  2.]\n",
      " [ 3. -3.]\n",
      " [ 3.  5.]\n",
      " [ 3.  5.]]\n"
     ]
    },
    {
     "data": {
      "image/png": "[encoded data removed]",
      "text/plain": [
       "<matplotlib.figure.Figure at 0x248a3b74278>"
      ]
     },
     "metadata": {},
     "output_type": "display_data"
    }
   ],
   "source": [
    "# transform to Z-space\n",
    "\n",
    "x1 = df['x1']\n",
    "x2 = df['x2']\n",
    "y = df['y']\n",
    "N = x1.shape[0]\n",
    "\n",
    "z1 = x2*x2 - 2*x1 - 1\n",
    "z2 = x1*x1 - 2*x2 + 1\n",
    "N = z1.shape[0]\n",
    "Z = np.c_[z1, z2]\n",
    "print(\"points in transformed Z-space:\")\n",
    "print(Z)\n",
    "\n",
    "\n",
    "\n",
    "# Target distribution: points (z1, z2, y)\n",
    "plt.plot(z1[y==1], z2[y==1], 'ro', label='$y=+1$')\n",
    "plt.plot(z1[y==-1], z2[y==-1], 'bo', label='$y=-1$')\n",
    "plt.title(\"Target distribution in Z-space\")\n",
    "plt.xlabel('$z_1$')\n",
    "plt.ylabel('$z_2$')\n",
    "plt.legend()\n",
    "plt.show()"
   ]
  },
  {
   "cell_type": "markdown",
   "metadata": {},
   "source": [
    "\n",
    "\n",
    "We can see from the plot above that the separating plane is a vertical line at $z_1 = 0.5$. The normal vector is $\\mathbf{n} = (1,0)$. In order to find $b$ in the equation $\\mathbf{w}^T \\mathbf{z} + b = 0$ we can pick a point on the separating plane, e.g. $\\mathbf{p} = (0.5, 0)$. The separating plane must satisfy the equation\n",
    "\n",
    "$\\mathbf{w}^T \\mathbf{p} + b = 0$\n",
    "\n",
    "Let's plug in $\\mathbf{p} = (0.5, 0)$, and let's try $\\mathbf{w} = (1,0)$:\n",
    "\n",
    "$\\mathbf{w}^T \\mathbf{p} + b = 0$\n",
    "\n",
    "$\\Rightarrow 0.5 + b = 0$\n",
    "\n",
    "$\\Rightarrow b = -0.5$\n",
    "\n",
    "So the answer is **11[c]**.\n",
    "\n",
    "We can see that there are three support vectors, namely $(0,-1), (0,3)$ and $(1,2)$ in the $Z$-space."
   ]
  },
  {
   "cell_type": "markdown",
   "metadata": {},
   "source": [
    "# Problem 12 - Hard margin SVM\n",
    "\n",
    "We apply the hard-margin (meaning $C = \\infty$) SVM algorithm with the kernel $K(x, x') = (1 + x^T x')^2$. We have to compute the number of support vectors."
   ]
  },
  {
   "cell_type": "markdown",
   "metadata": {},
   "source": [
    "## 12.1 Setting up the classifier\n",
    "\n",
    "For the **Support Vector Machine** we will use the [SVM class from scikit learn](http://scikit-learn.org/stable/modules/svm.html) (which internally uses `libsvm`)."
   ]
  },
  {
   "cell_type": "code",
   "execution_count": 4,
   "metadata": {},
   "outputs": [
    {
     "name": "stdout",
     "output_type": "stream",
     "text": [
      "(7, 2)\n",
      "(7,)\n",
      "number of support vectors:  5\n"
     ]
    }
   ],
   "source": [
    "# classifier clf with the parameters as stated by the homework problem\n",
    "clf = svm.SVC(C = np.inf, kernel = 'poly', degree = 2, coef0 = 1, gamma = 1)\n",
    "clf.fit(Z, y)\n",
    "print(Z.shape)\n",
    "print(y.shape)\n",
    "\n",
    "print(\"number of support vectors: \", sum(clf.n_support_))"
   ]
  },
  {
   "cell_type": "markdown",
   "metadata": {},
   "source": [
    "## Result for problem 12\n",
    "\n",
    "The number of support vectors is 5, so the correct answer is **12[c]**."
   ]
  }
 ],
 "metadata": {
  "kernelspec": {
   "display_name": "Python 3",
   "language": "python",
   "name": "python3"
  },
  "language_info": {
   "codemirror_mode": {
    "name": "ipython",
    "version": 3
   },
   "file_extension": ".py",
   "mimetype": "text/x-python",
   "name": "python",
   "nbconvert_exporter": "python",
   "pygments_lexer": "ipython3",
   "version": "3.6.3"
  }
 },
 "nbformat": 4,
 "nbformat_minor": 2
}
