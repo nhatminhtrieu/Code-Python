{
 "cells": [
  {
   "cell_type": "markdown",
   "metadata": {},
   "source": [
    "# Homework 2\n",
    "\n",
    "## Problem 3\n",
    "\n",
    "Notation:\n",
    "\n",
    "$h$ : hypothesis\n",
    "\n",
    "$f$ : target function\n",
    "\n",
    "$\\mu$ : probability that $h4 is wrong\n",
    "\n",
    "$\\lambda$ : probability that $y = f(x)$ , i.e. no noise\n",
    "\n",
    "$h$ and $f$ are binary functions (their output is 0 or 1). \n",
    "\n",
    "\n",
    "\n",
    "There are two possibilities to make an error:\n",
    "\n",
    "1. $h$ makes an error with probability $\\mu$ , but $y$ has the correct value, i.e. $y = f(x)$, with probability $\\lambda$.\n",
    "2. $h$ makes no error with probability $(1 - \\mu)$, but $y$ has the wrong value, i.e. $y \\neq f(x)$, with probability $(1 - \\lambda)$\n",
    "\n",
    "In total we get:\n",
    "\n",
    "$$P(\\mathrm{error}) = \\lambda * \\mu + (1 - \\lambda) * (1 - \\mu)$$"
   ]
  },
  {
   "cell_type": "markdown",
   "metadata": {},
   "source": [
    "## Problem 4\n",
    "\n",
    "Let's expand the product in $P(\\mathrm{error})$:\n",
    "\n",
    "$\\begin{align}\n",
    "P(\\text{error}) &= \\lambda \\mu + (1-\\lambda)(1-\\mu) \\\\\n",
    "&= \\lambda \\mu + 1-\\lambda-\\mu+\\lambda \\mu \\\\\n",
    "&= 1 - \\lambda + \\mu(2\\lambda-1)\n",
    "\\end{align}\n",
    "$\n",
    "\n",
    "If we plug in $\\lambda = \\frac{1}{2}$ we get \n",
    "\n",
    "$$P(\\mathrm{error})  = \\frac{1}{2}$$\n",
    "\n",
    "We can see that $P(\\mathrm{error})$ becomes independent of $\\mu$. This means that no matter how good our hypothesis is, the total probability for an error is 50% . \n",
    "\n",
    "You can think of this as a black and white image, and each pixel gets flipped with 50% probability. The result is a [white noise image](https://en.wikipedia.org/wiki/White_noise) ."
   ]
  }
 ],
 "metadata": {
  "kernelspec": {
   "display_name": "Python 3",
   "language": "python",
   "name": "python3"
  },
  "language_info": {
   "codemirror_mode": {
    "name": "ipython",
    "version": 3
   },
   "file_extension": ".py",
   "mimetype": "text/x-python",
   "name": "python",
   "nbconvert_exporter": "python",
   "pygments_lexer": "ipython3",
   "version": "3.6.2"
  }
 },
 "nbformat": 4,
 "nbformat_minor": 2
}
