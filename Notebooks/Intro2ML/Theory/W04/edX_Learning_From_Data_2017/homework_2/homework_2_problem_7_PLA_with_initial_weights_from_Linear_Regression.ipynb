{
 "cells": [
  {
   "cell_type": "markdown",
   "metadata": {},
   "source": [
    "## Problem 7\n",
    "\n",
    "Experiment:\n",
    "- Take 10 points from [-1,1] x [-1,1] as input for linear regression $\\rightarrow$ get weight vector $w_{lr}$\n",
    "- Use $w_{lr}$ as initial weight vector for perceptron learning algorithm (PLA)\n",
    "- Count how many iterations PLA needs till convergence (all points separated)\n",
    "\n",
    "Average:\n",
    "- Repeat that experiment 1000 times and compute average"
   ]
  },
  {
   "cell_type": "code",
   "execution_count": 1,
   "metadata": {},
   "outputs": [
    {
     "name": "stdout",
     "output_type": "stream",
     "text": [
      "Iteration average of PLA over 1000 runs:  5.493\n"
     ]
    }
   ],
   "source": [
    "import numpy as np\n",
    "import matplotlib.pyplot as plt\n",
    "\n",
    "def rnd(n): \n",
    "    return np.random.uniform(-1, 1, size = n)\n",
    "\n",
    "N_sample = 10\n",
    "RUNS = 1000\n",
    "iterations_total = 0\n",
    "\n",
    "for run in range(RUNS):\n",
    "    # choose two random points A, B in [-1,1] x [-1,1]\n",
    "    A = rnd(2)\n",
    "    B = rnd(2)\n",
    "\n",
    "    # the line can be described by y = m*x + b where m is the slope\n",
    "    m = (B[1] - A[1]) / (B[0] - A[0])\n",
    "    b = B[1] - m * B[0]  \n",
    "    w_f = np.array([b, m, -1])\n",
    "\n",
    "    #-----------------------\n",
    "\n",
    "    # Create N data points (x, y) from the target function\n",
    "    X = np.transpose(np.array([np.ones(N_sample), rnd(N_sample), rnd(N_sample)]))           # input\n",
    "    y_f = np.sign(np.dot(X, w_f))\n",
    "\n",
    "    #-----------------------\n",
    "\n",
    "    # LINEAR REGRESSION\n",
    "    X_dagger = np.dot(np.linalg.inv(np.dot(X.T, X)), X.T)\n",
    "    w_lr = np.dot(X_dagger, y_f)\n",
    "\n",
    "    #----------------------\n",
    "\n",
    "    # Use PLA until all points separated\n",
    "    t = 0                                           # count number of iterations in PLA\n",
    "    w_h = np.copy(w_lr)\n",
    "    \n",
    "\n",
    "    while True:\n",
    "        # Start PLA\n",
    "        y_h = np.sign(np.dot(X, w_h))               # classification by hypothesis\n",
    "        comp = (y_h != y_f)                         # compare classification with actual data from target function\n",
    "        wrong = np.where(comp)[0]                   # indices of points with wrong classification by hypothesis h\n",
    "\n",
    "        if wrong.size == 0:\n",
    "            break\n",
    "\n",
    "        rnd_choice = np.random.choice(wrong)        # pick a random misclassified point\n",
    "\n",
    "        # update weight vector (new hypothesis):\n",
    "        w_h = w_h +  y_f[rnd_choice] * np.transpose(X[rnd_choice])\n",
    "        t += 1\n",
    "    \n",
    "    iterations_total += t\n",
    "    #print(\"Number of iterations in PLA: \", t)\n",
    "\n",
    "    \n",
    "iterations_avg = iterations_total / RUNS\n",
    "print(\"Iteration average of PLA over\", RUNS, \"runs: \", iterations_avg)"
   ]
  },
  {
   "cell_type": "markdown",
   "metadata": {},
   "source": [
    "## Result\n",
    "\n",
    "If we use $w_{lr}$ as initial weights, then PLA needs on average about 5 iterations."
   ]
  }
 ],
 "metadata": {
  "kernelspec": {
   "display_name": "Python 3",
   "language": "python",
   "name": "python3"
  },
  "language_info": {
   "codemirror_mode": {
    "name": "ipython",
    "version": 3
   },
   "file_extension": ".py",
   "mimetype": "text/x-python",
   "name": "python",
   "nbconvert_exporter": "python",
   "pygments_lexer": "ipython3",
   "version": "3.6.2"
  }
 },
 "nbformat": 4,
 "nbformat_minor": 2
}
