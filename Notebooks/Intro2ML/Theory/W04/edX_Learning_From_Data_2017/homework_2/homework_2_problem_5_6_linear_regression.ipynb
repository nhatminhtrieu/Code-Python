{
 "cells": [
  {
   "cell_type": "markdown",
   "metadata": {},
   "source": [
    "# Homework 2\n",
    "\n",
    "## Linear Regression\n",
    "\n",
    "Linear regression finds a line that minimizes the squared distances to a given set of points.\n",
    "\n",
    "We will use that line as hypothesis g and compare it to a target function f by measuring the in- and out of sample error."
   ]
  },
  {
   "cell_type": "code",
   "execution_count": 1,
   "metadata": {},
   "outputs": [
    {
     "data": {
      "image/png": "[encoded data removed]",
      "text/plain": [
       "<matplotlib.figure.Figure at 0x21578be2748>"
      ]
     },
     "metadata": {},
     "output_type": "display_data"
    }
   ],
   "source": [
    "import numpy as np\n",
    "import matplotlib.pyplot as plt\n",
    "\n",
    "\n",
    "def rnd(n): \n",
    "    return np.random.uniform(-1, 1, size = n)\n",
    "\n",
    "# choose two random points A, B in [-1,1] x [-1,1]\n",
    "A = rnd(2)\n",
    "B = rnd(2)\n",
    "\n",
    "# the line can be described by y = m*x + b where m is the slope\n",
    "m = (B[1] - A[1]) / (B[0] - A[0])\n",
    "b = B[1] - m * B[0]  \n",
    "w_f = np.array([b, m, -1])\n",
    "\n",
    "#-----------------------\n",
    "\n",
    "# Pick N data points (x, y) uniformly from the box [-1,1] x [-1,1]\n",
    "N = 100\n",
    "X = np.transpose(np.array([np.ones(N), rnd(N), rnd(N)]))           # input\n",
    "\n",
    "# Classify these points\n",
    "y_f = np.sign(np.dot(X, w_f))\n",
    "\n",
    "\n",
    "# plot points and color them according to their classification\n",
    "plt.plot(X[:,1][y_f == 1], X[:,2][y_f == 1], 'ro')\n",
    "plt.plot(X[:,1][y_f == -1], X[:,2][y_f == -1], 'bo')\n",
    "\n",
    "\n",
    "# plot line\n",
    "# create some data points on the line (for the plot) using the parametric vector form of a line\n",
    "# line(t) = A + t * d,  where A is a point on the line, d the directional vector and t the parameter\n",
    "d = B - A\n",
    "line_x = [A[0] + t * d[0] for t in range(-10,10)]\n",
    "line_y = [A[1] + t * d[1] for t in range(-10,10)]\n",
    "plt.plot(line_x, line_y)\n",
    "\n",
    "# plot the two points that define the line\n",
    "plt.plot(A[0], A[1], 'go')            \n",
    "plt.plot(B[0], B[1], 'go')\n",
    "\n",
    "\n",
    "# set the ranges for the x and y axis to display the [-1,1] x [-1,1] box\n",
    "plt.ylim(-1,1)\n",
    "plt.xlim(-1,1)\n",
    "plt.show()\n",
    "\n",
    "#------------------------------------------------------------------------------------------------"
   ]
  },
  {
   "cell_type": "code",
   "execution_count": 2,
   "metadata": {
    "scrolled": true
   },
   "outputs": [
    {
     "name": "stdout",
     "output_type": "stream",
     "text": [
      "check dimensions of y_lr:  (100,)\n"
     ]
    },
    {
     "data": {
      "image/png": "[encoded data removed]",
      "text/plain": [
       "<matplotlib.figure.Figure at 0x21578beff98>"
      ]
     },
     "metadata": {},
     "output_type": "display_data"
    }
   ],
   "source": [
    "# LINEAR REGRESSION\n",
    "X_dagger = np.dot(np.linalg.inv(np.dot(X.T, X)), X.T)\n",
    "w_lr = np.dot(X_dagger, y_f)\n",
    "\n",
    "\n",
    "# plot classification according to w found by linear regression\n",
    "# it shows that some of the points are missclassified\n",
    "y_lr = np.sign(np.dot(X, w_lr))\n",
    "print(\"check dimensions of y_lr: \", y_lr.shape)\n",
    "\n",
    "# plot points and color them according to their classification\n",
    "plt.plot(X[:,1][y_lr == 1], X[:,2][y_lr == 1], 'ro')\n",
    "plt.plot(X[:,1][y_lr == -1], X[:,2][y_lr == -1], 'bo')\n",
    "\n",
    "# plot the correct classification line (target function)\n",
    "plt.plot(line_x, line_y, 'g')\n",
    "plt.ylim(-1,1)\n",
    "plt.xlim(-1,1)\n",
    "\n",
    "plt.show()"
   ]
  },
  {
   "cell_type": "markdown",
   "metadata": {},
   "source": [
    "# Problem 5 and 6\n",
    "\n",
    "Compute average in- and out of sample error."
   ]
  },
  {
   "cell_type": "code",
   "execution_count": 3,
   "metadata": {},
   "outputs": [
    {
     "name": "stdout",
     "output_type": "stream",
     "text": [
      "Average of E_in over 1000  runs: 0.03938\n",
      "Average of E_out over 1000  runs: 0.04871\n"
     ]
    }
   ],
   "source": [
    "# START actual HOMEWORK now\n",
    "import numpy as np\n",
    "import matplotlib.pyplot as plt\n",
    "\n",
    "def rnd(n): \n",
    "    return np.random.uniform(-1, 1, size = n)\n",
    "\n",
    "\n",
    "# repeat the experiment 1000 times\n",
    "RUNS = 1000\n",
    "N_sample = 100\n",
    "E_in_total = 0\n",
    "E_out_total = 0\n",
    "N_test = 1000\n",
    "\n",
    "for run in range(RUNS):\n",
    "    # choose two random points A, B in [-1,1] x [-1,1]\n",
    "    A = rnd(2)\n",
    "    B = rnd(2)\n",
    "\n",
    "    # the line can be described by y = m*x + b where m is the slope\n",
    "    m = (B[1] - A[1]) / (B[0] - A[0])\n",
    "    b = B[1] - m * B[0]  \n",
    "    w_f = np.array([b, m, -1])\n",
    "\n",
    "    #-----------------------\n",
    "\n",
    "    # Create N data points (x, y) from the target function\n",
    "    X = np.transpose(np.array([np.ones(N_sample), rnd(N_sample), rnd(N_sample)]))           # input\n",
    "    y_f = np.sign(np.dot(X, w_f))\n",
    "    \n",
    "    #-----------------------\n",
    "    \n",
    "    # LINEAR REGRESSION\n",
    "    X_dagger = np.dot(np.linalg.inv(np.dot(X.T, X)), X.T)\n",
    "    w_lr = np.dot(X_dagger, y_f)\n",
    "    \n",
    "    # classification according to w found by linear regression\n",
    "    y_lr = np.sign(np.dot(X, w_lr))\n",
    "    \n",
    "    #------------------------\n",
    "    \n",
    "    # Error E_in\n",
    "    E_in = sum(y_lr != y_f) / N_sample\n",
    "    E_in_total += E_in\n",
    "\n",
    "    #------------------------\n",
    "    # Problem 6: Take 1000 test points (out of sample points) and count disagreement\n",
    "    # between y_f_test and y_lr_test\n",
    "    X_test = np.transpose(np.array([np.ones(N_test), rnd(N_test), rnd(N_test)]))\n",
    "    y_f_test = np.sign(np.dot(X_test, w_f))\n",
    "    y_lr_test = np.sign(np.dot(X_test, w_lr))\n",
    "    \n",
    "    E_out = sum(y_lr_test != y_f_test) / N_test\n",
    "    E_out_total += E_out\n",
    "    \n",
    "    \n",
    "# Average of E_in over RUNS\n",
    "E_in_avg = E_in_total / RUNS\n",
    "print(\"Average of E_in over\", RUNS, \" runs:\", E_in_avg)\n",
    "\n",
    "# Average of E_out over RUNS\n",
    "E_out_avg = E_out_total / RUNS\n",
    "print(\"Average of E_out over\", RUNS, \" runs:\", E_out_avg)"
   ]
  }
 ],
 "metadata": {
  "kernelspec": {
   "display_name": "Python 3",
   "language": "python",
   "name": "python3"
  },
  "language_info": {
   "codemirror_mode": {
    "name": "ipython",
    "version": 3
   },
   "file_extension": ".py",
   "mimetype": "text/x-python",
   "name": "python",
   "nbconvert_exporter": "python",
   "pygments_lexer": "ipython3",
   "version": "3.6.2"
  }
 },
 "nbformat": 4,
 "nbformat_minor": 2
}
