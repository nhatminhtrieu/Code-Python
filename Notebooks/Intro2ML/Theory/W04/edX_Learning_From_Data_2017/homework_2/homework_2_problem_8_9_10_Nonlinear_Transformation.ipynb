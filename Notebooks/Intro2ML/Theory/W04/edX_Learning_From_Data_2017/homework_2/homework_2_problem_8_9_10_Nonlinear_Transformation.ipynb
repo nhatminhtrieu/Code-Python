{
 "cells": [
  {
   "cell_type": "markdown",
   "metadata": {},
   "source": [
    "# Nonlinear Transformation\n",
    "\n",
    "Experiment:\n",
    "\n",
    "- Generate 1000 random points in [-1,1] x [-1,1] and classify them via \n",
    "$f(x_1, x_2) = \\mathrm{sign}(x_1^2 + x_2^2 - 0.6)$ . This gives us a vector $\\mathbf{y_f}$.\n",
    "\n",
    "- Flip the sign of 10% of the entries in $\\mathbf{y_f}$ .\n",
    "\n",
    "- Use linear regression to get $w_{lr}$. Use that $w_{lr}$ to classify points. This gives us a vector $\\mathbf{y_{lr}}$.\n",
    "\n",
    "- Compare $\\mathbf{y_{lr}}$ and $\\mathbf{y_f}$ to compute $E_{in}$."
   ]
  },
  {
   "cell_type": "code",
   "execution_count": 1,
   "metadata": {},
   "outputs": [
    {
     "name": "stdout",
     "output_type": "stream",
     "text": [
      "(1000, 3)\n",
      "(1000,)\n",
      "In sample error:  0.581\n"
     ]
    },
    {
     "data": {
      "image/png": "[encoded data removed]",
      "text/plain": [
       "<matplotlib.figure.Figure at 0x268c29ed470>"
      ]
     },
     "metadata": {},
     "output_type": "display_data"
    }
   ],
   "source": [
    "import numpy as np\n",
    "import matplotlib.pyplot as plt\n",
    "\n",
    "# create 1000 random points\n",
    "N_train = 1000\n",
    "\n",
    "def rnd(n):\n",
    "    return np.random.uniform(-1, 1, size = n)\n",
    "\n",
    "# matrix consisting of feature vectors\n",
    "X_train = np.transpose(np.array([np.ones(N_train), rnd(N_train), rnd(N_train)]))\n",
    "y_f_train = np.sign(np.multiply(X_train[:,1], X_train[:,1]) + np.multiply(X_train[:,2], X_train[:,2]) - 0.6)\n",
    "print(X_train.shape)\n",
    "print(y_f_train.shape)\n",
    "\n",
    "\n",
    "# pick 10% = 100 random indices\n",
    "indices = list(range(N_train))\n",
    "np.random.shuffle(indices)\n",
    "random_indices = indices[:(N_train // 10)]\n",
    "\n",
    "\n",
    "# flip sign in y_f_train vector\n",
    "for idx in random_indices:\n",
    "    y_f_train[idx] = (-1) * y_f_train[idx]\n",
    "\n",
    "# linear regression\n",
    "X_dagger = np.dot(np.linalg.inv(np.dot(X_train.T, X_train)), X_train.T)\n",
    "w_lr_train = np.dot(X_dagger, y_f_train)\n",
    "\n",
    "# calculate E_in\n",
    "y_lr_train = np.sign(np.dot(X_train, w_lr_train))\n",
    "E_in = sum(y_lr_train != y_f_train)  / N_train\n",
    "print(\"In sample error: \", E_in)\n",
    "\n",
    "\n",
    "# Create a plot of the classified points\n",
    "plt.plot(X_train[:,1][y_f_train == 1], X_train[:,2][y_f_train == 1], 'ro')\n",
    "plt.plot(X_train[:,1][y_f_train == -1], X_train[:,2][y_f_train == -1], 'bo')\n",
    "plt.xlim(-1,1)\n",
    "plt.ylim(-1,1)\n",
    "plt.show()"
   ]
  },
  {
   "cell_type": "markdown",
   "metadata": {},
   "source": [
    "## Problem 8\n",
    "\n",
    "Repeat the experiment 1000 times to compute the average $E_{in}$ ."
   ]
  },
  {
   "cell_type": "code",
   "execution_count": 2,
   "metadata": {},
   "outputs": [
    {
     "name": "stdout",
     "output_type": "stream",
     "text": [
      "The average error E_in over 1000 runs is: E_in_avg =  0.505073\n"
     ]
    }
   ],
   "source": [
    "# Now do this 1000 times to take average\n",
    "import numpy as np\n",
    "import matplotlib.pyplot as plt\n",
    "\n",
    "def rnd(n):\n",
    "    return np.random.uniform(-1, 1, size = n)\n",
    "\n",
    "\n",
    "RUNS = 1000\n",
    "N_train = 1000\n",
    "E_in_total = 0\n",
    "\n",
    "for run in range(RUNS):\n",
    "    \n",
    "    # create 1000 random points\n",
    "    # matrix consisting of feature vectors\n",
    "    X_train = np.transpose(np.array([np.ones(N_train), rnd(N_train), rnd(N_train)]))\n",
    "    y_f_train = np.sign(X_train[:,1] * X_train[:,1] + X_train[:,2] * X_train[:,2] - 0.6)\n",
    "\n",
    "    # pick 10% = 100 random indices\n",
    "    indices = list(range(N_train))\n",
    "    np.random.shuffle(indices)\n",
    "    random_indices = indices[:(N_train // 10)]\n",
    "\n",
    "    # flip sign in y_f_train vector\n",
    "    for idx in random_indices:\n",
    "        y_f_train[idx] = (-1) * y_f_train[idx]\n",
    "\n",
    "    # linear regression\n",
    "    X_dagger = np.dot(np.linalg.inv(np.dot(X_train.T, X_train)), X_train.T)\n",
    "    w_lr_train = np.dot(X_dagger, y_f_train)\n",
    "\n",
    "    # calculate E_in\n",
    "    y_lr_train = np.sign(np.dot(X_train, w_lr_train))\n",
    "    E_in = sum((y_lr_train != y_f_train))  / N_train\n",
    "    E_in_total += E_in\n",
    "    #print(\"In sample error: \", E_in)\n",
    "\n",
    "    \n",
    "E_in_avg = E_in_total / RUNS\n",
    "print(\"The average error E_in over\", RUNS, \"runs is: E_in_avg = \", E_in_avg)"
   ]
  },
  {
   "cell_type": "markdown",
   "metadata": {},
   "source": [
    "## Result\n",
    "\n",
    "The error is about 50% which is quite high. The reason is that we try to classify the points with a line generated by linear regression.\n",
    "However, if we look at the plot we can see that the points are not linearly separable but rather have a circular shaped separation boundary."
   ]
  },
  {
   "cell_type": "markdown",
   "metadata": {},
   "source": [
    "## Problem 9\n",
    "\n",
    "- We repeat the experiment. However, we transform the sample points. This gives us a new feature matrix with two three additional columns:\n",
    "\n",
    "$1, x_1, x_2, x_1x_2, x_1^2, x_2^2$\n",
    "\n",
    "- We perform linear regression and get a vector $\\widetilde{w}$ of length 6.\n",
    "- We classify the sample points by using the new feature matrix of size (1000 x 6) and $\\widetilde{w}$ of size (6 x 1). This gives us a vector $y_{lr-trans}$ .\n",
    "- We are given five functions $g(x_1, x_2)$ which we denote as hypotheses a, b, c, d, e . Use each hypothesis to classify the points and get a vector $y_a, y_b, ..., y_e$\n",
    "\n",
    "- Compare $y_a, y_b, ..., y_e$ with $y_{lr-trans}$ , and for each comparison compute $E_{in}$.\n",
    "- Result: hypothesis a) is closest to our hypothesis."
   ]
  },
  {
   "cell_type": "code",
   "execution_count": 3,
   "metadata": {},
   "outputs": [
    {
     "name": "stdout",
     "output_type": "stream",
     "text": [
      "mismatch between LR and a =  0.053\n",
      "mismatch between LR and b =  0.345\n",
      "mismatch between LR and c =  0.355\n",
      "mismatch between LR and d =  0.384\n",
      "mismatch between LR and e =  0.439\n",
      "The weight vector of my hypothesis is: w_LR =  [-1.01061474  0.04372871 -0.06877554  0.08434053  1.51392268  1.58837623]\n",
      "Sanity check: E_in =  0.129\n"
     ]
    }
   ],
   "source": [
    "# Problem 9 :  transform the N = 1000 training data into the following nonlinear feature\n",
    "# vector: (1, x1, x2, x1*x2, x1*x1, x2*x2)\n",
    "\n",
    "# How to concatenate extra columns to X ?\n",
    "X = X_train\n",
    "\n",
    "# new feature matrix\n",
    "X_trans = np.transpose(np.array([np.ones(N_train), X[:,1], X[:,2], X[:,1]*X[:,2], X[:,1]*X[:,1], X[:,2]*X[:,2]]))\n",
    "\n",
    "\n",
    "# linear regression on the new \"feature matrix\"\n",
    "X_dagger_trans = np.dot(np.linalg.inv(np.dot(X_trans.T, X_trans)), X_trans.T)\n",
    "w_lr_trans = np.dot(X_dagger_trans, y_f_train)\n",
    "\n",
    "# try the different hypotheses that are given\n",
    "w_a = np.array([-1, -0.05, 0.08, 0.13, 1.5, 1.5])\n",
    "w_b = np.array([-1, -0.05, 0.08, 0.13, 1.5, 15])\n",
    "w_c = np.array([-1, -0.05, 0.08, 0.13, 15, 1.5])\n",
    "w_d = np.array([-1, -1.5, 0.08, 0.13, 0.05, 0.05])\n",
    "w_e = np.array([-1, -0.05, 0.08, 1.5, 0.15, 0.15])\n",
    "\n",
    "# compute classifications made by each hypothesis\n",
    "y_lr_trans = np.sign(np.dot(X_trans, w_lr_trans))\n",
    "y_a = np.sign(np.dot(X_trans, w_a))\n",
    "y_b = np.sign(np.dot(X_trans, w_b))\n",
    "y_c = np.sign(np.dot(X_trans, w_c))\n",
    "y_d = np.sign(np.dot(X_trans, w_d))\n",
    "y_e = np.sign(np.dot(X_trans, w_e))\n",
    "\n",
    "mismatch_lr_and_a = sum(y_a != y_lr_trans) / N_train                 # ALWAYS RESTART KERNEL !!!!!!!!!!!!                                                         \n",
    "mismatch_lr_and_b = sum(y_b != y_lr_trans) / N_train\n",
    "mismatch_lr_and_c = sum(y_c != y_lr_trans) / N_train\n",
    "mismatch_lr_and_d = sum(y_d != y_lr_trans) / N_train\n",
    "mismatch_lr_and_e = sum(y_e != y_lr_trans) / N_train\n",
    "\n",
    "print(\"mismatch between LR and a = \", mismatch_lr_and_a)\n",
    "print(\"mismatch between LR and b = \", mismatch_lr_and_b)\n",
    "print(\"mismatch between LR and c = \", mismatch_lr_and_c)\n",
    "print(\"mismatch between LR and d = \", mismatch_lr_and_d)\n",
    "print(\"mismatch between LR and e = \", mismatch_lr_and_e)\n",
    "\n",
    "print(\"The weight vector of my hypothesis is: w_LR = \", w_lr_trans)\n",
    "# Use that weight vector for problem 10\n",
    "\n",
    "\n",
    "# compare predictions made by w_lr_trans with those made by targer function\n",
    "print(\"Sanity check: E_in = \", sum(y_f_train != y_lr_trans) / N_train)"
   ]
  },
  {
   "cell_type": "markdown",
   "metadata": {},
   "source": [
    "## Problem 10\n",
    "\n",
    "Compute the out of sample error $E_{out}$ . This is a continuation of problem 8 where we only computed $E_{in}$."
   ]
  },
  {
   "cell_type": "code",
   "execution_count": 4,
   "metadata": {},
   "outputs": [
    {
     "name": "stdout",
     "output_type": "stream",
     "text": [
      "The average error E_out over 1000 runs is: E_out_avg =  0.133247\n"
     ]
    }
   ],
   "source": [
    "# Problem 10\n",
    "\n",
    "RUNS = 1000\n",
    "N_test = 1000\n",
    "E_out_total = 0\n",
    "\n",
    "for run in range(RUNS):\n",
    "    \n",
    "    # create 1000 random points\n",
    "    # matrix consisting of feature vectors\n",
    "    X_test = np.transpose(np.array([np.ones(N_train), rnd(N_train), rnd(N_train)]))\n",
    "    y_f_test = np.sign(X_test[:,1] * X_test[:,1] + X_test[:,2] * X_test[:,2] - 0.6)\n",
    "\n",
    "    # pick 10% = 100 random indices\n",
    "    indices = list(range(N_test))\n",
    "    np.random.shuffle(indices)\n",
    "    random_indices = indices[:(N_test // 10)]\n",
    "\n",
    "    # flip sign in y_f_train vector\n",
    "    for idx in random_indices:\n",
    "        y_f_test[idx] = (-1) * y_f_test[idx]\n",
    "\n",
    "    # Compute classification made by my hypothesis from Problem 9\n",
    "    # first create transformed feature matrix\n",
    "    X = X_test\n",
    "    X_trans_test = np.transpose(np.array([np.ones(N_test), X[:,1], X[:,2], X[:,1]*X[:,2], X[:,1]*X[:,1], X[:,2]*X[:,2]]))\n",
    "    y_lr_trans_test = np.sign(np.dot(X_trans_test, w_lr_trans))\n",
    "    \n",
    "    # Compute disagreement between hypothesis and target function\n",
    "    E_out = sum(y_lr_trans_test != y_f_test) / N_train\n",
    "    E_out_total += E_out\n",
    "    \n",
    "E_out_avg = E_out_total / RUNS\n",
    "print(\"The average error E_out over\", RUNS, \"runs is: E_out_avg = \", E_out_avg)\n"
   ]
  }
 ],
 "metadata": {
  "kernelspec": {
   "display_name": "Python 3",
   "language": "python",
   "name": "python3"
  },
  "language_info": {
   "codemirror_mode": {
    "name": "ipython",
    "version": 3
   },
   "file_extension": ".py",
   "mimetype": "text/x-python",
   "name": "python",
   "nbconvert_exporter": "python",
   "pygments_lexer": "ipython3",
   "version": "3.6.2"
  }
 },
 "nbformat": 4,
 "nbformat_minor": 2
}
