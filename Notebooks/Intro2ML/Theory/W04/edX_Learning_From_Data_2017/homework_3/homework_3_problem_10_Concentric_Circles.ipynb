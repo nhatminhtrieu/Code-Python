{
 "cells": [
  {
   "cell_type": "markdown",
   "metadata": {},
   "source": [
    "# Problem 10\n",
    "\n",
    "We are given two concentric circles centered around the origin that define an area between them, a ring if you will. If a point lies in this area, it is classified as +1, else as -1. How many dichotomies can we generate with these rings? Compute the growth function $m_{\\cal{H}}(N)$ .\n",
    "\n",
    "-------------------------------\n",
    "\n",
    "Below is an illustration of this learning model.\n",
    "\n",
    "![Concentric_Circles](homework_3_figures/homework_3_problem_10_concentric_circles.png)\n",
    "\n",
    "----------\n",
    "\n",
    "We recognize that the distance of a point to the origin decides whether it lies within or outside of the shaded area that has the shape of a ring. The angle $\\alpha$ has no influence because we have rotational symmetry. If the distance is the only deciding factor, then we can reduce the problem to points on a line going from 0 to $+ \\infty$ . The ring simply becomes an interval on that line.\n",
    "\n",
    "We already know that the growth function for the \"1-interval\" hypothesis set is ${{N+1} \\choose 2}$ +1 (see slide 12/20 of lecture 5). Since our problem is similar to the \"1-interval\" classifier, we can conclude that the growth function is\n",
    "\n",
    "$$ m_{\\cal{H}}(N) = {{N+1} \\choose 2} +1  $$ \n",
    "\n",
    "So answer **10[b]** is the correct answer."
   ]
  }
 ],
 "metadata": {
  "kernelspec": {
   "display_name": "Python 3",
   "language": "python",
   "name": "python3"
  },
  "language_info": {
   "codemirror_mode": {
    "name": "ipython",
    "version": 3
   },
   "file_extension": ".py",
   "mimetype": "text/x-python",
   "name": "python",
   "nbconvert_exporter": "python",
   "pygments_lexer": "ipython3",
   "version": "3.6.2"
  }
 },
 "nbformat": 4,
 "nbformat_minor": 2
}
