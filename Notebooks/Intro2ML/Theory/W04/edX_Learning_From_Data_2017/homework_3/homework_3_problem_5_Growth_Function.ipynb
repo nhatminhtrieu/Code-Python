{
 "cells": [
  {
   "cell_type": "markdown",
   "metadata": {},
   "source": [
    "# Problem 5\n",
    "\n",
    "In this problem we are given functions, and we have to decide which of them are possible formulas for a growth function $m_{\\cal{H}}(N)$ .\n",
    "\n",
    "For this we look at slide 19/20 of the lecture 5 notes:\n",
    "\n",
    "\\begin{align}\n",
    "\\text{No break point}  &\\Rightarrow m_{\\cal{H}}(N) = 2^N \\\\\n",
    "\\text{Any break point} & \\Rightarrow m_{\\cal{H}}(N) \\text{ is polynomial in N}\n",
    "\\end{align}\n",
    "\n",
    "I'd like to [quote Prof. Abu-Mostafa from lecture 5](https://www.youtube.com/watch?v=SEYAnnLazMU&feature=youtu.be&t=1h4m57s):\n",
    "\n",
    "\n",
    "\"*It just so happens that we are in the very fortunate situation that the\n",
    "growth function is either identically 2 to the N, or else it's polynomial.\n",
    "There is nothing in between.*\"\n",
    "\n",
    "Let's have a look at the given choices:\n",
    "\n",
    "- **i)** $1 + N$ is polynomial, and therefore is a possible growth function.\n",
    "\n",
    "- **ii)** $1 + N + {N \\choose 2}$ is polynomial with ${N \\choose 2} = \\frac{N(N-1)}{2} = \\frac{N^2-N}{2}$, and therefore is a possible growth function.\n",
    "\n",
    "- **iii)** $\\sum_{i=1}^{\\lfloor \\sqrt{N} \\rfloor} {N \\choose i}$ is not polynomial since we get a term ${N \\choose {\\lfloor \\sqrt{N} \\rfloor}} = \\frac{N(N-1)(N-2)...(N-({\\lfloor \\sqrt{N} \\rfloor}-1))}{({\\lfloor \\sqrt{N} \\rfloor})!}$ with the highest power being $N^{\\lfloor \\sqrt{N} \\rfloor}$ which is not polynomial (see also slide 11/18 of the lecture 5 notes). This is not a possible growth function.\n",
    "\n",
    "- **iv)** $2^{\\lfloor \\sqrt{N/2} \\rfloor}$ is neither equal to $2^N$ nor is it polynomial. Therefore it cannot be a growth function, see also Prof. Abu-Mostafa's quote above.\n",
    "\n",
    "- **v)** $2^N$ is a possible growth function.\n",
    "\n",
    "The answer to the problem is **[b] i, ii, v**."
   ]
  }
 ],
 "metadata": {
  "kernelspec": {
   "display_name": "Python 3",
   "language": "python",
   "name": "python3"
  },
  "language_info": {
   "codemirror_mode": {
    "name": "ipython",
    "version": 3
   },
   "file_extension": ".py",
   "mimetype": "text/x-python",
   "name": "python",
   "nbconvert_exporter": "python",
   "pygments_lexer": "ipython3",
   "version": "3.6.2"
  }
 },
 "nbformat": 4,
 "nbformat_minor": 2
}
