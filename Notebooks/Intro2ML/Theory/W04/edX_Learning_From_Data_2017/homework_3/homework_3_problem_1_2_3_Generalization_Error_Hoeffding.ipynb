{
 "cells": [
  {
   "cell_type": "markdown",
   "metadata": {},
   "source": [
    "# Generalization Error\n",
    "\n",
    "In this problem we look at the modified Hoeffding inequality\n",
    "\n",
    "\n",
    "$$\\mathbb{P} [\\mid E_{in}(g) - E_{out}(g) \\mid] \\leq 2 M \\exp(-2 \\epsilon^2 N)$$\n",
    "\n",
    "\n",
    "For $\\epsilon = 0.05$ the right hand side shall be bounded by $0.03$ . What is the least number of \n",
    "examples $N$ that we need to satisfy that condition?\n",
    "\n",
    "\n",
    "We bound the right hand side by 0.03 and solve for N:\n",
    "\n",
    "\n",
    "\\begin{align}\n",
    "2 M \\exp(-2 \\epsilon^2 N)  & \\leq 0.03 \\\\\n",
    "    \\exp(-2 \\epsilon^2 N)  & \\leq \\frac{0.03}{2M} \\\\\n",
    "          -2 \\epsilon^2 N  & \\leq \\ln \\left(\\frac{0.03}{2M} \\right) \\\\\n",
    "                   N       & \\geq - \\frac{1}{2 \\epsilon^2}  \\ln \\left(\\frac{0.03}{2M} \\right) \\\\\n",
    "\\end{align}\n",
    "\n"
   ]
  },
  {
   "cell_type": "code",
   "execution_count": 1,
   "metadata": {
    "collapsed": true
   },
   "outputs": [],
   "source": [
    "import math\n",
    "\n",
    "def lower_bound_N(M, eps = 0.05):\n",
    "    return math.ceil(-1 / (2 * eps**2) * math.log(0.03 / (2 * M)))\n"
   ]
  },
  {
   "cell_type": "markdown",
   "metadata": {},
   "source": [
    "## Solution Problem 1"
   ]
  },
  {
   "cell_type": "code",
   "execution_count": 2,
   "metadata": {},
   "outputs": [
    {
     "name": "stdout",
     "output_type": "stream",
     "text": [
      "For M = 1 we need at least N = 840 examples.\n"
     ]
    }
   ],
   "source": [
    "M = 1\n",
    "print(\"For M =\", M, \"we need at least N =\", lower_bound_N(M), \"examples.\")"
   ]
  },
  {
   "cell_type": "markdown",
   "metadata": {},
   "source": [
    "So for $M = 1$ the condition is $N \\geq 840$ . Among the given choices the smallest one that satisfies this condition is **[b] 1000**."
   ]
  },
  {
   "cell_type": "markdown",
   "metadata": {},
   "source": [
    "## Solution Problem 2"
   ]
  },
  {
   "cell_type": "code",
   "execution_count": 3,
   "metadata": {
    "scrolled": true
   },
   "outputs": [
    {
     "name": "stdout",
     "output_type": "stream",
     "text": [
      "For M = 10 we need at least N = 1301 examples.\n"
     ]
    }
   ],
   "source": [
    "M = 10\n",
    "print(\"For M =\", M, \"we need at least N =\", lower_bound_N(M), \"examples.\")"
   ]
  },
  {
   "cell_type": "markdown",
   "metadata": {},
   "source": [
    "So for $M = 10$ the condition is $N \\geq 1301$ . Among the given choices the smallest one that satisfies this condition is **[c] 1500**."
   ]
  },
  {
   "cell_type": "markdown",
   "metadata": {},
   "source": [
    "## Solution Problem 3"
   ]
  },
  {
   "cell_type": "code",
   "execution_count": 4,
   "metadata": {},
   "outputs": [
    {
     "name": "stdout",
     "output_type": "stream",
     "text": [
      "For M = 100 we need at least N = 1761 examples.\n"
     ]
    }
   ],
   "source": [
    "M = 100\n",
    "print(\"For M =\", M, \"we need at least N =\", lower_bound_N(M), \"examples.\")"
   ]
  },
  {
   "cell_type": "markdown",
   "metadata": {},
   "source": [
    "So for $M = 100$ the condition is $N \\geq 1761$ . Among the given choices the one that satisfies this condition is **[d] 2000**."
   ]
  }
 ],
 "metadata": {
  "kernelspec": {
   "display_name": "Python 3",
   "language": "python",
   "name": "python3"
  },
  "language_info": {
   "codemirror_mode": {
    "name": "ipython",
    "version": 3
   },
   "file_extension": ".py",
   "mimetype": "text/x-python",
   "name": "python",
   "nbconvert_exporter": "python",
   "pygments_lexer": "ipython3",
   "version": "3.6.2"
  }
 },
 "nbformat": 4,
 "nbformat_minor": 2
}
