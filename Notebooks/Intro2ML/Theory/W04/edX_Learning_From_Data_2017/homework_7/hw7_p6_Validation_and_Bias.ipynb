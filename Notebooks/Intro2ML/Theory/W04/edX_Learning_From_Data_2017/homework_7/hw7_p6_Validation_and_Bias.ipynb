{
 "cells": [
  {
   "cell_type": "markdown",
   "metadata": {},
   "source": [
    "# Homework 7\n",
    "\n",
    "## Problem 6\n",
    "\n",
    "We simulate draws from the uniform distributions using the numpy package.\n",
    "\n",
    "An analytical solution can be found **[here](https://github.com/itacdonev/LFD_Course/tree/master/HW7)**."
   ]
  },
  {
   "cell_type": "code",
   "execution_count": 1,
   "metadata": {},
   "outputs": [
    {
     "name": "stdout",
     "output_type": "stream",
     "text": [
      "0.49999228889\n",
      "0.500760402889\n",
      "0.333734075875\n"
     ]
    }
   ],
   "source": [
    "import numpy as np\n",
    "\n",
    "\n",
    "# generate 1000 points in [0,1]\n",
    "N = 100000\n",
    "\n",
    "e1 = np.random.uniform(0,1,N)\n",
    "e2 = np.random.uniform(0,1,N)\n",
    "min_e1_e2 = np.minimum(e1, e2)\n",
    "\n",
    "print(np.mean(e1))\n",
    "print(np.mean(e2))\n",
    "print(np.mean(min_e1_e2))"
   ]
  }
 ],
 "metadata": {
  "kernelspec": {
   "display_name": "Python 3",
   "language": "python",
   "name": "python3"
  },
  "language_info": {
   "codemirror_mode": {
    "name": "ipython",
    "version": 3
   },
   "file_extension": ".py",
   "mimetype": "text/x-python",
   "name": "python",
   "nbconvert_exporter": "python",
   "pygments_lexer": "ipython3",
   "version": "3.6.3"
  }
 },
 "nbformat": 4,
 "nbformat_minor": 2
}
