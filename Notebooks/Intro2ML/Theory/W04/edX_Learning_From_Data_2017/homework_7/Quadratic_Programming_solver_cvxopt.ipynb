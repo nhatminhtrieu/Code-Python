{
 "cells": [
  {
   "cell_type": "markdown",
   "metadata": {},
   "source": [
    "# cvxopt - Quadratic Programming solver\n",
    "\n",
    "In this notebook we will explore the use of the Quadratic Programming solver **`cvxopt`** to compute a support vector machine SVM."
   ]
  },
  {
   "cell_type": "markdown",
   "metadata": {},
   "source": [
    "**Installation guide** (via **[Stackoverflow](https://stackoverflow.com/a/21885770/4019402)**)\n",
    "\n",
    "To install `cvxopt` in Anaconda, open the Anaconda prompt in administrator mode (in Windows go to Start -> Programs and rightclick on the Anaconda prompt icon to open it in administrator mode), and type:\n",
    "\n",
    "`conda install -c https://conda.anaconda.org/omnia cvxopt`\n",
    "\n",
    "If you have Python 3.6, and Anaconda complains about requiring Python 3.5, then you can install Python 3.5 as described **[here](https://conda.io/docs/user-guide/tasks/manage-python.html)**\n",
    "\n",
    "Afterwards, open the Anaconda Navigator and under \"Environments\" click on the py35 environment to open Jupyter."
   ]
  },
  {
   "cell_type": "markdown",
   "metadata": {},
   "source": [
    "## Import libraries"
   ]
  },
  {
   "cell_type": "code",
   "execution_count": 1,
   "metadata": {},
   "outputs": [
    {
     "name": "stdout",
     "output_type": "stream",
     "text": [
      "3.5.4 |Anaconda custom (64-bit)| (default, Sep 19 2017, 08:15:17) [MSC v.1900 64 bit (AMD64)]\n"
     ]
    }
   ],
   "source": [
    "import sys\n",
    "print(sys.version)\n",
    "\n",
    "import cvxopt\n",
    "import numpy as np\n",
    "import pandas as pd"
   ]
  },
  {
   "cell_type": "markdown",
   "metadata": {},
   "source": [
    "# Ghost problem\n",
    "\n",
    "The following is a ghost problem devised by @Ilikec. We are given a set of data points $X$ with labels $y$. We can compute the support vector machine for $X$ and $y$.\n",
    "\n",
    "Note: Ghost problems are problems devised by students that we could discuss openly on the edX discussion forum. This one served to answer questions about support vector machines"
   ]
  },
  {
   "cell_type": "code",
   "execution_count": 2,
   "metadata": {},
   "outputs": [
    {
     "name": "stdout",
     "output_type": "stream",
     "text": [
      "    x1   x2  y\n",
      "0 -1.5  1.0  1\n",
      "1  2.5 -3.0 -1\n",
      "2  3.4 -5.0 -1\n",
      "3  6.4 -2.0 -1\n",
      "4  3.4  1.5  1\n"
     ]
    }
   ],
   "source": [
    "X = np.array([[-1.5, 1], [2.5, -3], [3.4, -5], [6.4, -2], [3.4, 1.5]])\n",
    "y = np.array([1, -1, -1, -1, 1])\n",
    "\n",
    "#df = pd.DataFrame(np.c_[X, y], columns = ['x1', 'x2', 'y'])\n",
    "df = pd.DataFrame({'x1':X[:,0], 'x2':X[:,1], 'y':y})\n",
    "print(df)"
   ]
  },
  {
   "cell_type": "markdown",
   "metadata": {},
   "source": [
    "In **`cvxopt`** we have to specify the matrices for the following problem, see also **[here](https://courses.csail.mit.edu/6.867/wiki/images/a/a7/Qp-cvxopt.pdf)** : \n",
    "\n",
    "$\\min \\frac{1}{2} x^T P x + q^T x$\n",
    "\n",
    "subject to $Gx \\preceq h$\n",
    "\n",
    "$Ax = b$"
   ]
  },
  {
   "cell_type": "markdown",
   "metadata": {},
   "source": [
    "This looks similar to the problem we had in lecture 14, slide 15:\n",
    "\n",
    "![lecture14_slide15](quadratic_programming_lecture.png)"
   ]
  },
  {
   "cell_type": "markdown",
   "metadata": {},
   "source": [
    "The `cvxopt` solver requires us to define the parameters $P, q, G, h, A, b$.\n",
    "\n",
    "- The $\\alpha$ from the lecture corresponds to the $x$ from the solver.\n",
    "- The matrix $P$ from the solver is the matrix on slide 15. It can be calculated by the [Hadamard product](https://en.wikipedia.org/wiki/Hadamard_product_(matrices) $YY \\circ XX$, where $YY = y^T y$ and $XX = X^T X$. Note that the factor $\\frac{1}{2}$ from the slides is already accounted for in the problem formulation of the solver.\n",
    "- The vector $q$ is simply a vector of negatives ones.\n",
    "- Next we have the constraint $\\alpha \\geq 0$. Since the solver formulates the constraint as  $Gx \\preceq h$, we have to translate our $\\alpha$ constraint as follows: $-\\alpha \\leq 0$ corresponds to $Gx \\preceq h$, where $G$ is simply the negative identity matrix, and $h$ the zero vector.\n",
    "- The linear constraint $y^T \\alpha = 0$ from the lecture corresponds to the matrix equation $Ax = b$ from the solver, where $A$ is the vector $y$ and $b$ is the number zero (scalar). "
   ]
  },
  {
   "cell_type": "code",
   "execution_count": 3,
   "metadata": {},
   "outputs": [
    {
     "name": "stdout",
     "output_type": "stream",
     "text": [
      "     pcost       dcost       gap    pres   dres\n",
      " 0: -4.8949e-01 -8.0087e-01  9e+00  3e+00  1e+00\n",
      " 1:  8.3960e-02 -3.8656e-01  6e-01  5e-02  2e-02\n",
      " 2: -5.8692e-02 -1.4982e-01  9e-02  2e-03  1e-03\n",
      " 3: -1.0780e-01 -1.5626e-01  5e-02  6e-04  3e-04\n",
      " 4: -1.1571e-01 -1.2284e-01  7e-03  8e-05  4e-05\n",
      " 5: -1.1690e-01 -1.1707e-01  2e-04  1e-17  4e-16\n",
      " 6: -1.1695e-01 -1.1695e-01  2e-06  3e-17  4e-16\n",
      " 7: -1.1695e-01 -1.1695e-01  2e-08  2e-17  3e-16\n",
      "Optimal solution found.\n",
      "alpha =\n",
      "[ 9.43e-09]\n",
      "[ 5.92e-02]\n",
      "[ 1.63e-09]\n",
      "[ 5.78e-02]\n",
      "[ 1.17e-01]\n",
      "\n"
     ]
    }
   ],
   "source": [
    "N = X.shape[0]\n",
    "YY = np.dot(y.reshape(N,1),y.reshape(1,N))\n",
    "XX = np.dot(X, X.T)\n",
    "\n",
    "\n",
    "# http://cvxopt.org/examples/tutorial/qp.html\n",
    "# tell program that the alpha_i from the lecture are nonnegative\n",
    "\n",
    "G = cvxopt.matrix(-np.identity(N), tc='d')\n",
    "h = cvxopt.matrix(np.zeros(N), tc='d')\n",
    "\n",
    "P = cvxopt.matrix(YY * XX, tc='d')\n",
    "q = cvxopt.matrix(-np.ones(N), tc='d')\n",
    "A = cvxopt.matrix(y, tc='d').T\n",
    "b = cvxopt.matrix(np.zeros(1), tc='d')\n",
    "\n",
    "from cvxopt import solvers\n",
    "sol = solvers.qp(P, q, G, h, A, b)\n",
    "print(\"alpha =\")\n",
    "print(sol['x'])"
   ]
  },
  {
   "cell_type": "markdown",
   "metadata": {},
   "source": [
    "From $\\alpha$ we can compute $\\mathbf{w} = \\sum_{i=1}^N \\alpha_i y_i \\mathbf{x_i}$ (see slide 14 of lecture 14)."
   ]
  },
  {
   "cell_type": "code",
   "execution_count": 4,
   "metadata": {},
   "outputs": [
    {
     "name": "stdout",
     "output_type": "stream",
     "text": [
      "w =  [-0.1201201  0.4684685]\n"
     ]
    }
   ],
   "source": [
    "alpha = np.array(sol['x'])\n",
    "n = alpha.shape[0]\n",
    "\n",
    "w = np.zeros(X.shape[1])\n",
    "for i in range(n):\n",
    "    w = w + y[i]*alpha[i] * X[i]\n",
    "\n",
    "print(\"w = \", w)"
   ]
  },
  {
   "cell_type": "markdown",
   "metadata": {},
   "source": [
    "The solver returns the vector $\\alpha$ from the lecture, which are the Lagrange multipliers. Most of the entries in $\\alpha$ are zero. The nonzero entries indicate a support vector, i.e. points $x_n$ that are on the margin and that satisfy\n",
    "\n",
    "$y_n (w^T x_n + b) = 1$\n",
    "\n",
    "Let's print our support vectors."
   ]
  },
  {
   "cell_type": "code",
   "execution_count": 5,
   "metadata": {},
   "outputs": [
    {
     "name": "stdout",
     "output_type": "stream",
     "text": [
      "Support vectors:\n",
      " [[ 2.5 -3. ]\n",
      " [ 6.4 -2. ]\n",
      " [ 3.4  1.5]]\n",
      "\n",
      "Number of support vectors:  [3]\n"
     ]
    }
   ],
   "source": [
    "# nonzero entries in alpha\n",
    "indices = (alpha > 10**(-6)).nonzero()[0]    # count boolean true values\n",
    "\n",
    "# support vectors\n",
    "support_vectors = X[indices]\n",
    "print(\"Support vectors:\\n\", support_vectors)\n",
    "\n",
    "num_support_vectors = sum(alpha > 10**(-6))\n",
    "print(\"\\nNumber of support vectors: \", num_support_vectors)"
   ]
  },
  {
   "cell_type": "markdown",
   "metadata": {},
   "source": [
    "We can also compute the intercept term $b$ from the equation\n",
    "\n",
    "$y_n (w^T x_n + b) = 1$\n",
    "\n",
    "where $x_n$ is a support vector, i.e. a point on the margin.\n",
    "\n",
    "$y_n (w^T x_n + b) = 1$\n",
    "\n",
    "$\\Rightarrow b = 1/y_n - w^T x_n$\n"
   ]
  },
  {
   "cell_type": "code",
   "execution_count": 6,
   "metadata": {},
   "outputs": [
    {
     "name": "stdout",
     "output_type": "stream",
     "text": [
      "b =  0.70570575504\n",
      "b =  0.705705649232\n",
      "b =  0.705705593249\n"
     ]
    }
   ],
   "source": [
    "for i in indices:\n",
    "    b_intercept = 1 / y[i] - np.dot(w, X[i])\n",
    "    print(\"b = \", b_intercept)"
   ]
  },
  {
   "cell_type": "markdown",
   "metadata": {},
   "source": [
    "## Python class\n",
    "\n",
    "Let's write a Python class:"
   ]
  },
  {
   "cell_type": "code",
   "execution_count": 7,
   "metadata": {},
   "outputs": [],
   "source": [
    "class SVM_cvxopt:\n",
    "    \n",
    "    def __init__(self):\n",
    "        self.num_support_vectors_ = None\n",
    "        self.w_ = None\n",
    "        self.intercept_ = None\n",
    "        self.support_vectors_ = None\n",
    "        self.alpha_ = None\n",
    "        \n",
    "    \n",
    "    def fit(self, X, y):\n",
    "        '''\n",
    "        - Takes data X and labels y\n",
    "        - Calculates weight vector\n",
    "        '''\n",
    "        N = X.shape[0]\n",
    "        YY = np.dot(y.reshape(N,1),y.reshape(1,N))\n",
    "        XX = np.dot(X, X.T)\n",
    "\n",
    "        # http://cvxopt.org/examples/tutorial/qp.html\n",
    "        # tell program that the alpha_i (Lagrange multipliers) are nonnegative\n",
    "        G = cvxopt.matrix(-np.identity(N), tc='d')\n",
    "        h = cvxopt.matrix(np.zeros(N), tc='d')\n",
    "\n",
    "        P = cvxopt.matrix(YY * XX, tc='d')\n",
    "        q = cvxopt.matrix(-np.ones(N), tc='d')\n",
    "        A = cvxopt.matrix(y, tc='d').T\n",
    "        b = cvxopt.matrix(np.zeros(1), tc='d')\n",
    "\n",
    "        from cvxopt import solvers\n",
    "        # https://stackoverflow.com/questions/26416626/how-to-silent-cvxopt-solver-python\n",
    "        solvers.options['show_progress'] = False\n",
    "        sol = solvers.qp(P, q, G, h, A, b)\n",
    "        \n",
    "        # alpha vector (see lecture, Lagrange multipliers)\n",
    "        # https://stackoverflow.com/questions/3337301/numpy-matrix-to-array\n",
    "        self.alpha_ = np.asarray(sol['x']).reshape(-1)\n",
    "        n = self.alpha_.shape[0]\n",
    "        \n",
    "        # vector w\n",
    "        self.w_ = np.zeros(X.shape[1])\n",
    "        for i in range(n):\n",
    "            self.w_ = self.w_ + y[i] * self.alpha_[i] * X[i]\n",
    "        \n",
    "        # threshold to determine which of the entries in alpha are nonzero\n",
    "        threshold = 10**(-4)\n",
    "        \n",
    "        # number of support vectors is the number of non-zero entries in alpha\n",
    "        self.num_support_vectors_ = sum(self.alpha_ > threshold)\n",
    "        \n",
    "        # support vectors\n",
    "        self.indices_ = (self.alpha_ > threshold).nonzero()[0]    # count boolean true values\n",
    "        \n",
    "        # https://stackoverflow.com/questions/3337301/numpy-matrix-to-array\n",
    "        self.support_vectors_ = np.asarray(X[self.indices_]).reshape(-1)\n",
    "        \n",
    "        # intercept\n",
    "        self.intercept_ = 1/y[self.indices_[0]] - np.dot(self.w_, X[self.indices_[0]])\n",
    "        "
   ]
  },
  {
   "cell_type": "markdown",
   "metadata": {},
   "source": [
    "**Note**:\n",
    "\n",
    "The threshold for counting a support vector was here set to $10^{-4}$ in the class above. If you set this value too low, then you will count too many points as support vectors, e.g. if you have an entry of $10^{-6}$ in the $\\alpha$ vector, do you count it as support vector or not?\n",
    "\n",
    "If you set your threshold to $10^{-8}$, then you count that point as a support vector, whereas for a threshold of $10^{-4}$ you don't count it as support vector.\n",
    "\n",
    "Try it yourself, change the threshold and compare the number of support vectors you get with the scikit learn (libsvm) implementation."
   ]
  },
  {
   "cell_type": "markdown",
   "metadata": {},
   "source": [
    "## Instantiate an object\n",
    "\n",
    "Here, we just calculate the values again using the class from above."
   ]
  },
  {
   "cell_type": "code",
   "execution_count": 8,
   "metadata": {},
   "outputs": [
    {
     "name": "stdout",
     "output_type": "stream",
     "text": [
      "\n",
      "number of support vectors:  3\n",
      "\n",
      "vector alpha =  [  9.43285070e-09   5.91582758e-02   1.62903634e-09   5.77875011e-02\n",
      "   1.16945769e-01]\n",
      "\n",
      "vector w =  [-0.1201201  0.4684685]\n",
      "\n",
      "intercept =  0.70570575504\n",
      "\n",
      "support vectors =  [ 2.5 -3.   6.4 -2.   3.4  1.5]\n"
     ]
    }
   ],
   "source": [
    "clf = SVM_cvxopt()\n",
    "clf.fit(X, y)\n",
    "\n",
    "print(\"\\nnumber of support vectors: \", clf.num_support_vectors_)\n",
    "print(\"\\nvector alpha = \", clf.alpha_)\n",
    "print(\"\\nvector w = \", clf.w_)\n",
    "print(\"\\nintercept = \", clf.intercept_)\n",
    "print(\"\\nsupport vectors = \", clf.support_vectors_)"
   ]
  },
  {
   "cell_type": "markdown",
   "metadata": {},
   "source": [
    "## Comparison with the svm solver from sklearn (which uses libsvm)"
   ]
  },
  {
   "cell_type": "code",
   "execution_count": 9,
   "metadata": {},
   "outputs": [
    {
     "name": "stdout",
     "output_type": "stream",
     "text": [
      "suport vectors: \n",
      " [[ 2.5 -3. ]\n",
      " [ 6.4 -2. ]\n",
      " [ 3.4  1.5]]\n",
      "\n",
      "number of support vectors in each class:  [2 1]\n",
      "\n",
      "w =  [[-0.12008858  0.46834539]]\n",
      "\n",
      "intercept =  [ 0.70543276]\n"
     ]
    }
   ],
   "source": [
    "from sklearn import svm\n",
    "\n",
    "clf2 = svm.SVC(C = np.inf, kernel = 'linear')\n",
    "clf2.fit(X, y)\n",
    "\n",
    "# get support vectors\n",
    "print(\"suport vectors: \\n\", clf2.support_vectors_)\n",
    "\n",
    "print(\"\\nnumber of support vectors in each class: \", clf2.n_support_ )\n",
    "\n",
    "print(\"\\nw = \", clf2.coef_)\n",
    "print(\"\\nintercept = \", clf2.intercept_)"
   ]
  }
 ],
 "metadata": {
  "kernelspec": {
   "display_name": "Python 3",
   "language": "python",
   "name": "python3"
  },
  "language_info": {
   "codemirror_mode": {
    "name": "ipython",
    "version": 3
   },
   "file_extension": ".py",
   "mimetype": "text/x-python",
   "name": "python",
   "nbconvert_exporter": "python",
   "pygments_lexer": "ipython3",
   "version": "3.5.4"
  }
 },
 "nbformat": 4,
 "nbformat_minor": 2
}
