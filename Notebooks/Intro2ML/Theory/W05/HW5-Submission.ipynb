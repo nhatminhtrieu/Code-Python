{
 "cells": [
  {
   "cell_type": "markdown",
   "metadata": {},
   "source": [
    "# Bài tập 5\n"
   ]
  },
  {
   "cell_type": "markdown",
   "metadata": {},
   "source": [
    "## Câu 1 (1 điểm)"
   ]
  },
  {
   "cell_type": "markdown",
   "metadata": {},
   "source": [
    "Dựa vào công thức: $$\\mathbb{E}_{\\mathcal{D}}[E_{in}(\\mathbf{w}_{lin})] = \\sigma^2\\left(1 - \\frac{d+1}{N}\\right)$$\n",
    "\n",
    "Tại $\\sigma = 0.1$ và $d = 8$, ta tìm $N$ nhỏ nhất để $E_{in}$ lớn hơn $0.008$ bằng cách giải bất phương trình biến đổi từ công thức trên:\n",
    "\n",
    "$$N > \\frac{d+1}{1 - \\frac{0.008}{\\sigma^2}}$$"
   ]
  },
  {
   "cell_type": "code",
   "execution_count": 1,
   "metadata": {},
   "outputs": [
    {
     "name": "stdout",
     "output_type": "stream",
     "text": [
      "N thỏa hệ phương trình khi: N > 45\n"
     ]
    }
   ],
   "source": [
    "sigma = 0.1\n",
    "d = 8\n",
    "N = (d+1) / (1 - 0.008/sigma**2 )\n",
    "\n",
    "print(\"N thỏa hệ phương trình khi: N > {}\".format(round(N)))"
   ]
  },
  {
   "cell_type": "markdown",
   "metadata": {
    "deletable": false,
    "nbgrader": {
     "cell_type": "markdown",
     "checksum": "2e83d862b3c5fd4fb57d72c50e8115f8",
     "grade": true,
     "grade_id": "c1",
     "locked": false,
     "points": 1,
     "schema_version": 3,
     "solution": true,
     "task": false
    }
   },
   "source": [
    "YOUR ANSWER HERE Đáp án nhỏ nhất để thóa điều kiện trên là N=100. Do đó, em chọn đáp án [c] 100"
   ]
  },
  {
   "cell_type": "markdown",
   "metadata": {},
   "source": [
    "## Câu 2 (1 điểm)"
   ]
  },
  {
   "cell_type": "markdown",
   "metadata": {},
   "source": [
    "$$h(\\mathbf{x})=sign(\\tilde{w}_0 + \\tilde{w}_1 x_1^2 + \\tilde{w}_2 x_2^2)$$ \n",
    "\n",
    "- Khi $x_1$ siêu âm hoặc siêu dương thì $x_1^2$ sẽ dương và rất lớn, và  $\\tilde{w}_1 x_1^2$ sẽ là đại lượng quyết định dấu của tổng trong công thức ở trên. Do $x_1^2$ dương nên $\\tilde{w}_1$ sẽ quyết định dấu của $\\tilde{w}_1 x_1^2$.\n",
    "- Khi $x_2$ siêu âm hoặc siêu dương thì $x_2^2$ sẽ dương và rất lớn, và  $\\tilde{w}_2 x_2^2$ sẽ là đại lượng quyết định dấu của tổng trong công thức ở trên. Do $x_2^2$ dương nên $\\tilde{w}_2$ sẽ quyết định dấu của $\\tilde{w}_2 x_2^2$.\n",
    "\n",
    "**Dựa vào mô tả như hình, ta thấy:**\n",
    "\n",
    "- Khi giá $x_1$ càng lớn (tiến về $-\\infty$ hoặc $+\\infty$) thì $h(\\mathbf{x}) = -1$. Mà  $\\tilde{w}_1$ quyết định dấu của $h(\\mathbf{x})$ nên $\\tilde{w}_1 < 0$\n",
    "- Khi giá $x_2$ càng lớn (tiến về $-\\infty$ hoặc $+\\infty$) thì $h(\\mathbf{x}) = +1$. Mà  $\\tilde{w}_2$ quyết định dấu của $h(\\mathbf{x})$ nên $\\tilde{w}_2 > 0$"
   ]
  },
  {
   "cell_type": "markdown",
   "metadata": {
    "deletable": false,
    "nbgrader": {
     "cell_type": "markdown",
     "checksum": "47d4e2bb3e4812ef7b37e032a898cfec",
     "grade": true,
     "grade_id": "c2",
     "locked": false,
     "points": 1,
     "schema_version": 3,
     "solution": true,
     "task": false
    }
   },
   "source": [
    "YOUR ANSWER HERE Do đó, em chọn đáp án [d]"
   ]
  },
  {
   "cell_type": "markdown",
   "metadata": {},
   "source": [
    "## Câu 3 (1 điểm)"
   ]
  },
  {
   "cell_type": "markdown",
   "metadata": {},
   "source": [
    "Dựa vào đề, ta thấy số đa thức có thể có khi triển khai $x_1$, $x_2$ trong không gian $R^2$ là 15.\n",
    "\n",
    "Dựa vào công thức ở slide 4, lecture 9 là:\n",
    "\n",
    "- $\\tilde{d}_{vc} \\le \\tilde{d} + 1 = $ Số output của $\\Phi_4 = 15$\n",
    "\n",
    "=> 15 là giá trị đầu tiên **KHÔNG NHỎ HƠN** VC-dimension\n",
    "\n"
   ]
  },
  {
   "cell_type": "markdown",
   "metadata": {
    "deletable": false,
    "nbgrader": {
     "cell_type": "markdown",
     "checksum": "0997a909d9ab1f250c2bfd0645fee970",
     "grade": true,
     "grade_id": "c3",
     "locked": false,
     "points": 1,
     "schema_version": 3,
     "solution": true,
     "task": false
    }
   },
   "source": [
    "YOUR ANSWER HERE Do đó, em chọn đáp án [c]"
   ]
  },
  {
   "cell_type": "markdown",
   "metadata": {},
   "source": [
    "## Câu 4 (1 điểm)"
   ]
  },
  {
   "cell_type": "markdown",
   "metadata": {},
   "source": [
    "Theo đề: \n",
    "$$E(u,v) = (ue^v - 2ve^{-u})^2$$\n",
    "\n",
    "Đạo hàm riêng của $E(u,v)$ theo $u$:\n",
    "\n",
    "$\\displaystyle \\frac{\\partial E}{\\partial u}$ $= 2*E*E' = 2*(ue^v - 2ve^{-u})* (e^u + 2ve^{-u})$"
   ]
  },
  {
   "cell_type": "markdown",
   "metadata": {
    "deletable": false,
    "nbgrader": {
     "cell_type": "markdown",
     "checksum": "efabab5c4035a6864ac8cb3e0061c6f0",
     "grade": true,
     "grade_id": "c4",
     "locked": false,
     "points": 1,
     "schema_version": 3,
     "solution": true,
     "task": false
    }
   },
   "source": [
    "YOUR ANSWER HERE Do đó, em chọn đáp án [e]"
   ]
  },
  {
   "cell_type": "markdown",
   "metadata": {},
   "source": [
    "## Câu 5 (1 điểm)"
   ]
  },
  {
   "cell_type": "code",
   "execution_count": 2,
   "metadata": {},
   "outputs": [],
   "source": [
    "#Import thư viện cho tất cả các câu sau:\n",
    "import math\n",
    "import numpy as np"
   ]
  },
  {
   "cell_type": "code",
   "execution_count": 3,
   "metadata": {},
   "outputs": [],
   "source": [
    "# Biến e\n",
    "e = math.e\n",
    "\n",
    "\n",
    "def E(u, v):\n",
    "    return (u*e**v - 2*v*e**(-u))**2\n",
    "\n",
    "#Code dùng cho câu 5,6:\n",
    "'''\n",
    "    input:  \n",
    "            - eta\n",
    "            - N: Số vòng lặp tối đa \n",
    "            - error: Độ lỗi yêu cầu\n",
    "    output: \n",
    "            - result_i: Sô vòng lặp cần thiết để E(u,v) < error\n",
    "            - result_x: Giá trị của [u,v] tại lần lặp thứ result_i\n",
    "'''\n",
    "def get_iter(eta,N,error):\n",
    "    # Khai báo iter ban đầu = 0:\n",
    "    result_i = 0\n",
    "    # Biến e\n",
    "    e = math.e\n",
    "    # Bắt đầuv với  (u,v) = (1,1)\n",
    "    x = [1,1]\n",
    "\n",
    "    for i in range(1,N):\n",
    "        u,v = x\n",
    "        #Đạo hàm theo u:\n",
    "        dE_du = 2*(u*e**v - 2*v*e**(-u))*(e**v + 2*v*e**(-u))\n",
    "        #Đạo hàm theo v:\n",
    "        dE_dv = 2*(u*e**v - 2*v*e**(-u))*(u*e**v - 2*e**(-u))\n",
    "        grad = np.array([dE_du, dE_dv])\n",
    "\n",
    "        #Cập nhật x:\n",
    "        x = x - eta * grad\n",
    "        \n",
    "        #Lưu tạm i và x:\n",
    "        result_i = i\n",
    "        result_x = x\n",
    "        \n",
    "        #Điều kiện dừng khi E(u,v) < error đầu vào:\n",
    "        if E(x[0], x[1]) < error:\n",
    "            break\n",
    "            \n",
    "    return result_i, result_x"
   ]
  },
  {
   "cell_type": "code",
   "execution_count": 4,
   "metadata": {},
   "outputs": [
    {
     "name": "stdout",
     "output_type": "stream",
     "text": [
      "Tốn 10 lần lặp để độ lỗi của E(u,v) < 10^-14\n"
     ]
    }
   ],
   "source": [
    "result_i, result_uv = get_iter(eta = 0.1,N = 10000,error = 10**(-14))\n",
    "print(\"Tốn {} lần lặp để độ lỗi của E(u,v) < 10^-14\".format(result_i))"
   ]
  },
  {
   "cell_type": "markdown",
   "metadata": {
    "deletable": false,
    "nbgrader": {
     "cell_type": "markdown",
     "checksum": "0b484b8390bec96142e8a1213ee8cd2c",
     "grade": true,
     "grade_id": "c5",
     "locked": false,
     "points": 1,
     "schema_version": 3,
     "solution": true,
     "task": false
    }
   },
   "source": [
    "YOUR ANSWER HERE Do đó, em chọn đáp án [d]"
   ]
  },
  {
   "cell_type": "markdown",
   "metadata": {},
   "source": [
    "## Câu 6 (1 điểm)"
   ]
  },
  {
   "cell_type": "code",
   "execution_count": 5,
   "metadata": {},
   "outputs": [
    {
     "name": "stdout",
     "output_type": "stream",
     "text": [
      "Giá trị của (u,v) tại câu 5 là [0.045 0.024]\n"
     ]
    }
   ],
   "source": [
    "print(\"Giá trị của (u,v) tại câu 5 là {}\".format(np.round(result_uv, 3)))"
   ]
  },
  {
   "cell_type": "markdown",
   "metadata": {
    "deletable": false,
    "nbgrader": {
     "cell_type": "markdown",
     "checksum": "26f542221236fb24d0ddbee584eed7d0",
     "grade": true,
     "grade_id": "c6",
     "locked": false,
     "points": 1,
     "schema_version": 3,
     "solution": true,
     "task": false
    }
   },
   "source": [
    "YOUR ANSWER HERE Do đó, em chọn đáp án [e]"
   ]
  },
  {
   "cell_type": "markdown",
   "metadata": {},
   "source": [
    "## Câu 7 (1 điểm)"
   ]
  },
  {
   "cell_type": "code",
   "execution_count": 6,
   "metadata": {},
   "outputs": [],
   "source": [
    "def get_error(eta,N_iters):\n",
    "    # Khai báo iter ban đầu = 0:\n",
    "    result_i = 0\n",
    "    # Biến e\n",
    "    e = math.e\n",
    "    # Bắt đầuv với  (u,v) = (1,1)\n",
    "    x = [1,1]\n",
    "\n",
    "    for i in range(N_iters):\n",
    "        #Đạo hàm theo u:\n",
    "        u,v = x\n",
    "        dE_du = 2*(u*e**v - 2*v*e**(-u))*(e**v + 2*v*e**(-u))\n",
    "        #Dọc theo tọa độ u để giảm lỗi\n",
    "        grad = np.array([dE_du, 0])\n",
    "        x = x - eta * grad\n",
    "        \n",
    "        #Đạo hàm theo v:\n",
    "        u,v = x\n",
    "        dE_dv = 2*(u*e**v - 2*v*e**(-u))*(u*e**v - 2*e**(-u))\n",
    "        #Dọc theo tọa độ v để giảm lỗi\n",
    "        grad = np.array([0, dE_dv])\n",
    "        x = x - eta * grad\n",
    "\n",
    "        result_i = i\n",
    "        result_x = x\n",
    "            \n",
    "    return E(x[0], x[1])"
   ]
  },
  {
   "cell_type": "code",
   "execution_count": 7,
   "metadata": {},
   "outputs": [
    {
     "name": "stdout",
     "output_type": "stream",
     "text": [
      "Độ lỗi E(u,v) sau 15 lần lặp bằng 0.13981379199615324\n"
     ]
    }
   ],
   "source": [
    "eta = 0.1\n",
    "N_iters = 15\n",
    "print(\"Độ lỗi E(u,v) sau {} lần lặp bằng {}\".format(N_iters, get_error(eta,N_iters)))"
   ]
  },
  {
   "cell_type": "markdown",
   "metadata": {
    "deletable": false,
    "nbgrader": {
     "cell_type": "markdown",
     "checksum": "322a244b0fae3a20ec568a5099aaaec1",
     "grade": true,
     "grade_id": "c7",
     "locked": false,
     "points": 1,
     "schema_version": 3,
     "solution": true,
     "task": false
    }
   },
   "source": [
    "YOUR ANSWER HERE Kết quả $0.1398$ gần với $10^{-1}$ nhất. Do đó, em chọn đáp án [a]"
   ]
  },
  {
   "cell_type": "markdown",
   "metadata": {},
   "source": [
    "## Câu 8 (1 điểm)"
   ]
  },
  {
   "cell_type": "code",
   "execution_count": 8,
   "metadata": {},
   "outputs": [],
   "source": [
    "def generate_target_w():\n",
    "    \"\"\"\n",
    "    Generates target_w (the vector of parameters of f) \n",
    "    from two random, uniformly distributed points in [-1, 1] x [-1, 1].\n",
    "    \n",
    "    Returns\n",
    "    -------\n",
    "    target_w : numpy array, shape (3, 1) \n",
    "        The vector of parameters of f.\n",
    "    \"\"\"\n",
    "    # Generate two points from a uniform distribution over [-1, 1]x[-1, 1]\n",
    "    p1 = np.random.uniform(-1, 1, 2)\n",
    "    p2 = np.random.uniform(-1, 1, 2)\n",
    "    # Compute the target W from these two points\n",
    "    target_w = np.array([p1[1]*p2[0] - p1[0]*p2[1], p2[1] - p1[1], p1[0] - p2[0]]).reshape((-1, 1))\n",
    "    \n",
    "    return target_w"
   ]
  },
  {
   "cell_type": "code",
   "execution_count": 9,
   "metadata": {},
   "outputs": [],
   "source": [
    "def generate_data(N, d, target_w):\n",
    "\n",
    "    \"\"\"\n",
    "    Generates a data set by generating random inputs and then using target_w to generate the \n",
    "    corresponding outputs.\n",
    "    \n",
    "    Parameters\n",
    "    ----------\n",
    "    N : int\n",
    "        The number of examples.\n",
    "    target_w : numpy array, shape (3, 1) \n",
    "        The vector of parameters of f.\n",
    "    \n",
    "    Returns\n",
    "    -------\n",
    "    X : numpy array, shape (N, 3)\n",
    "        The matrix of input vectors (each row corresponds to an input vector); the first column of \n",
    "        this matrix is all ones.\n",
    "    Y : numpy array, shape (N, 1)\n",
    "        The vector of outputs.        \n",
    "    \"\"\"\n",
    "    bad_data = True # `bad_data = True` means: data contain points on the target line \n",
    "                    # (this rarely happens, but just to be careful)\n",
    "                    # -> y's of these points = 0 (with np.sign); \n",
    "                    #    we don't want this (y's of data must be -1 or 1)\n",
    "                    # -> re-generate data until `bad_data = False`\n",
    "    \n",
    "    while bad_data == True:\n",
    "        X = np.random.uniform(-1, 1, (N, d))\n",
    "        X = np.hstack((np.ones((N, 1)), X)) # Add 'ones' column\n",
    "        Y = np.sign(np.dot(X, target_w))\n",
    "        if (0 not in Y): # Good data\n",
    "            bad_data = False\n",
    "    \n",
    "    return X, Y\n"
   ]
  },
  {
   "cell_type": "code",
   "execution_count": 10,
   "metadata": {},
   "outputs": [],
   "source": [
    "def get_w_n_epochs(X,Y):\n",
    "    learning_rate = 0.01\n",
    "    n_epochs = 0\n",
    "    N = len(X)\n",
    "    d = len(X[0])-1\n",
    "    w = np.zeros(d+1)\n",
    "    previous_w = np.copy(w)\n",
    "    \n",
    "    while True:\n",
    "            previous_w = np.copy(w)\n",
    "            rand_idxs = np.random.permutation(N)\n",
    "            for idx in rand_idxs:\n",
    "                x = X[idx,:]\n",
    "                y = Y[idx]\n",
    "                gradient = -y * x / (1 + math.exp(y * np.dot(w.T, x)))\n",
    "                w = w - learning_rate * gradient\n",
    "\n",
    "            n_epochs += 1 \n",
    "            if np.linalg.norm(w - previous_w) < 0.01:\n",
    "                break\n",
    "    return w, n_epochs"
   ]
  },
  {
   "cell_type": "code",
   "execution_count": 11,
   "metadata": {},
   "outputs": [],
   "source": [
    "#Tính w cho câu dưới:\n",
    "N = 100\n",
    "d=2\n",
    "generate_w = generate_target_w()\n",
    "X,Y = generate_data(N, d, generate_w)\n",
    "\n",
    "w, n_epochs = get_w_n_epochs(X,Y)"
   ]
  },
  {
   "cell_type": "code",
   "execution_count": 12,
   "metadata": {},
   "outputs": [
    {
     "name": "stdout",
     "output_type": "stream",
     "text": [
      "E_out = 0.13206908043477397\n"
     ]
    }
   ],
   "source": [
    "N_test = 100\n",
    "X,Y = generate_data(N_test, d, generate_w)\n",
    "E_out_total = 0       \n",
    "\n",
    "# Calculate E_out via cross entropy error\n",
    "E_out = []\n",
    "epochs = []\n",
    "for i in range(N_test):\n",
    "    temp = np.log(1 + np.exp(-Y[i] * w.dot(X[i,:])))\n",
    "    w_ ,n_epochs = get_w_n_epochs(X,Y)\n",
    "    E_out.append(temp)\n",
    "    epochs.append(n_epochs)\n",
    "    \n",
    "\n",
    "E_out_total = np.mean(E_out)\n",
    "\n",
    "print(\"E_out = {}\".format(E_out_total))"
   ]
  },
  {
   "cell_type": "markdown",
   "metadata": {
    "deletable": false,
    "nbgrader": {
     "cell_type": "markdown",
     "checksum": "d81773f072cd15e4a27b6cd240a5d990",
     "grade": true,
     "grade_id": "c8",
     "locked": false,
     "points": 1,
     "schema_version": 3,
     "solution": true,
     "task": false
    }
   },
   "source": [
    "YOUR ANSWER HERE Giá trị của E_out gần với 0.1 nhất. Do đó, em chọn đáp án [d]"
   ]
  },
  {
   "cell_type": "markdown",
   "metadata": {},
   "source": [
    "## Câu 9 (1 điểm)"
   ]
  },
  {
   "cell_type": "code",
   "execution_count": 13,
   "metadata": {},
   "outputs": [
    {
     "name": "stdout",
     "output_type": "stream",
     "text": [
      "epochs = 379.09\n"
     ]
    }
   ],
   "source": [
    "print(\"epochs = {}\".format(np.mean(epochs)))"
   ]
  },
  {
   "cell_type": "markdown",
   "metadata": {
    "deletable": false,
    "nbgrader": {
     "cell_type": "markdown",
     "checksum": "e814a2db0b8a53e4fddfee4bcbf405fc",
     "grade": true,
     "grade_id": "c9",
     "locked": false,
     "points": 1,
     "schema_version": 3,
     "solution": true,
     "task": false
    }
   },
   "source": [
    "YOUR ANSWER HERE Kết quả gần với giá trị 350 nhất. Do đó, em chọn đáp án [a]"
   ]
  },
  {
   "cell_type": "markdown",
   "metadata": {},
   "source": [
    "## Câu 10 (1 điểm)"
   ]
  },
  {
   "cell_type": "markdown",
   "metadata": {},
   "source": [
    "- PLA: \n",
    "    - Với mẫu $\\left(\\mathbf{x}^{(n)}, y^{(n)}\\right)$ được phân lớp đúng thì $\\mathbf{w}$ không thay đổi.\n",
    "    - Với mẫu $\\left(\\mathbf{x}^{(n)}, y^{(n)}\\right)$ bị phân lớp sai thì cập nhật: $\\mathbf{w} \\leftarrow \\mathbf{w} + y^{(n)}\\mathbf{x}^{(n)}$.\n",
    "\n",
    "- SGD: với mỗi mẫu $\\left(\\mathbf{x}^{(n)}, y^{(n)}\\right)$ thì đều cập nhật $\\mathbf{w} \\leftarrow \\mathbf{w} - \\alpha \\times \\mathbf{\\nabla_wE_{in}}$.\n",
    "\n",
    "Chọn $E_{in} = e(w) = -y\\mathbf{w^Tx}$ cho SGD trên.\n",
    "\n",
    "=> $\\nabla e = -y\\mathbf{x}$\n",
    "\n",
    "Hàm cập nhật $w$ của SGD lúc này:  $\\mathbf{w} \\leftarrow \\mathbf{w} - \\alpha \\times(-y\\mathbf{x}) $\n",
    "\n",
    "hay $\\mathbf{w} \\leftarrow \\mathbf{w} + \\alpha \\times(y\\mathbf{x})$\n",
    "\n",
    "Tại $\\alpha = 1$:  $\\mathbf{w} \\leftarrow \\mathbf{w} + y\\mathbf{x}$\n",
    "\n",
    "Ta chỉ chọn các điểm bị phân loại sai trong PLA nên: $e(\\mathbf{w}) = -min(0, -y\\mathbf{w^Tx})$\n",
    "\n",
    "(Các điểm được phân loại chính xác thì độ dốc (gradient) bằng 0 nên khi cập nhật thì không làm thay đổi $\\mathbf{w}$)"
   ]
  },
  {
   "cell_type": "markdown",
   "metadata": {
    "deletable": false,
    "nbgrader": {
     "cell_type": "markdown",
     "checksum": "41cbf5c6d2b94eeae0a712be2181fef6",
     "grade": true,
     "grade_id": "c10",
     "locked": false,
     "points": 1,
     "schema_version": 3,
     "solution": true,
     "task": false
    }
   },
   "source": [
    "YOUR ANSWER HERE Do đó, em chọn đáp án [e]"
   ]
  }
 ],
 "metadata": {
  "kernelspec": {
   "display_name": "Python 3",
   "language": "python",
   "name": "python3"
  },
  "language_info": {
   "codemirror_mode": {
    "name": "ipython",
    "version": 3
   },
   "file_extension": ".py",
   "mimetype": "text/x-python",
   "name": "python",
   "nbconvert_exporter": "python",
   "pygments_lexer": "ipython3",
   "version": "3.7.6"
  },
  "toc": {
   "base_numbering": 1,
   "nav_menu": {},
   "number_sections": true,
   "sideBar": true,
   "skip_h1_title": false,
   "title_cell": "Table of Contents",
   "title_sidebar": "Contents",
   "toc_cell": false,
   "toc_position": {},
   "toc_section_display": true,
   "toc_window_display": false
  },
  "varInspector": {
   "cols": {
    "lenName": 16,
    "lenType": 16,
    "lenVar": 40
   },
   "kernels_config": {
    "python": {
     "delete_cmd_postfix": "",
     "delete_cmd_prefix": "del ",
     "library": "var_list.py",
     "varRefreshCmd": "print(var_dic_list())"
    },
    "r": {
     "delete_cmd_postfix": ") ",
     "delete_cmd_prefix": "rm(",
     "library": "var_list.r",
     "varRefreshCmd": "cat(var_dic_list()) "
    }
   },
   "types_to_exclude": [
    "module",
    "function",
    "builtin_function_or_method",
    "instance",
    "_Feature"
   ],
   "window_display": false
  }
 },
 "nbformat": 4,
 "nbformat_minor": 4
}
