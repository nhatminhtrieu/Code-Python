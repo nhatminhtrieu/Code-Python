{
 "cells": [
  {
   "cell_type": "markdown",
   "metadata": {},
   "source": [
    "# Bài tập 2\n",
    "\n",
    "\n",
    "Triệu Nhật Minh - 21127112\n",
    "\n",
    "---"
   ]
  },
  {
   "cell_type": "code",
   "execution_count": 1,
   "metadata": {},
   "outputs": [],
   "source": [
    "import numpy as np"
   ]
  },
  {
   "cell_type": "markdown",
   "metadata": {},
   "source": [
    "## 1 - 2: Hoeffding Inequality"
   ]
  },
  {
   "cell_type": "code",
   "execution_count": 2,
   "metadata": {},
   "outputs": [
    {
     "data": {
      "text/plain": [
       "0.037762"
      ]
     },
     "execution_count": 2,
     "metadata": {},
     "output_type": "execute_result"
    }
   ],
   "source": [
    "num_coins = 1000\n",
    "num_flips_per_coin = 10\n",
    "probability_of_heads = 0.5\n",
    "num_experiments = 100000\n",
    "\n",
    "experiment_results = np.random.binomial(num_flips_per_coin, probability_of_heads, (num_experiments, num_coins)) / num_flips_per_coin\n",
    "\n",
    "first_coin_results = experiment_results[:, 0]\n",
    "random_coin_results = experiment_results[np.arange(num_experiments), np.random.choice(num_coins, size=num_experiments)]\n",
    "min_coin_results = np.min(experiment_results, axis=1)\n",
    "\n",
    "np.mean(min_coin_results)"
   ]
  },
  {
   "cell_type": "code",
   "execution_count": 5,
   "metadata": {},
   "outputs": [
    {
     "name": "stdout",
     "output_type": "stream",
     "text": [
      "First coin is Hoeffding? True\n",
      "Random coin is Hoeffding? True\n",
      "Min coin is Hoeffding? False\n"
     ]
    }
   ],
   "source": [
    "def is_hoeffding_coin(results):\n",
    "    # Calculate the sum of the results\n",
    "    sum_results = sum(results)\n",
    "\n",
    "    # Calculate the expected value of the results\n",
    "    expected_value = len(results) * 0.5  # Assuming a fair coin\n",
    "\n",
    "    # Calculate the deviation\n",
    "    deviation = abs(sum_results - expected_value)\n",
    "\n",
    "    # Check if the deviation is less than or equal to the bound given by the Hoeffding Inequality\n",
    "    # This is a simplified version of the inequality and might not be accurate for your use case\n",
    "    return deviation <= np.sqrt(len(results) * np.log(2) / 2)\n",
    "\n",
    "print(\"First coin is Hoeffding?\", is_hoeffding_coin(first_coin_results))\n",
    "print(\"Random coin is Hoeffding?\", is_hoeffding_coin(random_coin_results))\n",
    "print(\"Min coin is Hoeffding?\", is_hoeffding_coin(min_coin_results))"
   ]
  },
  {
   "cell_type": "markdown",
   "metadata": {},
   "source": [
    "## 3 - 4: Error and Noise"
   ]
  },
  {
   "cell_type": "code",
   "execution_count": null,
   "metadata": {},
   "outputs": [],
   "source": []
  },
  {
   "cell_type": "markdown",
   "metadata": {},
   "source": [
    "## 5 - 7: Linear Regression"
   ]
  },
  {
   "cell_type": "code",
   "execution_count": null,
   "metadata": {},
   "outputs": [],
   "source": [
    "def generate_target_w():\n",
    "    \"\"\"\n",
    "    Generates target_w from two random, uniformly distributed points in [-1, 1] x [-1, 1].\n",
    "    \n",
    "    Returns\n",
    "    -------\n",
    "    target_w : numpy array, shape (3, 1) \n",
    "        The vector of parameters of f.\n",
    "    \"\"\"\n",
    "    # Generate two points from a uniform distribution over [-1, 1]x[-1, 1]\n",
    "    p1 = np.random.uniform(-1, 1, 2)\n",
    "    p2 = np.random.uniform(-1, 1, 2)\n",
    "    # Compute the target W from these two points\n",
    "    target_w = np.array([p1[1] * p2[0] - p1[0] * p2[1], p2[1] - p1[1], p1[0] - p2[0]]).reshape((-1, 1))\n",
    "    \n",
    "    return target_w"
   ]
  },
  {
   "cell_type": "code",
   "execution_count": null,
   "metadata": {},
   "outputs": [],
   "source": [
    "def generate_data(N, target_w):\n",
    "    \"\"\"\n",
    "    Generates a data set by generating random inputs and then using target_w to generate the \n",
    "    corresponding outputs.\n",
    "    \n",
    "    Parameters\n",
    "    ----------\n",
    "    N : int\n",
    "        The number of examples.\n",
    "    target_w : numpy array, shape (3, 1) \n",
    "        The vector of parameters of f.\n",
    "    \n",
    "    Returns\n",
    "    -------\n",
    "    X : numpy array, shape (N, 3)\n",
    "        The matrix of input vectors (each row corresponds to an input vector); the first column of \n",
    "        this matrix is all ones.\n",
    "    Y : numpy array, shape (N, 1)\n",
    "        The vector of outputs.        \n",
    "    \"\"\"\n",
    "    X = np.random.uniform(-1, 1, (N, 2))\n",
    "    X = np.hstack((np.ones((N, 1)), X)) # Add 'ones' column\n",
    "    Y = np.sign(np.dot(X, target_w))\n",
    "    \n",
    "    return X, Y"
   ]
  },
  {
   "cell_type": "markdown",
   "metadata": {},
   "source": [
    "## 8 - 10: Nonlinear Transformation"
   ]
  }
 ],
 "metadata": {
  "kernelspec": {
   "display_name": "Python 3 (ipykernel)",
   "language": "python",
   "name": "python3"
  },
  "language_info": {
   "codemirror_mode": {
    "name": "ipython",
    "version": 3
   },
   "file_extension": ".py",
   "mimetype": "text/x-python",
   "name": "python",
   "nbconvert_exporter": "python",
   "pygments_lexer": "ipython3",
   "version": "3.11.5"
  }
 },
 "nbformat": 4,
 "nbformat_minor": 1
}
