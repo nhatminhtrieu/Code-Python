{
 "cells": [
  {
   "cell_type": "markdown",
   "metadata": {},
   "source": [
    "# Bài tập 1\n",
    "\n",
    "\n",
    "Triệu Nhật Minh - 21127112\n",
    "\n",
    "---"
   ]
  },
  {
   "cell_type": "markdown",
   "metadata": {},
   "source": [
    "## 1. \n",
    "\n",
    "(i) Hệ thống phân loại đồng xu này không sử dụng học máy vì nó không cần “học” từ dữ liệu. Thay vào đó, nó sử dụng mô hình thống kê được xây dựng từ thông số chính xác của đồng xu từ Sở đúc tiền Hoa Kỳ. Máy bán hàng tự động sử dụng mô hình này để phân loại đồng xu mà không cần điều chỉnh hoặc cải thiện theo thời gian. \n",
    "\n",
    "(ii) Trong trường hợp này, máy bán hàng tự động sử dụng học máy có giám sát. Một thuật toán được trình bày với một tập hợp lớn các đồng xu đã được gắn nhãn. Thuật toán sử dụng dữ liệu này để suy ra các ranh giới quyết định, mà máy bán hàng sau đó sử dụng để phân loại đồng xu của mình. Đây là học có giám sát vì chúng ta đang “dạy” thuật toán bằng cách cung cấp cho nó các ví dụ có nhãn.\n",
    "\n",
    "(iii) Máy tính được phân loại là học tăng cường vì thuật toán nhận được một loại điểm số (hoặc bị phạt cho những quyết định kém của nó). Nó học từ những điểm số này. Thuật toán “học” thông qua việc tương tác với môi trường và nhận phạt hoặc thưởng cho các hành động của nó.\n",
    "\n",
    "\n",
    "Do đó, đáp án đúng là: [d] (i) Not learning, (ii) Supervised Learning, (iii) Reinforcement Learning.\n",
    "\n",
    "[References-2](#References \"References\")"
   ]
  },
  {
   "cell_type": "markdown",
   "metadata": {},
   "source": [
    "## 2.\n",
    "\n",
    "(i) Phân loại số thành số nguyên tố và không phải số nguyên tố: Bài toán này không phù hợp với học máy. Việc phân loại số nguyên tố có thể được thực hiện bằng các thuật toán toán học và không cần học từ dữ liệu.\n",
    "\n",
    "(ii) Phát hiện gian lận tiềm năng trong các giao dịch thẻ tín dụng: Bài toán này phù hợp với học máy. Các thuật toán học máy có thể học từ các giao dịch trước đó để phát hiện các mô hình có thể chỉ ra hoạt động gian lận. Thuật toán ở đây có thể sử dụng dữ liệu quá khứ để dự đoán gian lận trong tương lai. \n",
    "\n",
    "(iii) Xác định thời gian một vật rơi sẽ mất để rơi xuống mặt đất: Bài toán này không phù hợp với học máy. Thời gian một vật rơi mất để rơi xuống có thể được tính toán bằng các phương trình vật lý và không cần học từ dữ liệu.\n",
    "\n",
    "(iv) Xác định chu kỳ tối ưu cho đèn giao thông tại một ngã tư bận rộn: Bài toán này có thể phù hợp với học máy, đặc biệt là học tăng cường. Một hệ thống học máy có thể học từ các mô hình giao thông để tối ưu hoá chu kỳ đèn giao thông. Thuật toán có thể sử dụng thời gian trong ngày và số lượng xe đang chờ để phát triển mô hình của riêng nó, sử dụng học tăng cường.\n",
    "\n",
    "Vì vậy, (ii) và (iv) phù hợp nhất với machine learning &rarr; [a]\n",
    "\n",
    "[References-2](#References \"References\")"
   ]
  },
  {
   "cell_type": "markdown",
   "metadata": {},
   "source": [
    "## 3.\n",
    "\n",
    "Gọi túi 2 bóng đen là BB, túi 1 bóng trắng 1 bóng đen là BW\n",
    "\n",
    "Xác suất để quả bóng thứ 2 được bóc trúng là màu đen là: P(BB|B)\n",
    "\n",
    "Áp dụng công thức Bayes:\n",
    "\n",
    "$$P(BB|B) = \\frac{P(B|BB)P(BB)}{P(B)}$$\n",
    "\n",
    "biết: $P(BB) = \\frac{1}{2}$ (túi BB hoặc BW), $P(B|BB) = 1$, $P(B) = \\frac{3}{4}$ (xác suất bóc được bóng đen)\n",
    "\n",
    "do đó: $P(BB|B) = \\frac{1}{2}.\\frac{4}{3} = \\frac{2}{3}$\n",
    "\n",
    "Vậy đáp án là [d] $\\frac{2}{3}$"
   ]
  },
  {
   "cell_type": "markdown",
   "metadata": {},
   "source": [
    "## 4-5."
   ]
  },
  {
   "cell_type": "code",
   "execution_count": 2,
   "metadata": {},
   "outputs": [],
   "source": [
    "p_redMarbles = 0.55"
   ]
  },
  {
   "cell_type": "markdown",
   "metadata": {},
   "source": [
    "## 4."
   ]
  },
  {
   "cell_type": "code",
   "execution_count": 23,
   "metadata": {},
   "outputs": [
    {
     "name": "stdout",
     "output_type": "stream",
     "text": [
      "Xác suất bi xanh là:  0.45\n",
      "Xác suất để 1 mẫu 10 bi toàn xanh là:  0.0003405063\n"
     ]
    }
   ],
   "source": [
    "p_greenMarbles = round(1 - p_redMarbles, 3)\n",
    "print('Xác suất bi xanh là: ', p_greenMarbles)\n",
    "\n",
    "p_oneSample = round(p_greenMarbles ** 10, 10)\n",
    "print('Xác suất để 1 mẫu 10 bi toàn xanh là: ', p_oneSample)"
   ]
  },
  {
   "cell_type": "markdown",
   "metadata": {},
   "source": [
    "Vậy đáp án là [b] $3.405 \\times 10^{-4}$"
   ]
  },
  {
   "cell_type": "markdown",
   "metadata": {},
   "source": [
    "## 5.\n",
    "\n",
    "P(\"Ít nhất 1 mẫu có $\\nu$ = 0\") = 1 - P(\"Không mẫu nào có $\\nu$ = 0\")\n",
    "\n"
   ]
  },
  {
   "cell_type": "code",
   "execution_count": 27,
   "metadata": {},
   "outputs": [
    {
     "name": "stdout",
     "output_type": "stream",
     "text": [
      "Xác suất để không có mẫu nào 10 bi toàn xanh là:  0.2886312056\n"
     ]
    }
   ],
   "source": [
    "N = 1000\n",
    "\n",
    "p_noSample = round((1 - p_oneSample) ** N, 10)\n",
    "p_atLeastOneSample = 1 - p_noSample\n",
    "print('Xác suất để không có mẫu nào 10 bi toàn xanh là: ', p_atLeastOneSample)"
   ]
  },
  {
   "cell_type": "markdown",
   "metadata": {},
   "source": [
    "Vậy đáp án là [c] 0.289"
   ]
  },
  {
   "cell_type": "markdown",
   "metadata": {},
   "source": [
    "## 6. \n",
    "\n",
    "[References - 1](#references)\n",
    "\n",
    "x6 = {1, 0, 1}  \n",
    "x7 = {1, 1, 0}  \n",
    "x8 = {1, 1, 1}  \n",
    "\n",
    "h1(x6, x7, x8) = {0, 0, 0}  \n",
    "h2(x6, x7, x8) = {0, 0, 1}  \n",
    "h3(x6, x7, x8) = {0, 1, 0}  \n",
    "h4(x6, x7, x8) = {0, 1, 1}  \n",
    "h5(x6, x7, x8) = {1, 0, 0}  \n",
    "h6(x6, x7, x8) = {1, 0, 1}  \n",
    "h7(x6, x7, x8) = {1, 1, 0}  \n",
    "h8(x6, x7, x8) = {1, 1, 1}"
   ]
  },
  {
   "cell_type": "markdown",
   "metadata": {},
   "source": [
    "[a] g(x6, x7, x8) = {1, 1, 1} (g ~ h8)"
   ]
  },
  {
   "cell_type": "code",
   "execution_count": 4,
   "metadata": {},
   "outputs": [
    {
     "data": {
      "text/plain": [
       "12"
      ]
     },
     "execution_count": 4,
     "metadata": {},
     "output_type": "execute_result"
    }
   ],
   "source": [
    "threePoints = 1 \n",
    "twoPoints = 3\n",
    "onePoint = 3\n",
    "\n",
    "score = threePoints*3 + twoPoints*2 + onePoint*1\n",
    "score"
   ]
  },
  {
   "cell_type": "markdown",
   "metadata": {},
   "source": [
    "[b] g(x6, x7, x8) = {0, 0, 0}"
   ]
  },
  {
   "cell_type": "code",
   "execution_count": 5,
   "metadata": {},
   "outputs": [
    {
     "data": {
      "text/plain": [
       "12"
      ]
     },
     "execution_count": 5,
     "metadata": {},
     "output_type": "execute_result"
    }
   ],
   "source": [
    "threePoints = 1\n",
    "twoPoints = 3\n",
    "onePoint = 3\n",
    "\n",
    "score = threePoints*3+twoPoints*2+onePoint\n",
    "score"
   ]
  },
  {
   "cell_type": "markdown",
   "metadata": {},
   "source": [
    "[c] g(x6, x7, x8) = XOR(x6, x7, x8) = {0, 0, 1}"
   ]
  },
  {
   "cell_type": "code",
   "execution_count": 6,
   "metadata": {},
   "outputs": [
    {
     "data": {
      "text/plain": [
       "12"
      ]
     },
     "execution_count": 6,
     "metadata": {},
     "output_type": "execute_result"
    }
   ],
   "source": [
    "threePoints = 1\n",
    "twoPoints = 3\n",
    "onePoint = 3\n",
    "\n",
    "score = threePoints*3+twoPoints*2+onePoint\n",
    "score"
   ]
  },
  {
   "cell_type": "markdown",
   "metadata": {},
   "source": [
    "[d] g(x6, x7, x8) = {1, 1, 0}"
   ]
  },
  {
   "cell_type": "code",
   "execution_count": 7,
   "metadata": {},
   "outputs": [
    {
     "data": {
      "text/plain": [
       "12"
      ]
     },
     "execution_count": 7,
     "metadata": {},
     "output_type": "execute_result"
    }
   ],
   "source": [
    "threePoints = 1\n",
    "twoPoints = 3\n",
    "onePoint = 3\n",
    "\n",
    "score = threePoints*3+twoPoints*2+onePoint\n",
    "score"
   ]
  },
  {
   "cell_type": "markdown",
   "metadata": {},
   "source": [
    "&rarr; e is the answer. They are all equivalent"
   ]
  },
  {
   "cell_type": "markdown",
   "metadata": {},
   "source": [
    "## 7-10. "
   ]
  },
  {
   "cell_type": "markdown",
   "metadata": {},
   "source": [
    "### Import các thư viện cần thiết"
   ]
  },
  {
   "cell_type": "code",
   "execution_count": 8,
   "metadata": {
    "collapsed": true
   },
   "outputs": [],
   "source": [
    "import numpy as np"
   ]
  },
  {
   "cell_type": "markdown",
   "metadata": {},
   "source": [
    "### Định nghĩa các hàm"
   ]
  },
  {
   "cell_type": "markdown",
   "metadata": {},
   "source": [
    "Hàm phát sinh ra `target_w`, véc-tơ tham số của $f$"
   ]
  },
  {
   "cell_type": "code",
   "execution_count": 9,
   "metadata": {
    "collapsed": true
   },
   "outputs": [],
   "source": [
    "def generate_target_w():\n",
    "    \"\"\"\n",
    "    Generates target_w from two random, uniformly distributed points in [-1, 1] x [-1, 1].\n",
    "    \n",
    "    Returns\n",
    "    -------\n",
    "    target_w : numpy array, shape (3, 1) \n",
    "        The vector of parameters of f.\n",
    "    \"\"\"\n",
    "    # Generate two points from a uniform distribution over [-1, 1]x[-1, 1]\n",
    "    p1 = np.random.uniform(-1, 1, 2)\n",
    "    p2 = np.random.uniform(-1, 1, 2)\n",
    "    # Compute the target W from these two points\n",
    "    target_w = np.array([p1[1] * p2[0] - p1[0] * p2[1], p2[1] - p1[1], p1[0] - p2[0]]).reshape((-1, 1))\n",
    "    \n",
    "    return target_w"
   ]
  },
  {
   "cell_type": "markdown",
   "metadata": {},
   "source": [
    "Hàm phát sinh ra tập dữ liệu"
   ]
  },
  {
   "cell_type": "code",
   "execution_count": 10,
   "metadata": {
    "collapsed": true
   },
   "outputs": [],
   "source": [
    "def generate_data(N, target_w):\n",
    "    \"\"\"\n",
    "    Generates a data set by generating random inputs and then using target_w to generate the \n",
    "    corresponding outputs.\n",
    "    \n",
    "    Parameters\n",
    "    ----------\n",
    "    N : int\n",
    "        The number of examples.\n",
    "    target_w : numpy array, shape (3, 1) \n",
    "        The vector of parameters of f.\n",
    "    \n",
    "    Returns\n",
    "    -------\n",
    "    X : numpy array, shape (N, 3)\n",
    "        The matrix of input vectors (each row corresponds to an input vector); the first column of \n",
    "        this matrix is all ones.\n",
    "    Y : numpy array, shape (N, 1)\n",
    "        The vector of outputs.        \n",
    "    \"\"\"\n",
    "    X = np.random.uniform(-1, 1, (N, 2))\n",
    "    X = np.hstack((np.ones((N, 1)), X)) # Add 'ones' column\n",
    "    Y = np.sign(np.dot(X, target_w))\n",
    "    \n",
    "    return X, Y"
   ]
  },
  {
   "cell_type": "markdown",
   "metadata": {},
   "source": [
    "Hàm chạy PLA"
   ]
  },
  {
   "cell_type": "code",
   "execution_count": 11,
   "metadata": {
    "collapsed": true
   },
   "outputs": [],
   "source": [
    "def run_PLA(X, Y):\n",
    "    \"\"\"\n",
    "    Runs PLA.\n",
    "    \n",
    "    Parameters\n",
    "    ----------\n",
    "    X : numpy array, shape (N, 3)\n",
    "        The matrix of input vectors (each row corresponds to an input vector); the first column of \n",
    "        this matrix is all ones.\n",
    "    Y : numpy array, shape (N, 1)\n",
    "        The vector of outputs.\n",
    "    \n",
    "    Returns\n",
    "    -------\n",
    "    w : numpy array, shape (3, 1) \n",
    "        The vector of parameters of g.\n",
    "    num_iterations : int\n",
    "        The number of iterations PLA takes to converge.\n",
    "    \"\"\"\n",
    "    w = np.zeros((X.shape[1], 1)) # Init w\n",
    "    iteration = 0\n",
    "    \n",
    "    # TODO\n",
    "\n",
    "    while True:\n",
    "        misclassified = False\n",
    "        for i in range(X.shape[0]):\n",
    "            if np.sign(np.dot(w.T, X[i])) != Y[i]:\n",
    "                w += Y[i] * X[i].reshape(X.shape[1], 1)\n",
    "                misclassified = True\n",
    "                iteration += 1\n",
    "        if not misclassified:\n",
    "            break\n",
    "    \n",
    "    return w, iteration"
   ]
  },
  {
   "cell_type": "markdown",
   "metadata": {},
   "source": [
    "Hàm main"
   ]
  },
  {
   "cell_type": "code",
   "execution_count": 12,
   "metadata": {
    "collapsed": true
   },
   "outputs": [],
   "source": [
    "def main(N):\n",
    "    \"\"\"\n",
    "    Parameters\n",
    "    ----------\n",
    "    N : int\n",
    "        The number of training examples.\n",
    "    \"\"\"\n",
    "    num_runs = 1000\n",
    "    avg_num_iterations = 0.0 # The average number of iterations PLA takes to converge\n",
    "    avg_test_err = 0.0 # The average test error of g - the final hypothesis picked by PLA\n",
    "    \n",
    "    for r in range(num_runs):\n",
    "        # Generate target_w\n",
    "        target_w = generate_target_w()\n",
    "        \n",
    "        # Generate training set\n",
    "        X, Y = generate_data(N, target_w)\n",
    "        \n",
    "        # Run PLA to pick g\n",
    "        w, num_iterations = run_PLA(X, Y)\n",
    "        \n",
    "        # Generate test set\n",
    "        X_test, Y_test = generate_data(10000, target_w)\n",
    "        \n",
    "        # Test g\n",
    "        test_err = np.mean(np.sign(np.dot(X_test, w)) != Y_test)\n",
    "        \n",
    "        # Update average values\n",
    "        avg_num_iterations += (num_iterations * 1.0 / num_runs)\n",
    "        avg_test_err += (test_err * 1.0 / num_runs)\n",
    "    \n",
    "    # Print results\n",
    "    print('avg_num_iterations = %f' % (avg_num_iterations))\n",
    "    print('avg_test_err = %f' % (avg_test_err))"
   ]
  },
  {
   "cell_type": "markdown",
   "metadata": {},
   "source": [
    "### Chạy"
   ]
  },
  {
   "cell_type": "code",
   "execution_count": 13,
   "metadata": {},
   "outputs": [
    {
     "name": "stdout",
     "output_type": "stream",
     "text": [
      "avg_num_iterations = 10.906000\n",
      "avg_test_err = 0.109096\n"
     ]
    }
   ],
   "source": [
    "main(N=10) # We can use `main(10)`, but `main(N=10)` is clearer"
   ]
  },
  {
   "cell_type": "markdown",
   "metadata": {},
   "source": [
    "Câu 7: ta thấy kết quả gần nhất với đáp án [b] 15.\n",
    "\n",
    "Câu 8: ta thấy kết quả gần nhất với đáp án [c] 0.1."
   ]
  },
  {
   "cell_type": "code",
   "execution_count": 14,
   "metadata": {},
   "outputs": [
    {
     "name": "stdout",
     "output_type": "stream",
     "text": [
      "avg_num_iterations = 114.135000\n",
      "avg_test_err = 0.013795\n"
     ]
    }
   ],
   "source": [
    "main(N=100)"
   ]
  },
  {
   "cell_type": "markdown",
   "metadata": {},
   "source": [
    "Câu 9: ta thấy kết quả gần nhất với đáp án [b] 100.\n",
    "\n",
    "Câu 10: ta thấy kết quả gần nhất với đáp án [b] 0.01."
   ]
  },
  {
   "cell_type": "markdown",
   "metadata": {},
   "source": [
    "## References\n",
    "\n",
    "[1] [workflow/caltech-machine-learning-homework](https://github.com/workflow/caltech-machine-learning-homework/blob/master/HW1.ipynb)\n",
    "\n",
    "[2] [cgoecknerwald/CS156a](https://github.com/cgoecknerwald/CS156a/blob/master/set1/set1.pdf)"
   ]
  }
 ],
 "metadata": {
  "kernelspec": {
   "display_name": "Python 3 (ipykernel)",
   "language": "python",
   "name": "python3"
  },
  "language_info": {
   "codemirror_mode": {
    "name": "ipython",
    "version": 3
   },
   "file_extension": ".py",
   "mimetype": "text/x-python",
   "name": "python",
   "nbconvert_exporter": "python",
   "pygments_lexer": "ipython3",
   "version": "3.11.5"
  }
 },
 "nbformat": 4,
 "nbformat_minor": 1
}
