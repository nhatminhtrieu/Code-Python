{
 "cells": [
  {
   "cell_type": "markdown",
   "metadata": {},
   "source": [
    "# Bài tập 3\n",
    "\n",
    "\n",
    "Hồng Thanh Hoài - 1612855\n",
    "\n",
    "---"
   ]
  },
  {
   "cell_type": "markdown",
   "metadata": {},
   "source": [
    "## 1-3: Generalization Error"
   ]
  },
  {
   "cell_type": "markdown",
   "metadata": {},
   "source": [
    "**Import các thư viện cần thiết**"
   ]
  },
  {
   "cell_type": "code",
   "execution_count": 1,
   "metadata": {},
   "outputs": [],
   "source": [
    "import numpy as np\n",
    "from math import log"
   ]
  },
  {
   "cell_type": "markdown",
   "metadata": {},
   "source": [
    "Đề bài yêu cầu: $2Me^{-2\\epsilon^2N}\\le 0.03$. Ta giải bất đẳng thức sau:\n",
    "\n",
    "$2Me^{-2\\times0.05^2N}\\le0.03$\n",
    "\n",
    "$\\Leftrightarrow 2\\times0.05^2N\\ge -\\ln{\\frac{0.03}{2M}}$\n",
    "\n",
    "$\\Leftrightarrow N\\ge-\\frac{\\ln{\\frac{0.03}{2M}}}{2\\times0.05^2}$"
   ]
  },
  {
   "cell_type": "markdown",
   "metadata": {},
   "source": [
    "**Hàm tính chặn dưới của $N$ theo $M$**"
   ]
  },
  {
   "cell_type": "code",
   "execution_count": 2,
   "metadata": {},
   "outputs": [],
   "source": [
    "def compute_N_lower_bound(M):\n",
    "    return -log(0.03/(2*M))/(2*0.05**2)"
   ]
  },
  {
   "cell_type": "markdown",
   "metadata": {},
   "source": [
    "**Tính với $M=1$**"
   ]
  },
  {
   "cell_type": "code",
   "execution_count": 3,
   "metadata": {},
   "outputs": [
    {
     "data": {
      "text/plain": [
       "839.9410155759853"
      ]
     },
     "execution_count": 3,
     "metadata": {},
     "output_type": "execute_result"
    }
   ],
   "source": [
    "compute_N_lower_bound(M=1)"
   ]
  },
  {
   "cell_type": "markdown",
   "metadata": {},
   "source": [
    "<font color=blue>**Câu 1: Ta thấy kết quả gần nhất với đáp án [b] 1000.**</font>"
   ]
  },
  {
   "cell_type": "markdown",
   "metadata": {},
   "source": [
    "**Tính với $M=10$**"
   ]
  },
  {
   "cell_type": "code",
   "execution_count": 4,
   "metadata": {},
   "outputs": [
    {
     "data": {
      "text/plain": [
       "1300.4580341747942"
      ]
     },
     "execution_count": 4,
     "metadata": {},
     "output_type": "execute_result"
    }
   ],
   "source": [
    "compute_N_lower_bound(M=10)"
   ]
  },
  {
   "cell_type": "markdown",
   "metadata": {},
   "source": [
    "<font color=blue>**Câu 2: Ta thấy kết quả gần nhất với đáp án [c] 1500.**</font>"
   ]
  },
  {
   "cell_type": "markdown",
   "metadata": {},
   "source": [
    "**Tính với $M=100$**"
   ]
  },
  {
   "cell_type": "code",
   "execution_count": 5,
   "metadata": {},
   "outputs": [
    {
     "data": {
      "text/plain": [
       "1760.9750527736032"
      ]
     },
     "execution_count": 5,
     "metadata": {},
     "output_type": "execute_result"
    }
   ],
   "source": [
    "compute_N_lower_bound(M=100)"
   ]
  },
  {
   "cell_type": "markdown",
   "metadata": {},
   "source": [
    "<font color=blue>**Câu 3: Ta thấy kết quả gần nhất với đáp án [d] 2000.**</font>"
   ]
  },
  {
   "cell_type": "markdown",
   "metadata": {},
   "source": [
    "## 4: Break Point"
   ]
  },
  {
   "cell_type": "markdown",
   "metadata": {},
   "source": [
    "Theo kết quả khi tính $d_{VC}$ của Perceptron, ta có: $d_{VC}=d+1$.\n",
    "\n",
    "Vậy, trong $\\rm I\\!R^3$, $d_{VC}=4$.\n",
    "\n",
    "Ta lại có $d_{VC}(H)= \\text{breakpoint k nhỏ nhất} - 1$.\n",
    "\n",
    "Vậy, breakpoint nhỏ nhất trong $\\rm I\\!R^3$ là $5$."
   ]
  },
  {
   "cell_type": "markdown",
   "metadata": {},
   "source": [
    "<font color=blue>**Câu 4: Do đó, đáp án đúng là [b] 5.**</font>"
   ]
  },
  {
   "cell_type": "markdown",
   "metadata": {},
   "source": [
    "## 5: Growth Function"
   ]
  },
  {
   "cell_type": "markdown",
   "metadata": {},
   "source": [
    "Ta đã có các kết quả sau:\n",
    "- Nếu $H$ không có breakpoint thì growth function bằng $2^N$.\n",
    "- Nếu $H$ có breankpoint k thì $m_H(N)\\le \\sum_{i=0}^{k-1} {{N}\\choose{i}}$.\n",
    "\n",
    "Với $k=2$, ta có: $m_H(N)\\le1+N$.\n",
    "\n",
    "Với $k=3$, ta có: $m_H(N)\\le1+N+{{N}\\choose{2}}$."
   ]
  },
  {
   "cell_type": "markdown",
   "metadata": {},
   "source": [
    "<font color=blue>**Câu 5: Do đó, đáp án đúng là [b] i, ii, v.**</font>"
   ]
  },
  {
   "cell_type": "markdown",
   "metadata": {},
   "source": [
    "## 6-8: Fun with Intervals"
   ]
  },
  {
   "cell_type": "markdown",
   "metadata": {},
   "source": [
    "<font color=blue>**Câu 6:**</font>\n",
    "\n",
    "Tập hypothesis này sẽ không biểu diễn được trường hợp 3-intervals, tức 3 vùng $+$.\n",
    "\n",
    "Số điểm $x$ nhỏ nhất để thể hiện trường hợp này là 5: $+-+-+$.\n",
    "\n",
    "<font color=blue>**Do đó, đáp án đúng là [c] 5.**</font>"
   ]
  },
  {
   "cell_type": "markdown",
   "metadata": {},
   "source": [
    "<font color=blue>**Câu 7:**</font>\n",
    "\n",
    "Ta đặt $N$ điểm trong không gian input một chiều sao cho không có điểm nào trùng nhau. $N$ điểm này sẽ tạo ra $N+1$ vùng. \n",
    "\n",
    "Giả sử hàm $h(x)$ của tập hypothesis _2-intervals_ này như sau:$$H=\\left\\{f(x)= \n",
    "\\begin{cases}\n",
    "    +1,& \\text{if } a\\le x \\le b \\text{  or  } c\\le x \\le d\\\\\n",
    "    -1,              & \\text{otherwise}\n",
    "\\end{cases}\\right\\}$$\n",
    "Ta xét các sau:\n",
    "- Nếu $a,b,c,d$ không trùng nhau, số cách đặt 4 điểm này vào $N+1$ vùng (để tạo ra 2 vùng $+$) là: ${{N+1}\\choose{4}}$\n",
    "- Nếu trong 4 điểm trên có 2 hoặc 3 điểm trùng nhau thì sẽ chỉ còn 1 vùng $+$ (tương tự như positive interval) nên số vùng có thể tạo ra là: ${{N+1}\\choose{2}}$\n",
    "- Trường hợp cả 4 điểm trên trùng nhau: $1$\n",
    "\n",
    "<font color=blue>**Do đó, đáp án đúng là [c] ${{N+1}\\choose{4}}+{{N+1}\\choose{2}}+1$.**</font>"
   ]
  },
  {
   "cell_type": "markdown",
   "metadata": {},
   "source": [
    "<font color=blue>**Câu 8:**</font>\n",
    "\n",
    "Tập hypothesis \"M-intervals\" không thể biểu diễn được trường hợp \"(M+1)-intervals\".\n",
    "\n",
    "Ta nhận thấy khi đặt $M$ vùng $+$ và $M$ vùng $-$ xen kẻ nhau, tập hypothesis $M-\\text{intervals}$ có thể biểu diễn được tất cả các trường hợp, nhưng khi đặt thêm một vùng cộng phía sau ($+1$) thì tập hypothesis này không thể \"shatter\". Ví dụ:\n",
    "- $M=1$: $+-$<font color=red>$+$</font>\n",
    "- $M=2$: $+-+-$<font color=red>$+$</font>\n",
    "\n",
    "Nên với \"M-intervals\", breakpoint nhỏ nhất của tập hypothesis này là $2M+1$.\n",
    "\n",
    "<font color=blue>**Do đó, đáp án đúng là [d] $2M + 1$.**</font>"
   ]
  },
  {
   "cell_type": "markdown",
   "metadata": {},
   "source": [
    "## 9: Convex Sets: The Triangle "
   ]
  },
  {
   "cell_type": "markdown",
   "metadata": {},
   "source": [
    "Ta có thể xem tập hypothesis này như là \"3-intervals\". Theo như câu trên thì breakpoint nhỏ nhất của tapah hypothesis này là 7, tức growth function bằng 6. Nhưng vì là convex set, nên khi ta đặt xen kẽ các vùng $+/-$: <font color=red>$+$</font>$-+-+-$<font color=red>$+$</font> thì vùng $+$ đầu trùng với vùng $+$ cuối nên vẫn có thể \"shatter\". Do đó, growth function của tập hypothesis này là 7.\n",
    "\n",
    "<font color=blue>**Câu 9: Do đó, đáp án đúng là [d] 7.**</font>"
   ]
  },
  {
   "cell_type": "markdown",
   "metadata": {},
   "source": [
    "## 10: Non-Convex Sets: Concentric Circles"
   ]
  },
  {
   "cell_type": "markdown",
   "metadata": {},
   "source": [
    "Tập hypothesis này tương tự với positive interval - nếu một điểm nằm trong vùng tạo bởi hai hình tròn bán kính $a$ và $b$ thì là $+1$, ngược lại là $-1$. Do đó, growth function của tập này cũng là: ${{N+1}\\choose{2}}+1$\n",
    "\n",
    "<font color=blue>**Câu 10: Do đó, đáp án đúng là [b] ${{N+1}\\choose{2}}+1$.**</font>"
   ]
  },
  {
   "cell_type": "markdown",
   "metadata": {},
   "source": [
    "## Tham khảo: \n",
    "1. [Learnability and VC Dimension](http://www.mathematik.uni-muenchen.de/~deckert/teaching/SS17/ATML/media/VC_dimension.pdf)\n",
    "2. [NumPy v1.16 Manual](https://docs.scipy.org/doc/numpy/)\n",
    "3. [Markdown Cheatsheet](https://github.com/adam-p/markdown-here/wiki/Markdown-Cheatsheet)"
   ]
  }
 ],
 "metadata": {
  "kernelspec": {
   "display_name": "Python 3",
   "language": "python",
   "name": "python3"
  },
  "language_info": {
   "codemirror_mode": {
    "name": "ipython",
    "version": 3
   },
   "file_extension": ".py",
   "mimetype": "text/x-python",
   "name": "python",
   "nbconvert_exporter": "python",
   "pygments_lexer": "ipython3",
   "version": "3.7.1"
  }
 },
 "nbformat": 4,
 "nbformat_minor": 2
}
