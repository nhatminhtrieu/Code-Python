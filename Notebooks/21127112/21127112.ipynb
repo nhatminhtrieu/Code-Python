{
 "cells": [
  {
   "cell_type": "code",
   "execution_count": 2,
   "metadata": {},
   "outputs": [],
   "source": [
    "import matplotlib.pyplot as plt\n",
    "import numpy as np\n",
    "import PIL as pil"
   ]
  },
  {
   "cell_type": "code",
   "execution_count": null,
   "metadata": {},
   "outputs": [],
   "source": [
    "def kmeans(img_1d, k_clusters, max_iter, init_centroids='random'):\n",
    "    # Initialize centroids\n",
    "    if init_centroids == 'random':\n",
    "        centroids = np.random.randint(0, 256, size=(k_clusters, 3))\n",
    "    elif init_centroids == 'kmeans++':\n",
    "        centroids = np.zeros((k_clusters, 3))\n",
    "        centroids[0] = img_1d[np.random.randint(0, img_1d.shape[0])]\n",
    "        for i in range(1, k_clusters):\n",
    "            dist = np.zeros(img_1d.shape[0])\n",
    "            for j in range(i):\n",
    "                dist += np.linalg.norm(img_1d - centroids[j], axis=1)\n",
    "            centroids[i] = img_1d[np.argmax(dist)]\n",
    "    else:\n",
    "        raise ValueError('Invalid init_centroids value')\n",
    "    \n",
    "    # Iterate\n",
    "    for i in range(max_iter):\n",
    "        # Compute distances\n",
    "        dist = np.zeros((img_1d.shape[0], k_clusters))\n",
    "        for j in range(k_clusters):\n",
    "            dist[:, j] = np.linalg.norm(img_1d - centroids[j], axis=1)\n",
    "        \n",
    "        # Assign clusters\n",
    "        clusters = np.argmin(dist, axis=1)\n",
    "        \n",
    "        # Update centroids\n",
    "        for j in range(k_clusters):\n",
    "            centroids[j] = np.mean(img_1d[clusters == j], axis=0)\n",
    "    \n",
    "    return centroids, clusters"
   ]
  }
 ],
 "metadata": {
  "kernelspec": {
   "display_name": "base",
   "language": "python",
   "name": "python3"
  },
  "language_info": {
   "codemirror_mode": {
    "name": "ipython",
    "version": 3
   },
   "file_extension": ".py",
   "mimetype": "text/x-python",
   "name": "python",
   "nbconvert_exporter": "python",
   "pygments_lexer": "ipython3",
   "version": "3.10.9"
  },
  "orig_nbformat": 4
 },
 "nbformat": 4,
 "nbformat_minor": 2
}
