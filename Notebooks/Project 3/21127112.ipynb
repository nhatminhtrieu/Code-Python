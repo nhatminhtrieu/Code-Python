{
 "cells": [
  {
   "cell_type": "markdown",
   "metadata": {},
   "source": [
    "# <center>Đồ án 3: Linear Regression</center>"
   ]
  },
  {
   "cell_type": "markdown",
   "metadata": {},
   "source": [
    "# Thông tin sinh viên\n",
    "\n",
    "- Họ và tên: **Triệu Nhật Minh**\n",
    "- MSSV: **21127112**\n",
    "- Lớp: **21CLC02**"
   ]
  },
  {
   "cell_type": "markdown",
   "metadata": {},
   "source": [
    "# Import"
   ]
  },
  {
   "cell_type": "code",
   "execution_count": 131,
   "metadata": {},
   "outputs": [],
   "source": [
    "import pandas as pd\n",
    "import numpy as np\n",
    "import matplotlib.pyplot as plt\n",
    "from IPython.display import Latex\n",
    "from sklearn.model_selection import KFold\n",
    "# Import thêm dữ thư viện nếu cần"
   ]
  },
  {
   "cell_type": "markdown",
   "metadata": {},
   "source": [
    "# Tạo dictionary chứa tên các cột"
   ]
  },
  {
   "cell_type": "code",
   "execution_count": 132,
   "metadata": {},
   "outputs": [],
   "source": [
    "dict_columns = {1: 'Gender', 2: '10percentage', 3: '12percentage', 4: 'CollegeTier', 5: 'Degree', 6: 'collegeGPA', 7: 'CollegeCityTier', 8: 'English', 9: 'Logical', 10: 'Quant', 11: 'Domain', 12: 'ComputerProgramming', 13: 'ElectronicsAndSemicon', 14: 'ComputerScience', 15: 'MechanicalEngg', 16: 'ElectricalEngg', 17: 'TelecomEngg', 18: 'CivilEngg', 19: 'conscientiousness', 20: 'agreeableness', 21: 'extraversion', 22: 'nueroticism', 23: 'openess_to_experience', 24: 'Salary'}"
   ]
  },
  {
   "cell_type": "markdown",
   "metadata": {},
   "source": [
    "# Đọc dữ liệu"
   ]
  },
  {
   "cell_type": "code",
   "execution_count": 133,
   "metadata": {},
   "outputs": [],
   "source": [
    "# Đọc dữ liệu bằng pandas\n",
    "train = pd.read_csv('train.csv')\n",
    "test = pd.read_csv('test.csv')\n",
    "\n",
    "# Lấy các đặc trưng X và giá trị mục tiêu y cho các tập huấn luyện (train) và kiểm tra (test)\n",
    "X_train = train.iloc[:, :-1]    # Dataframe (chứa các đặc trưng huấn luyện)\n",
    "y_train = train.iloc[:, -1]     # Series    (chứa 1 giá trị mục tiêu kiểm tra)\n",
    "\n",
    "X_test = test.iloc[:, :-1]      # Dataframe (chứa các đặc trưng kiểm tra)\n",
    "y_test = test.iloc[:, -1]       # Series    (chứa 1 giá trị mục tiêu kiểm tra)\n",
    "\n",
    "X_train_np = np.array(X_train)\n",
    "y_train_np = np.array(y_train)\n",
    "\n",
    "X_test_np = np.array(X_test)\n",
    "y_test_np = np.array(y_test)\n",
    "\n",
    "# Sinh viên có thể sử dụng các khác nếu cần\n",
    "# 1a\n",
    "X_1a_train = X_train_np[:, :11]\n",
    "X_1a_test = X_test_np[:, :11]\n",
    "\n",
    "# 1b\n",
    "X_1b_train = X_train_np[:, -5:]\n",
    "X_1b_cons = X_1b_train[:, 0]\n",
    "X_1b_agr = X_1b_train[:, 1]\n",
    "X_1b_ext = X_1b_train[:, 2]\n",
    "X_1b_nue = X_1b_train[:, 3]\n",
    "X_1b_ope = X_1b_train[:, 4]\n",
    "\n",
    "# 1c\n",
    "X_1c_train = X_train_np[:, 7:10]\n",
    "X_1c_eng = X_1c_train[:, 0]\n",
    "X_1c_log = X_1c_train[:, 1]\n",
    "X_1c_qua = X_1c_train[:, 2]"
   ]
  },
  {
   "cell_type": "markdown",
   "metadata": {},
   "source": [
    "# Cài đặt hàm"
   ]
  },
  {
   "cell_type": "code",
   "execution_count": 134,
   "metadata": {},
   "outputs": [],
   "source": [
    "# Cài đặt các hàm cần thiết ở đây"
   ]
  },
  {
   "cell_type": "code",
   "execution_count": 135,
   "metadata": {},
   "outputs": [],
   "source": [
    "class OLSLinearRegression:\n",
    "    def fit(self, X, y):\n",
    "        X_pinv = np.linalg.inv(X.T @ X) @ X.T # \n",
    "        self.w = X_pinv @ y\n",
    "        return self\n",
    "\n",
    "    def get_params(self):\n",
    "        return self.w\n",
    "    \n",
    "    def predict(self, X):\n",
    "        return np.sum(self.w.ravel() * X, axis=1)   "
   ]
  },
  {
   "cell_type": "code",
   "execution_count": 136,
   "metadata": {},
   "outputs": [],
   "source": [
    "def mae(y, y_hat):\n",
    "    return np.mean(np.abs(y.ravel() - y_hat.ravel()))"
   ]
  },
  {
   "cell_type": "code",
   "execution_count": 137,
   "metadata": {},
   "outputs": [],
   "source": [
    "def latex_text(params, dict=dict_columns):\n",
    "    text = '$$\\\\text{Salary} = ' + str(params[0][0]) + ' \\\\times \\\\text{' + dict[1] + '}'\n",
    "    for i in range(1, len(params)):\n",
    "        text += str(params[i][0]) if params[i][0] < 0 else ' + ' + str(params[i][0])\n",
    "        text += ' \\\\times \\\\text{' + dict[i+1] + '}'\n",
    "        if i % 4 == 0:\n",
    "            text += ' \\\\\\\\ '\n",
    "    text += '$$'\n",
    "    return text"
   ]
  },
  {
   "cell_type": "code",
   "execution_count": 138,
   "metadata": {},
   "outputs": [],
   "source": [
    "def kfold_cross_model(X_train_np, y_train_np, kf, mae_arr):\n",
    "    for train_index, test_index in kf.split(X_train_np):\n",
    "        X_folk_train, X_folk_test = X_train_np[train_index, None], X_train_np[test_index, None]\n",
    "        y_folk_train, y_folk_test = y_train_np[train_index, None], y_train_np[test_index, None]\n",
    "        y_folk_train = y_folk_train.reshape(-1,1)\n",
    "\n",
    "        # Train the model\n",
    "        lr = OLSLinearRegression()\n",
    "        lr.fit(X_folk_train, y_folk_train)\n",
    "        y_folk_pred = lr.predict(X_folk_test)\n",
    "        \n",
    "        # Calculate the MAE and append to the array\n",
    "        mae_arr.append(mae(y_folk_test, y_folk_pred))"
   ]
  },
  {
   "cell_type": "markdown",
   "metadata": {},
   "source": [
    "# Yêu cầu 1a: Sử dụng toàn bộ 11 đặc trưng đầu tiên `Gender`, `10percentage`, `12percentage`, `CollegeTier`, `Degree`, `collegeGPA`, `CollegeCityTier`, `English`, `Logical`, `Quant`, `Domain` (2 điểm) "
   ]
  },
  {
   "cell_type": "code",
   "execution_count": 139,
   "metadata": {},
   "outputs": [],
   "source": [
    "# Phần code cho yêu cầu 1a\n",
    "\n",
    "lr = OLSLinearRegression().fit(X_1a_train, y_train)\n",
    "\n",
    "params = lr.get_params().reshape(-1,1)\n",
    "\n",
    "y_pred_1a = lr.predict(X_1a_test)"
   ]
  },
  {
   "cell_type": "code",
   "execution_count": 140,
   "metadata": {},
   "outputs": [
    {
     "data": {
      "text/plain": [
       "104863.77754033195"
      ]
     },
     "execution_count": 140,
     "metadata": {},
     "output_type": "execute_result"
    }
   ],
   "source": [
    "# Gọi hàm MAE (tự cài đặt hoặc từ thư viện) trên tập kiểm tra\n",
    "mae_1a = mae(y_test, y_pred_1a)\n",
    "mae_1a"
   ]
  },
  {
   "cell_type": "markdown",
   "metadata": {},
   "source": [
    "Công thức hồi quy (phần trọng số làm tròn đến 3 chữ số thập phân, ví dụ 0.012345 $\\to$ 0.012)\n",
    "\n",
    "$$"
   ]
  },
  {
   "cell_type": "code",
   "execution_count": 141,
   "metadata": {},
   "outputs": [
    {
     "data": {
      "text/latex": [
       "$$\\text{Salary} = -22756.51282102556 \\times \\text{Gender} + 804.5031556734293 \\times \\text{10percentage} + 1294.6545652536743 \\times \\text{12percentage}-91781.89753056322 \\times \\text{CollegeTier} + 23182.38867918708 \\times \\text{Degree} \\\\  + 1437.5486723055 \\times \\text{collegeGPA}-8570.661984855711 \\times \\text{CollegeCityTier} + 147.85829929013053 \\times \\text{English} + 152.8884764798854 \\times \\text{Logical} \\\\  + 117.22184593039832 \\times \\text{Quant} + 34552.286220826754 \\times \\text{Domain}$$"
      ],
      "text/plain": [
       "<IPython.core.display.Latex object>"
      ]
     },
     "execution_count": 141,
     "metadata": {},
     "output_type": "execute_result"
    }
   ],
   "source": [
    "Latex(latex_text(params))"
   ]
  },
  {
   "cell_type": "markdown",
   "metadata": {},
   "source": [
    "# Yêu cầu 1b: Xây dựng mô hình sử dụng duy nhất 1 đặc trưng tính cách với các đặc trưng tính cách gồm `conscientiousness`, `agreeableness`, `extraversion`, `nueroticism`, `openess_to_experience`, tìm mô hình cho kết quả tốt nhất (1 điểm)"
   ]
  },
  {
   "cell_type": "markdown",
   "metadata": {},
   "source": [
    "Lưu ý: khi sử dụng cross-validation, sinh viên cần xáo trộn dữ liệu 1 lần duy nhất và thực hiện trên toàn bộ đặc trưng"
   ]
  },
  {
   "cell_type": "code",
   "execution_count": 142,
   "metadata": {},
   "outputs": [],
   "source": [
    "# Phần code cho yêu cầu 1b\n",
    "# Tìm ra đặc trưng tốt nhất\n",
    "# In ra các kết quả cross-validation như yêu cầu\n",
    "\n",
    "# Shuffle k = 20 (k-fold cross validation)\n",
    "k = 20\n",
    "kf = KFold(n_splits=k, shuffle=True, random_state=42)\n",
    "\n",
    "# Tạo mảng chứa các mảng MAE của các đặc trưng\n",
    "mae_cons = []\n",
    "mae_agr = []\n",
    "mae_ext = []\n",
    "mae_nue = []\n",
    "mae_ope = []"
   ]
  },
  {
   "cell_type": "markdown",
   "metadata": {},
   "source": [
    "### **conscientiousness**"
   ]
  },
  {
   "cell_type": "code",
   "execution_count": 143,
   "metadata": {},
   "outputs": [
    {
     "name": "stdout",
     "output_type": "stream",
     "text": [
      "MAE:  306221.75562170806\n"
     ]
    }
   ],
   "source": [
    "kfold_cross_model(X_1b_cons, y_train_np, kf, mae_cons)\n",
    "print('MAE: ', np.mean(mae_cons))"
   ]
  },
  {
   "cell_type": "markdown",
   "metadata": {},
   "source": [
    "### **agreeableness**"
   ]
  },
  {
   "cell_type": "code",
   "execution_count": 144,
   "metadata": {},
   "outputs": [
    {
     "name": "stdout",
     "output_type": "stream",
     "text": [
      "MAE:  300857.53034685535\n"
     ]
    }
   ],
   "source": [
    "kfold_cross_model(X_1b_agr, y_train_np, kf, mae_agr)\n",
    "print('MAE: ', np.mean(mae_agr))"
   ]
  },
  {
   "cell_type": "markdown",
   "metadata": {},
   "source": [
    "### **extraversion**"
   ]
  },
  {
   "cell_type": "code",
   "execution_count": 145,
   "metadata": {},
   "outputs": [
    {
     "name": "stdout",
     "output_type": "stream",
     "text": [
      "MAE:  307059.3991665598\n"
     ]
    }
   ],
   "source": [
    "kfold_cross_model(X_1b_ext, y_train_np, kf, mae_ext)\n",
    "print('MAE: ', np.mean(mae_ext))"
   ]
  },
  {
   "cell_type": "markdown",
   "metadata": {},
   "source": [
    "### **nueroticism**"
   ]
  },
  {
   "cell_type": "code",
   "execution_count": 146,
   "metadata": {},
   "outputs": [
    {
     "name": "stdout",
     "output_type": "stream",
     "text": [
      "MAE:  299376.1964789984\n"
     ]
    }
   ],
   "source": [
    "kfold_cross_model(X_1b_nue, y_train_np, kf, mae_nue)\n",
    "print('MAE: ', np.mean(mae_nue))"
   ]
  },
  {
   "cell_type": "markdown",
   "metadata": {},
   "source": [
    "### **Openess_to_experience**"
   ]
  },
  {
   "cell_type": "code",
   "execution_count": 147,
   "metadata": {},
   "outputs": [
    {
     "name": "stdout",
     "output_type": "stream",
     "text": [
      "MAE:  303054.52630103764\n"
     ]
    }
   ],
   "source": [
    "kfold_cross_model(X_1b_ope, y_train_np, kf, mae_ope)\n",
    "print('MAE: ', np.mean(mae_ope))"
   ]
  },
  {
   "cell_type": "code",
   "execution_count": 148,
   "metadata": {},
   "outputs": [
    {
     "name": "stdout",
     "output_type": "stream",
     "text": [
      "Params:  [[-56546.30375318]]\n"
     ]
    }
   ],
   "source": [
    "# Huấn luyện lại mô hình best_personality_feature_model với đặc trưng tốt nhất trên toàn bộ tập huấn luyện\n",
    "# Đặc trưng tốt nhất: Nueroticism\n",
    "\n",
    "X_1b_best_train = np.array(X_train['nueroticism'])\n",
    "X_1b_best_train = X_1b_best_train[:, None]\n",
    "\n",
    "best_personality_feature_model = OLSLinearRegression()\n",
    "best_personality_feature_model.fit(X_1b_best_train, y_train_np)\n",
    "\n",
    "# Đánh giá mô hình trên tập kiểm tra\n",
    "X_1b_best_test = np.array(X_test['nueroticism'])\n",
    "X_1b_best_test = X_1b_best_test[:, None]\n",
    "\n",
    "params = best_personality_feature_model.get_params().reshape(-1, 1)\n",
    "print('Params: ', params)"
   ]
  },
  {
   "cell_type": "code",
   "execution_count": 149,
   "metadata": {},
   "outputs": [
    {
     "name": "stdout",
     "output_type": "stream",
     "text": [
      "MAE: 291019.693226953\n"
     ]
    }
   ],
   "source": [
    "# Gọi hàm MAE (tự cài đặt hoặc từ thư viện) trên tập kiểm tra với mô hình best_personality_feature_model\n",
    "y_pred = best_personality_feature_model.predict(X_1b_best_test)\n",
    "\n",
    "MAE = mae(y_test, y_pred)\n",
    "\n",
    "print('MAE:', MAE)"
   ]
  },
  {
   "cell_type": "markdown",
   "metadata": {},
   "source": [
    "Công thức hồi quy (phần trọng số làm tròn đến 3 chữ số thập phân, ví dụ 0.012345 $\\to$ 0.012)\n",
    "\n",
    "$$\\text{Salary} = -56546.304 \\times \\text{nueroticism}$$"
   ]
  },
  {
   "cell_type": "markdown",
   "metadata": {},
   "source": [
    "# Yêu cầu 1c: Xây dựng mô hình sử dụng duy nhất 1 đặc trưng `English`, `Logical`, `Quant`, tìm mô hình cho kết quả tốt nhất (1 điểm)"
   ]
  },
  {
   "cell_type": "markdown",
   "metadata": {},
   "source": [
    "Lưu ý: khi sử dụng cross-validation, sinh viên cần xáo trộn dữ liệu 1 lần duy nhất và thực hiện trên toàn bộ đặc trưng"
   ]
  },
  {
   "cell_type": "code",
   "execution_count": 150,
   "metadata": {},
   "outputs": [],
   "source": [
    "# Phần code cho yêu cầu 1c\n",
    "# Tìm ra đặc trưng tốt nhất\n",
    "# In ra các kết quả cross-validation như yêu cầu\n",
    "\n",
    "# Shuffle k = 20 (k-fold cross validation)\n",
    "k = 20\n",
    "kf = KFold(n_splits=k, shuffle=True, random_state=42)\n",
    "\n",
    "# Tạo mảng chứa các mảng MAE của các đặc trưng\n",
    "mae_eng = []\n",
    "mae_log = []\n",
    "mae_qua = []"
   ]
  },
  {
   "cell_type": "markdown",
   "metadata": {},
   "source": [
    "### **English**"
   ]
  },
  {
   "cell_type": "code",
   "execution_count": 151,
   "metadata": {},
   "outputs": [
    {
     "name": "stdout",
     "output_type": "stream",
     "text": [
      "MAE:  121901.64167007094\n"
     ]
    }
   ],
   "source": [
    "kfold_cross_model(X_1c_eng, y_train_np, kf, mae_eng)\n",
    "print('MAE: ', np.mean(mae_eng))"
   ]
  },
  {
   "cell_type": "markdown",
   "metadata": {},
   "source": [
    "### **Logical**"
   ]
  },
  {
   "cell_type": "code",
   "execution_count": 152,
   "metadata": {},
   "outputs": [
    {
     "name": "stdout",
     "output_type": "stream",
     "text": [
      "MAE:  120304.93112741373\n"
     ]
    }
   ],
   "source": [
    "kfold_cross_model(X_1c_log, y_train_np, kf, mae_log)\n",
    "print('MAE: ', np.mean(mae_log))"
   ]
  },
  {
   "cell_type": "markdown",
   "metadata": {},
   "source": [
    "### **Quant**"
   ]
  },
  {
   "cell_type": "code",
   "execution_count": 153,
   "metadata": {},
   "outputs": [
    {
     "name": "stdout",
     "output_type": "stream",
     "text": [
      "MAE:  118126.44763193061\n"
     ]
    }
   ],
   "source": [
    "kfold_cross_model(X_1c_qua, y_train_np, kf, mae_qua)\n",
    "print('MAE: ', np.mean(mae_qua))"
   ]
  },
  {
   "cell_type": "code",
   "execution_count": 154,
   "metadata": {},
   "outputs": [
    {
     "name": "stdout",
     "output_type": "stream",
     "text": [
      "Params:  [[585.89538084]]\n"
     ]
    }
   ],
   "source": [
    "# Huấn luyện lại mô hình best_skill_feature_model với đặc trưng tốt nhất trên toàn bộ tập huấn luyện\n",
    "# Đặc trưng tốt nhất: Quant\n",
    "\n",
    "X_1c_best_train = np.array(X_train['Quant'])\n",
    "X_1c_best_train = X_1c_best_train[:, None]\n",
    "\n",
    "best_skill_feature_model = OLSLinearRegression()\n",
    "best_skill_feature_model.fit(X_1c_best_train, y_train)\n",
    "\n",
    "# Đánh giá mô hình trên tập kiểm tra\n",
    "X_1c_best_test = np.array(X_test['Quant'])\n",
    "X_1c_best_test = X_1c_best_test[:, None]\n",
    "\n",
    "params = best_skill_feature_model.get_params().reshape(-1, 1)\n",
    "print('Params: ', params)"
   ]
  },
  {
   "cell_type": "code",
   "execution_count": 155,
   "metadata": {},
   "outputs": [
    {
     "name": "stdout",
     "output_type": "stream",
     "text": [
      "MAE: 106819.5776198967\n"
     ]
    }
   ],
   "source": [
    "# Gọi hàm MAE (tự cài đặt hoặc từ thư viện) trên tập kiểm tra với mô hình best_skill_feature_model\n",
    "y_pred = best_skill_feature_model.predict(X_1c_best_test)\n",
    "\n",
    "MAE = mae(y_test, y_pred)\n",
    "\n",
    "print('MAE:', MAE)"
   ]
  },
  {
   "cell_type": "markdown",
   "metadata": {},
   "source": [
    "Công thức hồi quy (phần trọng số làm tròn đến 3 chữ số thập phân, ví dụ 0.012345 $\\to$ 0.012)\n",
    "\n",
    "$$\\text{Salary} = 585.895 \\times \\text{Quant}$$"
   ]
  },
  {
   "cell_type": "markdown",
   "metadata": {},
   "source": [
    "# Yêu cầu 1d: Sinh viên tự xây dựng mô hình, tìm mô hình cho kết quả tốt nhất (3 điểm)"
   ]
  },
  {
   "cell_type": "markdown",
   "metadata": {},
   "source": [
    "Lưu ý: khi sử dụng cross-validation, sinh viên cần xáo trộn dữ liệu 1 lần duy nhất và thực hiện trên toàn bộ $m$ mô hình mà sinh viên thiết kế"
   ]
  },
  {
   "cell_type": "markdown",
   "metadata": {},
   "source": [
    "## Tìm mô hình"
   ]
  },
  {
   "cell_type": "code",
   "execution_count": 156,
   "metadata": {},
   "outputs": [],
   "source": [
    "# Trình bày các phần tìm ra mô hình"
   ]
  },
  {
   "cell_type": "markdown",
   "metadata": {},
   "source": [
    "## Thử nghiệm, so sánh các mô hình"
   ]
  },
  {
   "cell_type": "code",
   "execution_count": 157,
   "metadata": {},
   "outputs": [],
   "source": [
    "# Phần code cho yêu cầu 1d\n",
    "# Tìm ra mô hình tốt nhất (tự thiết kế bởi sinh viên)\n",
    "# In ra các kết quả cross-validation như yêu cầu"
   ]
  },
  {
   "cell_type": "code",
   "execution_count": 158,
   "metadata": {},
   "outputs": [],
   "source": [
    "# Huấn luyện lại mô hình my_best_model trên toàn bộ tập huấn luyện"
   ]
  },
  {
   "cell_type": "code",
   "execution_count": 159,
   "metadata": {},
   "outputs": [],
   "source": [
    "# Gọi hàm MAE (tự cài đặt hoặc từ thư viện) trên tập kiểm tra với mô hình my_best_model"
   ]
  },
  {
   "cell_type": "markdown",
   "metadata": {},
   "source": [
    "Công thức hồi quy (phần trọng số làm tròn đến 3 chữ số thập phân, ví dụ 0.012345 $\\to$ 0.012)\n",
    "\n",
    "$$\\text{Salary} = ...$$"
   ]
  }
 ],
 "metadata": {
  "kernelspec": {
   "display_name": "Python 3.8.5 ('base')",
   "language": "python",
   "name": "python3"
  },
  "language_info": {
   "codemirror_mode": {
    "name": "ipython",
    "version": 3
   },
   "file_extension": ".py",
   "mimetype": "text/x-python",
   "name": "python",
   "nbconvert_exporter": "python",
   "pygments_lexer": "ipython3",
   "version": "3.10.9"
  },
  "orig_nbformat": 4,
  "vscode": {
   "interpreter": {
    "hash": "15af99fd1a1a3f0a3416ea421564e792a8676a13670c2eed127d89ab0518a27b"
   }
  }
 },
 "nbformat": 4,
 "nbformat_minor": 2
}
