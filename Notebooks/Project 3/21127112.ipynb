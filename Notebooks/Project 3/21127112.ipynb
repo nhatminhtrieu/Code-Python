{
 "cells": [
  {
   "cell_type": "markdown",
   "metadata": {},
   "source": [
    "# <center>Đồ án 3: Linear Regression</center>"
   ]
  },
  {
   "cell_type": "markdown",
   "metadata": {},
   "source": [
    "# Thông tin sinh viên\n",
    "\n",
    "- Họ và tên: **Triệu Nhật Minh**\n",
    "- MSSV: **21127112**\n",
    "- Lớp: **21CLC02**"
   ]
  },
  {
   "cell_type": "markdown",
   "metadata": {},
   "source": [
    "# Import"
   ]
  },
  {
   "cell_type": "code",
   "execution_count": null,
   "metadata": {},
   "outputs": [],
   "source": [
    "import pandas as pd\n",
    "import numpy as np\n",
    "import matplotlib.pyplot as plt\n",
    "from IPython.display import Latex\n",
    "from sklearn.model_selection import KFold\n",
    "import seaborn as sns # heatmap\n",
    "# Import thêm dữ thư viện nếu cần"
   ]
  },
  {
   "cell_type": "markdown",
   "metadata": {},
   "source": [
    "# Tạo dictionary chứa tên các cột"
   ]
  },
  {
   "cell_type": "code",
   "execution_count": null,
   "metadata": {},
   "outputs": [],
   "source": [
    "dict_columns = {1: 'Gender', 2: '10percentage', 3: '12percentage', 4: 'CollegeTier', 5: 'Degree', 6: 'collegeGPA', 7: 'CollegeCityTier', 8: 'English', 9: 'Logical', 10: 'Quant', 11: 'Domain', 12: 'ComputerProgramming', 13: 'ElectronicsAndSemicon', 14: 'ComputerScience', 15: 'MechanicalEngg', 16: 'ElectricalEngg', 17: 'TelecomEngg', 18: 'CivilEngg', 19: 'conscientiousness', 20: 'agreeableness', 21: 'extraversion', 22: 'nueroticism', 23: 'openess_to_experience', 24: 'Salary'}"
   ]
  },
  {
   "cell_type": "markdown",
   "metadata": {},
   "source": [
    "# Đọc dữ liệu"
   ]
  },
  {
   "cell_type": "code",
   "execution_count": null,
   "metadata": {},
   "outputs": [],
   "source": [
    "# Đọc dữ liệu bằng pandas\n",
    "train = pd.read_csv('train.csv')\n",
    "test = pd.read_csv('test.csv')\n",
    "\n",
    "# Lấy các đặc trưng X và giá trị mục tiêu y cho các tập huấn luyện (train) và kiểm tra (test)\n",
    "X_train = train.iloc[:, :-1]    # Dataframe (chứa các đặc trưng huấn luyện)\n",
    "y_train = train.iloc[:, -1]     # Series    (chứa 1 giá trị mục tiêu kiểm tra)\n",
    "\n",
    "X_test = test.iloc[:, :-1]      # Dataframe (chứa các đặc trưng kiểm tra)\n",
    "y_test = test.iloc[:, -1]       # Series    (chứa 1 giá trị mục tiêu kiểm tra)\n",
    "\n",
    "X_train_np = np.array(X_train)\n",
    "y_train_np = np.array(y_train)\n",
    "\n",
    "X_test_np = np.array(X_test)\n",
    "y_test_np = np.array(y_test)\n",
    "\n",
    "# Sinh viên có thể sử dụng các khác nếu cần\n",
    "# 1a\n",
    "X_1a_train = X_train_np[:, :11]\n",
    "X_1a_test = X_test_np[:, :11]\n",
    "\n",
    "# 1b\n",
    "X_1b_train = X_train_np[:, -5:]\n",
    "X_1b_cons = X_1b_train[:, 0]\n",
    "X_1b_agr = X_1b_train[:, 1]\n",
    "X_1b_ext = X_1b_train[:, 2]\n",
    "X_1b_nue = X_1b_train[:, 3]\n",
    "X_1b_ope = X_1b_train[:, 4]\n",
    "\n",
    "# 1c\n",
    "X_1c_train = X_train_np[:, 7:10]\n",
    "X_1c_eng = X_1c_train[:, 0]\n",
    "X_1c_log = X_1c_train[:, 1]\n",
    "X_1c_qua = X_1c_train[:, 2]"
   ]
  },
  {
   "cell_type": "markdown",
   "metadata": {},
   "source": [
    "# Cài đặt hàm"
   ]
  },
  {
   "cell_type": "code",
   "execution_count": null,
   "metadata": {},
   "outputs": [],
   "source": [
    "# Cài đặt các hàm cần thiết ở đây"
   ]
  },
  {
   "cell_type": "code",
   "execution_count": null,
   "metadata": {},
   "outputs": [],
   "source": [
    "class OLSLinearRegression:\n",
    "    def fit(self, X, y):\n",
    "        X_pinv = np.linalg.inv(X.T @ X) @ X.T # \n",
    "        self.w = X_pinv @ y\n",
    "        return self\n",
    "\n",
    "    def get_params(self):\n",
    "        return self.w\n",
    "    \n",
    "    def predict(self, X):\n",
    "        return np.sum(self.w.ravel() * X, axis=1)   "
   ]
  },
  {
   "cell_type": "code",
   "execution_count": null,
   "metadata": {},
   "outputs": [],
   "source": [
    "def mae(y, y_hat):\n",
    "    return np.mean(np.abs(y.ravel() - y_hat.ravel()))"
   ]
  },
  {
   "cell_type": "code",
   "execution_count": null,
   "metadata": {},
   "outputs": [],
   "source": [
    "def latex_text(params, dict=dict_columns):\n",
    "    text = '$$\\\\text{Salary} = ' + str(params[0][0]) + ' \\\\times \\\\text{' + dict[1] + '}'\n",
    "    for i in range(1, len(params)):\n",
    "        text += str(params[i][0]) if params[i][0] < 0 else ' + ' + str(params[i][0])\n",
    "        text += ' \\\\times \\\\text{' + dict[i+1] + '}'\n",
    "        if i % 4 == 0:\n",
    "            text += ' \\\\\\\\ '\n",
    "    text += '$$'\n",
    "    return text"
   ]
  },
  {
   "cell_type": "code",
   "execution_count": null,
   "metadata": {},
   "outputs": [],
   "source": [
    "def kfold_cross_model(X_train_np, y_train_np, kf, mae_arr):\n",
    "    for train_index, test_index in kf.split(X_train_np):\n",
    "        if (X_train_np.ndim == 1):\n",
    "            X_folk_train, X_folk_test = X_train_np[train_index, None], X_train_np[test_index, None]\n",
    "        else:\n",
    "            X_folk_train, X_folk_test = X_train_np[train_index], X_train_np[test_index]\n",
    "        y_folk_train, y_folk_test = y_train_np[train_index], y_train_np[test_index]\n",
    "        \n",
    "        # Train the model\n",
    "        lr = OLSLinearRegression()\n",
    "        lr.fit(X_folk_train, y_folk_train)\n",
    "        y_folk_pred = lr.predict(X_folk_test)\n",
    "        \n",
    "        # Calculate the MAE and append to the array\n",
    "        mae_arr.append(mae(y_folk_test, y_folk_pred))"
   ]
  },
  {
   "cell_type": "code",
   "execution_count": null,
   "metadata": {},
   "outputs": [],
   "source": [
    "def scientific_notation_converter(params):\n",
    "    return [\"{:.3f}\".format(float(x)) for x in params]"
   ]
  },
  {
   "cell_type": "markdown",
   "metadata": {},
   "source": [
    "# Yêu cầu 1a: Sử dụng toàn bộ 11 đặc trưng đầu tiên `Gender`, `10percentage`, `12percentage`, `CollegeTier`, `Degree`, `collegeGPA`, `CollegeCityTier`, `English`, `Logical`, `Quant`, `Domain` (2 điểm) "
   ]
  },
  {
   "cell_type": "code",
   "execution_count": null,
   "metadata": {},
   "outputs": [],
   "source": [
    "# Phần code cho yêu cầu 1a\n",
    "\n",
    "lr = OLSLinearRegression().fit(X_1a_train, y_train)\n",
    "\n",
    "params = lr.get_params().reshape(-1,1)\n",
    "\n",
    "y_pred_1a = lr.predict(X_1a_test)"
   ]
  },
  {
   "cell_type": "code",
   "execution_count": null,
   "metadata": {},
   "outputs": [],
   "source": [
    "# Gọi hàm MAE (tự cài đặt hoặc từ thư viện) trên tập kiểm tra\n",
    "mae_1a = mae(y_test, y_pred_1a)\n",
    "mae_1a"
   ]
  },
  {
   "cell_type": "markdown",
   "metadata": {},
   "source": [
    "Công thức hồi quy (phần trọng số làm tròn đến 3 chữ số thập phân, ví dụ 0.012345 $\\to$ 0.012)\n",
    "\n",
    "$$"
   ]
  },
  {
   "cell_type": "code",
   "execution_count": null,
   "metadata": {},
   "outputs": [],
   "source": [
    "Latex(latex_text(params))"
   ]
  },
  {
   "cell_type": "markdown",
   "metadata": {},
   "source": [
    "# Yêu cầu 1b: Xây dựng mô hình sử dụng duy nhất 1 đặc trưng tính cách với các đặc trưng tính cách gồm `conscientiousness`, `agreeableness`, `extraversion`, `nueroticism`, `openess_to_experience`, tìm mô hình cho kết quả tốt nhất (1 điểm)"
   ]
  },
  {
   "cell_type": "markdown",
   "metadata": {},
   "source": [
    "Lưu ý: khi sử dụng cross-validation, sinh viên cần xáo trộn dữ liệu 1 lần duy nhất và thực hiện trên toàn bộ đặc trưng"
   ]
  },
  {
   "cell_type": "code",
   "execution_count": null,
   "metadata": {},
   "outputs": [],
   "source": [
    "# Phần code cho yêu cầu 1b\n",
    "# Tìm ra đặc trưng tốt nhất\n",
    "# In ra các kết quả cross-validation như yêu cầu\n",
    "\n",
    "# Shuffle k = 20 (k-fold cross validation)\n",
    "k = 20\n",
    "kf = KFold(n_splits=k, shuffle=True, random_state=42)\n",
    "\n",
    "# Tạo mảng chứa các mảng MAE của các đặc trưng\n",
    "mae_cons = []\n",
    "mae_agr = []\n",
    "mae_ext = []\n",
    "mae_nue = []\n",
    "mae_ope = []"
   ]
  },
  {
   "cell_type": "markdown",
   "metadata": {},
   "source": [
    "### **conscientiousness**"
   ]
  },
  {
   "cell_type": "code",
   "execution_count": null,
   "metadata": {},
   "outputs": [],
   "source": [
    "kfold_cross_model(X_1b_cons, y_train_np, kf, mae_cons)\n",
    "print('MAE: ', np.mean(mae_cons))"
   ]
  },
  {
   "cell_type": "markdown",
   "metadata": {},
   "source": [
    "### **agreeableness**"
   ]
  },
  {
   "cell_type": "code",
   "execution_count": null,
   "metadata": {},
   "outputs": [],
   "source": [
    "kfold_cross_model(X_1b_agr, y_train_np, kf, mae_agr)\n",
    "print('MAE: ', np.mean(mae_agr))"
   ]
  },
  {
   "cell_type": "markdown",
   "metadata": {},
   "source": [
    "### **extraversion**"
   ]
  },
  {
   "cell_type": "code",
   "execution_count": null,
   "metadata": {},
   "outputs": [],
   "source": [
    "kfold_cross_model(X_1b_ext, y_train_np, kf, mae_ext)\n",
    "print('MAE: ', np.mean(mae_ext))"
   ]
  },
  {
   "cell_type": "markdown",
   "metadata": {},
   "source": [
    "### **nueroticism**"
   ]
  },
  {
   "cell_type": "code",
   "execution_count": null,
   "metadata": {},
   "outputs": [],
   "source": [
    "kfold_cross_model(X_1b_nue, y_train_np, kf, mae_nue)\n",
    "print('MAE: ', np.mean(mae_nue))"
   ]
  },
  {
   "cell_type": "markdown",
   "metadata": {},
   "source": [
    "### **Openess_to_experience**"
   ]
  },
  {
   "cell_type": "code",
   "execution_count": null,
   "metadata": {},
   "outputs": [],
   "source": [
    "kfold_cross_model(X_1b_ope, y_train_np, kf, mae_ope)\n",
    "print('MAE: ', np.mean(mae_ope))"
   ]
  },
  {
   "cell_type": "code",
   "execution_count": null,
   "metadata": {},
   "outputs": [],
   "source": [
    "# Huấn luyện lại mô hình best_personality_feature_model với đặc trưng tốt nhất trên toàn bộ tập huấn luyện\n",
    "# Đặc trưng tốt nhất: Nueroticism\n",
    "\n",
    "X_1b_best_train = np.array(X_train['nueroticism'])\n",
    "X_1b_best_train = X_1b_best_train[:, None]\n",
    "\n",
    "best_personality_feature_model = OLSLinearRegression()\n",
    "best_personality_feature_model.fit(X_1b_best_train, y_train_np)\n",
    "\n",
    "# Đánh giá mô hình trên tập kiểm tra\n",
    "X_1b_best_test = np.array(X_test['nueroticism'])\n",
    "X_1b_best_test = X_1b_best_test[:, None]\n",
    "\n",
    "params = best_personality_feature_model.get_params().reshape(-1, 1)\n",
    "print('Params: ', params)"
   ]
  },
  {
   "cell_type": "code",
   "execution_count": null,
   "metadata": {},
   "outputs": [],
   "source": [
    "# Gọi hàm MAE (tự cài đặt hoặc từ thư viện) trên tập kiểm tra với mô hình best_personality_feature_model\n",
    "y_pred = best_personality_feature_model.predict(X_1b_best_test)\n",
    "\n",
    "MAE = mae(y_test, y_pred)\n",
    "\n",
    "print('MAE:', MAE)"
   ]
  },
  {
   "cell_type": "markdown",
   "metadata": {},
   "source": [
    "Công thức hồi quy (phần trọng số làm tròn đến 3 chữ số thập phân, ví dụ 0.012345 $\\to$ 0.012)\n",
    "\n",
    "$$\\text{Salary} = -56546.304 \\times \\text{nueroticism}$$"
   ]
  },
  {
   "cell_type": "markdown",
   "metadata": {},
   "source": [
    "# Yêu cầu 1c: Xây dựng mô hình sử dụng duy nhất 1 đặc trưng `English`, `Logical`, `Quant`, tìm mô hình cho kết quả tốt nhất (1 điểm)"
   ]
  },
  {
   "cell_type": "markdown",
   "metadata": {},
   "source": [
    "Lưu ý: khi sử dụng cross-validation, sinh viên cần xáo trộn dữ liệu 1 lần duy nhất và thực hiện trên toàn bộ đặc trưng"
   ]
  },
  {
   "cell_type": "code",
   "execution_count": null,
   "metadata": {},
   "outputs": [],
   "source": [
    "# Phần code cho yêu cầu 1c\n",
    "# Tìm ra đặc trưng tốt nhất\n",
    "# In ra các kết quả cross-validation như yêu cầu\n",
    "\n",
    "# Shuffle k = 20 (k-fold cross validation)\n",
    "k = 20\n",
    "kf = KFold(n_splits=k, shuffle=True, random_state=42)\n",
    "\n",
    "# Tạo mảng chứa các mảng MAE của các đặc trưng\n",
    "mae_eng = []\n",
    "mae_log = []\n",
    "mae_qua = []"
   ]
  },
  {
   "cell_type": "markdown",
   "metadata": {},
   "source": [
    "### **English**"
   ]
  },
  {
   "cell_type": "code",
   "execution_count": null,
   "metadata": {},
   "outputs": [],
   "source": [
    "kfold_cross_model(X_1c_eng, y_train_np, kf, mae_eng)\n",
    "print('MAE: ', np.mean(mae_eng))"
   ]
  },
  {
   "cell_type": "markdown",
   "metadata": {},
   "source": [
    "### **Logical**"
   ]
  },
  {
   "cell_type": "code",
   "execution_count": null,
   "metadata": {},
   "outputs": [],
   "source": [
    "kfold_cross_model(X_1c_log, y_train_np, kf, mae_log)\n",
    "print('MAE: ', np.mean(mae_log))"
   ]
  },
  {
   "cell_type": "markdown",
   "metadata": {},
   "source": [
    "### **Quant**"
   ]
  },
  {
   "cell_type": "code",
   "execution_count": null,
   "metadata": {},
   "outputs": [],
   "source": [
    "kfold_cross_model(X_1c_qua, y_train_np, kf, mae_qua)\n",
    "print('MAE: ', np.mean(mae_qua))"
   ]
  },
  {
   "cell_type": "code",
   "execution_count": null,
   "metadata": {},
   "outputs": [],
   "source": [
    "# Huấn luyện lại mô hình best_skill_feature_model với đặc trưng tốt nhất trên toàn bộ tập huấn luyện\n",
    "# Đặc trưng tốt nhất: Quant\n",
    "\n",
    "X_1c_best_train = np.array(X_train['Quant'])\n",
    "X_1c_best_train = X_1c_best_train[:, None]\n",
    "\n",
    "best_skill_feature_model = OLSLinearRegression()\n",
    "best_skill_feature_model.fit(X_1c_best_train, y_train)\n",
    "\n",
    "# Đánh giá mô hình trên tập kiểm tra\n",
    "X_1c_best_test = np.array(X_test['Quant'])\n",
    "X_1c_best_test = X_1c_best_test[:, None]\n",
    "\n",
    "params = best_skill_feature_model.get_params().reshape(-1, 1)\n",
    "print('Params: ', params)"
   ]
  },
  {
   "cell_type": "code",
   "execution_count": null,
   "metadata": {},
   "outputs": [],
   "source": [
    "# Gọi hàm MAE (tự cài đặt hoặc từ thư viện) trên tập kiểm tra với mô hình best_skill_feature_model\n",
    "y_pred = best_skill_feature_model.predict(X_1c_best_test)\n",
    "\n",
    "MAE = mae(y_test, y_pred)\n",
    "\n",
    "print('MAE:', MAE)"
   ]
  },
  {
   "cell_type": "markdown",
   "metadata": {},
   "source": [
    "Công thức hồi quy (phần trọng số làm tròn đến 3 chữ số thập phân, ví dụ 0.012345 $\\to$ 0.012)\n",
    "\n",
    "$$\\text{Salary} = 585.895 \\times \\text{Quant}$$"
   ]
  },
  {
   "cell_type": "markdown",
   "metadata": {},
   "source": [
    "# Yêu cầu 1d: Sinh viên tự xây dựng mô hình, tìm mô hình cho kết quả tốt nhất (3 điểm)"
   ]
  },
  {
   "cell_type": "markdown",
   "metadata": {},
   "source": [
    "Lưu ý: khi sử dụng cross-validation, sinh viên cần xáo trộn dữ liệu 1 lần duy nhất và thực hiện trên toàn bộ $m$ mô hình mà sinh viên thiết kế"
   ]
  },
  {
   "cell_type": "markdown",
   "metadata": {},
   "source": [
    "## Tìm mô hình"
   ]
  },
  {
   "cell_type": "code",
   "execution_count": null,
   "metadata": {},
   "outputs": [],
   "source": [
    "# Trình bày các phần tìm ra mô hình"
   ]
  },
  {
   "cell_type": "markdown",
   "metadata": {},
   "source": [
    "## Thử nghiệm, so sánh các mô hình"
   ]
  },
  {
   "cell_type": "code",
   "execution_count": null,
   "metadata": {},
   "outputs": [],
   "source": [
    "# Phần code cho yêu cầu 1d\n",
    "# Tìm ra mô hình tốt nhất (tự thiết kế bởi sinh viên)\n",
    "# In ra các kết quả cross-validation như yêu cầu"
   ]
  },
  {
   "cell_type": "code",
   "execution_count": null,
   "metadata": {},
   "outputs": [],
   "source": [
    "# create correlation matrix\n",
    "corr_matrix = X_train.corr().abs()\n",
    "plt.figure(figsize=(30,10))\n",
    "sns.heatmap(corr_matrix, annot=True, cmap='plasma')\n",
    "plt.show()\n",
    "# get upper triangle of correlation matrix\n",
    "upper = corr_matrix.where(np.triu(np.ones(corr_matrix.shape), k=1).astype(bool))\n",
    "\n",
    "# select features with correlation > 0.6\n",
    "to_drop = [column for column in upper.columns if any(upper[column] > 0.6)]\n",
    "\n",
    "# Show the current heatmap after drop\n",
    "plt.figure(figsize=(30,10))\n",
    "sns.heatmap(X_train.drop(to_drop, axis=1).corr().abs(), annot=True, cmap='plasma')\n",
    "plt.show()"
   ]
  },
  {
   "cell_type": "markdown",
   "metadata": {},
   "source": [
    "### **AMCAT**"
   ]
  },
  {
   "cell_type": "code",
   "execution_count": null,
   "metadata": {},
   "outputs": [],
   "source": [
    "# AMCAT\n",
    "X_AMCAT_train = np.hstack((X_train.iloc[:, 6:11].values ** 2, X_train.iloc[:, 12:18].values))\n",
    "mae_AMCAT = []\n",
    "\n",
    "kfold_cross_model(X_AMCAT_train, y_train, kf, mae_AMCAT)\n",
    "print('MAE for AMCAT: ', np.mean(mae_AMCAT))"
   ]
  },
  {
   "cell_type": "markdown",
   "metadata": {},
   "source": [
    "### **Least correlated features**"
   ]
  },
  {
   "cell_type": "code",
   "execution_count": null,
   "metadata": {},
   "outputs": [],
   "source": [
    "X_LCF_train = np.array(X_train.drop(to_drop, axis=1))\n",
    "mae_LCF = []\n",
    "\n",
    "kfold_cross_model(X_LCF_train, y_train, kf, mae_LCF)\n",
    "print(\"MAE: \", np.mean(mae_LCF))"
   ]
  },
  {
   "cell_type": "markdown",
   "metadata": {},
   "source": [
    "### **All features**\n",
    "\n",
    "Modified:\n",
    "- $\\text{Grading} = 5\\%  \\text{10percentage} + 10\\% \\text{12percentage} + 85\\% (\\text{collegeGPA} \\times \\text{CollegeTier}^{2} \\times \\text{Degree}^2)$\n",
    "- $\\text{AMCAT Point} = 2 (\\text{English} + \\text{Logical} + \\text{Quant}) + \\text{Domain}(\\text{ComputerProgramming} + \\text{ElectronicsAndSemicon} + \\text{ComputerScience} + \\text{MechanicalEngg} + \\text{ElectricalEngg} + \\text{TelecomEngg} + \\text{CivilEngg}) + {(\\text{conscientiousness} + \\text{agreeableness} + \\text{extraversion} + \\text{nueroticism} + \\text{openess\\_to\\_experience})}^2$\n",
    "\n",
    "All features: `Gender`, `Grading`, `AMCAT Point`"
   ]
  },
  {
   "cell_type": "markdown",
   "metadata": {},
   "source": [
    "Preprocessing"
   ]
  },
  {
   "cell_type": "code",
   "execution_count": null,
   "metadata": {},
   "outputs": [],
   "source": [
    "X_grading_train = np.array(0.05 * X_train['10percentage'] + 0.1 * X_train['12percentage'] + 0.85 * (X_train['collegeGPA'] * X_train['CollegeTier'] ** 2 * X_train['Degree'] ** 2)).reshape(-1, 1)\n",
    "X_ELQ_train = np.array(np.sum(X_train.iloc[:, 7:10] * 2, axis=1)).reshape(-1, 1)\n",
    "X_GPA_train = np.array(X_train['Domain'] * np.sum(np.where(X_train.iloc[:, 11:18] == -1, 0, X_train.iloc[:, 11:18]), axis=1)).reshape(-1, 1)\n",
    "X_Personality_train = np.array(np.sum(np.where(X_train.iloc[:, 18:] == -1, 0, X_train.iloc[:, 18:].abs()) ** 2, axis=1)).reshape(-1, 1)"
   ]
  },
  {
   "cell_type": "markdown",
   "metadata": {},
   "source": [
    "Training model"
   ]
  },
  {
   "cell_type": "code",
   "execution_count": null,
   "metadata": {},
   "outputs": [],
   "source": [
    "X_All_features = np.hstack([np.array(X_train['Gender']).reshape(-1, 1), X_grading_train, X_ELQ_train, X_GPA_train, X_Personality_train])\n",
    "mae_All_features = []\n",
    "\n",
    "kfold_cross_model(X_All_features, y_train, kf, mae_All_features)\n",
    "print('MAE: ', np.mean(mae_All_features))"
   ]
  },
  {
   "cell_type": "code",
   "execution_count": 209,
   "metadata": {},
   "outputs": [],
   "source": [
    "# Huấn luyện lại mô hình my_best_model trên toàn bộ tập huấn luyện"
   ]
  },
  {
   "cell_type": "code",
   "execution_count": 207,
   "metadata": {},
   "outputs": [
    {
     "name": "stdout",
     "output_type": "stream",
     "text": [
      "Parameters:  ['-23323.305', '1662.086', '-80254.295', '8069.579', '1909.036', '-3996.479', '146.801', '123.760', '115.260', '26723.427', '82.463', '-40.425', '-178.454', '41.399', '-143.747', '-64.782', '150.454', '-20645.304', '12956.040', '3522.091', '-11033.888']\n"
     ]
    }
   ],
   "source": [
    "X_LCF_test = X_test.drop(to_drop, axis=1)\n",
    "\n",
    "# Train the model\n",
    "my_best_model = OLSLinearRegression()\n",
    "my_best_model.fit(X_LCF_train, y_train)\n",
    "\n",
    "# Predict the test set\n",
    "y_pred_my_best_model = my_best_model.predict(X_LCF_test)\n",
    "\n",
    "params = my_best_model.get_params()\n",
    "params = scientific_notation_converter(params)\n",
    "# Print the results\n",
    "\n",
    "# Display params in decimal format\n",
    "print(\"Parameters: \", params)"
   ]
  },
  {
   "cell_type": "code",
   "execution_count": 208,
   "metadata": {},
   "outputs": [
    {
     "name": "stdout",
     "output_type": "stream",
     "text": [
      "MAE:  102190.45299469784\n"
     ]
    }
   ],
   "source": [
    "# Gọi hàm MAE (tự cài đặt hoặc từ thư viện) trên tập kiểm tra với mô hình my_best_model\n",
    "\n",
    "# MAE\n",
    "print(\"MAE: \", mae(y_test, y_pred_LCF))"
   ]
  },
  {
   "cell_type": "markdown",
   "metadata": {},
   "source": [
    "Công thức hồi quy (phần trọng số làm tròn đến 3 chữ số thập phân, ví dụ 0.012345 $\\to$ 0.012)\n",
    "\n",
    "$$\\text{Salary} = ...$$"
   ]
  }
 ],
 "metadata": {
  "kernelspec": {
   "display_name": "Python 3.8.5 ('base')",
   "language": "python",
   "name": "python3"
  },
  "language_info": {
   "codemirror_mode": {
    "name": "ipython",
    "version": 3
   },
   "file_extension": ".py",
   "mimetype": "text/x-python",
   "name": "python",
   "nbconvert_exporter": "python",
   "pygments_lexer": "ipython3",
   "version": "3.10.9"
  },
  "orig_nbformat": 4,
  "vscode": {
   "interpreter": {
    "hash": "15af99fd1a1a3f0a3416ea421564e792a8676a13670c2eed127d89ab0518a27b"
   }
  }
 },
 "nbformat": 4,
 "nbformat_minor": 2
}
