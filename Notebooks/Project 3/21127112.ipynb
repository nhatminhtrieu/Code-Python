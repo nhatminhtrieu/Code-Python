{
 "cells": [
  {
   "cell_type": "markdown",
   "metadata": {},
   "source": [
    "# <center>Đồ án 3: Linear Regression</center>"
   ]
  },
  {
   "cell_type": "markdown",
   "metadata": {},
   "source": [
    "# Thông tin sinh viên\n",
    "\n",
    "- Họ và tên: **Triệu Nhật Minh**\n",
    "- MSSV: **21127112**\n",
    "- Lớp: **21CLC02**"
   ]
  },
  {
   "cell_type": "markdown",
   "metadata": {},
   "source": [
    "# Import"
   ]
  },
  {
   "cell_type": "code",
   "execution_count": 68,
   "metadata": {},
   "outputs": [],
   "source": [
    "import pandas as pd\n",
    "import numpy as np\n",
    "import matplotlib.pyplot as plt\n",
    "from IPython.display import Latex\n",
    "from sklearn.model_selection import KFold\n",
    "# Import thêm dữ thư viện nếu cần"
   ]
  },
  {
   "cell_type": "markdown",
   "metadata": {},
   "source": [
    "# Đọc dữ liệu"
   ]
  },
  {
   "cell_type": "code",
   "execution_count": 69,
   "metadata": {},
   "outputs": [],
   "source": [
    "# Đọc dữ liệu bằng pandas\n",
    "train = pd.read_csv('train.csv')\n",
    "test = pd.read_csv('test.csv')\n",
    "\n",
    "# Lấy các đặc trưng X và giá trị mục tiêu y cho các tập huấn luyện (train) và kiểm tra (test)\n",
    "X_train = train.iloc[:, :-1]    # Dataframe (chứa các đặc trưng huấn luyện)\n",
    "y_train = train.iloc[:, -1]     # Series    (chứa 1 giá trị mục tiêu kiểm tra)\n",
    "\n",
    "X_test = test.iloc[:, :-1]      # Dataframe (chứa các đặc trưng kiểm tra)\n",
    "y_test = test.iloc[:, -1]       # Series    (chứa 1 giá trị mục tiêu kiểm tra)\n",
    "\n",
    "# Sinh viên có thể sử dụng các khác nếu cần"
   ]
  },
  {
   "cell_type": "markdown",
   "metadata": {},
   "source": [
    "# Tạo dictionary chứa tên các cột"
   ]
  },
  {
   "cell_type": "code",
   "execution_count": 70,
   "metadata": {},
   "outputs": [],
   "source": [
    "dict_column = {1: 'Gender', 2: '10percentage', 3: '12percentage', 4: 'CollegeTier', 5: 'Degree', 6: 'collegeGPA', 7: 'CollegeCityTier', 8: 'English', 9: 'Logical', 10: 'Quant', 11: 'Domain', 12: 'ComputerProgramming', 13: 'ElectronicsAndSemicon', 14: 'ComputerScience', 15: 'MechanicalEngg', 16: 'ElectricalEngg', 17: 'TelecomEngg', 18: 'CivilEngg', 19: 'conscientiousness', 20: 'agreeableness', 21: 'extraversion', 22: 'nueroticism', 23: 'openess_to_experience', 24: 'Salary'}"
   ]
  },
  {
   "cell_type": "markdown",
   "metadata": {},
   "source": [
    "# Cài đặt hàm"
   ]
  },
  {
   "cell_type": "code",
   "execution_count": 71,
   "metadata": {},
   "outputs": [],
   "source": [
    "# Cài đặt các hàm cần thiết ở đây"
   ]
  },
  {
   "cell_type": "code",
   "execution_count": 72,
   "metadata": {},
   "outputs": [],
   "source": [
    "class OLSLinearRegression:\n",
    "    def fit(self, X, y):\n",
    "        X_pinv = np.linalg.pinv(X) # X_pinv = np.linalg.inv(X.T @ X) @ X.T \n",
    "        self.w = X_pinv @ y\n",
    "        return self\n",
    "\n",
    "    def get_params(self):\n",
    "        return self.w.round(3)\n",
    "\n",
    "    def predict(self, X):\n",
    "        return np.sum(self.w.ravel() * X, axis=1)   "
   ]
  },
  {
   "cell_type": "code",
   "execution_count": 73,
   "metadata": {},
   "outputs": [],
   "source": [
    "def mae(y, y_hat):\n",
    "    return np.mean(np.abs(y.ravel() - y_hat.ravel()))"
   ]
  },
  {
   "cell_type": "code",
   "execution_count": 74,
   "metadata": {},
   "outputs": [],
   "source": [
    "def latex_text(params):\n",
    "    text = '$$\\\\text{Salary} = ' + str(params[0][0]) + ' \\\\times \\\\text{' + dict_column[1] + '}'\n",
    "    for i in range(1, len(params)):\n",
    "        text += str(params[i][0]) if params[i][0] < 0 else ' + ' + str(params[i][0])\n",
    "        text += ' \\\\times \\\\text{' + dict_column[i+1] + '}'\n",
    "        if i % 4 == 0:\n",
    "            text += ' \\\\\\\\ '\n",
    "    text += '$$'\n",
    "    return text"
   ]
  },
  {
   "cell_type": "markdown",
   "metadata": {},
   "source": [
    "# Yêu cầu 1a: Sử dụng toàn bộ 11 đặc trưng đầu tiên `Gender`, `10percentage`, `12percentage`, `CollegeTier`, `Degree`, `collegeGPA`, `CollegeCityTier`, `English`, `Logical`, `Quant`, `Domain` (2 điểm) "
   ]
  },
  {
   "cell_type": "code",
   "execution_count": 75,
   "metadata": {},
   "outputs": [],
   "source": [
    "# Phần code cho yêu cầu 1a\n",
    "X_1a = train.iloc[:, :11]\n",
    "y_1a = train.iloc[:, -1]\n",
    "\n",
    "X_1a_test = test.iloc[:, :11]\n",
    "y_1a_test = test.iloc[:, -1]\n",
    "\n",
    "lr = OLSLinearRegression().fit(X_1a, y_1a)\n",
    "\n",
    "params = lr.get_params().reshape(-1,1)\n",
    "\n",
    "y_pred_1a = lr.predict(X_1a_test)"
   ]
  },
  {
   "cell_type": "code",
   "execution_count": 76,
   "metadata": {},
   "outputs": [
    {
     "data": {
      "text/plain": [
       "104863.7775403313"
      ]
     },
     "execution_count": 76,
     "metadata": {},
     "output_type": "execute_result"
    }
   ],
   "source": [
    "# Gọi hàm MAE (tự cài đặt hoặc từ thư viện) trên tập kiểm tra\n",
    "mae_1a = mae(y_test, y_pred_1a)\n",
    "mae_1a"
   ]
  },
  {
   "cell_type": "markdown",
   "metadata": {},
   "source": [
    "Công thức hồi quy (phần trọng số làm tròn đến 3 chữ số thập phân, ví dụ 0.012345 $\\to$ 0.012)"
   ]
  },
  {
   "cell_type": "code",
   "execution_count": 77,
   "metadata": {},
   "outputs": [
    {
     "data": {
      "text/latex": [
       "$$\\text{Salary} = -22756.513 \\times \\text{Gender} + 804.503 \\times \\text{10percentage} + 1294.655 \\times \\text{12percentage}-91781.898 \\times \\text{CollegeTier} + 23182.389 \\times \\text{Degree} \\\\  + 1437.549 \\times \\text{collegeGPA}-8570.662 \\times \\text{CollegeCityTier} + 147.858 \\times \\text{English} + 152.888 \\times \\text{Logical} \\\\  + 117.222 \\times \\text{Quant} + 34552.286 \\times \\text{Domain}$$"
      ],
      "text/plain": [
       "<IPython.core.display.Latex object>"
      ]
     },
     "execution_count": 77,
     "metadata": {},
     "output_type": "execute_result"
    }
   ],
   "source": [
    "Latex(latex_text(params))"
   ]
  },
  {
   "cell_type": "markdown",
   "metadata": {},
   "source": [
    "# Yêu cầu 1b: Xây dựng mô hình sử dụng duy nhất 1 đặc trưng tính cách với các đặc trưng tính cách gồm `conscientiousness`, `agreeableness`, `extraversion`, `nueroticism`, `openess_to_experience`, tìm mô hình cho kết quả tốt nhất (1 điểm)"
   ]
  },
  {
   "cell_type": "markdown",
   "metadata": {},
   "source": [
    "Lưu ý: khi sử dụng cross-validation, sinh viên cần xáo trộn dữ liệu 1 lần duy nhất và thực hiện trên toàn bộ đặc trưng"
   ]
  },
  {
   "cell_type": "code",
   "execution_count": 78,
   "metadata": {},
   "outputs": [],
   "source": [
    "# Phần code cho yêu cầu 1b\n",
    "# Tìm ra đặc trưng tốt nhất\n",
    "# In ra các kết quả cross-validation như yêu cầu\n",
    "\n",
    "# Chọn ra 5 đặc trưng (5 cột cuối tập X_train)\n",
    "X_1b = X_train.iloc[:, -5:]\n",
    "\n",
    "# Shuffle k = 20 (k-fold cross validation)\n",
    "k = 20"
   ]
  },
  {
   "cell_type": "markdown",
   "metadata": {},
   "source": [
    "### **conscientiousness**"
   ]
  },
  {
   "cell_type": "code",
   "execution_count": 89,
   "metadata": {},
   "outputs": [
    {
     "data": {
      "text/plain": [
       "0      -0.1590\n",
       "1       1.1336\n",
       "2       0.5100\n",
       "3      -0.4463\n",
       "4      -1.4992\n",
       "         ...  \n",
       "2243    0.8192\n",
       "2244   -1.1901\n",
       "2245   -0.1082\n",
       "2246   -0.8810\n",
       "2247    1.4374\n",
       "Name: conscientiousness, Length: 2135, dtype: float64"
      ]
     },
     "metadata": {},
     "output_type": "display_data"
    },
    {
     "data": {
      "text/plain": [
       "0      -0.1590\n",
       "1       1.1336\n",
       "2       0.5100\n",
       "3      -0.4463\n",
       "4      -1.4992\n",
       "         ...  \n",
       "2242    0.0464\n",
       "2244   -1.1901\n",
       "2245   -0.1082\n",
       "2246   -0.8810\n",
       "2247    1.4374\n",
       "Name: conscientiousness, Length: 2135, dtype: float64"
      ]
     },
     "metadata": {},
     "output_type": "display_data"
    },
    {
     "data": {
      "text/plain": [
       "0      -0.1590\n",
       "1       1.1336\n",
       "2       0.5100\n",
       "3      -0.4463\n",
       "4      -1.4992\n",
       "         ...  \n",
       "2242    0.0464\n",
       "2243    0.8192\n",
       "2244   -1.1901\n",
       "2246   -0.8810\n",
       "2247    1.4374\n",
       "Name: conscientiousness, Length: 2135, dtype: float64"
      ]
     },
     "metadata": {},
     "output_type": "display_data"
    },
    {
     "data": {
      "text/plain": [
       "0      -0.1590\n",
       "1       1.1336\n",
       "2       0.5100\n",
       "3      -0.4463\n",
       "4      -1.4992\n",
       "         ...  \n",
       "2243    0.8192\n",
       "2244   -1.1901\n",
       "2245   -0.1082\n",
       "2246   -0.8810\n",
       "2247    1.4374\n",
       "Name: conscientiousness, Length: 2135, dtype: float64"
      ]
     },
     "metadata": {},
     "output_type": "display_data"
    },
    {
     "data": {
      "text/plain": [
       "0      -0.1590\n",
       "1       1.1336\n",
       "2       0.5100\n",
       "3      -0.4463\n",
       "4      -1.4992\n",
       "         ...  \n",
       "2243    0.8192\n",
       "2244   -1.1901\n",
       "2245   -0.1082\n",
       "2246   -0.8810\n",
       "2247    1.4374\n",
       "Name: conscientiousness, Length: 2135, dtype: float64"
      ]
     },
     "metadata": {},
     "output_type": "display_data"
    },
    {
     "data": {
      "text/plain": [
       "0      -0.1590\n",
       "1       1.1336\n",
       "2       0.5100\n",
       "3      -0.4463\n",
       "4      -1.4992\n",
       "         ...  \n",
       "2242    0.0464\n",
       "2243    0.8192\n",
       "2244   -1.1901\n",
       "2245   -0.1082\n",
       "2247    1.4374\n",
       "Name: conscientiousness, Length: 2135, dtype: float64"
      ]
     },
     "metadata": {},
     "output_type": "display_data"
    },
    {
     "data": {
      "text/plain": [
       "0      -0.1590\n",
       "1       1.1336\n",
       "3      -0.4463\n",
       "4      -1.4992\n",
       "5       0.8463\n",
       "         ...  \n",
       "2243    0.8192\n",
       "2244   -1.1901\n",
       "2245   -0.1082\n",
       "2246   -0.8810\n",
       "2247    1.4374\n",
       "Name: conscientiousness, Length: 2135, dtype: float64"
      ]
     },
     "metadata": {},
     "output_type": "display_data"
    },
    {
     "data": {
      "text/plain": [
       "0      -0.1590\n",
       "1       1.1336\n",
       "2       0.5100\n",
       "3      -0.4463\n",
       "4      -1.4992\n",
       "         ...  \n",
       "2243    0.8192\n",
       "2244   -1.1901\n",
       "2245   -0.1082\n",
       "2246   -0.8810\n",
       "2247    1.4374\n",
       "Name: conscientiousness, Length: 2135, dtype: float64"
      ]
     },
     "metadata": {},
     "output_type": "display_data"
    },
    {
     "data": {
      "text/plain": [
       "0      -0.1590\n",
       "1       1.1336\n",
       "2       0.5100\n",
       "3      -0.4463\n",
       "4      -1.4992\n",
       "         ...  \n",
       "2243    0.8192\n",
       "2244   -1.1901\n",
       "2245   -0.1082\n",
       "2246   -0.8810\n",
       "2247    1.4374\n",
       "Name: conscientiousness, Length: 2136, dtype: float64"
      ]
     },
     "metadata": {},
     "output_type": "display_data"
    },
    {
     "data": {
      "text/plain": [
       "0      -0.1590\n",
       "1       1.1336\n",
       "2       0.5100\n",
       "3      -0.4463\n",
       "4      -1.4992\n",
       "         ...  \n",
       "2243    0.8192\n",
       "2244   -1.1901\n",
       "2245   -0.1082\n",
       "2246   -0.8810\n",
       "2247    1.4374\n",
       "Name: conscientiousness, Length: 2136, dtype: float64"
      ]
     },
     "metadata": {},
     "output_type": "display_data"
    },
    {
     "data": {
      "text/plain": [
       "0      -0.1590\n",
       "1       1.1336\n",
       "2       0.5100\n",
       "3      -0.4463\n",
       "4      -1.4992\n",
       "         ...  \n",
       "2243    0.8192\n",
       "2244   -1.1901\n",
       "2245   -0.1082\n",
       "2246   -0.8810\n",
       "2247    1.4374\n",
       "Name: conscientiousness, Length: 2136, dtype: float64"
      ]
     },
     "metadata": {},
     "output_type": "display_data"
    },
    {
     "data": {
      "text/plain": [
       "0      -0.1590\n",
       "1       1.1336\n",
       "2       0.5100\n",
       "4      -1.4992\n",
       "6       0.1282\n",
       "         ...  \n",
       "2243    0.8192\n",
       "2244   -1.1901\n",
       "2245   -0.1082\n",
       "2246   -0.8810\n",
       "2247    1.4374\n",
       "Name: conscientiousness, Length: 2136, dtype: float64"
      ]
     },
     "metadata": {},
     "output_type": "display_data"
    },
    {
     "data": {
      "text/plain": [
       "1       1.1336\n",
       "2       0.5100\n",
       "3      -0.4463\n",
       "4      -1.4992\n",
       "5       0.8463\n",
       "         ...  \n",
       "2242    0.0464\n",
       "2243    0.8192\n",
       "2245   -0.1082\n",
       "2246   -0.8810\n",
       "2247    1.4374\n",
       "Name: conscientiousness, Length: 2136, dtype: float64"
      ]
     },
     "metadata": {},
     "output_type": "display_data"
    },
    {
     "data": {
      "text/plain": [
       "0      -0.1590\n",
       "1       1.1336\n",
       "2       0.5100\n",
       "3      -0.4463\n",
       "4      -1.4992\n",
       "         ...  \n",
       "2243    0.8192\n",
       "2244   -1.1901\n",
       "2245   -0.1082\n",
       "2246   -0.8810\n",
       "2247    1.4374\n",
       "Name: conscientiousness, Length: 2136, dtype: float64"
      ]
     },
     "metadata": {},
     "output_type": "display_data"
    },
    {
     "data": {
      "text/plain": [
       "0      -0.1590\n",
       "1       1.1336\n",
       "2       0.5100\n",
       "3      -0.4463\n",
       "4      -1.4992\n",
       "         ...  \n",
       "2243    0.8192\n",
       "2244   -1.1901\n",
       "2245   -0.1082\n",
       "2246   -0.8810\n",
       "2247    1.4374\n",
       "Name: conscientiousness, Length: 2136, dtype: float64"
      ]
     },
     "metadata": {},
     "output_type": "display_data"
    },
    {
     "data": {
      "text/plain": [
       "0      -0.1590\n",
       "1       1.1336\n",
       "2       0.5100\n",
       "3      -0.4463\n",
       "4      -1.4992\n",
       "         ...  \n",
       "2243    0.8192\n",
       "2244   -1.1901\n",
       "2245   -0.1082\n",
       "2246   -0.8810\n",
       "2247    1.4374\n",
       "Name: conscientiousness, Length: 2136, dtype: float64"
      ]
     },
     "metadata": {},
     "output_type": "display_data"
    },
    {
     "data": {
      "text/plain": [
       "0      -0.1590\n",
       "1       1.1336\n",
       "2       0.5100\n",
       "3      -0.4463\n",
       "5       0.8463\n",
       "         ...  \n",
       "2242    0.0464\n",
       "2243    0.8192\n",
       "2244   -1.1901\n",
       "2245   -0.1082\n",
       "2246   -0.8810\n",
       "Name: conscientiousness, Length: 2136, dtype: float64"
      ]
     },
     "metadata": {},
     "output_type": "display_data"
    },
    {
     "data": {
      "text/plain": [
       "0      -0.1590\n",
       "1       1.1336\n",
       "2       0.5100\n",
       "3      -0.4463\n",
       "4      -1.4992\n",
       "         ...  \n",
       "2243    0.8192\n",
       "2244   -1.1901\n",
       "2245   -0.1082\n",
       "2246   -0.8810\n",
       "2247    1.4374\n",
       "Name: conscientiousness, Length: 2136, dtype: float64"
      ]
     },
     "metadata": {},
     "output_type": "display_data"
    },
    {
     "data": {
      "text/plain": [
       "0      -0.1590\n",
       "2       0.5100\n",
       "3      -0.4463\n",
       "4      -1.4992\n",
       "5       0.8463\n",
       "         ...  \n",
       "2243    0.8192\n",
       "2244   -1.1901\n",
       "2245   -0.1082\n",
       "2246   -0.8810\n",
       "2247    1.4374\n",
       "Name: conscientiousness, Length: 2136, dtype: float64"
      ]
     },
     "metadata": {},
     "output_type": "display_data"
    },
    {
     "data": {
      "text/plain": [
       "0      -0.1590\n",
       "1       1.1336\n",
       "2       0.5100\n",
       "3      -0.4463\n",
       "4      -1.4992\n",
       "         ...  \n",
       "2243    0.8192\n",
       "2244   -1.1901\n",
       "2245   -0.1082\n",
       "2246   -0.8810\n",
       "2247    1.4374\n",
       "Name: conscientiousness, Length: 2136, dtype: float64"
      ]
     },
     "metadata": {},
     "output_type": "display_data"
    },
    {
     "name": "stdout",
     "output_type": "stream",
     "text": [
      "MAE for conscientiousness:  nan\n"
     ]
    },
    {
     "name": "stderr",
     "output_type": "stream",
     "text": [
      "c:\\ProgramData\\anaconda3\\lib\\site-packages\\numpy\\core\\fromnumeric.py:3432: RuntimeWarning: Mean of empty slice.\n",
      "  return _methods._mean(a, axis=axis, dtype=dtype,\n",
      "c:\\ProgramData\\anaconda3\\lib\\site-packages\\numpy\\core\\_methods.py:190: RuntimeWarning: invalid value encountered in double_scalars\n",
      "  ret = ret.dtype.type(ret / rcount)\n"
     ]
    }
   ],
   "source": [
    "X_1b_cons = X_1b['conscientiousness']\n",
    "kf = KFold(n_splits=k, shuffle=True, random_state=42)\n",
    "MAE_cons = []\n",
    "for train_index, test_index in kf.split(X_1b_cons):\n",
    "    X_train = X_1b_cons[train_index]\n",
    "    display(X_train)\n",
    "    # lr = OLSLinearRegression().fit(\n",
    "    # X_test = X_1b_cons[test_index]\n",
    "\n",
    "    # y_pred = lr.predict(X_test)\n",
    "    # MAE_cons.append(mae(y_test, y_pred))\n",
    "\n",
    "print(\"MAE for conscientiousness: \", np.mean(MAE_cons))"
   ]
  },
  {
   "cell_type": "code",
   "execution_count": 80,
   "metadata": {},
   "outputs": [],
   "source": [
    "# Huấn luyện lại mô hình best_personality_feature_model với đặc trưng tốt nhất trên toàn bộ tập huấn luyện"
   ]
  },
  {
   "cell_type": "code",
   "execution_count": 81,
   "metadata": {},
   "outputs": [],
   "source": [
    "# Gọi hàm MAE (tự cài đặt hoặc từ thư viện) trên tập kiểm tra với mô hình best_personality_feature_model"
   ]
  },
  {
   "cell_type": "markdown",
   "metadata": {},
   "source": [
    "Công thức hồi quy (phần trọng số làm tròn đến 3 chữ số thập phân, ví dụ 0.012345 $\\to$ 0.012)\n",
    "\n",
    "$$\\text{Salary} = \\omega_1 \\times \\text{agreeableness}$$"
   ]
  },
  {
   "cell_type": "markdown",
   "metadata": {},
   "source": [
    "# Yêu cầu 1c: Xây dựng mô hình sử dụng duy nhất 1 đặc trưng `English`, `Logical`, `Quant`, tìm mô hình cho kết quả tốt nhất (1 điểm)"
   ]
  },
  {
   "cell_type": "markdown",
   "metadata": {},
   "source": [
    "Lưu ý: khi sử dụng cross-validation, sinh viên cần xáo trộn dữ liệu 1 lần duy nhất và thực hiện trên toàn bộ đặc trưng"
   ]
  },
  {
   "cell_type": "code",
   "execution_count": 82,
   "metadata": {},
   "outputs": [],
   "source": [
    "# Phần code cho yêu cầu 1c\n",
    "# Tìm ra đặc trưng tốt nhất\n",
    "# In ra các kết quả cross-validation như yêu cầu"
   ]
  },
  {
   "cell_type": "code",
   "execution_count": 83,
   "metadata": {},
   "outputs": [],
   "source": [
    "# Huấn luyện lại mô hình best_skill_feature_model với đặc trưng tốt nhất trên toàn bộ tập huấn luyện"
   ]
  },
  {
   "cell_type": "code",
   "execution_count": 84,
   "metadata": {},
   "outputs": [],
   "source": [
    "# Gọi hàm MAE (tự cài đặt hoặc từ thư viện) trên tập kiểm tra với mô hình best_skill_feature_model"
   ]
  },
  {
   "cell_type": "markdown",
   "metadata": {},
   "source": [
    "Công thức hồi quy (phần trọng số làm tròn đến 3 chữ số thập phân, ví dụ 0.012345 $\\to$ 0.012)\n",
    "\n",
    "$$\\text{Salary} = ...$$"
   ]
  },
  {
   "cell_type": "markdown",
   "metadata": {},
   "source": [
    "# Yêu cầu 1d: Sinh viên tự xây dựng mô hình, tìm mô hình cho kết quả tốt nhất (3 điểm)"
   ]
  },
  {
   "cell_type": "markdown",
   "metadata": {},
   "source": [
    "Lưu ý: khi sử dụng cross-validation, sinh viên cần xáo trộn dữ liệu 1 lần duy nhất và thực hiện trên toàn bộ $m$ mô hình mà sinh viên thiết kế"
   ]
  },
  {
   "cell_type": "markdown",
   "metadata": {},
   "source": [
    "## Tìm mô hình"
   ]
  },
  {
   "cell_type": "code",
   "execution_count": 85,
   "metadata": {},
   "outputs": [],
   "source": [
    "# Trình bày các phần tìm ra mô hình"
   ]
  },
  {
   "cell_type": "markdown",
   "metadata": {},
   "source": [
    "## Thử nghiệm, so sánh các mô hình"
   ]
  },
  {
   "cell_type": "code",
   "execution_count": 86,
   "metadata": {},
   "outputs": [],
   "source": [
    "# Phần code cho yêu cầu 1d\n",
    "# Tìm ra mô hình tốt nhất (tự thiết kế bởi sinh viên)\n",
    "# In ra các kết quả cross-validation như yêu cầu"
   ]
  },
  {
   "cell_type": "code",
   "execution_count": 87,
   "metadata": {},
   "outputs": [],
   "source": [
    "# Huấn luyện lại mô hình my_best_model trên toàn bộ tập huấn luyện"
   ]
  },
  {
   "cell_type": "code",
   "execution_count": 88,
   "metadata": {},
   "outputs": [],
   "source": [
    "# Gọi hàm MAE (tự cài đặt hoặc từ thư viện) trên tập kiểm tra với mô hình my_best_model"
   ]
  },
  {
   "cell_type": "markdown",
   "metadata": {},
   "source": [
    "Công thức hồi quy (phần trọng số làm tròn đến 3 chữ số thập phân, ví dụ 0.012345 $\\to$ 0.012)\n",
    "\n",
    "$$\\text{Salary} = ...$$"
   ]
  }
 ],
 "metadata": {
  "kernelspec": {
   "display_name": "Python 3.8.5 ('base')",
   "language": "python",
   "name": "python3"
  },
  "language_info": {
   "codemirror_mode": {
    "name": "ipython",
    "version": 3
   },
   "file_extension": ".py",
   "mimetype": "text/x-python",
   "name": "python",
   "nbconvert_exporter": "python",
   "pygments_lexer": "ipython3",
   "version": "3.10.9"
  },
  "orig_nbformat": 4,
  "vscode": {
   "interpreter": {
    "hash": "15af99fd1a1a3f0a3416ea421564e792a8676a13670c2eed127d89ab0518a27b"
   }
  }
 },
 "nbformat": 4,
 "nbformat_minor": 2
}
