{
 "cells": [
  {
   "cell_type": "code",
   "execution_count": 4,
   "metadata": {},
   "outputs": [],
   "source": [
    "import numpy as np\n",
    "import sympy as sp\n"
   ]
  },
  {
   "attachments": {},
   "cell_type": "markdown",
   "metadata": {},
   "source": [
    "# BÀI 1"
   ]
  },
  {
   "cell_type": "code",
   "execution_count": 3,
   "metadata": {},
   "outputs": [],
   "source": [
    "A = sp.Matrix([[1, 2], [3, 1]])\n",
    "B = sp.Matrix([[1, 0, 2], [3, 1, -2]])\n",
    "C = sp.Matrix([[1, -2, 3], [-2, 1, -1]])\n",
    "D = sp.Matrix([[-2], [2], [1]])"
   ]
  },
  {
   "cell_type": "code",
   "execution_count": 8,
   "metadata": {},
   "outputs": [
    {
     "data": {
      "text/latex": [
       "$\\displaystyle \\left[\\begin{matrix}7 & 2 & -2\\\\6 & 1 & 4\\end{matrix}\\right]$"
      ],
      "text/plain": [
       "Matrix([\n",
       "[7, 2, -2],\n",
       "[6, 1,  4]])"
      ]
     },
     "execution_count": 8,
     "metadata": {},
     "output_type": "execute_result"
    }
   ],
   "source": [
    "A * B"
   ]
  },
  {
   "cell_type": "code",
   "execution_count": 10,
   "metadata": {},
   "outputs": [
    {
     "data": {
      "text/latex": [
       "$\\displaystyle \\left[\\begin{matrix}18 & 6 & -5\\\\19 & -2 & 20\\end{matrix}\\right]$"
      ],
      "text/plain": [
       "Matrix([\n",
       "[18,  6, -5],\n",
       "[19, -2, 20]])"
      ]
     },
     "execution_count": 10,
     "metadata": {},
     "output_type": "execute_result"
    }
   ],
   "source": [
    "A * (3*B + C)"
   ]
  },
  {
   "cell_type": "code",
   "execution_count": 12,
   "metadata": {},
   "outputs": [
    {
     "ename": "ShapeError",
     "evalue": "Matrix size mismatch: (2, 3) * (2, 3).",
     "output_type": "error",
     "traceback": [
      "\u001b[1;31m---------------------------------------------------------------------------\u001b[0m",
      "\u001b[1;31mShapeError\u001b[0m                                Traceback (most recent call last)",
      "Cell \u001b[1;32mIn[12], line 1\u001b[0m\n\u001b[1;32m----> 1\u001b[0m A \u001b[39m*\u001b[39;49m B \u001b[39m*\u001b[39;49m C\n",
      "File \u001b[1;32mc:\\ProgramData\\anaconda3\\lib\\site-packages\\sympy\\core\\decorators.py:106\u001b[0m, in \u001b[0;36mcall_highest_priority.<locals>.priority_decorator.<locals>.binary_op_wrapper\u001b[1;34m(self, other)\u001b[0m\n\u001b[0;32m    104\u001b[0m         \u001b[39mif\u001b[39;00m f \u001b[39mis\u001b[39;00m \u001b[39mnot\u001b[39;00m \u001b[39mNone\u001b[39;00m:\n\u001b[0;32m    105\u001b[0m             \u001b[39mreturn\u001b[39;00m f(\u001b[39mself\u001b[39m)\n\u001b[1;32m--> 106\u001b[0m \u001b[39mreturn\u001b[39;00m func(\u001b[39mself\u001b[39;49m, other)\n",
      "File \u001b[1;32mc:\\ProgramData\\anaconda3\\lib\\site-packages\\sympy\\matrices\\common.py:2771\u001b[0m, in \u001b[0;36mMatrixArithmetic.__mul__\u001b[1;34m(self, other)\u001b[0m\n\u001b[0;32m   2742\u001b[0m \u001b[39m@call_highest_priority\u001b[39m(\u001b[39m'\u001b[39m\u001b[39m__rmul__\u001b[39m\u001b[39m'\u001b[39m)\n\u001b[0;32m   2743\u001b[0m \u001b[39mdef\u001b[39;00m \u001b[39m__mul__\u001b[39m(\u001b[39mself\u001b[39m, other):\n\u001b[0;32m   2744\u001b[0m     \u001b[39m\"\"\"Return self*other where other is either a scalar or a matrix\u001b[39;00m\n\u001b[0;32m   2745\u001b[0m \u001b[39m    of compatible dimensions.\u001b[39;00m\n\u001b[0;32m   2746\u001b[0m \n\u001b[1;32m   (...)\u001b[0m\n\u001b[0;32m   2768\u001b[0m \u001b[39m    matrix_multiply_elementwise\u001b[39;00m\n\u001b[0;32m   2769\u001b[0m \u001b[39m    \"\"\"\u001b[39;00m\n\u001b[1;32m-> 2771\u001b[0m     \u001b[39mreturn\u001b[39;00m \u001b[39mself\u001b[39;49m\u001b[39m.\u001b[39;49mmultiply(other)\n",
      "File \u001b[1;32mc:\\ProgramData\\anaconda3\\lib\\site-packages\\sympy\\matrices\\common.py:2793\u001b[0m, in \u001b[0;36mMatrixArithmetic.multiply\u001b[1;34m(self, other, dotprodsimp)\u001b[0m\n\u001b[0;32m   2789\u001b[0m \u001b[39mif\u001b[39;00m (\u001b[39mhasattr\u001b[39m(other, \u001b[39m'\u001b[39m\u001b[39mshape\u001b[39m\u001b[39m'\u001b[39m) \u001b[39mand\u001b[39;00m \u001b[39mlen\u001b[39m(other\u001b[39m.\u001b[39mshape) \u001b[39m==\u001b[39m \u001b[39m2\u001b[39m \u001b[39mand\u001b[39;00m\n\u001b[0;32m   2790\u001b[0m     (\u001b[39mgetattr\u001b[39m(other, \u001b[39m'\u001b[39m\u001b[39mis_Matrix\u001b[39m\u001b[39m'\u001b[39m, \u001b[39mTrue\u001b[39;00m) \u001b[39mor\u001b[39;00m\n\u001b[0;32m   2791\u001b[0m      \u001b[39mgetattr\u001b[39m(other, \u001b[39m'\u001b[39m\u001b[39mis_MatrixLike\u001b[39m\u001b[39m'\u001b[39m, \u001b[39mTrue\u001b[39;00m))):\n\u001b[0;32m   2792\u001b[0m     \u001b[39mif\u001b[39;00m \u001b[39mself\u001b[39m\u001b[39m.\u001b[39mshape[\u001b[39m1\u001b[39m] \u001b[39m!=\u001b[39m other\u001b[39m.\u001b[39mshape[\u001b[39m0\u001b[39m]:\n\u001b[1;32m-> 2793\u001b[0m         \u001b[39mraise\u001b[39;00m ShapeError(\u001b[39m\"\u001b[39m\u001b[39mMatrix size mismatch: \u001b[39m\u001b[39m%s\u001b[39;00m\u001b[39m * \u001b[39m\u001b[39m%s\u001b[39;00m\u001b[39m.\u001b[39m\u001b[39m\"\u001b[39m \u001b[39m%\u001b[39m (\n\u001b[0;32m   2794\u001b[0m             \u001b[39mself\u001b[39m\u001b[39m.\u001b[39mshape, other\u001b[39m.\u001b[39mshape))\n\u001b[0;32m   2796\u001b[0m \u001b[39m# honest SymPy matrices defer to their class's routine\u001b[39;00m\n\u001b[0;32m   2797\u001b[0m \u001b[39mif\u001b[39;00m \u001b[39mgetattr\u001b[39m(other, \u001b[39m'\u001b[39m\u001b[39mis_Matrix\u001b[39m\u001b[39m'\u001b[39m, \u001b[39mFalse\u001b[39;00m):\n",
      "\u001b[1;31mShapeError\u001b[0m: Matrix size mismatch: (2, 3) * (2, 3)."
     ]
    }
   ],
   "source": [
    "A * B * C"
   ]
  },
  {
   "cell_type": "code",
   "execution_count": 13,
   "metadata": {},
   "outputs": [
    {
     "data": {
      "text/latex": [
       "$\\displaystyle \\left[\\begin{matrix}-12\\\\-6\\end{matrix}\\right]$"
      ],
      "text/plain": [
       "Matrix([\n",
       "[-12],\n",
       "[ -6]])"
      ]
     },
     "execution_count": 13,
     "metadata": {},
     "output_type": "execute_result"
    }
   ],
   "source": [
    "A * B * D"
   ]
  },
  {
   "cell_type": "code",
   "execution_count": 15,
   "metadata": {},
   "outputs": [
    {
     "data": {
      "text/latex": [
       "$\\displaystyle \\left[\\begin{matrix}10 & 5\\\\3 & 1\\\\-4 & 2\\end{matrix}\\right]$"
      ],
      "text/plain": [
       "Matrix([\n",
       "[10, 5],\n",
       "[ 3, 1],\n",
       "[-4, 2]])"
      ]
     },
     "execution_count": 15,
     "metadata": {},
     "output_type": "execute_result"
    }
   ],
   "source": [
    "B.transpose() * A"
   ]
  },
  {
   "cell_type": "code",
   "execution_count": 16,
   "metadata": {},
   "outputs": [
    {
     "data": {
      "text/latex": [
       "$\\displaystyle \\left[\\begin{matrix}7 & -4\\\\-5 & -3\\end{matrix}\\right]$"
      ],
      "text/plain": [
       "Matrix([\n",
       "[ 7, -4],\n",
       "[-5, -3]])"
      ]
     },
     "execution_count": 16,
     "metadata": {},
     "output_type": "execute_result"
    }
   ],
   "source": [
    "B * C.transpose()"
   ]
  },
  {
   "attachments": {},
   "cell_type": "markdown",
   "metadata": {},
   "source": [
    "# BÀI 2"
   ]
  },
  {
   "cell_type": "code",
   "execution_count": 19,
   "metadata": {},
   "outputs": [
    {
     "data": {
      "text/latex": [
       "$\\displaystyle \\left[\\begin{matrix}1 & 2 & 1\\\\3 & 7 & 3\\\\2 & 3 & 4\\end{matrix}\\right]$"
      ],
      "text/plain": [
       "Matrix([\n",
       "[1, 2, 1],\n",
       "[3, 7, 3],\n",
       "[2, 3, 4]])"
      ]
     },
     "execution_count": 19,
     "metadata": {},
     "output_type": "execute_result"
    }
   ],
   "source": [
    "A = sp.Matrix([[1,2,1], [3,7,3], [2,3,4]])"
   ]
  },
  {
   "cell_type": "code",
   "execution_count": 20,
   "metadata": {},
   "outputs": [
    {
     "data": {
      "text/latex": [
       "$\\displaystyle 2$"
      ],
      "text/plain": [
       "2"
      ]
     },
     "execution_count": 20,
     "metadata": {},
     "output_type": "execute_result"
    }
   ],
   "source": [
    "A.det()"
   ]
  },
  {
   "cell_type": "code",
   "execution_count": 21,
   "metadata": {},
   "outputs": [
    {
     "data": {
      "text/latex": [
       "$\\displaystyle \\left[\\begin{matrix}\\frac{19}{2} & - \\frac{5}{2} & - \\frac{1}{2}\\\\-3 & 1 & 0\\\\- \\frac{5}{2} & \\frac{1}{2} & \\frac{1}{2}\\end{matrix}\\right]$"
      ],
      "text/plain": [
       "Matrix([\n",
       "[19/2, -5/2, -1/2],\n",
       "[  -3,    1,    0],\n",
       "[-5/2,  1/2,  1/2]])"
      ]
     },
     "execution_count": 21,
     "metadata": {},
     "output_type": "execute_result"
    }
   ],
   "source": [
    "A.inv()"
   ]
  },
  {
   "cell_type": "code",
   "execution_count": 29,
   "metadata": {},
   "outputs": [
    {
     "data": {
      "text/latex": [
       "$\\displaystyle \\left[\\begin{matrix}1 & -1 & 2\\\\1 & 1 & -2\\\\1 & 1 & 4\\end{matrix}\\right]$"
      ],
      "text/plain": [
       "Matrix([\n",
       "[1, -1,  2],\n",
       "[1,  1, -2],\n",
       "[1,  1,  4]])"
      ]
     },
     "execution_count": 29,
     "metadata": {},
     "output_type": "execute_result"
    }
   ],
   "source": [
    "B = sp.Matrix([[1,-1,2], [1,1,-2], [1,1,4]])\n",
    "B"
   ]
  },
  {
   "cell_type": "code",
   "execution_count": 30,
   "metadata": {},
   "outputs": [
    {
     "data": {
      "text/latex": [
       "$\\displaystyle 12$"
      ],
      "text/plain": [
       "12"
      ]
     },
     "execution_count": 30,
     "metadata": {},
     "output_type": "execute_result"
    }
   ],
   "source": [
    "B.det()"
   ]
  },
  {
   "cell_type": "code",
   "execution_count": 31,
   "metadata": {},
   "outputs": [
    {
     "data": {
      "text/latex": [
       "$\\displaystyle \\left[\\begin{matrix}\\frac{1}{2} & \\frac{1}{2} & 0\\\\- \\frac{1}{2} & \\frac{1}{6} & \\frac{1}{3}\\\\0 & - \\frac{1}{6} & \\frac{1}{6}\\end{matrix}\\right]$"
      ],
      "text/plain": [
       "Matrix([\n",
       "[ 1/2,  1/2,   0],\n",
       "[-1/2,  1/6, 1/3],\n",
       "[   0, -1/6, 1/6]])"
      ]
     },
     "execution_count": 31,
     "metadata": {},
     "output_type": "execute_result"
    }
   ],
   "source": [
    "B.inv()"
   ]
  },
  {
   "attachments": {},
   "cell_type": "markdown",
   "metadata": {},
   "source": [
    "# Bài 3"
   ]
  },
  {
   "cell_type": "code",
   "execution_count": 7,
   "metadata": {},
   "outputs": [],
   "source": [
    "x = np.array([1, 2, 3])\n",
    "# create vector y = [y1, y2, y3]\n",
    "y = np.array(['y1', 'y2', 'y3'])\n",
    "z = np.array([4, 2, 1])"
   ]
  },
  {
   "cell_type": "code",
   "execution_count": 13,
   "metadata": {},
   "outputs": [
    {
     "data": {
      "text/plain": [
       "11"
      ]
     },
     "execution_count": 13,
     "metadata": {},
     "output_type": "execute_result"
    }
   ],
   "source": [
    "# calculate 2x - 3y\n",
    "np.dot(x, z)"
   ]
  },
  {
   "cell_type": "code",
   "execution_count": 21,
   "metadata": {},
   "outputs": [],
   "source": [
    "x1 = x.astype('S')\n",
    "z1 = z.astype('S')\n",
    "y1 = y.astype('S')"
   ]
  },
  {
   "cell_type": "code",
   "execution_count": 24,
   "metadata": {},
   "outputs": [
    {
     "data": {
      "text/plain": [
       "3.7416573867739413"
      ]
     },
     "execution_count": 24,
     "metadata": {},
     "output_type": "execute_result"
    }
   ],
   "source": [
    "np.sqrt(x.dot(x))"
   ]
  },
  {
   "attachments": {},
   "cell_type": "markdown",
   "metadata": {},
   "source": [
    "# Bài 4\n"
   ]
  },
  {
   "cell_type": "code",
   "execution_count": 27,
   "metadata": {},
   "outputs": [
    {
     "data": {
      "text/plain": [
       "(Matrix([\n",
       " [1, 0, 0, 0],\n",
       " [0, 1, 0, 0],\n",
       " [0, 0, 1, 0]]),\n",
       " (0, 1, 2))"
      ]
     },
     "execution_count": 27,
     "metadata": {},
     "output_type": "execute_result"
    }
   ],
   "source": [
    "A = sp.Matrix([[1,1,2,0], [2,0,1,0], [-1,2,1,0]])"
   ]
  },
  {
   "attachments": {},
   "cell_type": "markdown",
   "metadata": {},
   "source": [
    "# Bài 6"
   ]
  },
  {
   "cell_type": "code",
   "execution_count": 71,
   "metadata": {},
   "outputs": [],
   "source": [
    "v1 = np.array([1,2,1])\n",
    "v2 = np.array([1,-2,1])\n",
    "v3 = np.array([1,2,-1])"
   ]
  },
  {
   "cell_type": "code",
   "execution_count": 46,
   "metadata": {},
   "outputs": [],
   "source": [
    "q1 = np.array([1/np.sqrt(6), 2/np.sqrt(6), 1/np.sqrt(6)])\n",
    "q2 = np.array([1/np.sqrt(3), -1/np.sqrt(3), 1/np.sqrt(3)])\n",
    "q3 = np.array([3/np.sqrt(22), -2/np.sqrt(22), -3/np.sqrt(22)])"
   ]
  },
  {
   "cell_type": "code",
   "execution_count": 76,
   "metadata": {},
   "outputs": [
    {
     "data": {
      "text/plain": [
       "(Matrix([\n",
       " [sqrt(6)/6,  sqrt(3)/3,  sqrt(2)/2],\n",
       " [sqrt(6)/3, -sqrt(3)/3,          0],\n",
       " [sqrt(6)/6,  sqrt(3)/3, -sqrt(2)/2]]),\n",
       " Matrix([\n",
       " [sqrt(6),  -sqrt(6)/3,  2*sqrt(6)/3],\n",
       " [      0, 4*sqrt(3)/3, -2*sqrt(3)/3],\n",
       " [      0,           0,      sqrt(2)]]))"
      ]
     },
     "execution_count": 76,
     "metadata": {},
     "output_type": "execute_result"
    }
   ],
   "source": [
    "import sympy as sp\n",
    "A = sp.Matrix([[1,1,1], [2,-2,2], [1,1,-1]])\n",
    "\n",
    "A.QRdecomposition()"
   ]
  },
  {
   "cell_type": "code",
   "execution_count": 102,
   "metadata": {},
   "outputs": [
    {
     "data": {
      "text/plain": [
       "array([ 0.64285714,  1.28571429, -1.07142857,  0.        ])"
      ]
     },
     "execution_count": 102,
     "metadata": {},
     "output_type": "execute_result"
    }
   ],
   "source": [
    "v1 = np.array([1,2,3,0])\n",
    "v2 = np.array([1,2,0,0])\n",
    "v3 = np.array([1,0,0,1])\n",
    "\n",
    "mag1 = np.sqrt(v1.dot(v1))\n",
    "\n",
    "\n",
    "u2 = v2 - ((v2.dot(v1))/mag1**2) * v1\n",
    "u2"
   ]
  },
  {
   "cell_type": "code",
   "execution_count": 98,
   "metadata": {},
   "outputs": [
    {
     "data": {
      "text/plain": [
       "(Matrix([\n",
       " [  sqrt(14)/14, 3*sqrt(70)/70,  4*sqrt(5)/15],\n",
       " [   sqrt(14)/7, 3*sqrt(70)/35, -2*sqrt(5)/15],\n",
       " [3*sqrt(14)/14,  -sqrt(70)/14,             0],\n",
       " [            0,             0,     sqrt(5)/3]]),\n",
       " Matrix([\n",
       " [sqrt(14), 5*sqrt(14)/14,   sqrt(14)/14],\n",
       " [       0, 3*sqrt(70)/14, 3*sqrt(70)/70],\n",
       " [       0,             0,   3*sqrt(5)/5]]))"
      ]
     },
     "execution_count": 98,
     "metadata": {},
     "output_type": "execute_result"
    }
   ],
   "source": [
    "A = sp.Matrix([[1,1,1], [2,2,0], [3,0,0], [0,0,1]])\n",
    "A.QRdecomposition()"
   ]
  },
  {
   "cell_type": "code",
   "execution_count": 106,
   "metadata": {},
   "outputs": [
    {
     "data": {
      "text/plain": [
       "array([-1.,  2.,  1.,  3.])"
      ]
     },
     "execution_count": 106,
     "metadata": {},
     "output_type": "execute_result"
    }
   ],
   "source": [
    "v1 = np.array([1,1,-1,0])\n",
    "v2 = np.array([-1,0,1,1])\n",
    "v3 = np.array([2,-1,2,1])\n",
    "\n",
    "mag1 = np.sqrt(v1.dot(v1))\n",
    "\n",
    "u2 = v2 - ((v2.dot(v1))/mag1**2) * v1\n",
    "u2 = u2 * 3\n",
    "u2"
   ]
  },
  {
   "cell_type": "code",
   "execution_count": 113,
   "metadata": {},
   "outputs": [
    {
     "name": "stdout",
     "output_type": "stream",
     "text": [
      "[ 2.4 -0.8  1.6  0.8]\n",
      "[ 3. -1.  2.  1.]\n"
     ]
    }
   ],
   "source": [
    "mag2 = np.sqrt(u2.dot(u2))\n",
    "\n",
    "u3 = v3 - (v3.dot(v1)/mag1**2) * v1 - (v3.dot(u2)/mag2**2) * u2\n",
    "print(u3)\n",
    "u3 *= 5/4\n",
    "print(u3)"
   ]
  },
  {
   "cell_type": "code",
   "execution_count": 138,
   "metadata": {},
   "outputs": [
    {
     "data": {
      "text/latex": [
       "$\\displaystyle \\left[\\begin{matrix}1 & -1 & 2\\\\1 & 0 & -1\\\\-1 & 1 & 2\\\\0 & 1 & 1\\end{matrix}\\right]$"
      ],
      "text/plain": [
       "Matrix([\n",
       "[ 1, -1,  2],\n",
       "[ 1,  0, -1],\n",
       "[-1,  1,  2],\n",
       "[ 0,  1,  1]])"
      ]
     },
     "execution_count": 138,
     "metadata": {},
     "output_type": "execute_result"
    }
   ],
   "source": [
    "A = sp.Matrix([[1,-1,2], [1,0,-1], [-1,1,2], [0,1,1]])\n",
    "A"
   ]
  },
  {
   "cell_type": "code",
   "execution_count": 139,
   "metadata": {},
   "outputs": [
    {
     "data": {
      "text/plain": [
       "(Matrix([\n",
       " [ sqrt(3)/3,  -sqrt(15)/15,    sqrt(15)/5],\n",
       " [ sqrt(3)/3, 2*sqrt(15)/15,  -sqrt(15)/15],\n",
       " [-sqrt(3)/3,   sqrt(15)/15, 2*sqrt(15)/15],\n",
       " [         0,    sqrt(15)/5,   sqrt(15)/15]]),\n",
       " Matrix([\n",
       " [sqrt(3), -2*sqrt(3)/3,   -sqrt(3)/3],\n",
       " [      0,   sqrt(15)/3,  sqrt(15)/15],\n",
       " [      0,            0, 4*sqrt(15)/5]]))"
      ]
     },
     "execution_count": 139,
     "metadata": {},
     "output_type": "execute_result"
    }
   ],
   "source": [
    "A.QRdecomposition()"
   ]
  },
  {
   "cell_type": "code",
   "execution_count": 141,
   "metadata": {},
   "outputs": [
    {
     "data": {
      "text/plain": [
       "array([1., 1., 1., 1.])"
      ]
     },
     "execution_count": 141,
     "metadata": {},
     "output_type": "execute_result"
    }
   ],
   "source": [
    "v1 = np.array([-1,1,-1,1])\n",
    "v2 = np.array([-1,3,-1,3])\n",
    "v3 = np.array([1,3,5,7])\n",
    "\n",
    "mag1 = np.sqrt(v1.dot(v1))\n",
    "\n",
    "u2 = v2 - ((v2.dot(v1))/mag1**2) * v1\n",
    "u2"
   ]
  },
  {
   "cell_type": "code",
   "execution_count": 143,
   "metadata": {},
   "outputs": [
    {
     "data": {
      "text/plain": [
       "array([-2., -2.,  2.,  2.])"
      ]
     },
     "execution_count": 143,
     "metadata": {},
     "output_type": "execute_result"
    }
   ],
   "source": [
    "mag2 = np.sqrt(u2.dot(u2))\n",
    "\n",
    "u3 = v3 - (v3.dot(v1)/mag1**2) * v1 - (v3.dot(u2)/mag2**2) * u2\n",
    "u3"
   ]
  },
  {
   "cell_type": "code",
   "execution_count": 151,
   "metadata": {},
   "outputs": [],
   "source": [
    "# create column vectors matrix v1, v2, v3\n",
    "A = sp.Matrix([[-1,-1,1], [1,3,3], [-1,-1,5], [1,3,7]])"
   ]
  },
  {
   "cell_type": "code",
   "execution_count": 152,
   "metadata": {},
   "outputs": [
    {
     "data": {
      "text/plain": [
       "(Matrix([\n",
       " [-1/2, 1/2, -1/2],\n",
       " [ 1/2, 1/2, -1/2],\n",
       " [-1/2, 1/2,  1/2],\n",
       " [ 1/2, 1/2,  1/2]]),\n",
       " Matrix([\n",
       " [2, 4, 2],\n",
       " [0, 2, 8],\n",
       " [0, 0, 4]]))"
      ]
     },
     "execution_count": 152,
     "metadata": {},
     "output_type": "execute_result"
    }
   ],
   "source": [
    "A.QRdecomposition()"
   ]
  },
  {
   "cell_type": "code",
   "execution_count": 154,
   "metadata": {},
   "outputs": [
    {
     "data": {
      "text/plain": [
       "(Matrix([\n",
       " [ 1/3, 2/3,  2/3],\n",
       " [ 2/3, 1/3, -2/3],\n",
       " [-2/3, 2/3, -1/3]]),\n",
       " Matrix([\n",
       " [3, -3, 2/3],\n",
       " [0,  3, 7/3],\n",
       " [0,  0, 1/3]]))"
      ]
     },
     "execution_count": 154,
     "metadata": {},
     "output_type": "execute_result"
    }
   ],
   "source": [
    "A = sp.Matrix([[1,1,2], [2,-1,1], [-2,4,1]])\n",
    "A.QRdecomposition()"
   ]
  },
  {
   "cell_type": "code",
   "execution_count": 155,
   "metadata": {},
   "outputs": [
    {
     "data": {
      "text/plain": [
       "(Matrix([\n",
       " [sqrt(2)/2, 0, -sqrt(2)/2],\n",
       " [        0, 1,          0],\n",
       " [sqrt(2)/2, 0,  sqrt(2)/2]]),\n",
       " Matrix([\n",
       " [sqrt(2), sqrt(2),       0],\n",
       " [      0,       1,       2],\n",
       " [      0,       0, sqrt(2)]]))"
      ]
     },
     "execution_count": 155,
     "metadata": {},
     "output_type": "execute_result"
    }
   ],
   "source": [
    "A = sp.Matrix([[1,1,-1], [0,1,2], [1,1,1]])\n",
    "A.QRdecomposition()"
   ]
  },
  {
   "cell_type": "code",
   "execution_count": 156,
   "metadata": {},
   "outputs": [
    {
     "data": {
      "text/plain": [
       "(Matrix([\n",
       " [-2*sqrt(5)/5, sqrt(30)/30,  sqrt(10)/10],\n",
       " [   sqrt(5)/5, sqrt(30)/15,   sqrt(10)/5],\n",
       " [           0,  sqrt(30)/6, -sqrt(10)/10],\n",
       " [           0,           0,   sqrt(10)/5]]),\n",
       " Matrix([\n",
       " [sqrt(5), -2*sqrt(5)/5, -6*sqrt(5)/5],\n",
       " [      0,   sqrt(30)/5,  sqrt(30)/10],\n",
       " [      0,            0,   sqrt(10)/2]]))"
      ]
     },
     "execution_count": 156,
     "metadata": {},
     "output_type": "execute_result"
    }
   ],
   "source": [
    "A = sp.Matrix([[-2,1,3], [1,0,0], [0,1,0], [0,0,1]])\n",
    "A.QRdecomposition()"
   ]
  },
  {
   "cell_type": "code",
   "execution_count": null,
   "metadata": {},
   "outputs": [],
   "source": []
  }
 ],
 "metadata": {
  "kernelspec": {
   "display_name": "base",
   "language": "python",
   "name": "python3"
  },
  "language_info": {
   "codemirror_mode": {
    "name": "ipython",
    "version": 3
   },
   "file_extension": ".py",
   "mimetype": "text/x-python",
   "name": "python",
   "nbconvert_exporter": "python",
   "pygments_lexer": "ipython3",
   "version": "3.10.9"
  },
  "orig_nbformat": 4
 },
 "nbformat": 4,
 "nbformat_minor": 2
}
